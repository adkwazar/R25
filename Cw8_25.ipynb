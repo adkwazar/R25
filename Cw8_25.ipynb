{
 "cells": [
  {
   "cell_type": "markdown",
   "id": "88650d81",
   "metadata": {
    "id": "88650d81"
   },
   "source": [
    "<h4> Regresja wielu zmiennych"
   ]
  },
  {
   "cell_type": "code",
   "execution_count": 1,
   "id": "f709998b",
   "metadata": {
    "id": "f709998b"
   },
   "outputs": [],
   "source": [
    "#dane dotyczą samochodow\n",
    "autompg = read.table(\"http://archive.ics.uci.edu/ml/machine-learning-databases/auto-mpg/auto-mpg.data\",\n",
    "                     quote = \"\\\"\",\n",
    "                     comment.char = \"\",\n",
    "                     stringsAsFactors = FALSE)"
   ]
  },
  {
   "cell_type": "code",
   "execution_count": 2,
   "id": "5e4ce514",
   "metadata": {
    "colab": {
     "base_uri": "https://localhost:8080/"
    },
    "id": "5e4ce514",
    "outputId": "5eab75a2-1256-4128-c80a-6e8608ac50a7"
   },
   "outputs": [
    {
     "name": "stdout",
     "output_type": "stream",
     "text": [
      "  V1 V2  V3    V4   V5   V6 V7 V8                        V9\n",
      "1 18  8 307 130.0 3504 12.0 70  1 chevrolet chevelle malibu\n",
      "2 15  8 350 165.0 3693 11.5 70  1         buick skylark 320\n",
      "3 18  8 318 150.0 3436 11.0 70  1        plymouth satellite\n",
      "4 16  8 304 150.0 3433 12.0 70  1             amc rebel sst\n",
      "5 17  8 302 140.0 3449 10.5 70  1               ford torino\n",
      "6 15  8 429 198.0 4341 10.0 70  1          ford galaxie 500\n"
     ]
    }
   ],
   "source": [
    "print(head(autompg))"
   ]
  },
  {
   "cell_type": "code",
   "execution_count": 3,
   "id": "d335d8fa",
   "metadata": {
    "id": "d335d8fa"
   },
   "outputs": [],
   "source": [
    "colnames(autompg) = c(\"mpg\", \"cyl\", \"disp\", \"hp\", \"wt\", \"acc\", \"year\", \"origin\", \"name\") #nadaje nazwy kolumnom, info: https://archive.ics.uci.edu/dataset/9/auto+mpg"
   ]
  },
  {
   "cell_type": "code",
   "execution_count": 5,
   "id": "cf2e2191",
   "metadata": {
    "id": "cf2e2191"
   },
   "outputs": [],
   "source": [
    "autompg = subset(autompg, autompg$hp != \"?\") #kasujemy brakujące dane (tam gdzie jest ?)"
   ]
  },
  {
   "cell_type": "code",
   "execution_count": 6,
   "id": "0d9897e0",
   "metadata": {
    "colab": {
     "base_uri": "https://localhost:8080/"
    },
    "id": "0d9897e0",
    "outputId": "780fac18-5887-4392-9e5e-8409767713c4"
   },
   "outputs": [
    {
     "name": "stdout",
     "output_type": "stream",
     "text": [
      "     mpg cyl disp    hp   wt  acc year origin             name\n",
      "339 27.2   4  135 84.00 2490 15.7   81      1 plymouth reliant\n",
      "343 30.0   4  135 84.00 2385 12.9   81      1 plymouth reliant\n"
     ]
    }
   ],
   "source": [
    "print(subset(autompg,autompg$name == \"plymouth reliant\"))"
   ]
  },
  {
   "cell_type": "code",
   "execution_count": 7,
   "id": "79558d85",
   "metadata": {
    "id": "79558d85"
   },
   "outputs": [],
   "source": [
    "autompg = subset(autompg, autompg$name != \"plymouth reliant\") #usuwam \"playmouth reliant\" (m.in zeby nie bylo duplikatow (nazwy wierszy, ale tez inne))"
   ]
  },
  {
   "cell_type": "code",
   "execution_count": 8,
   "id": "1cfe22fd",
   "metadata": {
    "id": "1cfe22fd"
   },
   "outputs": [],
   "source": [
    "rownames(autompg) = paste(autompg$cyl, \"cylinder\", autompg$year, autompg$name) #nazywam wiersze"
   ]
  },
  {
   "cell_type": "code",
   "execution_count": 9,
   "id": "1c9d76cb",
   "metadata": {
    "colab": {
     "base_uri": "https://localhost:8080/"
    },
    "id": "1c9d76cb",
    "outputId": "21a225ca-e5db-4293-91d4-ba616041bb0a"
   },
   "outputs": [
    {
     "name": "stdout",
     "output_type": "stream",
     "text": [
      "                                        mpg cyl disp    hp   wt  acc year\n",
      "8 cylinder 70 chevrolet chevelle malibu  18   8  307 130.0 3504 12.0   70\n",
      "8 cylinder 70 buick skylark 320          15   8  350 165.0 3693 11.5   70\n",
      "8 cylinder 70 plymouth satellite         18   8  318 150.0 3436 11.0   70\n",
      "8 cylinder 70 amc rebel sst              16   8  304 150.0 3433 12.0   70\n",
      "8 cylinder 70 ford torino                17   8  302 140.0 3449 10.5   70\n",
      "8 cylinder 70 ford galaxie 500           15   8  429 198.0 4341 10.0   70\n",
      "                                        origin                      name\n",
      "8 cylinder 70 chevrolet chevelle malibu      1 chevrolet chevelle malibu\n",
      "8 cylinder 70 buick skylark 320              1         buick skylark 320\n",
      "8 cylinder 70 plymouth satellite             1        plymouth satellite\n",
      "8 cylinder 70 amc rebel sst                  1             amc rebel sst\n",
      "8 cylinder 70 ford torino                    1               ford torino\n",
      "8 cylinder 70 ford galaxie 500               1          ford galaxie 500\n"
     ]
    }
   ],
   "source": [
    "print(head(autompg)) #mpg = miles per gallon (zużycie paliwa)"
   ]
  },
  {
   "cell_type": "code",
   "execution_count": 10,
   "id": "dbacafe0",
   "metadata": {
    "colab": {
     "base_uri": "https://localhost:8080/"
    },
    "id": "dbacafe0",
    "outputId": "5d65f52b-ee64-4869-a776-449d77f49e97"
   },
   "outputs": [
    {
     "name": "stdout",
     "output_type": "stream",
     "text": [
      "                                        mpg cyl disp    hp   wt  acc year\n",
      "8 cylinder 70 chevrolet chevelle malibu  18   8  307 130.0 3504 12.0   70\n",
      "8 cylinder 70 buick skylark 320          15   8  350 165.0 3693 11.5   70\n",
      "8 cylinder 70 plymouth satellite         18   8  318 150.0 3436 11.0   70\n",
      "8 cylinder 70 amc rebel sst              16   8  304 150.0 3433 12.0   70\n",
      "8 cylinder 70 ford torino                17   8  302 140.0 3449 10.5   70\n",
      "8 cylinder 70 ford galaxie 500           15   8  429 198.0 4341 10.0   70\n"
     ]
    }
   ],
   "source": [
    "autompg = subset(autompg, select = c(\"mpg\", \"cyl\", \"disp\", \"hp\", \"wt\", \"acc\", \"year\")) #wybieram numeryczne kolumny\n",
    "print(head(autompg))"
   ]
  },
  {
   "cell_type": "code",
   "execution_count": 11,
   "id": "1f7c5b7b",
   "metadata": {
    "colab": {
     "base_uri": "https://localhost:8080/"
    },
    "id": "1f7c5b7b",
    "outputId": "ef83c53d-d927-4369-f1a0-4285358c8a99"
   },
   "outputs": [
    {
     "name": "stdout",
     "output_type": "stream",
     "text": [
      "'data.frame':\t390 obs. of  7 variables:\n",
      " $ mpg : num  18 15 18 16 17 15 14 14 14 15 ...\n",
      " $ cyl : int  8 8 8 8 8 8 8 8 8 8 ...\n",
      " $ disp: num  307 350 318 304 302 429 454 440 455 390 ...\n",
      " $ hp  : chr  \"130.0\" \"165.0\" \"150.0\" \"150.0\" ...\n",
      " $ wt  : num  3504 3693 3436 3433 3449 ...\n",
      " $ acc : num  12 11.5 11 12 10.5 10 9 8.5 10 8.5 ...\n",
      " $ year: int  70 70 70 70 70 70 70 70 70 70 ...\n"
     ]
    }
   ],
   "source": [
    "str(autompg)  #struktura danych; hp widzi jako char :/"
   ]
  },
  {
   "cell_type": "code",
   "execution_count": 14,
   "id": "1bfe5645",
   "metadata": {
    "id": "1bfe5645"
   },
   "outputs": [],
   "source": [
    "autompg$hp = as.numeric(autompg$hp) #przerabiam na liczbowe te kolumnę"
   ]
  },
  {
   "cell_type": "code",
   "execution_count": 15,
   "id": "f82a5aae",
   "metadata": {
    "colab": {
     "base_uri": "https://localhost:8080/",
     "height": 362
    },
    "id": "f82a5aae",
    "outputId": "244e04b7-aa3e-4abc-f4fd-1f12764354c9"
   },
   "outputs": [
    {
     "data": {
      "text/plain": [
       "\n",
       "Call:\n",
       "lm(formula = mpg ~ wt + year, data = autompg)\n",
       "\n",
       "Residuals:\n",
       "   Min     1Q Median     3Q    Max \n",
       "-8.852 -2.292 -0.100  2.039 14.325 \n",
       "\n",
       "Coefficients:\n",
       "              Estimate Std. Error t value Pr(>|t|)    \n",
       "(Intercept) -1.464e+01  4.023e+00  -3.638 0.000312 ***\n",
       "wt          -6.635e-03  2.149e-04 -30.881  < 2e-16 ***\n",
       "year         7.614e-01  4.973e-02  15.312  < 2e-16 ***\n",
       "---\n",
       "Signif. codes:  0 ‘***’ 0.001 ‘**’ 0.01 ‘*’ 0.05 ‘.’ 0.1 ‘ ’ 1\n",
       "\n",
       "Residual standard error: 3.431 on 387 degrees of freedom\n",
       "Multiple R-squared:  0.8082,\tAdjusted R-squared:  0.8072 \n",
       "F-statistic: 815.6 on 2 and 387 DF,  p-value: < 2.2e-16\n"
      ]
     },
     "metadata": {},
     "output_type": "display_data"
    }
   ],
   "source": [
    "mpg_model = lm(mpg ~ wt + year, data = autompg)\n",
    "summary(mpg_model)"
   ]
  },
  {
   "cell_type": "code",
   "execution_count": 20,
   "id": "d8eeb7e3",
   "metadata": {
    "colab": {
     "base_uri": "https://localhost:8080/",
     "height": 437
    },
    "id": "d8eeb7e3",
    "outputId": "7929d504-b5b9-4ba3-d7c5-530921312c53"
   },
   "outputs": [
    {
     "data": {
      "image/png": "[encoded data removed]",
      "text/plain": [
       "Plot with title “”"
      ]
     },
     "metadata": {
      "image/png": {
       "height": 420,
       "width": 900
      }
     },
     "output_type": "display_data"
    }
   ],
   "source": [
    "options(repr.plot.width=15, repr.plot.height=7)\n",
    "\n",
    "par(mfrow = c(2,2));\n",
    "plot(mpg_model)"
   ]
  },
  {
   "cell_type": "code",
   "execution_count": 21,
   "id": "148d9b74",
   "metadata": {
    "colab": {
     "base_uri": "https://localhost:8080/",
     "height": 34
    },
    "id": "148d9b74",
    "outputId": "2fd2b054-e6ec-400b-82a8-f4f2d3077442"
   },
   "outputs": [
    {
     "data": {
      "text/html": [
       "3.43136679934585"
      ],
      "text/latex": [
       "3.43136679934585"
      ],
      "text/markdown": [
       "3.43136679934585"
      ],
      "text/plain": [
       "[1] 3.431367"
      ]
     },
     "metadata": {},
     "output_type": "display_data"
    }
   ],
   "source": [
    "summary(mpg_model)$sigma"
   ]
  },
  {
   "cell_type": "code",
   "execution_count": 22,
   "id": "4584316d",
   "metadata": {
    "colab": {
     "base_uri": "https://localhost:8080/",
     "height": 161
    },
    "id": "4584316d",
    "outputId": "45af0d0e-d995-49b7-efd2-6a86548166ea"
   },
   "outputs": [
    {
     "data": {
      "text/html": [
       "<table class=\"dataframe\">\n",
       "<caption>A matrix: 3 × 4 of type dbl</caption>\n",
       "<thead>\n",
       "\t<tr><th></th><th scope=col>Estimate</th><th scope=col>Std. Error</th><th scope=col>t value</th><th scope=col>Pr(&gt;|t|)</th></tr>\n",
       "</thead>\n",
       "<tbody>\n",
       "\t<tr><th scope=row>(Intercept)</th><td>-14.637641945</td><td>4.0233913563</td><td> -3.638135</td><td> 3.118311e-04</td></tr>\n",
       "\t<tr><th scope=row>wt</th><td> -0.006634876</td><td>0.0002148504</td><td>-30.881372</td><td>1.850466e-106</td></tr>\n",
       "\t<tr><th scope=row>year</th><td>  0.761401955</td><td>0.0497265950</td><td> 15.311765</td><td> 1.036597e-41</td></tr>\n",
       "</tbody>\n",
       "</table>\n"
      ],
      "text/latex": [
       "A matrix: 3 × 4 of type dbl\n",
       "\\begin{tabular}{r|llll}\n",
       "  & Estimate & Std. Error & t value & Pr(>\\textbar{}t\\textbar{})\\\\\n",
       "\\hline\n",
       "\t(Intercept) & -14.637641945 & 4.0233913563 &  -3.638135 &  3.118311e-04\\\\\n",
       "\twt &  -0.006634876 & 0.0002148504 & -30.881372 & 1.850466e-106\\\\\n",
       "\tyear &   0.761401955 & 0.0497265950 &  15.311765 &  1.036597e-41\\\\\n",
       "\\end{tabular}\n"
      ],
      "text/markdown": [
       "\n",
       "A matrix: 3 × 4 of type dbl\n",
       "\n",
       "| <!--/--> | Estimate | Std. Error | t value | Pr(&gt;|t|) |\n",
       "|---|---|---|---|---|\n",
       "| (Intercept) | -14.637641945 | 4.0233913563 |  -3.638135 |  3.118311e-04 |\n",
       "| wt |  -0.006634876 | 0.0002148504 | -30.881372 | 1.850466e-106 |\n",
       "| year |   0.761401955 | 0.0497265950 |  15.311765 |  1.036597e-41 |\n",
       "\n"
      ],
      "text/plain": [
       "            Estimate      Std. Error   t value    Pr(>|t|)     \n",
       "(Intercept) -14.637641945 4.0233913563  -3.638135  3.118311e-04\n",
       "wt           -0.006634876 0.0002148504 -30.881372 1.850466e-106\n",
       "year          0.761401955 0.0497265950  15.311765  1.036597e-41"
      ]
     },
     "metadata": {},
     "output_type": "display_data"
    }
   ],
   "source": [
    "summary(mpg_model)$coef"
   ]
  },
  {
   "cell_type": "code",
   "execution_count": 23,
   "id": "d4e29866",
   "metadata": {
    "colab": {
     "base_uri": "https://localhost:8080/",
     "height": 34
    },
    "id": "d4e29866",
    "outputId": "1e76c073-3e4c-4b8a-dd4a-7403e3c2168f"
   },
   "outputs": [
    {
     "data": {
      "text/html": [
       "<style>\n",
       ".dl-inline {width: auto; margin:0; padding: 0}\n",
       ".dl-inline>dt, .dl-inline>dd {float: none; width: auto; display: inline-block}\n",
       ".dl-inline>dt::after {content: \":\\0020\"; padding-right: .5ex}\n",
       ".dl-inline>dt:not(:first-of-type) {padding-left: .5ex}\n",
       "</style><dl class=dl-inline><dt>(Intercept)</dt><dd>-14.6376419446099</dd><dt>wt</dt><dd>-0.00663487587212609</dd><dt>year</dt><dd>0.761401954960946</dd></dl>\n"
      ],
      "text/latex": [
       "\\begin{description*}\n",
       "\\item[(Intercept)] -14.6376419446099\n",
       "\\item[wt] -0.00663487587212609\n",
       "\\item[year] 0.761401954960946\n",
       "\\end{description*}\n"
      ],
      "text/markdown": [
       "(Intercept)\n",
       ":   -14.6376419446099wt\n",
       ":   -0.00663487587212609year\n",
       ":   0.761401954960946\n",
       "\n"
      ],
      "text/plain": [
       "  (Intercept)            wt          year \n",
       "-14.637641945  -0.006634876   0.761401955 "
      ]
     },
     "metadata": {},
     "output_type": "display_data"
    }
   ],
   "source": [
    "coef(mpg_model)"
   ]
  },
  {
   "cell_type": "code",
   "execution_count": 25,
   "id": "5eab4051",
   "metadata": {
    "colab": {
     "base_uri": "https://localhost:8080/"
    },
    "id": "5eab4051",
    "outputId": "4eb039b1-1b34-4542-ffb2-c2205aac78c7"
   },
   "outputs": [
    {
     "name": "stdout",
     "output_type": "stream",
     "text": [
      "    wt year\n",
      "1 3500   76\n",
      "2 5000   81\n"
     ]
    }
   ],
   "source": [
    "#nowa obserwacja (waga (pounds) i rok produkcji)\n",
    "new_cars = data.frame(wt = c(3500, 5000), year = c(76, 81))\n",
    "print(new_cars)"
   ]
  },
  {
   "cell_type": "code",
   "execution_count": 26,
   "id": "c86da9cf",
   "metadata": {
    "colab": {
     "base_uri": "https://localhost:8080/",
     "height": 129
    },
    "id": "c86da9cf",
    "outputId": "781f9dd1-88bf-493d-d043-1a77cad6f3fb"
   },
   "outputs": [
    {
     "data": {
      "text/html": [
       "<table class=\"dataframe\">\n",
       "<caption>A matrix: 2 × 3 of type dbl</caption>\n",
       "<thead>\n",
       "\t<tr><th></th><th scope=col>fit</th><th scope=col>lwr</th><th scope=col>upr</th></tr>\n",
       "</thead>\n",
       "<tbody>\n",
       "\t<tr><th scope=row>1</th><td>20.00684</td><td>19.4712</td><td>20.54248</td></tr>\n",
       "\t<tr><th scope=row>2</th><td>13.86154</td><td>12.3341</td><td>15.38898</td></tr>\n",
       "</tbody>\n",
       "</table>\n"
      ],
      "text/latex": [
       "A matrix: 2 × 3 of type dbl\n",
       "\\begin{tabular}{r|lll}\n",
       "  & fit & lwr & upr\\\\\n",
       "\\hline\n",
       "\t1 & 20.00684 & 19.4712 & 20.54248\\\\\n",
       "\t2 & 13.86154 & 12.3341 & 15.38898\\\\\n",
       "\\end{tabular}\n"
      ],
      "text/markdown": [
       "\n",
       "A matrix: 2 × 3 of type dbl\n",
       "\n",
       "| <!--/--> | fit | lwr | upr |\n",
       "|---|---|---|---|\n",
       "| 1 | 20.00684 | 19.4712 | 20.54248 |\n",
       "| 2 | 13.86154 | 12.3341 | 15.38898 |\n",
       "\n"
      ],
      "text/plain": [
       "  fit      lwr     upr     \n",
       "1 20.00684 19.4712 20.54248\n",
       "2 13.86154 12.3341 15.38898"
      ]
     },
     "metadata": {},
     "output_type": "display_data"
    }
   ],
   "source": [
    "predict(mpg_model, newdata = new_cars, interval = \"confidence\", level = 0.99) #czy mozemy ufac tym predykcjom?"
   ]
  },
  {
   "cell_type": "markdown",
   "id": "9b79992d-820e-4c89-98d8-61d3742a2f50",
   "metadata": {},
   "source": [
    "<h4> Ćwiczenie (we własnym zakresie): Przelicz bezpośrednio otrzymane wartości fit."
   ]
  },
  {
   "cell_type": "code",
   "execution_count": 27,
   "id": "75ab5d27",
   "metadata": {
    "colab": {
     "base_uri": "https://localhost:8080/",
     "height": 52
    },
    "id": "75ab5d27",
    "outputId": "a899de52-71e9-4861-a074-bc535f65f8b7"
   },
   "outputs": [
    {
     "data": {
      "text/html": [
       "<style>\n",
       ".list-inline {list-style: none; margin:0; padding: 0}\n",
       ".list-inline>li {display: inline-block}\n",
       ".list-inline>li:not(:last-child)::after {content: \"\\00b7\"; padding: 0 .5ex}\n",
       "</style>\n",
       "<ol class=list-inline><li>1613</li><li>5140</li></ol>\n"
      ],
      "text/latex": [
       "\\begin{enumerate*}\n",
       "\\item 1613\n",
       "\\item 5140\n",
       "\\end{enumerate*}\n"
      ],
      "text/markdown": [
       "1. 1613\n",
       "2. 5140\n",
       "\n",
       "\n"
      ],
      "text/plain": [
       "[1] 1613 5140"
      ]
     },
     "metadata": {},
     "output_type": "display_data"
    },
    {
     "data": {
      "text/html": [
       "<style>\n",
       ".list-inline {list-style: none; margin:0; padding: 0}\n",
       ".list-inline>li {display: inline-block}\n",
       ".list-inline>li:not(:last-child)::after {content: \"\\00b7\"; padding: 0 .5ex}\n",
       "</style>\n",
       "<ol class=list-inline><li>70</li><li>82</li></ol>\n"
      ],
      "text/latex": [
       "\\begin{enumerate*}\n",
       "\\item 70\n",
       "\\item 82\n",
       "\\end{enumerate*}\n"
      ],
      "text/markdown": [
       "1. 70\n",
       "2. 82\n",
       "\n",
       "\n"
      ],
      "text/plain": [
       "[1] 70 82"
      ]
     },
     "metadata": {},
     "output_type": "display_data"
    }
   ],
   "source": [
    "range(autompg$wt); range(autompg$year)"
   ]
  },
  {
   "cell_type": "code",
   "execution_count": 29,
   "id": "8eff4f77",
   "metadata": {
    "colab": {
     "base_uri": "https://localhost:8080/",
     "height": 437
    },
    "id": "8eff4f77",
    "outputId": "d803a033-1216-4133-a524-5c93b531e3ca"
   },
   "outputs": [
    {
     "data": {
      "image/png": "[encoded data removed]",
      "text/plain": [
       "plot without title"
      ]
     },
     "metadata": {
      "image/png": {
       "height": 420,
       "width": 900
      }
     },
     "output_type": "display_data"
    }
   ],
   "source": [
    "plot(year ~ wt, data = autompg, pch = 20, col = \"dodgerblue\", cex = 1.5)\n",
    "points(new_cars, col = \"darkorange\", cex = 3, pch = \"X\")"
   ]
  },
  {
   "cell_type": "markdown",
   "id": "5fd5fa15",
   "metadata": {
    "id": "5fd5fa15"
   },
   "source": [
    "Porównywanie modeli (F-test, anova)"
   ]
  },
  {
   "cell_type": "code",
   "execution_count": 30,
   "id": "08df2b03",
   "metadata": {
    "colab": {
     "base_uri": "https://localhost:8080/"
    },
    "id": "08df2b03",
    "outputId": "06f686f3-01a0-41c5-d0d3-330c86dfc18d"
   },
   "outputs": [
    {
     "name": "stdout",
     "output_type": "stream",
     "text": [
      "Analysis of Variance Table\n",
      "\n",
      "Model 1: mpg ~ 1\n",
      "Model 2: mpg ~ wt + year\n",
      "  Res.Df     RSS Df Sum of Sq      F    Pr(>F)    \n",
      "1    389 23761.7                                  \n",
      "2    387  4556.6  2     19205 815.55 < 2.2e-16 ***\n",
      "---\n",
      "Signif. codes:  0 ‘***’ 0.001 ‘**’ 0.01 ‘*’ 0.05 ‘.’ 0.1 ‘ ’ 1\n"
     ]
    }
   ],
   "source": [
    "null_mpg_model = lm(mpg ~ 1, data = autompg) #model bez zmiennych\n",
    "full_mpg_model = lm(mpg ~ wt + year, data = autompg) #model jak poprzednio\n",
    "\n",
    "print(anova(null_mpg_model, full_mpg_model)) #porownuje dwa modele (domyslnie pierwszy to ten prostszy), p_value male więc wt lub year ma znaczacy wplyw na mpg"
   ]
  },
  {
   "cell_type": "markdown",
   "id": "d7ceea8d",
   "metadata": {
    "id": "d7ceea8d"
   },
   "source": [
    "<h4>\n",
    "Zadanie1. Dane zawarte w pliku „rosliny.txt” dotyczą badania wpływu zawartości kadmu (Cd, mg/kg), miedzi (Cu, mg/kg) oraz azotu (N, %) w glebie na ilość uzyskanej suchej biomasy roślin (g). Pomiarów dokonano w ramach kontrolowanego doświadczenia polowego. Badanie miało na celu ocenę wpływu zawartości wybranych pierwiastków w glebie na wzrost biomasy roślin, z uwzględnieniem możliwych efektów toksyczności metali ciężkich oraz roli azotu jako podstawowego składnika odżywczego, przy założeniu jednolitych warunków uprawy oraz kontrolowanego środowiska eksperymentalnego.\n",
    " \n",
    "    \n",
    "- Wyznacz współczynniki korelacji pomiędzy $Cd$ a $Biomass$, $Cu$ a $Biomass$ oraz $N$ a $Biomass$. Zinterpretuj ich znaki i wartości.\n",
    "- Zbuduj model liniowy, gdzie $Biomass$ zależy od wszystkich pozostałych zmiennych (model1). Które zmienne wydają się istotne?\n",
    "- Zbuduj model liniowy, gdzie $Biomass$ zależy tylko od zmiennych wytypowanych jako istotne w poprzednim punkcie (model2).\n",
    "- Za pomocą F testu (polecenie anova) porównaj model1 i model2.\n",
    "- Skomentuj otrzymane wyniki.\n",
    "\n",
    "\n",
    "Uwaga: w pkt.3 możesz też zastosować step(model1, trace=0) <-- tworzony jest nowy model\n",
    "\n"
   ]
  },
  {
   "cell_type": "markdown",
   "id": "42df725a",
   "metadata": {
    "id": "42df725a"
   },
   "source": [
    "<h4> Kryteria oceny modelu"
   ]
  },
  {
   "cell_type": "markdown",
   "id": "514a06a3",
   "metadata": {
    "id": "514a06a3"
   },
   "source": [
    "- kryterium GIC (im mniejsza wartość GIC tym lepszy model); $AIC(stats)$\n",
    "- współczynnik $R^2$ (jeżeli modele nie różnią się liczbą predyktorów, to im większy $R^2$ tym lepiej)\n",
    "- statystyka Cp Mallowsa (im mniejsza wartość tym lepszy model); $cp(locfit)$"
   ]
  },
  {
   "cell_type": "code",
   "execution_count": 36,
   "id": "44ec5025",
   "metadata": {
    "colab": {
     "base_uri": "https://localhost:8080/"
    },
    "id": "44ec5025",
    "outputId": "12f674e4-7e18-460f-efc4-7c02e1c22134"
   },
   "outputs": [
    {
     "name": "stdout",
     "output_type": "stream",
     "text": [
      "                       name manuf type calories protein fat sodium fiber carbo\n",
      "1                 100% Bran     N cold       70       4   1    130  10.0   5.0\n",
      "2         100% Natural Bran     Q cold      120       3   5     15   2.0   8.0\n",
      "3                  All-Bran     K cold       70       4   1    260   9.0   7.0\n",
      "4 All-Bran with Extra Fiber     K cold       50       4   0    140  14.0   8.0\n",
      "5            Almond Delight     R cold      110       2   2    200   1.0  14.0\n",
      "6   Apple Cinnamon Cheerios     G cold      110       2   2    180   1.5  10.5\n",
      "  sugars potass vitamins shelf weight cups   rating\n",
      "1      6    280       25     3      1 0.33 68.40297\n",
      "2      8    135        0     3      1 1.00 33.98368\n",
      "3      5    320       25     3      1 0.33 59.42551\n",
      "4      0    330       25     3      1 0.50 93.70491\n",
      "5      8     -1       25     3      1 0.75 34.38484\n",
      "6     10     70       25     1      1 0.75 29.50954\n"
     ]
    }
   ],
   "source": [
    "library(liver) #tu są moje dane\n",
    "data(cereal)\n",
    "print(head(cereal))"
   ]
  },
  {
   "cell_type": "code",
   "execution_count": 37,
   "id": "0f681d1e",
   "metadata": {
    "colab": {
     "base_uri": "https://localhost:8080/",
     "height": 380
    },
    "id": "0f681d1e",
    "outputId": "538f15e5-e339-4475-c5c9-aeb1f380d73d"
   },
   "outputs": [
    {
     "data": {
      "text/plain": [
       "\n",
       "Call:\n",
       "lm(formula = rating ~ calories + protein + shelf, data = cereal)\n",
       "\n",
       "Residuals:\n",
       "    Min      1Q  Median      3Q     Max \n",
       "-12.225  -5.452  -1.078   3.927  21.063 \n",
       "\n",
       "Coefficients:\n",
       "            Estimate Std. Error t value Pr(>|t|)    \n",
       "(Intercept) 79.94741    5.55832  14.383  < 2e-16 ***\n",
       "calories    -0.50565    0.04564 -11.078  < 2e-16 ***\n",
       "protein      6.16014    0.81584   7.551  9.8e-11 ***\n",
       "shelf        0.49079    1.07776   0.455     0.65    \n",
       "---\n",
       "Signif. codes:  0 ‘***’ 0.001 ‘**’ 0.01 ‘*’ 0.05 ‘.’ 0.1 ‘ ’ 1\n",
       "\n",
       "Residual standard error: 7.716 on 73 degrees of freedom\n",
       "Multiple R-squared:  0.7102,\tAdjusted R-squared:  0.6983 \n",
       "F-statistic: 59.62 on 3 and 73 DF,  p-value: < 2.2e-16\n"
      ]
     },
     "metadata": {},
     "output_type": "display_data"
    }
   ],
   "source": [
    "model1 = lm(rating~calories+protein+shelf, data=cereal)\n",
    "summary(model1)"
   ]
  },
  {
   "cell_type": "code",
   "execution_count": 38,
   "id": "30e1cfd1",
   "metadata": {
    "colab": {
     "base_uri": "https://localhost:8080/",
     "height": 362
    },
    "id": "30e1cfd1",
    "outputId": "59b74b0a-00c6-43db-bd08-fcbc26317241"
   },
   "outputs": [
    {
     "data": {
      "text/plain": [
       "\n",
       "Call:\n",
       "lm(formula = rating ~ calories + protein, data = cereal)\n",
       "\n",
       "Residuals:\n",
       "     Min       1Q   Median       3Q      Max \n",
       "-12.8461  -5.5013  -0.9633   3.7361  20.4813 \n",
       "\n",
       "Coefficients:\n",
       "            Estimate Std. Error t value Pr(>|t|)    \n",
       "(Intercept) 80.69321    5.28303   15.27  < 2e-16 ***\n",
       "calories    -0.50367    0.04519  -11.14  < 2e-16 ***\n",
       "protein      6.20943    0.80428    7.72 4.37e-11 ***\n",
       "---\n",
       "Signif. codes:  0 ‘***’ 0.001 ‘**’ 0.01 ‘*’ 0.05 ‘.’ 0.1 ‘ ’ 1\n",
       "\n",
       "Residual standard error: 7.675 on 74 degrees of freedom\n",
       "Multiple R-squared:  0.7094,\tAdjusted R-squared:  0.7015 \n",
       "F-statistic:  90.3 on 2 and 74 DF,  p-value: < 2.2e-16\n"
      ]
     },
     "metadata": {},
     "output_type": "display_data"
    }
   ],
   "source": [
    "model2 = lm(rating~calories+protein, data=cereal)\n",
    "summary(model2)"
   ]
  },
  {
   "cell_type": "code",
   "execution_count": 39,
   "id": "f3c0b4d4",
   "metadata": {
    "colab": {
     "base_uri": "https://localhost:8080/",
     "height": 52
    },
    "id": "f3c0b4d4",
    "outputId": "5d73c7a1-9f02-4202-adbd-a6bb2716c05d"
   },
   "outputs": [
    {
     "data": {
      "text/html": [
       "539.081696943149"
      ],
      "text/latex": [
       "539.081696943149"
      ],
      "text/markdown": [
       "539.081696943149"
      ],
      "text/plain": [
       "[1] 539.0817"
      ]
     },
     "metadata": {},
     "output_type": "display_data"
    },
    {
     "data": {
      "text/html": [
       "537.300116906168"
      ],
      "text/latex": [
       "537.300116906168"
      ],
      "text/markdown": [
       "537.300116906168"
      ],
      "text/plain": [
       "[1] 537.3001"
      ]
     },
     "metadata": {},
     "output_type": "display_data"
    }
   ],
   "source": [
    "AIC(model1); AIC(model2) #nie ma korzysci z uzywania zmiennej shelf"
   ]
  },
  {
   "cell_type": "markdown",
   "id": "24de8dcb",
   "metadata": {
    "id": "24de8dcb"
   },
   "source": [
    "<h4> Ćwiczenie (we własnym zakresie): Zbuduj model liniowy, opisujący $rating$ poprzez $sugars$ i $fiber$. Następnie:\n",
    "\n",
    "- Wyznacz obserwacje odstające (za pomocą metody outlierTest). Ile ich jest?\n",
    "- Wyznacz obserwacje wpływowe (za pomocą metody influence.measures). Ile ich jest?\n",
    "    \n",
    "Następnie zbuduj model liniowy, opisujący $rating$ tylko od $sugars$. Czy model ten istotnie różni się od poprzedniego (zmienna $fiber$ wnosi istotny wkład do modelu)? Wykorzystaj anova i AIC."
   ]
  },
  {
   "cell_type": "markdown",
   "id": "d61cb7c7-0c04-4e2e-8840-b1cfb6c3cc34",
   "metadata": {},
   "source": [
    "Dane do zadania poniżej: https://www.ncbi.nlm.nih.gov/geo/query/acc.cgi?acc=GSE67462"
   ]
  },
  {
   "cell_type": "markdown",
   "id": "e6a7d676-5b8a-4162-8378-94038e588a1c",
   "metadata": {},
   "source": [
    "<h4> Zadanie2: Btbd8, Dars2 oraz Cnbp to przykłady genów regulowanych przez czynnik transkrypcyjny Oct4. Rozważ eksperyment GSE67462 (NCBI GEO). Dotyczył on\n",
    "procesu wtórnego reprogramowania komórek somatycznych myszy do stanu pluripotentnego przy użyciu czynników transkrypcyjnych, w tym Oct4. \n",
    "\n",
    "- Pobierz wartości ekspresji genów Btbd8, Dars2 oraz Cnbp dnia 0, 1, 3, 5, 7, 11, 15 oraz 18. Dla danego dnia uśrednij wynik z dwóch powtórzeń.\n",
    "- Wyznacz współczynnik korelacji pomiędzy Btbd8/Dars2 oraz Btbd8/Cnbp. Zinterpretuj jego znak i wielkość.\n",
    "- Zbuduj model liniowy, modelując ekspresję genu Btbd8 na podstawie ekspresji Dars2 oraz Cnbp. Czy oszacowane współczynniki są istotne statystycznie. Ile wynosi $R^2$ dla tego modelu. Narysuj wykres między rzeczywistymi a przewidywanymi eskpresjami Btbd8.\n",
    "- Jak należy interpretować taki model?"
   ]
  },
  {
   "cell_type": "markdown",
   "id": "ed9feaa4-bd46-4dd6-8e92-d6c4da5c95f9",
   "metadata": {},
   "source": [
    "Poniższe zadanie wzorowane jest na(dane częściowo zmienione):\n",
    "* https://www.ncbi.nlm.nih.gov/geo/query/acc.cgi?acc=GSE67462\n",
    "* https://www.ncbi.nlm.nih.gov/geo/query/acc.cgi?acc=GSE67520\n",
    "* https://www.frontiersin.org/articles/10.3389/fgene.2019.00120/full"
   ]
  },
  {
   "cell_type": "markdown",
   "id": "01753cb8-8b8b-4207-ae8e-06441fb040a2",
   "metadata": {},
   "source": [
    "<h4> Zadanie3: Rozważ dane_seq.csv. Dotyczą one 3 genów - A, B oraz C z 20 chwil czasowych (dni). Pochodzą one z eksperymentów związanych z procesem reprogramowania komórek do stanu podobnego do pluripotentnego. Analizowany był udział Oct4 w kontekście przywracania pluripotencji. Dokładniej mamy\n",
    "\n",
    "* eskpresje tych genów w kolejnych chwilach czasowych\n",
    "* pewne wskaźniki (dane z Chip-seq) dotyczace regulacji ekspresji rozważanych genów przez Oct4: H (wysokość piku), W (szerokość), D (odległość od miejsca początku transkrypcji)\n",
    "\n",
    "Celem jest zbudowanie modelu przewidującego ekspresję genu na podstawie czasu oraz H, D, W. \n",
    "\n",
    "Uwaga: Przy budowie modelu rozważ kombinacje cech typu $\\lbrace{t, k^t, \\log t }\\rbrace \\times \\lbrace{D, W, H}\\rbrace$, gdzie $k$ pewna stała z przedziału $(0,1)$. Postać modelu powinna być ta sama dla każdego z genów $A$, $B$ oraz $C$ ($R^2$ min. 0.9, wszystkie współczynniki istotne przy poziomie $\\alpha = 0.06%$). Współczynniki dla każdego genu mogą być (i zapewne będą) inne.\n",
    "\n",
    "Zinterpretuj finalny model. Zastanów się nad interpretacją wybranych kombinacji - jak interpretować iloczyn wskaźników z Chip-seq i wybranych funkcji czasu oraz jaki mają wpływ na ostateczną predykcję."
   ]
  },
  {
   "cell_type": "markdown",
   "id": "a46c56aa",
   "metadata": {
    "id": "a46c56aa"
   },
   "source": [
    "<h4> Współliniowość zmiennych objaśniających"
   ]
  },
  {
   "cell_type": "markdown",
   "id": "78ab6e52",
   "metadata": {
    "id": "78ab6e52"
   },
   "source": [
    "$VIF_{j} = \\frac{1}{1-R_{j}^2}$, gdzie $R_{j}^{2}$ - współczynnik determinacji j-tej zmiennej przez pozostałe zmienne objaśniające\n",
    "\n",
    "Uwagi:\n",
    "- nie uwzględnia $y$\n",
    "- bada się tylko skorelowanie zmiennych objaśniających\n",
    "- im $R_{j}^{2}$ większe tym mianownik mniejszy i $VIF_{j}$ większy, co oznacza silną korelacje\n",
    "- w przypadku braku korelacji $VIF_{j} = 1$ ($R_{j}^{2}=0)$\n",
    "\n",
    "Co można zrobić?\n",
    "\n",
    "- usunąć wybrane zmienne (te najbardziej skorelowane) -> efekt: zmniejszenie VIF pozostałych zmiennych\n",
    "- zastosować metodę redukcji zmiennych (np PCA)\n",
    "- wprowadzić ograniczenia na parametry modelu"
   ]
  },
  {
   "cell_type": "code",
   "execution_count": 41,
   "id": "d2b7aff3",
   "metadata": {
    "colab": {
     "base_uri": "https://localhost:8080/"
    },
    "id": "d2b7aff3",
    "outputId": "aa519217-a05c-494e-be5d-10ee1adbfd03"
   },
   "outputs": [
    {
     "name": "stdout",
     "output_type": "stream",
     "text": [
      "         x1        x2       x3         y\n",
      "1 0.9544290 0.7333761 4.839411 0.1641444\n",
      "2 0.2325348 0.9889702 4.883306 0.5093819\n",
      "3 0.1073061 0.7492450 2.734323 0.9783580\n",
      "4 0.6610806 0.1366581 1.912088 0.1227345\n",
      "5 0.9525170 0.5350130 4.569834 0.4426967\n",
      "6 0.8688252 0.9549438 5.532790 0.9874395\n"
     ]
    }
   ],
   "source": [
    "x1 = runif(100)\n",
    "x2 = runif(100)\n",
    "x3 = 2*x1+4*x2 + rnorm(100, 0, 0.5) #x3 to kombinacja x1 i x2 z pewnym elementem losowym\n",
    "y = runif(100)\n",
    "\n",
    "d = data.frame(x1=x1, x2=x2, x3=x3, y=y)\n",
    "print(head(d))"
   ]
  },
  {
   "cell_type": "code",
   "execution_count": 44,
   "id": "4641ceae",
   "metadata": {
    "colab": {
     "base_uri": "https://localhost:8080/",
     "height": 71
    },
    "id": "4641ceae",
    "outputId": "8bbedf6b-4635-4b9f-8f06-9018d61f85c9"
   },
   "outputs": [
    {
     "name": "stderr",
     "output_type": "stream",
     "text": [
      "Loading required package: carData\n",
      "\n"
     ]
    },
    {
     "data": {
      "text/html": [
       "<style>\n",
       ".dl-inline {width: auto; margin:0; padding: 0}\n",
       ".dl-inline>dt, .dl-inline>dd {float: none; width: auto; display: inline-block}\n",
       ".dl-inline>dt::after {content: \":\\0020\"; padding-right: .5ex}\n",
       ".dl-inline>dt:not(:first-of-type) {padding-left: .5ex}\n",
       "</style><dl class=dl-inline><dt>x1</dt><dd>3.07689500737471</dd><dt>x2</dt><dd>4.69525757024113</dd><dt>x3</dt><dd>6.70372611011122</dd></dl>\n"
      ],
      "text/latex": [
       "\\begin{description*}\n",
       "\\item[x1] 3.07689500737471\n",
       "\\item[x2] 4.69525757024113\n",
       "\\item[x3] 6.70372611011122\n",
       "\\end{description*}\n"
      ],
      "text/markdown": [
       "x1\n",
       ":   3.07689500737471x2\n",
       ":   4.69525757024113x3\n",
       ":   6.70372611011122\n",
       "\n"
      ],
      "text/plain": [
       "      x1       x2       x3 \n",
       "3.076895 4.695258 6.703726 "
      ]
     },
     "metadata": {},
     "output_type": "display_data"
    }
   ],
   "source": [
    "library(car)\n",
    "vif(lm(y~., data = d))"
   ]
  },
  {
   "cell_type": "code",
   "execution_count": 45,
   "id": "8bbadb78",
   "metadata": {
    "colab": {
     "base_uri": "https://localhost:8080/",
     "height": 34
    },
    "id": "8bbadb78",
    "outputId": "efee8acb-74b0-45eb-a1eb-0671ef2627ee"
   },
   "outputs": [
    {
     "data": {
      "text/html": [
       "<style>\n",
       ".dl-inline {width: auto; margin:0; padding: 0}\n",
       ".dl-inline>dt, .dl-inline>dd {float: none; width: auto; display: inline-block}\n",
       ".dl-inline>dt::after {content: \":\\0020\"; padding-right: .5ex}\n",
       ".dl-inline>dt:not(:first-of-type) {padding-left: .5ex}\n",
       "</style><dl class=dl-inline><dt>x1</dt><dd>1.00015121558562</dd><dt>x2</dt><dd>1.00015121558562</dd></dl>\n"
      ],
      "text/latex": [
       "\\begin{description*}\n",
       "\\item[x1] 1.00015121558562\n",
       "\\item[x2] 1.00015121558562\n",
       "\\end{description*}\n"
      ],
      "text/markdown": [
       "x1\n",
       ":   1.00015121558562x2\n",
       ":   1.00015121558562\n",
       "\n"
      ],
      "text/plain": [
       "      x1       x2 \n",
       "1.000151 1.000151 "
      ]
     },
     "metadata": {},
     "output_type": "display_data"
    }
   ],
   "source": [
    "vif(lm(y~x1+x2, data = d)) #po usunięciu x3"
   ]
  },
  {
   "cell_type": "markdown",
   "id": "420139c5",
   "metadata": {
    "id": "420139c5"
   },
   "source": [
    "<h4> Co gdy liczba regresorów porównywalna z liczbą obserwacji?"
   ]
  },
  {
   "cell_type": "code",
   "execution_count": 1,
   "id": "7af112fb",
   "metadata": {
    "colab": {
     "base_uri": "https://localhost:8080/",
     "height": 1000
    },
    "id": "7af112fb",
    "outputId": "2148df49-b511-4a94-9cd2-22ed7c1beff5"
   },
   "outputs": [],
   "source": [
    "y = rnorm(100)\n",
    "X = matrix(rnorm(9800), 100, 98)"
   ]
  },
  {
   "cell_type": "code",
   "execution_count": null,
   "id": "9e720143",
   "metadata": {
    "id": "9e720143",
    "outputId": "44af4a9d-cdad-47fb-859f-1e563dab1070"
   },
   "outputs": [
    {
     "data": {
      "text/html": [
       "0.998046861822486"
      ],
      "text/latex": [
       "0.998046861822486"
      ],
      "text/markdown": [
       "0.998046861822486"
      ],
      "text/plain": [
       "[1] 0.9980469"
      ]
     },
     "metadata": {},
     "output_type": "display_data"
    },
    {
     "data": {
      "text/html": [
       "0.806639320426084"
      ],
      "text/latex": [
       "0.806639320426084"
      ],
      "text/markdown": [
       "0.806639320426084"
      ],
      "text/plain": [
       "[1] 0.8066393"
      ]
     },
     "metadata": {},
     "output_type": "display_data"
    }
   ],
   "source": [
    "summary(lm(y~X))$r.squared; summary(lm(y~X))$adj.r.squared #ekstrakcja samego Multiple R-squared czy Adjusted R-squared"
   ]
  },
  {
   "cell_type": "markdown",
   "id": "bd633cd4",
   "metadata": {
    "id": "bd633cd4"
   },
   "source": [
    "<h4> Ćwiczenie (we własnym zakresie): Rozważ $y$ jak poprzednio. Następnie wygeneruj zmienne $X$, przy czym liczbę cech zmieniaj od 1 do 100. Narysuj wykres zależności: Multiple R-squared oraz Adjusted R-squared od liczby cech. Skomentuj otrzymany wynik."
   ]
  },
  {
   "cell_type": "markdown",
   "id": "b07c8cb7",
   "metadata": {
    "id": "b07c8cb7"
   },
   "source": [
    "<h4> Zmienne kategoryczne"
   ]
  },
  {
   "cell_type": "code",
   "execution_count": 47,
   "id": "beb281a3",
   "metadata": {
    "id": "beb281a3"
   },
   "outputs": [],
   "source": [
    "library(MASS)"
   ]
  },
  {
   "cell_type": "code",
   "execution_count": 48,
   "id": "2eb706a9",
   "metadata": {
    "colab": {
     "base_uri": "https://localhost:8080/"
    },
    "id": "2eb706a9",
    "outputId": "5ffae908-7d41-4599-fe73-07ca7ddd6cfb"
   },
   "outputs": [
    {
     "name": "stdout",
     "output_type": "stream",
     "text": [
      "     Sex Wr.Hnd NW.Hnd W.Hnd    Fold Pulse    Clap Exer Smoke Height      M.I\n",
      "1 Female   18.5   18.0 Right  R on L    92    Left Some Never 173.00   Metric\n",
      "2   Male   19.5   20.5  Left  R on L   104    Left None Regul 177.80 Imperial\n",
      "3   Male   18.0   13.3 Right  L on R    87 Neither None Occas     NA     <NA>\n",
      "4   Male   18.8   18.9 Right  R on L    NA Neither None Never 160.00   Metric\n",
      "5   Male   20.0   20.0 Right Neither    35   Right Some Never 165.00   Metric\n",
      "6 Female   18.0   17.7 Right  L on R    64   Right Some Never 172.72 Imperial\n",
      "     Age\n",
      "1 18.250\n",
      "2 17.583\n",
      "3 16.917\n",
      "4 20.333\n",
      "5 23.667\n",
      "6 21.000\n"
     ]
    }
   ],
   "source": [
    "print(head(survey))"
   ]
  },
  {
   "cell_type": "code",
   "execution_count": 49,
   "id": "b61eedb7",
   "metadata": {
    "colab": {
     "base_uri": "https://localhost:8080/",
     "height": 257
    },
    "id": "b61eedb7",
    "outputId": "410bb0ba-b87c-48ff-c825-2c809519cab4"
   },
   "outputs": [
    {
     "data": {
      "image/png": "[encoded data removed]",
      "text/plain": [
       "plot without title"
      ]
     },
     "metadata": {
      "image/png": {
       "height": 240,
       "width": 480
      }
     },
     "output_type": "display_data"
    }
   ],
   "source": [
    "options(repr.plot.width=8, repr.plot.height=4)\n",
    "plot(survey$Height~survey$Sex)"
   ]
  },
  {
   "cell_type": "code",
   "execution_count": 50,
   "id": "0b4af674",
   "metadata": {
    "colab": {
     "base_uri": "https://localhost:8080/",
     "height": 34
    },
    "id": "0b4af674",
    "outputId": "a8c55fa3-bcc5-4e77-f94b-cb780f1c4932"
   },
   "outputs": [
    {
     "data": {
      "text/html": [
       "<style>\n",
       ".dl-inline {width: auto; margin:0; padding: 0}\n",
       ".dl-inline>dt, .dl-inline>dd {float: none; width: auto; display: inline-block}\n",
       ".dl-inline>dt::after {content: \":\\0020\"; padding-right: .5ex}\n",
       ".dl-inline>dt:not(:first-of-type) {padding-left: .5ex}\n",
       "</style><dl class=dl-inline><dt>Female</dt><dd>165.686666666667</dd><dt>Male</dt><dd>178.826037735849</dd></dl>\n"
      ],
      "text/latex": [
       "\\begin{description*}\n",
       "\\item[Female] 165.686666666667\n",
       "\\item[Male] 178.826037735849\n",
       "\\end{description*}\n"
      ],
      "text/markdown": [
       "Female\n",
       ":   165.686666666667Male\n",
       ":   178.826037735849\n",
       "\n"
      ],
      "text/plain": [
       "  Female     Male \n",
       "165.6867 178.8260 "
      ]
     },
     "metadata": {},
     "output_type": "display_data"
    }
   ],
   "source": [
    "means.sex = tapply(survey$Height,INDEX=survey$Sex,FUN=mean,na.rm=TRUE)\n",
    "means.sex"
   ]
  },
  {
   "cell_type": "code",
   "execution_count": 51,
   "id": "f9f86cea",
   "metadata": {
    "colab": {
     "base_uri": "https://localhost:8080/",
     "height": 362
    },
    "id": "f9f86cea",
    "outputId": "26341b87-3e22-4958-d54d-5f0172202729"
   },
   "outputs": [
    {
     "data": {
      "text/plain": [
       "\n",
       "Call:\n",
       "lm(formula = Height ~ Sex, data = survey)\n",
       "\n",
       "Residuals:\n",
       "    Min      1Q  Median      3Q     Max \n",
       "-23.886  -5.667   1.174   4.358  21.174 \n",
       "\n",
       "Coefficients:\n",
       "            Estimate Std. Error t value Pr(>|t|)    \n",
       "(Intercept)  165.687      0.730  226.98   <2e-16 ***\n",
       "SexMale       13.139      1.022   12.85   <2e-16 ***\n",
       "---\n",
       "Signif. codes:  0 ‘***’ 0.001 ‘**’ 0.01 ‘*’ 0.05 ‘.’ 0.1 ‘ ’ 1\n",
       "\n",
       "Residual standard error: 7.372 on 206 degrees of freedom\n",
       "  (29 observations deleted due to missingness)\n",
       "Multiple R-squared:  0.4449,\tAdjusted R-squared:  0.4422 \n",
       "F-statistic: 165.1 on 1 and 206 DF,  p-value: < 2.2e-16\n"
      ]
     },
     "metadata": {},
     "output_type": "display_data"
    }
   ],
   "source": [
    "survfit <- lm(Height~Sex,data=survey) #wsp dobre ale R^2 slabe; y =ax+b, gdzie x=0 -> kobieta, x=1 -> mezczyzna\n",
    "summary(survfit)"
   ]
  },
  {
   "cell_type": "code",
   "execution_count": 52,
   "id": "41ad134f",
   "metadata": {
    "colab": {
     "base_uri": "https://localhost:8080/",
     "height": 257
    },
    "id": "41ad134f",
    "outputId": "08e55286-c3a8-423d-fa9c-99c92531ce76"
   },
   "outputs": [
    {
     "data": {
      "image/png": "[encoded data removed]",
      "text/plain": [
       "plot without title"
      ]
     },
     "metadata": {
      "image/png": {
       "height": 240,
       "width": 480
      }
     },
     "output_type": "display_data"
    }
   ],
   "source": [
    "boxplot(Height~Smoke,data=survey)\n",
    "points(1:4,tapply(survey$Height,survey$Smoke,mean,na.rm=TRUE),pch=4)"
   ]
  },
  {
   "cell_type": "code",
   "execution_count": 53,
   "id": "0480a3bb",
   "metadata": {
    "colab": {
     "base_uri": "https://localhost:8080/",
     "height": 34
    },
    "id": "0480a3bb",
    "outputId": "65d7cc5f-e739-44ec-d6cb-a294b9e16f6f"
   },
   "outputs": [
    {
     "data": {
      "text/html": [
       "<style>\n",
       ".dl-inline {width: auto; margin:0; padding: 0}\n",
       ".dl-inline>dt, .dl-inline>dd {float: none; width: auto; display: inline-block}\n",
       ".dl-inline>dt::after {content: \":\\0020\"; padding-right: .5ex}\n",
       ".dl-inline>dt:not(:first-of-type) {padding-left: .5ex}\n",
       "</style><dl class=dl-inline><dt>Heavy</dt><dd>173.772</dd><dt>Never</dt><dd>171.82</dd><dt>Occas</dt><dd>173.02875</dd><dt>Regul</dt><dd>177.417142857143</dd></dl>\n"
      ],
      "text/latex": [
       "\\begin{description*}\n",
       "\\item[Heavy] 173.772\n",
       "\\item[Never] 171.82\n",
       "\\item[Occas] 173.02875\n",
       "\\item[Regul] 177.417142857143\n",
       "\\end{description*}\n"
      ],
      "text/markdown": [
       "Heavy\n",
       ":   173.772Never\n",
       ":   171.82Occas\n",
       ":   173.02875Regul\n",
       ":   177.417142857143\n",
       "\n"
      ],
      "text/plain": [
       "   Heavy    Never    Occas    Regul \n",
       "173.7720 171.8200 173.0288 177.4171 "
      ]
     },
     "metadata": {},
     "output_type": "display_data"
    }
   ],
   "source": [
    "tapply(survey$Height,INDEX=survey$Smoke,FUN=mean,na.rm=TRUE)"
   ]
  },
  {
   "cell_type": "code",
   "execution_count": 54,
   "id": "1dbdef90",
   "metadata": {
    "colab": {
     "base_uri": "https://localhost:8080/",
     "height": 398
    },
    "id": "1dbdef90",
    "outputId": "9263329a-ccf5-4292-c9f8-3388bb4f8764"
   },
   "outputs": [
    {
     "data": {
      "text/plain": [
       "\n",
       "Call:\n",
       "lm(formula = Height ~ Smoke, data = survey)\n",
       "\n",
       "Residuals:\n",
       "   Min     1Q Median     3Q    Max \n",
       "-25.02  -6.82  -1.64   8.18  28.18 \n",
       "\n",
       "Coefficients:\n",
       "            Estimate Std. Error t value Pr(>|t|)    \n",
       "(Intercept) 173.7720     3.1028  56.005   <2e-16 ***\n",
       "SmokeNever   -1.9520     3.1933  -0.611    0.542    \n",
       "SmokeOccas   -0.7433     3.9553  -0.188    0.851    \n",
       "SmokeRegul    3.6451     4.0625   0.897    0.371    \n",
       "---\n",
       "Signif. codes:  0 ‘***’ 0.001 ‘**’ 0.01 ‘*’ 0.05 ‘.’ 0.1 ‘ ’ 1\n",
       "\n",
       "Residual standard error: 9.812 on 205 degrees of freedom\n",
       "  (28 observations deleted due to missingness)\n",
       "Multiple R-squared:  0.02153,\tAdjusted R-squared:  0.007214 \n",
       "F-statistic: 1.504 on 3 and 205 DF,  p-value: 0.2147\n"
      ]
     },
     "metadata": {},
     "output_type": "display_data"
    }
   ],
   "source": [
    "survfit2 <- lm(Height~Smoke,data=survey) #Heavy siedzi w wyrazie wolnym\n",
    "summary(survfit2)"
   ]
  },
  {
   "cell_type": "markdown",
   "id": "fc739648",
   "metadata": {
    "id": "fc739648"
   },
   "source": [
    "<h4> Ćwiczenie (we własnym zakresie): Wyjaśnij skąd wzięły się wartości współczynników w powyższym modelu."
   ]
  },
  {
   "cell_type": "markdown",
   "id": "babafa81-0f82-4ade-ba6d-0a3d9f0bf6e0",
   "metadata": {},
   "source": [
    "* Zmienna może być czasem traktowana zarówno jak numeryczna jak i kategoryczna - to ma znaczenie!"
   ]
  },
  {
   "cell_type": "code",
   "execution_count": 55,
   "id": "d4dd3355",
   "metadata": {
    "colab": {
     "base_uri": "https://localhost:8080/"
    },
    "id": "d4dd3355",
    "outputId": "03cf3879-6086-42bb-b539-8c319b531bc4"
   },
   "outputs": [
    {
     "name": "stdout",
     "output_type": "stream",
     "text": [
      "                   mpg cyl disp  hp drat    wt  qsec vs am gear carb\n",
      "Mazda RX4         21.0   6  160 110 3.90 2.620 16.46  0  1    4    4\n",
      "Mazda RX4 Wag     21.0   6  160 110 3.90 2.875 17.02  0  1    4    4\n",
      "Datsun 710        22.8   4  108  93 3.85 2.320 18.61  1  1    4    1\n",
      "Hornet 4 Drive    21.4   6  258 110 3.08 3.215 19.44  1  0    3    1\n",
      "Hornet Sportabout 18.7   8  360 175 3.15 3.440 17.02  0  0    3    2\n",
      "Valiant           18.1   6  225 105 2.76 3.460 20.22  1  0    3    1\n"
     ]
    }
   ],
   "source": [
    "print(head(mtcars))"
   ]
  },
  {
   "cell_type": "code",
   "execution_count": 56,
   "id": "b4f0251b",
   "metadata": {
    "colab": {
     "base_uri": "https://localhost:8080/",
     "height": 257
    },
    "id": "b4f0251b",
    "outputId": "bf7411f7-a99f-4892-9685-6794354499cb"
   },
   "outputs": [
    {
     "data": {
      "image/png": "[encoded data removed]",
      "text/plain": [
       "plot without title"
      ]
     },
     "metadata": {
      "image/png": {
       "height": 240,
       "width": 480
      }
     },
     "output_type": "display_data"
    }
   ],
   "source": [
    "boxplot(mtcars$mpg~mtcars$cyl, xlab=\"Cylinders\", ylab=\"MPG\") #traktujemy cyl jak zmienną numeryczna"
   ]
  },
  {
   "cell_type": "code",
   "execution_count": 57,
   "id": "81b7adb6",
   "metadata": {
    "colab": {
     "base_uri": "https://localhost:8080/",
     "height": 344
    },
    "id": "81b7adb6",
    "outputId": "c4751578-6fb1-4aff-ee43-ba7da5b98212"
   },
   "outputs": [
    {
     "data": {
      "text/plain": [
       "\n",
       "Call:\n",
       "lm(formula = mpg ~ cyl, data = mtcars)\n",
       "\n",
       "Residuals:\n",
       "    Min      1Q  Median      3Q     Max \n",
       "-4.9814 -2.1185  0.2217  1.0717  7.5186 \n",
       "\n",
       "Coefficients:\n",
       "            Estimate Std. Error t value Pr(>|t|)    \n",
       "(Intercept)  37.8846     2.0738   18.27  < 2e-16 ***\n",
       "cyl          -2.8758     0.3224   -8.92 6.11e-10 ***\n",
       "---\n",
       "Signif. codes:  0 ‘***’ 0.001 ‘**’ 0.01 ‘*’ 0.05 ‘.’ 0.1 ‘ ’ 1\n",
       "\n",
       "Residual standard error: 3.206 on 30 degrees of freedom\n",
       "Multiple R-squared:  0.7262,\tAdjusted R-squared:  0.7171 \n",
       "F-statistic: 79.56 on 1 and 30 DF,  p-value: 6.113e-10\n"
      ]
     },
     "metadata": {},
     "output_type": "display_data"
    }
   ],
   "source": [
    "carfit <- lm(mpg~cyl,data=mtcars)\n",
    "summary(carfit)"
   ]
  },
  {
   "cell_type": "code",
   "execution_count": 58,
   "id": "a95ff35f",
   "metadata": {
    "colab": {
     "base_uri": "https://localhost:8080/",
     "height": 257
    },
    "id": "a95ff35f",
    "outputId": "bfadea98-2c8a-4b82-f04a-eea72870e8ff"
   },
   "outputs": [
    {
     "data": {
      "image/png": "[encoded data removed]",
      "text/plain": [
       "plot without title"
      ]
     },
     "metadata": {
      "image/png": {
       "height": 240,
       "width": 480
      }
     },
     "output_type": "display_data"
    }
   ],
   "source": [
    "plot(mtcars$mpg~mtcars$cyl, xlab=\"Cylinders\", ylab=\"MPG\")\n",
    "abline(carfit,lwd=2)"
   ]
  },
  {
   "cell_type": "code",
   "execution_count": 59,
   "id": "f9a2c686",
   "metadata": {
    "colab": {
     "base_uri": "https://localhost:8080/",
     "height": 362
    },
    "id": "f9a2c686",
    "outputId": "8bfc5457-49b5-441d-b1b2-098cdb0c55da"
   },
   "outputs": [
    {
     "data": {
      "text/plain": [
       "\n",
       "Call:\n",
       "lm(formula = mpg ~ factor(cyl), data = mtcars)\n",
       "\n",
       "Residuals:\n",
       "    Min      1Q  Median      3Q     Max \n",
       "-5.2636 -1.8357  0.0286  1.3893  7.2364 \n",
       "\n",
       "Coefficients:\n",
       "             Estimate Std. Error t value Pr(>|t|)    \n",
       "(Intercept)   26.6636     0.9718  27.437  < 2e-16 ***\n",
       "factor(cyl)6  -6.9208     1.5583  -4.441 0.000119 ***\n",
       "factor(cyl)8 -11.5636     1.2986  -8.905 8.57e-10 ***\n",
       "---\n",
       "Signif. codes:  0 ‘***’ 0.001 ‘**’ 0.01 ‘*’ 0.05 ‘.’ 0.1 ‘ ’ 1\n",
       "\n",
       "Residual standard error: 3.223 on 29 degrees of freedom\n",
       "Multiple R-squared:  0.7325,\tAdjusted R-squared:  0.714 \n",
       "F-statistic:  39.7 on 2 and 29 DF,  p-value: 4.979e-09\n"
      ]
     },
     "metadata": {},
     "output_type": "display_data"
    }
   ],
   "source": [
    "#jezeli chcemy traktowac jako Factor\n",
    "carfit <- lm(mpg~factor(cyl), data=mtcars)\n",
    "summary(carfit)"
   ]
  },
  {
   "cell_type": "code",
   "execution_count": 60,
   "id": "10fba53d",
   "metadata": {
    "colab": {
     "base_uri": "https://localhost:8080/"
    },
    "id": "10fba53d",
    "outputId": "f344a0f1-f981-4cd1-d258-9492b43a8c79"
   },
   "outputs": [
    {
     "name": "stdout",
     "output_type": "stream",
     "text": [
      " [1] 6 6 4 6 8 6 8 4 4 6 6 8 8 8 8 8 8 4 4 4 4 8 8 8 8 4 4 4 8 6 8 4\n",
      "Levels: 4 6 8\n"
     ]
    }
   ],
   "source": [
    "print(factor(mtcars$cyl))"
   ]
  },
  {
   "cell_type": "code",
   "execution_count": null,
   "id": "77a63c96",
   "metadata": {
    "id": "77a63c96",
    "outputId": "1615a8c7-3947-4c49-b3a6-d7d6344ed6fc"
   },
   "outputs": [
    {
     "data": {
      "text/html": [
       "<table>\n",
       "<thead><tr><th></th><th scope=col>mpg</th><th scope=col>cyl</th><th scope=col>disp</th><th scope=col>hp</th><th scope=col>drat</th><th scope=col>wt</th><th scope=col>qsec</th><th scope=col>vs</th><th scope=col>am</th><th scope=col>gear</th><th scope=col>carb</th></tr></thead>\n",
       "<tbody>\n",
       "\t<tr><th scope=row>Mazda RX4</th><td>21.0 </td><td>6    </td><td>160  </td><td>110  </td><td>3.90 </td><td>2.620</td><td>16.46</td><td>0    </td><td>1    </td><td>4    </td><td>4    </td></tr>\n",
       "\t<tr><th scope=row>Mazda RX4 Wag</th><td>21.0 </td><td>6    </td><td>160  </td><td>110  </td><td>3.90 </td><td>2.875</td><td>17.02</td><td>0    </td><td>1    </td><td>4    </td><td>4    </td></tr>\n",
       "\t<tr><th scope=row>Datsun 710</th><td>22.8 </td><td>4    </td><td>108  </td><td> 93  </td><td>3.85 </td><td>2.320</td><td>18.61</td><td>1    </td><td>1    </td><td>4    </td><td>1    </td></tr>\n",
       "\t<tr><th scope=row>Hornet 4 Drive</th><td>21.4 </td><td>6    </td><td>258  </td><td>110  </td><td>3.08 </td><td>3.215</td><td>19.44</td><td>1    </td><td>0    </td><td>3    </td><td>1    </td></tr>\n",
       "\t<tr><th scope=row>Hornet Sportabout</th><td>18.7 </td><td>8    </td><td>360  </td><td>175  </td><td>3.15 </td><td>3.440</td><td>17.02</td><td>0    </td><td>0    </td><td>3    </td><td>2    </td></tr>\n",
       "\t<tr><th scope=row>Valiant</th><td>18.1 </td><td>6    </td><td>225  </td><td>105  </td><td>2.76 </td><td>3.460</td><td>20.22</td><td>1    </td><td>0    </td><td>3    </td><td>1    </td></tr>\n",
       "</tbody>\n",
       "</table>\n"
      ],
      "text/latex": [
       "\\begin{tabular}{r|lllllllllll}\n",
       "  & mpg & cyl & disp & hp & drat & wt & qsec & vs & am & gear & carb\\\\\n",
       "\\hline\n",
       "\tMazda RX4 & 21.0  & 6     & 160   & 110   & 3.90  & 2.620 & 16.46 & 0     & 1     & 4     & 4    \\\\\n",
       "\tMazda RX4 Wag & 21.0  & 6     & 160   & 110   & 3.90  & 2.875 & 17.02 & 0     & 1     & 4     & 4    \\\\\n",
       "\tDatsun 710 & 22.8  & 4     & 108   &  93   & 3.85  & 2.320 & 18.61 & 1     & 1     & 4     & 1    \\\\\n",
       "\tHornet 4 Drive & 21.4  & 6     & 258   & 110   & 3.08  & 3.215 & 19.44 & 1     & 0     & 3     & 1    \\\\\n",
       "\tHornet Sportabout & 18.7  & 8     & 360   & 175   & 3.15  & 3.440 & 17.02 & 0     & 0     & 3     & 2    \\\\\n",
       "\tValiant & 18.1  & 6     & 225   & 105   & 2.76  & 3.460 & 20.22 & 1     & 0     & 3     & 1    \\\\\n",
       "\\end{tabular}\n"
      ],
      "text/markdown": [
       "\n",
       "| <!--/--> | mpg | cyl | disp | hp | drat | wt | qsec | vs | am | gear | carb |\n",
       "|---|---|---|---|---|---|---|---|---|---|---|---|\n",
       "| Mazda RX4 | 21.0  | 6     | 160   | 110   | 3.90  | 2.620 | 16.46 | 0     | 1     | 4     | 4     |\n",
       "| Mazda RX4 Wag | 21.0  | 6     | 160   | 110   | 3.90  | 2.875 | 17.02 | 0     | 1     | 4     | 4     |\n",
       "| Datsun 710 | 22.8  | 4     | 108   |  93   | 3.85  | 2.320 | 18.61 | 1     | 1     | 4     | 1     |\n",
       "| Hornet 4 Drive | 21.4  | 6     | 258   | 110   | 3.08  | 3.215 | 19.44 | 1     | 0     | 3     | 1     |\n",
       "| Hornet Sportabout | 18.7  | 8     | 360   | 175   | 3.15  | 3.440 | 17.02 | 0     | 0     | 3     | 2     |\n",
       "| Valiant | 18.1  | 6     | 225   | 105   | 2.76  | 3.460 | 20.22 | 1     | 0     | 3     | 1     |\n",
       "\n"
      ],
      "text/plain": [
       "                  mpg  cyl disp hp  drat wt    qsec  vs am gear carb\n",
       "Mazda RX4         21.0 6   160  110 3.90 2.620 16.46 0  1  4    4   \n",
       "Mazda RX4 Wag     21.0 6   160  110 3.90 2.875 17.02 0  1  4    4   \n",
       "Datsun 710        22.8 4   108   93 3.85 2.320 18.61 1  1  4    1   \n",
       "Hornet 4 Drive    21.4 6   258  110 3.08 3.215 19.44 1  0  3    1   \n",
       "Hornet Sportabout 18.7 8   360  175 3.15 3.440 17.02 0  0  3    2   \n",
       "Valiant           18.1 6   225  105 2.76 3.460 20.22 1  0  3    1   "
      ]
     },
     "metadata": {},
     "output_type": "display_data"
    }
   ],
   "source": [
    "head(mtcars)"
   ]
  },
  {
   "cell_type": "code",
   "execution_count": null,
   "id": "d93e09fd",
   "metadata": {
    "id": "d93e09fd",
    "outputId": "8adf8ccb-9e3d-45af-dc45-5af7631ddbcc"
   },
   "outputs": [
    {
     "data": {
      "text/html": [
       "<dl class=dl-horizontal>\n",
       "\t<dt>4</dt>\n",
       "\t\t<dd>26.6636363636364</dd>\n",
       "\t<dt>6</dt>\n",
       "\t\t<dd>19.7428571428571</dd>\n",
       "\t<dt>8</dt>\n",
       "\t\t<dd>15.1</dd>\n",
       "</dl>\n"
      ],
      "text/latex": [
       "\\begin{description*}\n",
       "\\item[4] 26.6636363636364\n",
       "\\item[6] 19.7428571428571\n",
       "\\item[8] 15.1\n",
       "\\end{description*}\n"
      ],
      "text/markdown": [
       "4\n",
       ":   26.66363636363646\n",
       ":   19.74285714285718\n",
       ":   15.1\n",
       "\n"
      ],
      "text/plain": [
       "       4        6        8 \n",
       "26.66364 19.74286 15.10000 "
      ]
     },
     "metadata": {},
     "output_type": "display_data"
    }
   ],
   "source": [
    "tapply(mtcars$mpg,mtcars$cyl, mean)"
   ]
  },
  {
   "cell_type": "markdown",
   "id": "4069f52b",
   "metadata": {
    "id": "4069f52b"
   },
   "source": [
    "<h3> Uzupełnienie: Jeszcze raz ANOVA"
   ]
  },
  {
   "cell_type": "markdown",
   "id": "a918444f",
   "metadata": {
    "id": "a918444f"
   },
   "source": [
    "ANOVA jednoczynnikowa a regresja liniowa z jedną zmienną kategoryczną"
   ]
  },
  {
   "cell_type": "code",
   "execution_count": 90,
   "id": "c996f7b2",
   "metadata": {
    "colab": {
     "base_uri": "https://localhost:8080/"
    },
    "id": "c996f7b2",
    "outputId": "e54baa64-ef5d-4a8d-e6a5-4abf44c228d4"
   },
   "outputs": [
    {
     "name": "stdout",
     "output_type": "stream",
     "text": [
      "   x group\n",
      "1 20     A\n",
      "2 23     A\n",
      "3 26     A\n",
      "4 21     A\n",
      "5 34     B\n",
      "6 32     B\n"
     ]
    }
   ],
   "source": [
    "data = data.frame(x = c(20, 23, 26, 21, 34, 32, 35, 42, 45, 47), group = c(rep(\"A\", 4),rep(\"B\",3), rep(\"C\",3)))\n",
    "print(head(data))"
   ]
  },
  {
   "cell_type": "code",
   "execution_count": 91,
   "id": "ba3ed409",
   "metadata": {
    "colab": {
     "base_uri": "https://localhost:8080/",
     "height": 144
    },
    "id": "ba3ed409",
    "outputId": "03ebd3e4-8a31-4a75-9a35-62e3421ad296"
   },
   "outputs": [
    {
     "data": {
      "text/plain": [
       "       x            group          \n",
       " Min.   :20.00   Length:10         \n",
       " 1st Qu.:23.75   Class :character  \n",
       " Median :33.00   Mode  :character  \n",
       " Mean   :32.50                     \n",
       " 3rd Qu.:40.25                     \n",
       " Max.   :47.00                     "
      ]
     },
     "metadata": {},
     "output_type": "display_data"
    }
   ],
   "source": [
    "summary(data)"
   ]
  },
  {
   "cell_type": "code",
   "execution_count": 92,
   "id": "c452be1a",
   "metadata": {
    "colab": {
     "base_uri": "https://localhost:8080/",
     "height": 362
    },
    "id": "c452be1a",
    "outputId": "5839ddee-c295-42f9-c53e-0b5f390efd09"
   },
   "outputs": [
    {
     "data": {
      "text/plain": [
       "\n",
       "Call:\n",
       "lm(formula = x ~ group, data = data)\n",
       "\n",
       "Residuals:\n",
       "    Min      1Q  Median      3Q     Max \n",
       "-2.6667 -1.6250  0.3333  1.1250  3.5000 \n",
       "\n",
       "Coefficients:\n",
       "            Estimate Std. Error t value Pr(>|t|)    \n",
       "(Intercept)   22.500      1.170  19.230 2.56e-07 ***\n",
       "groupB        11.167      1.787   6.248 0.000425 ***\n",
       "groupC        22.167      1.787  12.402 5.09e-06 ***\n",
       "---\n",
       "Signif. codes:  0 ‘***’ 0.001 ‘**’ 0.01 ‘*’ 0.05 ‘.’ 0.1 ‘ ’ 1\n",
       "\n",
       "Residual standard error: 2.34 on 7 degrees of freedom\n",
       "Multiple R-squared:  0.9568,\tAdjusted R-squared:  0.9444 \n",
       "F-statistic: 77.44 on 2 and 7 DF,  p-value: 1.681e-05\n"
      ]
     },
     "metadata": {},
     "output_type": "display_data"
    }
   ],
   "source": [
    "model = lm(x~group,data=data)\n",
    "summary(model)"
   ]
  },
  {
   "cell_type": "code",
   "execution_count": 93,
   "id": "bcc1d6b9",
   "metadata": {
    "colab": {
     "base_uri": "https://localhost:8080/",
     "height": 108
    },
    "id": "bcc1d6b9",
    "outputId": "01190eaa-4c68-4317-a55d-61295abedf81"
   },
   "outputs": [
    {
     "data": {
      "text/plain": [
       "            Df Sum Sq Mean Sq F value   Pr(>F)    \n",
       "group        2  848.2   424.1   77.44 1.68e-05 ***\n",
       "Residuals    7   38.3     5.5                     \n",
       "---\n",
       "Signif. codes:  0 ‘***’ 0.001 ‘**’ 0.01 ‘*’ 0.05 ‘.’ 0.1 ‘ ’ 1"
      ]
     },
     "metadata": {},
     "output_type": "display_data"
    }
   ],
   "source": [
    "summary(aov(x~group,data=data))"
   ]
  },
  {
   "cell_type": "code",
   "execution_count": 95,
   "id": "1a326f9c",
   "metadata": {
    "colab": {
     "base_uri": "https://localhost:8080/",
     "height": 34
    },
    "id": "1a326f9c",
    "outputId": "2070ad73-89cb-47bb-ebf9-9f46b37d2990"
   },
   "outputs": [
    {
     "data": {
      "text/html": [
       "2.34520787991171"
      ],
      "text/latex": [
       "2.34520787991171"
      ],
      "text/markdown": [
       "2.34520787991171"
      ],
      "text/plain": [
       "[1] 2.345208"
      ]
     },
     "metadata": {},
     "output_type": "display_data"
    }
   ],
   "source": [
    "sqrt(5.5) #to residual standard error: 2.34"
   ]
  },
  {
   "cell_type": "markdown",
   "id": "6d999970",
   "metadata": {
    "id": "6d999970"
   },
   "source": [
    "<h4> Rachunki"
   ]
  },
  {
   "cell_type": "code",
   "execution_count": 96,
   "id": "b7ebdc4b",
   "metadata": {
    "colab": {
     "base_uri": "https://localhost:8080/",
     "height": 34
    },
    "id": "b7ebdc4b",
    "outputId": "35bbf48a-675f-46fc-fc40-23bfa33e9d84"
   },
   "outputs": [
    {
     "data": {
      "text/html": [
       "10"
      ],
      "text/latex": [
       "10"
      ],
      "text/markdown": [
       "10"
      ],
      "text/plain": [
       "[1] 10"
      ]
     },
     "metadata": {},
     "output_type": "display_data"
    }
   ],
   "source": [
    "N = length(data$x)\n",
    "N"
   ]
  },
  {
   "cell_type": "code",
   "execution_count": 97,
   "id": "cc23034e",
   "metadata": {
    "colab": {
     "base_uri": "https://localhost:8080/",
     "height": 34
    },
    "id": "cc23034e",
    "outputId": "013e9486-b855-4ab7-9b32-810b9b56996b"
   },
   "outputs": [
    {
     "data": {
      "text/html": [
       "32.5"
      ],
      "text/latex": [
       "32.5"
      ],
      "text/markdown": [
       "32.5"
      ],
      "text/plain": [
       "[1] 32.5"
      ]
     },
     "metadata": {},
     "output_type": "display_data"
    }
   ],
   "source": [
    "srednia = mean(data$x) #srednia ze wszystkich\n",
    "srednia"
   ]
  },
  {
   "cell_type": "code",
   "execution_count": 98,
   "id": "9ca172e2",
   "metadata": {
    "colab": {
     "base_uri": "https://localhost:8080/",
     "height": 34
    },
    "id": "9ca172e2",
    "outputId": "7fa5ece6-c6c6-42e7-e466-9d114846ad8c"
   },
   "outputs": [
    {
     "data": {
      "text/html": [
       "<style>\n",
       ".dl-inline {width: auto; margin:0; padding: 0}\n",
       ".dl-inline>dt, .dl-inline>dd {float: none; width: auto; display: inline-block}\n",
       ".dl-inline>dt::after {content: \":\\0020\"; padding-right: .5ex}\n",
       ".dl-inline>dt:not(:first-of-type) {padding-left: .5ex}\n",
       "</style><dl class=dl-inline><dt>A</dt><dd>22.5</dd><dt>B</dt><dd>33.6666666666667</dd><dt>C</dt><dd>44.6666666666667</dd></dl>\n"
      ],
      "text/latex": [
       "\\begin{description*}\n",
       "\\item[A] 22.5\n",
       "\\item[B] 33.6666666666667\n",
       "\\item[C] 44.6666666666667\n",
       "\\end{description*}\n"
      ],
      "text/markdown": [
       "A\n",
       ":   22.5B\n",
       ":   33.6666666666667C\n",
       ":   44.6666666666667\n",
       "\n"
      ],
      "text/plain": [
       "       A        B        C \n",
       "22.50000 33.66667 44.66667 "
      ]
     },
     "metadata": {},
     "output_type": "display_data"
    }
   ],
   "source": [
    "srednie_g = tapply(data$x, data$group, mean) #srednie w grupach\n",
    "srednie_g"
   ]
  },
  {
   "cell_type": "code",
   "execution_count": 99,
   "id": "c0270ebe",
   "metadata": {
    "id": "c0270ebe"
   },
   "outputs": [],
   "source": [
    "k = 3 #liczba grup"
   ]
  },
  {
   "cell_type": "code",
   "execution_count": 100,
   "id": "8889e799",
   "metadata": {
    "colab": {
     "base_uri": "https://localhost:8080/",
     "height": 34
    },
    "id": "8889e799",
    "outputId": "64c7b7d0-fb6e-489d-db7d-80a4108ded2c"
   },
   "outputs": [
    {
     "data": {
      "text/html": [
       "<style>\n",
       ".dl-inline {width: auto; margin:0; padding: 0}\n",
       ".dl-inline>dt, .dl-inline>dd {float: none; width: auto; display: inline-block}\n",
       ".dl-inline>dt::after {content: \":\\0020\"; padding-right: .5ex}\n",
       ".dl-inline>dt:not(:first-of-type) {padding-left: .5ex}\n",
       "</style><dl class=dl-inline><dt>A</dt><dd>4</dd><dt>B</dt><dd>3</dd><dt>C</dt><dd>3</dd></dl>\n"
      ],
      "text/latex": [
       "\\begin{description*}\n",
       "\\item[A] 4\n",
       "\\item[B] 3\n",
       "\\item[C] 3\n",
       "\\end{description*}\n"
      ],
      "text/markdown": [
       "A\n",
       ":   4B\n",
       ":   3C\n",
       ":   3\n",
       "\n"
      ],
      "text/plain": [
       "A B C \n",
       "4 3 3 "
      ]
     },
     "metadata": {},
     "output_type": "display_data"
    }
   ],
   "source": [
    "ile = tapply(data$x, data$group, length)\n",
    "ile"
   ]
  },
  {
   "cell_type": "code",
   "execution_count": 101,
   "id": "49c2800e",
   "metadata": {
    "colab": {
     "base_uri": "https://localhost:8080/",
     "height": 52
    },
    "id": "49c2800e",
    "outputId": "0bff49df-5f3d-425c-9f64-da272ffea0ac",
    "scrolled": true
   },
   "outputs": [
    {
     "data": {
      "text/html": [
       "848.166666666667"
      ],
      "text/latex": [
       "848.166666666667"
      ],
      "text/markdown": [
       "848.166666666667"
      ],
      "text/plain": [
       "[1] 848.1667"
      ]
     },
     "metadata": {},
     "output_type": "display_data"
    },
    {
     "data": {
      "text/html": [
       "424.083333333333"
      ],
      "text/latex": [
       "424.083333333333"
      ],
      "text/markdown": [
       "424.083333333333"
      ],
      "text/plain": [
       "[1] 424.0833"
      ]
     },
     "metadata": {},
     "output_type": "display_data"
    }
   ],
   "source": [
    "sum_sq = sum(ile*(srednie_g - srednia)**2)\n",
    "MSTR = sum_sq / (k-1)\n",
    "\n",
    "sum_sq; MSTR"
   ]
  },
  {
   "cell_type": "code",
   "execution_count": 102,
   "id": "57f4624a",
   "metadata": {
    "id": "57f4624a"
   },
   "outputs": [],
   "source": [
    "s1 = data[data$group == \"A\",]$x\n",
    "s2 = data[data$group == \"B\",]$x\n",
    "s3 = data[data$group == \"C\",]$x"
   ]
  },
  {
   "cell_type": "code",
   "execution_count": 104,
   "id": "b6edd8cf",
   "metadata": {
    "colab": {
     "base_uri": "https://localhost:8080/",
     "height": 52
    },
    "id": "b6edd8cf",
    "outputId": "e0e0b941-f01c-4a6f-b62b-e63fb6f2f748"
   },
   "outputs": [
    {
     "data": {
      "text/html": [
       "38.3333333333333"
      ],
      "text/latex": [
       "38.3333333333333"
      ],
      "text/markdown": [
       "38.3333333333333"
      ],
      "text/plain": [
       "[1] 38.33333"
      ]
     },
     "metadata": {},
     "output_type": "display_data"
    },
    {
     "data": {
      "text/html": [
       "5.47619047619048"
      ],
      "text/latex": [
       "5.47619047619048"
      ],
      "text/markdown": [
       "5.47619047619048"
      ],
      "text/plain": [
       "[1] 5.47619"
      ]
     },
     "metadata": {},
     "output_type": "display_data"
    }
   ],
   "source": [
    "sum_sq2 = sum((s1 - srednie_g[1])**2) + sum((s2 - srednie_g[2])**2) + sum((s3 - srednie_g[3])**2)\n",
    "MSE = sum_sq2/(N-k)\n",
    "sum_sq2; MSE"
   ]
  },
  {
   "cell_type": "code",
   "execution_count": 105,
   "id": "6c992016",
   "metadata": {
    "colab": {
     "base_uri": "https://localhost:8080/",
     "height": 34
    },
    "id": "6c992016",
    "outputId": "88e0c6b4-49fa-4e7d-9f3a-49fd9c5a98e1"
   },
   "outputs": [
    {
     "data": {
      "text/html": [
       "77.4413043478261"
      ],
      "text/latex": [
       "77.4413043478261"
      ],
      "text/markdown": [
       "77.4413043478261"
      ],
      "text/plain": [
       "[1] 77.4413"
      ]
     },
     "metadata": {},
     "output_type": "display_data"
    }
   ],
   "source": [
    "F = MSTR/MSE #przy pewnych załozeniach F ma rozkład F–Snedecora z (k−1, n−k) stopniami swobody. Jezeli F duze (dokładniej F >= Fkn) to odrzucamy H0\n",
    "F"
   ]
  },
  {
   "cell_type": "markdown",
   "id": "19352b75",
   "metadata": {
    "id": "19352b75"
   },
   "source": [
    "Kiedy F duże? Gdy licznik duży (różnice pomiedzy grupami duże) lub mianownik mały (dane slabo rozrzucone w obrębie grup)"
   ]
  }
 ],
 "metadata": {
  "colab": {
   "provenance": []
  },
  "kernelspec": {
   "display_name": "R",
   "language": "R",
   "name": "ir"
  },
  "language_info": {
   "codemirror_mode": "r",
   "file_extension": ".r",
   "mimetype": "text/x-r-source",
   "name": "R",
   "pygments_lexer": "r",
   "version": "4.3.3"
  }
 },
 "nbformat": 4,
 "nbformat_minor": 5
}
