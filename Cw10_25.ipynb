{
 "cells": [
  {
   "cell_type": "markdown",
   "id": "db91f201",
   "metadata": {
    "id": "db91f201"
   },
   "source": [
    "<h3> <center> Analiza przeżycia </center>"
   ]
  },
  {
   "cell_type": "markdown",
   "id": "fe332f3d",
   "metadata": {
    "id": "fe332f3d"
   },
   "source": [
    "Niech $T$ będzie zmienną losową opisującą czas, który minął do pewnego zdarzenia.\n",
    "\n",
    "Definiujemy $S(t) = P(T>t)$ - funkcja przeżycia (określa prawdopodobieństwo wystąpienia zdarzenia po czasie $t$)"
   ]
  },
  {
   "cell_type": "code",
   "execution_count": 1,
   "id": "c24c5f18",
   "metadata": {},
   "outputs": [
    {
     "data": {
      "text/html": [
       "<table class=\"dataframe\">\n",
       "<caption>A data.frame: 6 × 9</caption>\n",
       "<thead>\n",
       "\t<tr><th></th><th scope=col>Wiek</th><th scope=col>Rozmiar.guza</th><th scope=col>Wezly.chlonne</th><th scope=col>Nowotwor</th><th scope=col>Receptory.estrogenowe</th><th scope=col>Receptory.progesteronowe</th><th scope=col>Niepowodzenia</th><th scope=col>Okres.bez.wznowy</th><th scope=col>VEGF</th></tr>\n",
       "\t<tr><th></th><th scope=col>&lt;int&gt;</th><th scope=col>&lt;int&gt;</th><th scope=col>&lt;int&gt;</th><th scope=col>&lt;int&gt;</th><th scope=col>&lt;chr&gt;</th><th scope=col>&lt;chr&gt;</th><th scope=col>&lt;chr&gt;</th><th scope=col>&lt;int&gt;</th><th scope=col>&lt;int&gt;</th></tr>\n",
       "</thead>\n",
       "<tbody>\n",
       "\t<tr><th scope=row>1</th><td>29</td><td>1</td><td>0</td><td> 2</td><td>(-) </td><td>(++)</td><td>brak  </td><td>22</td><td> 914</td></tr>\n",
       "\t<tr><th scope=row>2</th><td>29</td><td>1</td><td>0</td><td> 2</td><td>(++)</td><td>(++)</td><td>brak  </td><td>53</td><td>1118</td></tr>\n",
       "\t<tr><th scope=row>3</th><td>30</td><td>1</td><td>1</td><td> 2</td><td>(-) </td><td>(+) </td><td>brak  </td><td>38</td><td> 630</td></tr>\n",
       "\t<tr><th scope=row>4</th><td>32</td><td>1</td><td>0</td><td> 3</td><td>(++)</td><td>(++)</td><td>brak  </td><td>26</td><td>1793</td></tr>\n",
       "\t<tr><th scope=row>5</th><td>32</td><td>2</td><td>0</td><td>NA</td><td>(-) </td><td>(++)</td><td>brak  </td><td>19</td><td> 963</td></tr>\n",
       "\t<tr><th scope=row>6</th><td>33</td><td>1</td><td>1</td><td> 3</td><td>(-) </td><td>(++)</td><td>wznowa</td><td>36</td><td>2776</td></tr>\n",
       "</tbody>\n",
       "</table>\n"
      ],
      "text/latex": [
       "A data.frame: 6 × 9\n",
       "\\begin{tabular}{r|lllllllll}\n",
       "  & Wiek & Rozmiar.guza & Wezly.chlonne & Nowotwor & Receptory.estrogenowe & Receptory.progesteronowe & Niepowodzenia & Okres.bez.wznowy & VEGF\\\\\n",
       "  & <int> & <int> & <int> & <int> & <chr> & <chr> & <chr> & <int> & <int>\\\\\n",
       "\\hline\n",
       "\t1 & 29 & 1 & 0 &  2 & (-)  & (++) & brak   & 22 &  914\\\\\n",
       "\t2 & 29 & 1 & 0 &  2 & (++) & (++) & brak   & 53 & 1118\\\\\n",
       "\t3 & 30 & 1 & 1 &  2 & (-)  & (+)  & brak   & 38 &  630\\\\\n",
       "\t4 & 32 & 1 & 0 &  3 & (++) & (++) & brak   & 26 & 1793\\\\\n",
       "\t5 & 32 & 2 & 0 & NA & (-)  & (++) & brak   & 19 &  963\\\\\n",
       "\t6 & 33 & 1 & 1 &  3 & (-)  & (++) & wznowa & 36 & 2776\\\\\n",
       "\\end{tabular}\n"
      ],
      "text/markdown": [
       "\n",
       "A data.frame: 6 × 9\n",
       "\n",
       "| <!--/--> | Wiek &lt;int&gt; | Rozmiar.guza &lt;int&gt; | Wezly.chlonne &lt;int&gt; | Nowotwor &lt;int&gt; | Receptory.estrogenowe &lt;chr&gt; | Receptory.progesteronowe &lt;chr&gt; | Niepowodzenia &lt;chr&gt; | Okres.bez.wznowy &lt;int&gt; | VEGF &lt;int&gt; |\n",
       "|---|---|---|---|---|---|---|---|---|---|\n",
       "| 1 | 29 | 1 | 0 |  2 | (-)  | (++) | brak   | 22 |  914 |\n",
       "| 2 | 29 | 1 | 0 |  2 | (++) | (++) | brak   | 53 | 1118 |\n",
       "| 3 | 30 | 1 | 1 |  2 | (-)  | (+)  | brak   | 38 |  630 |\n",
       "| 4 | 32 | 1 | 0 |  3 | (++) | (++) | brak   | 26 | 1793 |\n",
       "| 5 | 32 | 2 | 0 | NA | (-)  | (++) | brak   | 19 |  963 |\n",
       "| 6 | 33 | 1 | 1 |  3 | (-)  | (++) | wznowa | 36 | 2776 |\n",
       "\n"
      ],
      "text/plain": [
       "  Wiek Rozmiar.guza Wezly.chlonne Nowotwor Receptory.estrogenowe\n",
       "1 29   1            0              2       (-)                  \n",
       "2 29   1            0              2       (++)                 \n",
       "3 30   1            1              2       (-)                  \n",
       "4 32   1            0              3       (++)                 \n",
       "5 32   2            0             NA       (-)                  \n",
       "6 33   1            1              3       (-)                  \n",
       "  Receptory.progesteronowe Niepowodzenia Okres.bez.wznowy VEGF\n",
       "1 (++)                     brak          22                914\n",
       "2 (++)                     brak          53               1118\n",
       "3 (+)                      brak          38                630\n",
       "4 (++)                     brak          26               1793\n",
       "5 (++)                     brak          19                963\n",
       "6 (++)                     wznowa        36               2776"
      ]
     },
     "metadata": {},
     "output_type": "display_data"
    }
   ],
   "source": [
    "dane = read.table(\"http://www.biecek.pl/R/dane/dane0.csv\", sep = \";\", header = T)\n",
    "head(dane)"
   ]
  },
  {
   "cell_type": "code",
   "execution_count": 23,
   "id": "908b08d9-e9dc-48c9-b834-bf2121a4f30c",
   "metadata": {
    "colab": {
     "base_uri": "https://localhost:8080/",
     "height": 286
    },
    "id": "908b08d9-e9dc-48c9-b834-bf2121a4f30c",
    "outputId": "947e3d71-3e26-4055-acc3-1945187622a4"
   },
   "outputs": [
    {
     "data": {
      "text/html": [
       "<table class=\"dataframe\">\n",
       "<caption>A data.frame: 6 × 9</caption>\n",
       "<thead>\n",
       "\t<tr><th></th><th scope=col>Wiek</th><th scope=col>Rozmiar.guza</th><th scope=col>Wezly.chlonne</th><th scope=col>Nowotwor</th><th scope=col>Receptory.estrogenowe</th><th scope=col>Receptory.progesteronowe</th><th scope=col>Niepowodzenia</th><th scope=col>Okres.bez.wznowy</th><th scope=col>VEGF</th></tr>\n",
       "\t<tr><th></th><th scope=col>&lt;int&gt;</th><th scope=col>&lt;int&gt;</th><th scope=col>&lt;int&gt;</th><th scope=col>&lt;int&gt;</th><th scope=col>&lt;chr&gt;</th><th scope=col>&lt;chr&gt;</th><th scope=col>&lt;chr&gt;</th><th scope=col>&lt;int&gt;</th><th scope=col>&lt;int&gt;</th></tr>\n",
       "</thead>\n",
       "<tbody>\n",
       "\t<tr><th scope=row>1</th><td>29</td><td>1</td><td>0</td><td> 2</td><td>(-) </td><td>(++)</td><td>brak  </td><td>22</td><td> 914</td></tr>\n",
       "\t<tr><th scope=row>2</th><td>29</td><td>1</td><td>0</td><td> 2</td><td>(++)</td><td>(++)</td><td>brak  </td><td>53</td><td>1118</td></tr>\n",
       "\t<tr><th scope=row>3</th><td>30</td><td>1</td><td>1</td><td> 2</td><td>(-) </td><td>(+) </td><td>brak  </td><td>38</td><td> 630</td></tr>\n",
       "\t<tr><th scope=row>4</th><td>32</td><td>1</td><td>0</td><td> 3</td><td>(++)</td><td>(++)</td><td>brak  </td><td>26</td><td>1793</td></tr>\n",
       "\t<tr><th scope=row>5</th><td>32</td><td>2</td><td>0</td><td>NA</td><td>(-) </td><td>(++)</td><td>brak  </td><td>19</td><td> 963</td></tr>\n",
       "\t<tr><th scope=row>6</th><td>33</td><td>1</td><td>1</td><td> 3</td><td>(-) </td><td>(++)</td><td>wznowa</td><td>36</td><td>2776</td></tr>\n",
       "</tbody>\n",
       "</table>\n"
      ],
      "text/latex": [
       "A data.frame: 6 × 9\n",
       "\\begin{tabular}{r|lllllllll}\n",
       "  & Wiek & Rozmiar.guza & Wezly.chlonne & Nowotwor & Receptory.estrogenowe & Receptory.progesteronowe & Niepowodzenia & Okres.bez.wznowy & VEGF\\\\\n",
       "  & <int> & <int> & <int> & <int> & <chr> & <chr> & <chr> & <int> & <int>\\\\\n",
       "\\hline\n",
       "\t1 & 29 & 1 & 0 &  2 & (-)  & (++) & brak   & 22 &  914\\\\\n",
       "\t2 & 29 & 1 & 0 &  2 & (++) & (++) & brak   & 53 & 1118\\\\\n",
       "\t3 & 30 & 1 & 1 &  2 & (-)  & (+)  & brak   & 38 &  630\\\\\n",
       "\t4 & 32 & 1 & 0 &  3 & (++) & (++) & brak   & 26 & 1793\\\\\n",
       "\t5 & 32 & 2 & 0 & NA & (-)  & (++) & brak   & 19 &  963\\\\\n",
       "\t6 & 33 & 1 & 1 &  3 & (-)  & (++) & wznowa & 36 & 2776\\\\\n",
       "\\end{tabular}\n"
      ],
      "text/markdown": [
       "\n",
       "A data.frame: 6 × 9\n",
       "\n",
       "| <!--/--> | Wiek &lt;int&gt; | Rozmiar.guza &lt;int&gt; | Wezly.chlonne &lt;int&gt; | Nowotwor &lt;int&gt; | Receptory.estrogenowe &lt;chr&gt; | Receptory.progesteronowe &lt;chr&gt; | Niepowodzenia &lt;chr&gt; | Okres.bez.wznowy &lt;int&gt; | VEGF &lt;int&gt; |\n",
       "|---|---|---|---|---|---|---|---|---|---|\n",
       "| 1 | 29 | 1 | 0 |  2 | (-)  | (++) | brak   | 22 |  914 |\n",
       "| 2 | 29 | 1 | 0 |  2 | (++) | (++) | brak   | 53 | 1118 |\n",
       "| 3 | 30 | 1 | 1 |  2 | (-)  | (+)  | brak   | 38 |  630 |\n",
       "| 4 | 32 | 1 | 0 |  3 | (++) | (++) | brak   | 26 | 1793 |\n",
       "| 5 | 32 | 2 | 0 | NA | (-)  | (++) | brak   | 19 |  963 |\n",
       "| 6 | 33 | 1 | 1 |  3 | (-)  | (++) | wznowa | 36 | 2776 |\n",
       "\n"
      ],
      "text/plain": [
       "  Wiek Rozmiar.guza Wezly.chlonne Nowotwor Receptory.estrogenowe\n",
       "1 29   1            0              2       (-)                  \n",
       "2 29   1            0              2       (++)                 \n",
       "3 30   1            1              2       (-)                  \n",
       "4 32   1            0              3       (++)                 \n",
       "5 32   2            0             NA       (-)                  \n",
       "6 33   1            1              3       (-)                  \n",
       "  Receptory.progesteronowe Niepowodzenia Okres.bez.wznowy VEGF\n",
       "1 (++)                     brak          22                914\n",
       "2 (++)                     brak          53               1118\n",
       "3 (+)                      brak          38                630\n",
       "4 (++)                     brak          26               1793\n",
       "5 (++)                     brak          19                963\n",
       "6 (++)                     wznowa        36               2776"
      ]
     },
     "metadata": {},
     "output_type": "display_data"
    }
   ],
   "source": [
    "dane = read.table(\"http://www.biecek.pl/R/dane/dane0.csv\", sep = \";\", header = T)\n",
    "head(dane)"
   ]
  },
  {
   "cell_type": "code",
   "execution_count": 24,
   "id": "17d66c77",
   "metadata": {
    "colab": {
     "base_uri": "https://localhost:8080/"
    },
    "id": "17d66c77",
    "outputId": "2bc8ee08-423e-4e6d-f6f7-46995f426b79"
   },
   "outputs": [
    {
     "name": "stdout",
     "output_type": "stream",
     "text": [
      " [1] 22 53 38 26 19 36 33 38 38 37 47 40 30 16 44 27 36 19 41 18 41 29 47 47 53\n",
      "[26] 33 30 39 38 47 44 48 33 36 43 53 38 33 41 54 51 23 42 42 45 51 42 36 38 28\n",
      "[51] 27 31 47 33 42 38 34 21 34 36 26 36 39 39 49 28 19 29 46 33 45 39 43 49 41\n",
      "[76] 27 33 33 36 50 52 10 49 30 30 42 47 48 35 48 43 50 30 36 29 NA 46\n"
     ]
    }
   ],
   "source": [
    "x = dane$Okres.bez.wznowy\n",
    "print(x)"
   ]
  },
  {
   "cell_type": "code",
   "execution_count": 25,
   "id": "a2a6659d",
   "metadata": {
    "colab": {
     "base_uri": "https://localhost:8080/",
     "height": 453
    },
    "id": "a2a6659d",
    "outputId": "9f8145dc-e41d-4c46-9966-3e3e03a0a6e1"
   },
   "outputs": [
    {
     "data": {
      "text/plain": [
       "      Wiek        Rozmiar.guza   Wezly.chlonne       Nowotwor    \n",
       " Min.   :29.00   Min.   :1.000   Min.   :0.0000   Min.   :1.000  \n",
       " 1st Qu.:42.00   1st Qu.:1.000   1st Qu.:0.0000   1st Qu.:2.000  \n",
       " Median :46.00   Median :1.000   Median :0.0000   Median :2.000  \n",
       " Mean   :45.52   Mean   :1.268   Mean   :0.4124   Mean   :2.221  \n",
       " 3rd Qu.:50.00   3rd Qu.:2.000   3rd Qu.:1.0000   3rd Qu.:3.000  \n",
       " Max.   :57.00   Max.   :2.000   Max.   :1.0000   Max.   :3.000  \n",
       "                                                  NA's   :11     \n",
       " Receptory.estrogenowe Receptory.progesteronowe Niepowodzenia     \n",
       " Length:97             Length:97                Length:97         \n",
       " Class :character      Class :character         Class :character  \n",
       " Mode  :character      Mode  :character         Mode  :character  \n",
       "                                                                  \n",
       "                                                                  \n",
       "                                                                  \n",
       "                                                                  \n",
       " Okres.bez.wznowy      VEGF      \n",
       " Min.   :10.00    Min.   :  118  \n",
       " 1st Qu.:30.75    1st Qu.:  629  \n",
       " Median :38.00    Median : 1489  \n",
       " Mean   :37.41    Mean   : 2627  \n",
       " 3rd Qu.:45.00    3rd Qu.: 3240  \n",
       " Max.   :54.00    Max.   :22554  \n",
       " NA's   :1                       "
      ]
     },
     "metadata": {},
     "output_type": "display_data"
    }
   ],
   "source": [
    "summary(dane)"
   ]
  },
  {
   "cell_type": "code",
   "execution_count": 26,
   "id": "e34506ee",
   "metadata": {
    "colab": {
     "base_uri": "https://localhost:8080/",
     "height": 108
    },
    "id": "e34506ee",
    "outputId": "aac1ede2-3f5c-4ac0-9d93-9c31fd1a434d"
   },
   "outputs": [
    {
     "data": {
      "text/plain": [
       "        Niepowodzenia\n",
       "Nowotwor brak wznowa\n",
       "       1    7      0\n",
       "       2   49      4\n",
       "       3   17      9"
      ]
     },
     "metadata": {},
     "output_type": "display_data"
    }
   ],
   "source": [
    "table(dane[c(4,7)])"
   ]
  },
  {
   "cell_type": "code",
   "execution_count": 27,
   "id": "c89e8278",
   "metadata": {
    "colab": {
     "base_uri": "https://localhost:8080/"
    },
    "id": "c89e8278",
    "outputId": "4db852e6-90ae-4b33-d68e-69d1f2ba7e7c"
   },
   "outputs": [
    {
     "name": "stdout",
     "output_type": "stream",
     "text": [
      "   1    2    3 NA's \n",
      "   7   53   26   11 \n"
     ]
    }
   ],
   "source": [
    "print(summary(factor(dane$Nowotwor)))"
   ]
  },
  {
   "cell_type": "code",
   "execution_count": 28,
   "id": "b27aca91",
   "metadata": {
    "colab": {
     "base_uri": "https://localhost:8080/",
     "height": 126
    },
    "id": "b27aca91",
    "outputId": "d1990790-c3f4-44e6-b49e-a9462f4e2dfd"
   },
   "outputs": [
    {
     "data": {
      "text/plain": [
       " [1] 22+ 53+ 38+ 26+ 19+ 36  33+ 38+ 38  37+ 47+ 40  30  16  44+ 27+ 36+ 19+ 41+\n",
       "[20] 18+ 41  29  47+ 47+ 53+ 33+ 30+ 39+ 38+ 47+ 44+ 48+ 33+ 36+ 43  53+ 38+ 33+\n",
       "[39] 41+ 54+ 51+ 23+ 42+ 42+ 45+ 51+ 42+ 36+ 38+ 28+ 27+ 31+ 47+ 33+ 42+ 38+ 34+\n",
       "[58] 21  34+ 36+ 26+ 36+ 39+ 39+ 49+ 28+ 19  29+ 46+ 33+ 45+ 39+ 43+ 49+ 41+ 27+\n",
       "[77] 33+ 33+ 36+ 50+ 52+ 10  49+ 30+ 30+ 42+ 47+ 48  35+ 48+ 43+ 50  30+ 36+ 29+\n",
       "[96] NA+ 46+"
      ]
     },
     "metadata": {},
     "output_type": "display_data"
    }
   ],
   "source": [
    "library(survival) #tam jest metoda Surv\n",
    "czasy = with(dane, Surv(Okres.bez.wznowy, Niepowodzenia == \"wznowa\"))\n",
    "czasy #część obserwacji  to tzw. obserwacje ocenzurowane"
   ]
  },
  {
   "cell_type": "markdown",
   "id": "2d0a1277",
   "metadata": {
    "id": "2d0a1277"
   },
   "source": [
    "Estymator Kaplana-Meiera (uwzględnia obserwacje cenzurowane)\n",
    "\n",
    "$\\bar{S(t)}=\\prod_{t_i  \\leq t} \\frac{n_i-d_i}{n_i}$\n",
    "\n",
    "- $n_i$ liczba osób, które dotrwały (dożyły) do danego momentu\n",
    "- $d_i$ liczba zdarzeń (śmierci) w danym momencie"
   ]
  },
  {
   "cell_type": "code",
   "execution_count": 29,
   "id": "dv3DEA0oaZtg",
   "metadata": {
    "colab": {
     "base_uri": "https://localhost:8080/",
     "height": 344
    },
    "id": "dv3DEA0oaZtg",
    "outputId": "eb89d3ba-6cce-407c-f8c9-15020c18bcbe"
   },
   "outputs": [
    {
     "data": {
      "text/plain": [
       "Call: survfit(formula = Surv(Okres.bez.wznowy, Niepowodzenia == \"wznowa\") ~ \n",
       "    1, data = dane)\n",
       "\n",
       "1 observation deleted due to missingness \n",
       " time n.risk n.event survival std.err lower 95% CI upper 95% CI\n",
       "   10     96       1    0.990  0.0104        0.969        1.000\n",
       "   16     95       1    0.979  0.0146        0.951        1.000\n",
       "   19     93       1    0.969  0.0178        0.934        1.000\n",
       "   21     90       1    0.958  0.0206        0.918        0.999\n",
       "   29     80       1    0.946  0.0236        0.901        0.993\n",
       "   30     77       1    0.934  0.0263        0.884        0.987\n",
       "   36     60       1    0.918  0.0301        0.861        0.979\n",
       "   38     51       1    0.900  0.0345        0.835        0.970\n",
       "   40     40       1    0.878  0.0403        0.802        0.960\n",
       "   41     39       1    0.855  0.0451        0.771        0.948\n",
       "   43     30       1    0.827  0.0518        0.731        0.935\n",
       "   48     15       1    0.771  0.0719        0.643        0.926\n",
       "   50      9       1    0.686  0.1030        0.511        0.921"
      ]
     },
     "metadata": {},
     "output_type": "display_data"
    }
   ],
   "source": [
    "model1 = survfit(Surv(Okres.bez.wznowy, Niepowodzenia == \"wznowa\")~1, data = dane) #estymator Kaplana-Meiera (oparty o metodę największej wiarygodnosci)\n",
    "summary(model1)"
   ]
  },
  {
   "cell_type": "code",
   "execution_count": 30,
   "id": "Mi5jBJGuTfqz",
   "metadata": {
    "colab": {
     "base_uri": "https://localhost:8080/",
     "height": 34
    },
    "id": "Mi5jBJGuTfqz",
    "outputId": "62cf4979-860f-4a51-96d8-72f65a42a7df"
   },
   "outputs": [
    {
     "data": {
      "text/html": [
       "0.685731595177065"
      ],
      "text/latex": [
       "0.685731595177065"
      ],
      "text/markdown": [
       "0.685731595177065"
      ],
      "text/plain": [
       "[1] 0.6857316"
      ]
     },
     "metadata": {},
     "output_type": "display_data"
    }
   ],
   "source": [
    "#przykladowo dla ostatnieniego wiersza\n",
    "nrisk = c(96,95,93,90,80,77,60,51,40,39,30,15,9)\n",
    "prod((nrisk - 1)/nrisk)"
   ]
  },
  {
   "cell_type": "code",
   "execution_count": 31,
   "id": "Eddexj5PTj8S",
   "metadata": {
    "colab": {
     "base_uri": "https://localhost:8080/",
     "height": 437
    },
    "id": "Eddexj5PTj8S",
    "outputId": "c01f4280-f57b-465e-8157-e994cd31561f"
   },
   "outputs": [
    {
     "data": {
      "image/png": "[encoded data removed]",
      "text/plain": [
       "plot without title"
      ]
     },
     "metadata": {
      "image/png": {
       "height": 420,
       "width": 420
      }
     },
     "output_type": "display_data"
    }
   ],
   "source": [
    "plot(model1)"
   ]
  },
  {
   "cell_type": "code",
   "execution_count": 36,
   "id": "kIFDPaorW2HZ",
   "metadata": {
    "colab": {
     "base_uri": "https://localhost:8080/",
     "height": 491
    },
    "id": "kIFDPaorW2HZ",
    "outputId": "77c0cdae-e97d-4d15-eadb-12931f3f2795"
   },
   "outputs": [
    {
     "name": "stderr",
     "output_type": "stream",
     "text": [
      "Warning message in .pvalue(fit, data = data, method = method, pval = pval, pval.coord = pval.coord, :\n",
      "“There are no survival curves to be compared. \n",
      " This is a null model.”\n"
     ]
    },
    {
     "data": {
      "image/png": "[encoded data removed]",
      "text/plain": [
       "plot without title"
      ]
     },
     "metadata": {
      "image/png": {
       "height": 420,
       "width": 420
      }
     },
     "output_type": "display_data"
    }
   ],
   "source": [
    "library(survminer)\n",
    "ggsurvplot(model1, data = dane, pval = TRUE)"
   ]
  },
  {
   "cell_type": "markdown",
   "id": "c01cb564",
   "metadata": {
    "id": "c01cb564"
   },
   "source": [
    "<h4> Pytanie: Jakie w tej populacji jest prawdopodobieństwo, że wznowa nastąpiła do 48 okresów?"
   ]
  },
  {
   "cell_type": "markdown",
   "id": "a590bce3",
   "metadata": {
    "id": "a590bce3"
   },
   "source": [
    "<h4> Pytanie: Zauważ, że $\\bar{S}$ jest funkcją nieujemną, nierosnącą i przyjmującą wartości z zakresu [0,1]. Kiedy $\\bar{S(t)} = 0$ ?"
   ]
  },
  {
   "cell_type": "code",
   "execution_count": 37,
   "id": "mqLoMMIHan9r",
   "metadata": {
    "colab": {
     "base_uri": "https://localhost:8080/",
     "height": 471
    },
    "id": "mqLoMMIHan9r",
    "outputId": "b1076703-ddf2-4fb7-d15b-ed320d5a0a23"
   },
   "outputs": [
    {
     "data": {
      "text/plain": [
       "Call: survfit(formula = Surv(Okres.bez.wznowy, Niepowodzenia == \"wznowa\") ~ \n",
       "    Nowotwor, data = dane)\n",
       "\n",
       "11 observations deleted due to missingness \n",
       "                Nowotwor=1 \n",
       "     time n.risk n.event survival std.err lower 95% CI upper 95% CI\n",
       "\n",
       "                Nowotwor=2 \n",
       " time n.risk n.event survival std.err lower 95% CI upper 95% CI\n",
       "   19     53       1    0.981  0.0187        0.945            1\n",
       "   29     46       1    0.960  0.0279        0.907            1\n",
       "   30     43       1    0.937  0.0351        0.871            1\n",
       "   48      9       1    0.833  0.1030        0.654            1\n",
       "\n",
       "                Nowotwor=3 \n",
       " time n.risk n.event survival std.err lower 95% CI upper 95% CI\n",
       "   10     26       1    0.962  0.0377       0.8904        1.000\n",
       "   16     25       1    0.923  0.0523       0.8261        1.000\n",
       "   21     23       1    0.883  0.0636       0.7668        1.000\n",
       "   36     18       1    0.834  0.0767       0.6964        0.999\n",
       "   38     15       1    0.778  0.0895       0.6213        0.975\n",
       "   40      9       1    0.692  0.1139       0.5010        0.955\n",
       "   41      8       1    0.605  0.1284       0.3995        0.917\n",
       "   43      7       1    0.519  0.1361       0.3103        0.867\n",
       "   50      2       1    0.259  0.1957       0.0592        1.000\n"
      ]
     },
     "metadata": {},
     "output_type": "display_data"
    }
   ],
   "source": [
    "model2 = survfit(Surv(Okres.bez.wznowy, Niepowodzenia == \"wznowa\")~Nowotwor, data = dane)\n",
    "summary(model2)"
   ]
  },
  {
   "cell_type": "code",
   "execution_count": 38,
   "id": "6be0488a",
   "metadata": {
    "colab": {
     "base_uri": "https://localhost:8080/",
     "height": 437
    },
    "id": "6be0488a",
    "outputId": "20f01485-7b21-4a46-ae28-c670679ceb95"
   },
   "outputs": [
    {
     "data": {
      "image/png": "[encoded data removed]",
      "text/plain": [
       "plot without title"
      ]
     },
     "metadata": {
      "image/png": {
       "height": 420,
       "width": 600
      }
     },
     "output_type": "display_data"
    }
   ],
   "source": [
    "options(repr.plot.width=10, repr.plot.height=7)\n",
    "plot(model2, col=1:3, xlab=\"wiek\", ylab=\"S(t)\")\n",
    "legend(\"bottomleft\", legend=c(\"typ 1\",\"typ 2\",\"typ 3\"), col=1:3, lty=1, y.intersp=1.7)"
   ]
  },
  {
   "cell_type": "code",
   "execution_count": 39,
   "id": "C9XTafsRaLTR",
   "metadata": {
    "colab": {
     "base_uri": "https://localhost:8080/",
     "height": 235
    },
    "id": "C9XTafsRaLTR",
    "outputId": "714e3ccc-efd5-4c67-f4b1-da3a493370bb"
   },
   "outputs": [
    {
     "data": {
      "text/plain": [
       "Call:\n",
       "survdiff(formula = Surv(Okres.bez.wznowy, Niepowodzenia == \"wznowa\") ~ \n",
       "    Nowotwor, data = dane)\n",
       "\n",
       "n=86, 11 observations deleted due to missingness.\n",
       "\n",
       "            N Observed Expected (O-E)^2/E (O-E)^2/V\n",
       "Nowotwor=1  7        0    0.913     0.913     0.991\n",
       "Nowotwor=2 53        4    8.532     2.408     7.091\n",
       "Nowotwor=3 26        9    3.554     8.344    11.552\n",
       "\n",
       " Chisq= 11.7  on 2 degrees of freedom, p= 0.003 "
      ]
     },
     "metadata": {},
     "output_type": "display_data"
    }
   ],
   "source": [
    "survdiff(Surv(Okres.bez.wznowy, Niepowodzenia == \"wznowa\")~Nowotwor, data = dane) #test, wskazuje czy krzywa przezycia rozni sie istotnie dla roznych stopni zaawansowania nowotworu"
   ]
  },
  {
   "cell_type": "code",
   "execution_count": 40,
   "id": "uxYV0IXuZ3pY",
   "metadata": {
    "colab": {
     "base_uri": "https://localhost:8080/",
     "height": 437
    },
    "id": "uxYV0IXuZ3pY",
    "outputId": "edf730a6-7c80-4776-f953-0288e1020200"
   },
   "outputs": [
    {
     "data": {
      "image/png": "[encoded data removed]",
      "text/plain": [
       "plot without title"
      ]
     },
     "metadata": {
      "image/png": {
       "height": 420,
       "width": 600
      }
     },
     "output_type": "display_data"
    }
   ],
   "source": [
    "ggsurvplot(model2, data = dane, pval = TRUE)"
   ]
  },
  {
   "cell_type": "markdown",
   "id": "737c50b3",
   "metadata": {},
   "source": [
    "<h3> <center> Funkcja hazardu </center>"
   ]
  },
  {
   "cell_type": "markdown",
   "id": "f1c614bc",
   "metadata": {},
   "source": [
    "<h4> $h(t) = P(T=t|T \\geq t)$\n",
    "\n",
    "* Uwaga: Zachodzi następująca relacja pomiędzy funkcją hazardu a funkcją przeżycia $h(t) = -\\frac{d}{dt}\\ln S(t)$"
   ]
  },
  {
   "cell_type": "markdown",
   "id": "ee9fdc78",
   "metadata": {},
   "source": [
    "Ciekawostka:\n",
    "W Europie Zachodniej $S(100) > S(110)$ (oczywiste), ale $h(100) \\approx h(110)$. Czyli z jednej strony oczywiście prawdopodobieństwo przeżycia 100 lat jest większe niż 110 lat, ale już ryzyko śmierci dla osób w wieku 100 i 110 jest porównywalne."
   ]
  },
  {
   "cell_type": "markdown",
   "id": "739fef00",
   "metadata": {},
   "source": [
    "<h4> Zadanie1: Mając daną funkcję przeżycia wyznacz funkcję hazardu:\n",
    "    \n",
    "<br>\n",
    "\n",
    "a) $S(t) = e^{-0.2t}$\n",
    "\n",
    "b) $S(t) = e^{-0.05t^2}$\n",
    "\n",
    "Zastanów się nad interpretacją obydwu funkcji."
   ]
  },
  {
   "cell_type": "markdown",
   "id": "88c574b9",
   "metadata": {},
   "source": [
    "<h3> <center> Model Coxa (Model hazardu proporcjonalnego) </center>\n"
   ]
  },
  {
   "cell_type": "markdown",
   "id": "2ae4701d",
   "metadata": {
    "id": "2ae4701d"
   },
   "source": [
    "$h(t|X) = h_0(t)e^{X\\beta} $\n",
    "\n",
    "Zauważ, że z postaci modelu wynika, że $\\frac{h(t|X_1)}{h(t|X_2)} = \\frac{h_0(t)e^{X_1\\beta}}{h_0(t)e^{X_2\\beta}}=e^{(X_1-X_2)\\beta}$ (czyli nie zależy od czasu!)\n",
    "\n",
    "Załóżmy, że $X = (x_1,x_2,...,x_n)$ (wektor $X$ składa się z $n$ cech). Niech cecha $x_1$ wzrośnie o 1. Jak wtedy zmieni się funkcja hazardu?\n",
    "\n",
    "$\\frac{h(t|(x_1+1,x_2,...,x_n))}{h(t|(x_1,x_2,...,x_n))} = e^{(x_1+1)\\beta_1+x_2 \\beta_2 +... - x_1 \\beta_1 - x_2 \\beta_2 ...} = e^{\\beta_1}$\n",
    "\n",
    "Analogicznie dla pozostałych zmiennych. Wartość tę nazywamy hazardem względnym (HR = hazard ratio).\n"
   ]
  },
  {
   "cell_type": "markdown",
   "id": "ec2435bc",
   "metadata": {},
   "source": [
    "* Przykład"
   ]
  },
  {
   "cell_type": "code",
   "execution_count": 41,
   "id": "3a215cef",
   "metadata": {
    "colab": {
     "base_uri": "https://localhost:8080/",
     "height": 398
    },
    "id": "3a215cef",
    "outputId": "e251b0cb-b74a-4984-f506-bb52e37f1be2",
    "scrolled": true
   },
   "outputs": [
    {
     "data": {
      "text/plain": [
       "Call:\n",
       "coxph(formula = Surv(Okres.bez.wznowy, Niepowodzenia == \"wznowa\") ~ \n",
       "    Nowotwor + Wiek, data = dane)\n",
       "\n",
       "  n= 86, number of events= 13 \n",
       "   (11 observations deleted due to missingness)\n",
       "\n",
       "             coef exp(coef) se(coef)      z Pr(>|z|)   \n",
       "Nowotwor  1.75372   5.77607  0.59566  2.944  0.00324 **\n",
       "Wiek     -0.05632   0.94524  0.04340 -1.297  0.19447   \n",
       "---\n",
       "Signif. codes:  0 ‘***’ 0.001 ‘**’ 0.01 ‘*’ 0.05 ‘.’ 0.1 ‘ ’ 1\n",
       "\n",
       "         exp(coef) exp(-coef) lower .95 upper .95\n",
       "Nowotwor    5.7761     0.1731    1.7973    18.563\n",
       "Wiek        0.9452     1.0579    0.8682     1.029\n",
       "\n",
       "Concordance= 0.747  (se = 0.073 )\n",
       "Likelihood ratio test= 12.17  on 2 df,   p=0.002\n",
       "Wald test            = 10  on 2 df,   p=0.007\n",
       "Score (logrank) test = 11.62  on 2 df,   p=0.003\n"
      ]
     },
     "metadata": {},
     "output_type": "display_data"
    }
   ],
   "source": [
    "model = coxph(Surv(Okres.bez.wznowy, o)~Nowotwor+Wiek, data = dane) #concordance opisuje jakosc modelu, 1 - idealnie, 0.6-0.7 ok, 0.5 - losowy; bazowy hazard basehaz(model)\n",
    "summary(model)"
   ]
  },
  {
   "cell_type": "markdown",
   "id": "8d121172",
   "metadata": {
    "id": "8d121172"
   },
   "source": [
    "<h4> Pytanie: Odczytaj hazardy względne dla zmiennych Nowotwor oraz Wiek. Zinterpretuj ich wartości."
   ]
  },
  {
   "cell_type": "markdown",
   "id": "a527da38",
   "metadata": {
    "id": "a527da38"
   },
   "source": [
    "<h4> Pytanie: Zauważ, że w powyższym modelu nie jest estymowany wyraz wolny. Dlaczego możemy z niego zrezygnować?"
   ]
  },
  {
   "cell_type": "code",
   "execution_count": 44,
   "id": "0bc2da37",
   "metadata": {
    "colab": {
     "base_uri": "https://localhost:8080/"
    },
    "id": "0bc2da37",
    "outputId": "4b85b2a7-565c-4933-8f8c-963ebd93a786"
   },
   "outputs": [
    {
     "name": "stdout",
     "output_type": "stream",
     "text": [
      "Analysis of Deviance Table\n",
      " Cox model: response is Surv(Okres.bez.wznowy, Niepowodzenia == \"wznowa\")\n",
      "Terms added sequentially (first to last)\n",
      "\n",
      "          loglik   Chisq Df Pr(>|Chi|)   \n",
      "NULL     -49.414                         \n",
      "Nowotwor -44.129 10.5700  1   0.001149 **\n",
      "Wiek     -43.331  1.5956  1   0.206534   \n",
      "---\n",
      "Signif. codes:  0 ‘***’ 0.001 ‘**’ 0.01 ‘*’ 0.05 ‘.’ 0.1 ‘ ’ 1\n"
     ]
    }
   ],
   "source": [
    "print(anova(model))"
   ]
  },
  {
   "cell_type": "code",
   "execution_count": 45,
   "id": "e21eb128",
   "metadata": {
    "colab": {
     "base_uri": "https://localhost:8080/",
     "height": 857
    },
    "id": "e21eb128",
    "outputId": "dd48c66c-c9fe-45b9-9dda-f5513c1f8ea5"
   },
   "outputs": [
    {
     "data": {
      "image/png": "[encoded data removed]",
      "text/plain": [
       "plot without title"
      ]
     },
     "metadata": {
      "image/png": {
       "height": 420,
       "width": 600
      }
     },
     "output_type": "display_data"
    },
    {
     "data": {
      "image/png": "[encoded data removed]",
      "text/plain": [
       "plot without title"
      ]
     },
     "metadata": {
      "image/png": {
       "height": 420,
       "width": 600
      }
     },
     "output_type": "display_data"
    }
   ],
   "source": [
    "plot(cox.zph(model)) #wizualna ocena założeń: nachylenie powinno byc bliskie zera (staly poziom w czasie)"
   ]
  },
  {
   "cell_type": "markdown",
   "id": "l5_-s8lWlmdf",
   "metadata": {
    "id": "l5_-s8lWlmdf"
   },
   "source": [
    "<h4> Zadanie2: Przebadano 100 pacjentów w 65. roku życia, u których nie wystąpiła jeszcze choroba Alzheimera.\n",
    "\n",
    "- W kolumnie cukrzyca znajduje się informacja czy dana osoba choruje na nią (1) bądź nie (0).\n",
    "- W kolumnie mmse przedstawiono wynik testu do oceny funkcji poznawczych.\n",
    "- Pierwsza kolumna (czas) opisuje długość trwania monitorowania wybranego pacjenta (w latach).\n",
    "- Kolumna status opisuje z kolei czy do danego okresu pojawiły się objawy choroby Alzheimera (1 lub 0).\n",
    "\n",
    "Celem jest zbudowanie modelu, który na podstawie informacji o obecności (bądź braku) cukrzycy i wyniku testu MMSE odpowie na pytanie w jakim stopniu te czynniki mogą mieć udział w pojawieniu się w następnej kolejności choroby Alzheimera. Zinterpretuj wyestymowane współczynniki. Zwróć uwagę na istotność statystyczną czynnika cukrzycy. Z czego może wynikać otrzymana wartość? Czy uzykany efekt może być istotny klinicznie?"
   ]
  },
  {
   "cell_type": "markdown",
   "id": "RHUz7EgNgqfu",
   "metadata": {
    "id": "RHUz7EgNgqfu"
   },
   "source": [
    "<h4> Zadanie3: Zbudowano model Coxa opisujący czas życia wirusa w zależności od powierzchni na której przebywa. Rozważano 3 typy powierzchni: plastik (A), karton (B) oraz miedź (C). Zbudowano model $h(t| pow) = h_0(t) \\cdot e^{\\beta_1 powB + \\beta_2 powC}$. Wiadomo, że w porównaniu do powierzchni plastikowej, na powierzchni kartonowej wirus żyje średnio 3 razy krócej, na miedzianej 20 razy krócej. Wyznacz współczynniki $\\beta_1$ oraz $\\beta_2$."
   ]
  },
  {
   "cell_type": "markdown",
   "id": "fa6a447c-57ef-4583-97f0-503280aa91cd",
   "metadata": {
    "id": "fa6a447c-57ef-4583-97f0-503280aa91cd"
   },
   "source": [
    "* Warto zajrzeć: https://zenodo.org/records/15122700 (informacje o przeżyciu, ekspresji genów i fenotypie pacjentów)"
   ]
  },
  {
   "cell_type": "markdown",
   "id": "2ff38155",
   "metadata": {},
   "source": [
    "<h4> Zagadnienia na test praktyczny: \n",
    "</h4>\n",
    "\n",
    "\n",
    "- Podstawowe miary statystyczne - średnia, mediana, kwantyl, dominantna, odchylenie, kurtoza, skośność.\n",
    "- Pojęcie zmiennej losowej i jej charakterystyk - wartości oczekiwanej, wariancji, odchylenia, kurtozy, skośności.\n",
    "- Pojęcia gęstości prawdopodobieństwa i dystrybuanty oraz ich interpretacja.\n",
    "- Znajomość podstawowych rozkładów (w szczególności: jednostajny, normalny, wykładniczy, Poissona, dwupunktowy, geometryczny).\n",
    "- Metody estymacji parametrów rozkładu (metoda momentów, metoda największej wiarygodności).\n",
    "- Prawa wielkich liczb, centralne twierdzenie graniczne.\n",
    "- Znajomość schematu testów statystycznych (H0, H1), p_value - co oznacza, jak liczymy i jak interpretować. Co znaczy, że dany współczynnik jest istotny statystycznie. Interpretacja zbudowanego modelu - statystyczna (opisowa) oraz przyczynowa (kauzalna)\n",
    "- Wybrane testy statystyczne (w szczególności: shapiro, t-test, prop.test, chisq, ANOVA).\n",
    "- Regresja liniowa jednej i wielu zmiennych (w tym budowa modelu, diagnostyka, ocena jakości, predykcja, wyznaczanie wartości odstających/wpływowych). Model addytywny vs model z interakcją.\n",
    "- Porównywanie modeli (F test (polecenie anova), AIC).\n",
    "- Nieliniowe transformacje danych (potęgowe, logarytmiczne; w szczególności Box-Cox).\n",
    "- Zmienne numeryczne a kategoryczne (specyfika budowy modeli w obu przypadkach).\n",
    "- Uogólnione modele liniowe (regresja logistyczna i poissonowska)\n",
    "- Znajomość pojęć: dokładność, czułość, specyficzność.\n",
    "- Analiza przeżycia. Czym jest funkcja przeżycia i funkcja hazardu? Jaka zachodzi między nimi relacja. Estymator Kaplana-Meiera. Model Coxa.\n",
    "\n",
    "Zagadnienia uzupełniające (tego nie będzie bezpośrednio na teście)\n",
    "- testy nieparametryczne (Wilcoxona, Kruskala-Wallisa)\n",
    "- krzywa ROC\n",
    "- regresja z rozkładem ujemnym dwumianowym\n",
    "\n",
    "Język R jest dla nas narzędziem do realizacji analizy statystycznej. Test nie będzie zatem bezpośrendnio koncentrował się na składni R, jednak należy znać podstawowe funkcje jak np. pnorm, qnorm, rnorm, dnorm, t.test, shapiro.test, anova, lm, glm, survfit, coxph itd. jak i interpretować ich wyniki."
   ]
  }
 ],
 "metadata": {
  "colab": {
   "provenance": []
  },
  "kernelspec": {
   "display_name": "R",
   "language": "R",
   "name": "ir"
  },
  "language_info": {
   "codemirror_mode": "r",
   "file_extension": ".r",
   "mimetype": "text/x-r-source",
   "name": "R",
   "pygments_lexer": "r",
   "version": "4.3.3"
  }
 },
 "nbformat": 4,
 "nbformat_minor": 5
}
