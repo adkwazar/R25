{
 "cells": [
  {
   "cell_type": "markdown",
   "id": "718b6655",
   "metadata": {
    "id": "718b6655"
   },
   "source": [
    "<h3> Uogólnione modele liniowe (GLM)"
   ]
  },
  {
   "cell_type": "markdown",
   "id": "89305e2c",
   "metadata": {
    "id": "89305e2c"
   },
   "source": [
    "W tradycyjnej regresji liniowej\n",
    "\n",
    "$Y = a_nX_n+...+a_1X_1+a_0+\\epsilon$, gdzie $\\epsilon \\sim N(0, \\sigma)$\n",
    "\n",
    "albo inaczej\n",
    "\n",
    "$Y|X \\sim N(\\mu, \\sigma)$, gdzie $\\mu = a_nX_n+...+a_1X_1+a_0$\n"
   ]
  },
  {
   "cell_type": "markdown",
   "id": "b064e53d",
   "metadata": {
    "id": "b064e53d"
   },
   "source": [
    "GLM =  Generalized Linear Models (Uogólnione modele liniowe)\n",
    "\n",
    "\n",
    "\n",
    "<div align=\"center\">\n",
    "$Y|X \\sim F(\\theta)$\n",
    "</div>\n",
    "<div align=\"center\">\n",
    "$h(\\mu) = X \\beta$\n",
    "</div>\n",
    "\n",
    ", gdzie $h$ to tzw. funkcja wiążąca"
   ]
  },
  {
   "cell_type": "markdown",
   "id": "6935a240",
   "metadata": {
    "id": "6935a240"
   },
   "source": [
    "<h3> Regresja logistyczna"
   ]
  },
  {
   "cell_type": "markdown",
   "id": "593f93de",
   "metadata": {
    "id": "593f93de"
   },
   "source": [
    "<div align=\"center\">\n",
    "$Y|X \\sim B(1,p)$\n",
    "    </div>\n",
    "    \n",
    "<div align=\"center\">\n",
    "$\\ln(\\frac{p}{1-p}) = X\\beta$\n",
    "\n",
    "</div>\n",
    "\n",
    "\n",
    "lub inaczej\n",
    "\n",
    "\n",
    "<div align=\"center\">\n",
    "$p = \\frac{1}{1+e^{-X\\beta}}$\n",
    "\n",
    "</div>"
   ]
  },
  {
   "cell_type": "markdown",
   "id": "172c0a40",
   "metadata": {},
   "source": [
    "- Przewidujemy prawdopodobieństwo wystąpienia jednej z kategorii na podstawie zmiennych objaśniających."
   ]
  },
  {
   "cell_type": "markdown",
   "id": "d9eb120e",
   "metadata": {
    "id": "d9eb120e"
   },
   "source": [
    "<h4> Przykład1"
   ]
  },
  {
   "cell_type": "code",
   "execution_count": 1,
   "id": "6f407831",
   "metadata": {
    "colab": {
     "base_uri": "https://localhost:8080/",
     "height": 286
    },
    "id": "6f407831",
    "outputId": "628b56a8-9f1f-463d-99e1-0e2fe19ec0f1"
   },
   "outputs": [
    {
     "data": {
      "text/html": [
       "<table class=\"dataframe\">\n",
       "<caption>A data.frame: 6 × 9</caption>\n",
       "<thead>\n",
       "\t<tr><th></th><th scope=col>Wiek</th><th scope=col>Rozmiar.guza</th><th scope=col>Wezly.chlonne</th><th scope=col>Nowotwor</th><th scope=col>Receptory.estrogenowe</th><th scope=col>Receptory.progesteronowe</th><th scope=col>Niepowodzenia</th><th scope=col>Okres.bez.wznowy</th><th scope=col>VEGF</th></tr>\n",
       "\t<tr><th></th><th scope=col>&lt;int&gt;</th><th scope=col>&lt;int&gt;</th><th scope=col>&lt;int&gt;</th><th scope=col>&lt;int&gt;</th><th scope=col>&lt;chr&gt;</th><th scope=col>&lt;chr&gt;</th><th scope=col>&lt;chr&gt;</th><th scope=col>&lt;int&gt;</th><th scope=col>&lt;int&gt;</th></tr>\n",
       "</thead>\n",
       "<tbody>\n",
       "\t<tr><th scope=row>1</th><td>29</td><td>1</td><td>0</td><td> 2</td><td>(-) </td><td>(++)</td><td>brak  </td><td>22</td><td> 914</td></tr>\n",
       "\t<tr><th scope=row>2</th><td>29</td><td>1</td><td>0</td><td> 2</td><td>(++)</td><td>(++)</td><td>brak  </td><td>53</td><td>1118</td></tr>\n",
       "\t<tr><th scope=row>3</th><td>30</td><td>1</td><td>1</td><td> 2</td><td>(-) </td><td>(+) </td><td>brak  </td><td>38</td><td> 630</td></tr>\n",
       "\t<tr><th scope=row>4</th><td>32</td><td>1</td><td>0</td><td> 3</td><td>(++)</td><td>(++)</td><td>brak  </td><td>26</td><td>1793</td></tr>\n",
       "\t<tr><th scope=row>5</th><td>32</td><td>2</td><td>0</td><td>NA</td><td>(-) </td><td>(++)</td><td>brak  </td><td>19</td><td> 963</td></tr>\n",
       "\t<tr><th scope=row>6</th><td>33</td><td>1</td><td>1</td><td> 3</td><td>(-) </td><td>(++)</td><td>wznowa</td><td>36</td><td>2776</td></tr>\n",
       "</tbody>\n",
       "</table>\n"
      ],
      "text/latex": [
       "A data.frame: 6 × 9\n",
       "\\begin{tabular}{r|lllllllll}\n",
       "  & Wiek & Rozmiar.guza & Wezly.chlonne & Nowotwor & Receptory.estrogenowe & Receptory.progesteronowe & Niepowodzenia & Okres.bez.wznowy & VEGF\\\\\n",
       "  & <int> & <int> & <int> & <int> & <chr> & <chr> & <chr> & <int> & <int>\\\\\n",
       "\\hline\n",
       "\t1 & 29 & 1 & 0 &  2 & (-)  & (++) & brak   & 22 &  914\\\\\n",
       "\t2 & 29 & 1 & 0 &  2 & (++) & (++) & brak   & 53 & 1118\\\\\n",
       "\t3 & 30 & 1 & 1 &  2 & (-)  & (+)  & brak   & 38 &  630\\\\\n",
       "\t4 & 32 & 1 & 0 &  3 & (++) & (++) & brak   & 26 & 1793\\\\\n",
       "\t5 & 32 & 2 & 0 & NA & (-)  & (++) & brak   & 19 &  963\\\\\n",
       "\t6 & 33 & 1 & 1 &  3 & (-)  & (++) & wznowa & 36 & 2776\\\\\n",
       "\\end{tabular}\n"
      ],
      "text/markdown": [
       "\n",
       "A data.frame: 6 × 9\n",
       "\n",
       "| <!--/--> | Wiek &lt;int&gt; | Rozmiar.guza &lt;int&gt; | Wezly.chlonne &lt;int&gt; | Nowotwor &lt;int&gt; | Receptory.estrogenowe &lt;chr&gt; | Receptory.progesteronowe &lt;chr&gt; | Niepowodzenia &lt;chr&gt; | Okres.bez.wznowy &lt;int&gt; | VEGF &lt;int&gt; |\n",
       "|---|---|---|---|---|---|---|---|---|---|\n",
       "| 1 | 29 | 1 | 0 |  2 | (-)  | (++) | brak   | 22 |  914 |\n",
       "| 2 | 29 | 1 | 0 |  2 | (++) | (++) | brak   | 53 | 1118 |\n",
       "| 3 | 30 | 1 | 1 |  2 | (-)  | (+)  | brak   | 38 |  630 |\n",
       "| 4 | 32 | 1 | 0 |  3 | (++) | (++) | brak   | 26 | 1793 |\n",
       "| 5 | 32 | 2 | 0 | NA | (-)  | (++) | brak   | 19 |  963 |\n",
       "| 6 | 33 | 1 | 1 |  3 | (-)  | (++) | wznowa | 36 | 2776 |\n",
       "\n"
      ],
      "text/plain": [
       "  Wiek Rozmiar.guza Wezly.chlonne Nowotwor Receptory.estrogenowe\n",
       "1 29   1            0              2       (-)                  \n",
       "2 29   1            0              2       (++)                 \n",
       "3 30   1            1              2       (-)                  \n",
       "4 32   1            0              3       (++)                 \n",
       "5 32   2            0             NA       (-)                  \n",
       "6 33   1            1              3       (-)                  \n",
       "  Receptory.progesteronowe Niepowodzenia Okres.bez.wznowy VEGF\n",
       "1 (++)                     brak          22                914\n",
       "2 (++)                     brak          53               1118\n",
       "3 (+)                      brak          38                630\n",
       "4 (++)                     brak          26               1793\n",
       "5 (++)                     brak          19                963\n",
       "6 (++)                     wznowa        36               2776"
      ]
     },
     "metadata": {},
     "output_type": "display_data"
    }
   ],
   "source": [
    "dane = read.table(\"http://www.biecek.pl/R/dane/dane0.csv\", sep = \";\", header = T)\n",
    "head(dane)"
   ]
  },
  {
   "cell_type": "code",
   "execution_count": 2,
   "id": "299ad384-a07f-4407-b82a-1e78fb5ff72f",
   "metadata": {
    "id": "299ad384-a07f-4407-b82a-1e78fb5ff72f"
   },
   "outputs": [],
   "source": [
    "dane$Niepowodzenia = factor(dane$Niepowodzenia)"
   ]
  },
  {
   "cell_type": "code",
   "execution_count": 3,
   "id": "a1869554-9c07-43d3-a855-4a38410acf84",
   "metadata": {
    "colab": {
     "base_uri": "https://localhost:8080/",
     "height": 453
    },
    "id": "a1869554-9c07-43d3-a855-4a38410acf84",
    "outputId": "f53a66ff-06b5-4298-82dc-7fdcddfada3a"
   },
   "outputs": [
    {
     "data": {
      "text/plain": [
       "      Wiek        Rozmiar.guza   Wezly.chlonne       Nowotwor    \n",
       " Min.   :29.00   Min.   :1.000   Min.   :0.0000   Min.   :1.000  \n",
       " 1st Qu.:42.00   1st Qu.:1.000   1st Qu.:0.0000   1st Qu.:2.000  \n",
       " Median :46.00   Median :1.000   Median :0.0000   Median :2.000  \n",
       " Mean   :45.52   Mean   :1.268   Mean   :0.4124   Mean   :2.221  \n",
       " 3rd Qu.:50.00   3rd Qu.:2.000   3rd Qu.:1.0000   3rd Qu.:3.000  \n",
       " Max.   :57.00   Max.   :2.000   Max.   :1.0000   Max.   :3.000  \n",
       "                                                  NA's   :11     \n",
       " Receptory.estrogenowe Receptory.progesteronowe Niepowodzenia Okres.bez.wznowy\n",
       " Length:97             Length:97                brak  :84     Min.   :10.00   \n",
       " Class :character      Class :character         wznowa:13     1st Qu.:30.75   \n",
       " Mode  :character      Mode  :character                       Median :38.00   \n",
       "                                                              Mean   :37.41   \n",
       "                                                              3rd Qu.:45.00   \n",
       "                                                              Max.   :54.00   \n",
       "                                                              NA's   :1       \n",
       "      VEGF      \n",
       " Min.   :  118  \n",
       " 1st Qu.:  629  \n",
       " Median : 1489  \n",
       " Mean   : 2627  \n",
       " 3rd Qu.: 3240  \n",
       " Max.   :22554  \n",
       "                "
      ]
     },
     "metadata": {},
     "output_type": "display_data"
    }
   ],
   "source": [
    "summary(dane)"
   ]
  },
  {
   "cell_type": "code",
   "execution_count": 4,
   "id": "5157a811",
   "metadata": {
    "colab": {
     "base_uri": "https://localhost:8080/",
     "height": 437
    },
    "id": "5157a811",
    "outputId": "769fd9c9-9789-4e48-e00b-7c6d1796444b"
   },
   "outputs": [
    {
     "data": {
      "image/png": "[encoded data removed]",
      "text/plain": [
       "plot without title"
      ]
     },
     "metadata": {
      "image/png": {
       "height": 420,
       "width": 420
      }
     },
     "output_type": "display_data"
    }
   ],
   "source": [
    "options(repr.plot.width=7, repr.plot.height=7)\n",
    "boxplot(dane$VEGF)"
   ]
  },
  {
   "cell_type": "code",
   "execution_count": 30,
   "id": "03cdad46",
   "metadata": {
    "colab": {
     "base_uri": "https://localhost:8080/",
     "height": 398
    },
    "id": "03cdad46",
    "outputId": "82eddf4a-1ee7-4994-8753-10bb1d02deb8"
   },
   "outputs": [
    {
     "data": {
      "text/plain": [
       "\n",
       "Call:\n",
       "glm(formula = Niepowodzenia ~ Nowotwor + log(VEGF), family = \"binomial\", \n",
       "    data = dane)\n",
       "\n",
       "Coefficients:\n",
       "            Estimate Std. Error z value Pr(>|z|)    \n",
       "(Intercept) -17.3914     4.3757  -3.975 7.05e-05 ***\n",
       "Nowotwor      2.2586     0.7657   2.950  0.00318 ** \n",
       "log(VEGF)     1.3293     0.4250   3.128  0.00176 ** \n",
       "---\n",
       "Signif. codes:  0 ‘***’ 0.001 ‘**’ 0.01 ‘*’ 0.05 ‘.’ 0.1 ‘ ’ 1\n",
       "\n",
       "(Dispersion parameter for binomial family taken to be 1)\n",
       "\n",
       "    Null deviance: 73.052  on 85  degrees of freedom\n",
       "Residual deviance: 47.152  on 83  degrees of freedom\n",
       "  (11 observations deleted due to missingness)\n",
       "AIC: 53.152\n",
       "\n",
       "Number of Fisher Scoring iterations: 6\n"
      ]
     },
     "metadata": {},
     "output_type": "display_data"
    }
   ],
   "source": [
    "model = glm(Niepowodzenia~Nowotwor+log(VEGF), dane, family = \"binomial\") #VEGF warto zlogarytmowac (patrz wyzej)\n",
    "summary(model)"
   ]
  },
  {
   "cell_type": "code",
   "execution_count": 6,
   "id": "2ea2d1c7",
   "metadata": {
    "colab": {
     "base_uri": "https://localhost:8080/",
     "height": 34
    },
    "id": "2ea2d1c7",
    "outputId": "b2099452-3adc-44f2-c7d7-d1b31c11e8f0"
   },
   "outputs": [
    {
     "data": {
      "text/html": [
       "<style>\n",
       ".dl-inline {width: auto; margin:0; padding: 0}\n",
       ".dl-inline>dt, .dl-inline>dd {float: none; width: auto; display: inline-block}\n",
       ".dl-inline>dt::after {content: \":\\0020\"; padding-right: .5ex}\n",
       ".dl-inline>dt:not(:first-of-type) {padding-left: .5ex}\n",
       "</style><dl class=dl-inline><dt>0</dt><dd>0.0975060723956273</dd><dt>1</dt><dd>0.45246590119919</dd></dl>\n"
      ],
      "text/latex": [
       "\\begin{description*}\n",
       "\\item[0] 0.0975060723956273\n",
       "\\item[1] 0.45246590119919\n",
       "\\end{description*}\n"
      ],
      "text/markdown": [
       "0\n",
       ":   0.09750607239562731\n",
       ":   0.45246590119919\n",
       "\n"
      ],
      "text/plain": [
       "         0          1 \n",
       "0.09750607 0.45246590 "
      ]
     },
     "metadata": {},
     "output_type": "display_data"
    }
   ],
   "source": [
    "tapply(model$fitted.values, model$y, mean)"
   ]
  },
  {
   "cell_type": "code",
   "execution_count": 9,
   "id": "1e6a412e",
   "metadata": {
    "colab": {
     "base_uri": "https://localhost:8080/",
     "height": 317
    },
    "id": "1e6a412e",
    "outputId": "6598d0ab-ca53-46eb-bcd1-d1c0396b6fc0"
   },
   "outputs": [
    {
     "data": {
      "image/png": "[encoded data removed]",
      "text/plain": [
       "plot without title"
      ]
     },
     "metadata": {
      "image/png": {
       "height": 300,
       "width": 600
      }
     },
     "output_type": "display_data"
    }
   ],
   "source": [
    "library(ggplot2)\n",
    "options(repr.plot.width=10, repr.plot.height=5)\n",
    "\n",
    "ggplot(data.frame(predicted_probability=model$fitted.values, category=model$y)) +\n",
    "    geom_boxplot(aes(x=as.factor(category), y=predicted_probability, color=as.factor(category)))\n"
   ]
  },
  {
   "cell_type": "markdown",
   "id": "3b4a4418",
   "metadata": {
    "id": "3b4a4418"
   },
   "source": [
    "Domyślnie przyjmujemy $y=1$ gdy wartość prawdopodobieńtwa przekroczy 0.5."
   ]
  },
  {
   "cell_type": "code",
   "execution_count": 11,
   "id": "8b58ee64",
   "metadata": {
    "colab": {
     "base_uri": "https://localhost:8080/",
     "height": 126
    },
    "id": "8b58ee64",
    "outputId": "f6bdb1b3-5c9b-40a5-9d8b-d8079d1dfd03"
   },
   "outputs": [
    {
     "data": {
      "text/plain": [
       "\n",
       "\n",
       "|   | FALSE| TRUE|\n",
       "|:--|-----:|----:|\n",
       "|0  |    71|    2|\n",
       "|1  |     7|    6|"
      ]
     },
     "metadata": {},
     "output_type": "display_data"
    }
   ],
   "source": [
    "knitr::kable(table(model$y, model$fitted.values>0.5)) #domyslnie pc = 0.5"
   ]
  },
  {
   "cell_type": "code",
   "execution_count": 12,
   "id": "c543cb74",
   "metadata": {
    "colab": {
     "base_uri": "https://localhost:8080/",
     "height": 34
    },
    "id": "c543cb74",
    "outputId": "7d5d31d4-d5d6-479a-ea82-f66603a75756"
   },
   "outputs": [
    {
     "data": {
      "text/html": [
       "0.895348837209302"
      ],
      "text/latex": [
       "0.895348837209302"
      ],
      "text/markdown": [
       "0.895348837209302"
      ],
      "text/plain": [
       "[1] 0.8953488"
      ]
     },
     "metadata": {},
     "output_type": "display_data"
    }
   ],
   "source": [
    "(71+6)/(71+2+7+6) #dokladnosc"
   ]
  },
  {
   "cell_type": "markdown",
   "id": "c62ff7db",
   "metadata": {
    "id": "c62ff7db"
   },
   "source": [
    "<h4> Pytanie: Sterując punktem odcięcia $p_c$ (rozważ 0, 0.5 oraz 0.99), sprawdź jak zmienia się czułość i specyficzność. Skomentuj otrzymane wyniki."
   ]
  },
  {
   "cell_type": "markdown",
   "id": "29443fad",
   "metadata": {
    "id": "29443fad"
   },
   "source": [
    "Dla przypomnienia, czułość to $\\frac{TP}{TP+FN}$ a specyficzność to $\\frac{TN}{TN+FP}$."
   ]
  },
  {
   "cell_type": "code",
   "execution_count": 17,
   "id": "6bd8f7c1",
   "metadata": {
    "colab": {
     "base_uri": "https://localhost:8080/",
     "height": 617
    },
    "id": "6bd8f7c1",
    "outputId": "4ed29b69-58c0-4ea5-92b6-13c13a7b1b33"
   },
   "outputs": [
    {
     "data": {
      "image/png": "[encoded data removed]",
      "text/plain": [
       "plot without title"
      ]
     },
     "metadata": {
      "image/png": {
       "height": 600,
       "width": 600
      }
     },
     "output_type": "display_data"
    }
   ],
   "source": [
    "library(ROCR)\n",
    "roc = prediction(model$fitted.values, model$y)\n",
    "roc = performance(roc, \"tpr\", \"fpr\") #tpr = true poisitive rate\n",
    "\n",
    "options(repr.plot.width=10, repr.plot.height=10)\n",
    "plot(roc, colorize=TRUE) #zaleznosc: czulosc vs 1-specyficznosc"
   ]
  },
  {
   "cell_type": "code",
   "execution_count": 18,
   "id": "008c628e",
   "metadata": {
    "colab": {
     "base_uri": "https://localhost:8080/",
     "height": 34
    },
    "id": "008c628e",
    "outputId": "61ec49f3-a553-4221-8646-db86e0554354"
   },
   "outputs": [
    {
     "data": {
      "text/html": [
       "<strong>1:</strong> 0.0216378277633874"
      ],
      "text/latex": [
       "\\textbf{1:} 0.0216378277633874"
      ],
      "text/markdown": [
       "**1:** 0.0216378277633874"
      ],
      "text/plain": [
       "         1 \n",
       "0.02163783 "
      ]
     },
     "metadata": {},
     "output_type": "display_data"
    }
   ],
   "source": [
    "predykcja = predict(model, newdata = data.frame(\"Nowotwor\" = c(2), \"VEGF\"=c(914)), type = \"response\")\n",
    "predykcja"
   ]
  },
  {
   "cell_type": "markdown",
   "id": "caff0cce",
   "metadata": {
    "id": "caff0cce"
   },
   "source": [
    "<h4> Pytanie: Wyjaśnij (poprzez bezpośrednie obliczenia, korzystając z wyników w summary(model)) uzyskaną powyżej wartość."
   ]
  },
  {
   "cell_type": "markdown",
   "id": "ae345c89",
   "metadata": {
    "id": "ae345c89"
   },
   "source": [
    "<h4> Przykład2"
   ]
  },
  {
   "cell_type": "code",
   "execution_count": 20,
   "id": "ffa27e23",
   "metadata": {
    "id": "ffa27e23"
   },
   "outputs": [],
   "source": [
    "white = read.csv(\"https://tinyurl.com/winedata1\", sep = \";\")\n",
    "red = read.csv(\"https://tinyurl.com/winedata2\", sep = \";\")"
   ]
  },
  {
   "cell_type": "code",
   "execution_count": 21,
   "id": "8eeb190e",
   "metadata": {
    "colab": {
     "base_uri": "https://localhost:8080/",
     "height": 286
    },
    "id": "8eeb190e",
    "outputId": "d8ceae77-f8d0-4e4a-ca6c-1110eddcf546"
   },
   "outputs": [
    {
     "data": {
      "text/html": [
       "<table class=\"dataframe\">\n",
       "<caption>A data.frame: 6 × 13</caption>\n",
       "<thead>\n",
       "\t<tr><th></th><th scope=col>fixed.acidity</th><th scope=col>volatile.acidity</th><th scope=col>citric.acid</th><th scope=col>residual.sugar</th><th scope=col>chlorides</th><th scope=col>free.sulfur.dioxide</th><th scope=col>total.sulfur.dioxide</th><th scope=col>density</th><th scope=col>pH</th><th scope=col>sulphates</th><th scope=col>alcohol</th><th scope=col>quality</th><th scope=col>type</th></tr>\n",
       "\t<tr><th></th><th scope=col>&lt;dbl&gt;</th><th scope=col>&lt;dbl&gt;</th><th scope=col>&lt;dbl&gt;</th><th scope=col>&lt;dbl&gt;</th><th scope=col>&lt;dbl&gt;</th><th scope=col>&lt;dbl&gt;</th><th scope=col>&lt;dbl&gt;</th><th scope=col>&lt;dbl&gt;</th><th scope=col>&lt;dbl&gt;</th><th scope=col>&lt;dbl&gt;</th><th scope=col>&lt;dbl&gt;</th><th scope=col>&lt;int&gt;</th><th scope=col>&lt;fct&gt;</th></tr>\n",
       "</thead>\n",
       "<tbody>\n",
       "\t<tr><th scope=row>1</th><td>7.0</td><td>0.27</td><td>0.36</td><td>20.7</td><td>0.045</td><td>45</td><td>170</td><td>1.0010</td><td>3.00</td><td>0.45</td><td> 8.8</td><td>6</td><td>white</td></tr>\n",
       "\t<tr><th scope=row>2</th><td>6.3</td><td>0.30</td><td>0.34</td><td> 1.6</td><td>0.049</td><td>14</td><td>132</td><td>0.9940</td><td>3.30</td><td>0.49</td><td> 9.5</td><td>6</td><td>white</td></tr>\n",
       "\t<tr><th scope=row>3</th><td>8.1</td><td>0.28</td><td>0.40</td><td> 6.9</td><td>0.050</td><td>30</td><td> 97</td><td>0.9951</td><td>3.26</td><td>0.44</td><td>10.1</td><td>6</td><td>white</td></tr>\n",
       "\t<tr><th scope=row>4</th><td>7.2</td><td>0.23</td><td>0.32</td><td> 8.5</td><td>0.058</td><td>47</td><td>186</td><td>0.9956</td><td>3.19</td><td>0.40</td><td> 9.9</td><td>6</td><td>white</td></tr>\n",
       "\t<tr><th scope=row>5</th><td>7.2</td><td>0.23</td><td>0.32</td><td> 8.5</td><td>0.058</td><td>47</td><td>186</td><td>0.9956</td><td>3.19</td><td>0.40</td><td> 9.9</td><td>6</td><td>white</td></tr>\n",
       "\t<tr><th scope=row>6</th><td>8.1</td><td>0.28</td><td>0.40</td><td> 6.9</td><td>0.050</td><td>30</td><td> 97</td><td>0.9951</td><td>3.26</td><td>0.44</td><td>10.1</td><td>6</td><td>white</td></tr>\n",
       "</tbody>\n",
       "</table>\n"
      ],
      "text/latex": [
       "A data.frame: 6 × 13\n",
       "\\begin{tabular}{r|lllllllllllll}\n",
       "  & fixed.acidity & volatile.acidity & citric.acid & residual.sugar & chlorides & free.sulfur.dioxide & total.sulfur.dioxide & density & pH & sulphates & alcohol & quality & type\\\\\n",
       "  & <dbl> & <dbl> & <dbl> & <dbl> & <dbl> & <dbl> & <dbl> & <dbl> & <dbl> & <dbl> & <dbl> & <int> & <fct>\\\\\n",
       "\\hline\n",
       "\t1 & 7.0 & 0.27 & 0.36 & 20.7 & 0.045 & 45 & 170 & 1.0010 & 3.00 & 0.45 &  8.8 & 6 & white\\\\\n",
       "\t2 & 6.3 & 0.30 & 0.34 &  1.6 & 0.049 & 14 & 132 & 0.9940 & 3.30 & 0.49 &  9.5 & 6 & white\\\\\n",
       "\t3 & 8.1 & 0.28 & 0.40 &  6.9 & 0.050 & 30 &  97 & 0.9951 & 3.26 & 0.44 & 10.1 & 6 & white\\\\\n",
       "\t4 & 7.2 & 0.23 & 0.32 &  8.5 & 0.058 & 47 & 186 & 0.9956 & 3.19 & 0.40 &  9.9 & 6 & white\\\\\n",
       "\t5 & 7.2 & 0.23 & 0.32 &  8.5 & 0.058 & 47 & 186 & 0.9956 & 3.19 & 0.40 &  9.9 & 6 & white\\\\\n",
       "\t6 & 8.1 & 0.28 & 0.40 &  6.9 & 0.050 & 30 &  97 & 0.9951 & 3.26 & 0.44 & 10.1 & 6 & white\\\\\n",
       "\\end{tabular}\n"
      ],
      "text/markdown": [
       "\n",
       "A data.frame: 6 × 13\n",
       "\n",
       "| <!--/--> | fixed.acidity &lt;dbl&gt; | volatile.acidity &lt;dbl&gt; | citric.acid &lt;dbl&gt; | residual.sugar &lt;dbl&gt; | chlorides &lt;dbl&gt; | free.sulfur.dioxide &lt;dbl&gt; | total.sulfur.dioxide &lt;dbl&gt; | density &lt;dbl&gt; | pH &lt;dbl&gt; | sulphates &lt;dbl&gt; | alcohol &lt;dbl&gt; | quality &lt;int&gt; | type &lt;fct&gt; |\n",
       "|---|---|---|---|---|---|---|---|---|---|---|---|---|---|\n",
       "| 1 | 7.0 | 0.27 | 0.36 | 20.7 | 0.045 | 45 | 170 | 1.0010 | 3.00 | 0.45 |  8.8 | 6 | white |\n",
       "| 2 | 6.3 | 0.30 | 0.34 |  1.6 | 0.049 | 14 | 132 | 0.9940 | 3.30 | 0.49 |  9.5 | 6 | white |\n",
       "| 3 | 8.1 | 0.28 | 0.40 |  6.9 | 0.050 | 30 |  97 | 0.9951 | 3.26 | 0.44 | 10.1 | 6 | white |\n",
       "| 4 | 7.2 | 0.23 | 0.32 |  8.5 | 0.058 | 47 | 186 | 0.9956 | 3.19 | 0.40 |  9.9 | 6 | white |\n",
       "| 5 | 7.2 | 0.23 | 0.32 |  8.5 | 0.058 | 47 | 186 | 0.9956 | 3.19 | 0.40 |  9.9 | 6 | white |\n",
       "| 6 | 8.1 | 0.28 | 0.40 |  6.9 | 0.050 | 30 |  97 | 0.9951 | 3.26 | 0.44 | 10.1 | 6 | white |\n",
       "\n"
      ],
      "text/plain": [
       "  fixed.acidity volatile.acidity citric.acid residual.sugar chlorides\n",
       "1 7.0           0.27             0.36        20.7           0.045    \n",
       "2 6.3           0.30             0.34         1.6           0.049    \n",
       "3 8.1           0.28             0.40         6.9           0.050    \n",
       "4 7.2           0.23             0.32         8.5           0.058    \n",
       "5 7.2           0.23             0.32         8.5           0.058    \n",
       "6 8.1           0.28             0.40         6.9           0.050    \n",
       "  free.sulfur.dioxide total.sulfur.dioxide density pH   sulphates alcohol\n",
       "1 45                  170                  1.0010  3.00 0.45       8.8   \n",
       "2 14                  132                  0.9940  3.30 0.49       9.5   \n",
       "3 30                   97                  0.9951  3.26 0.44      10.1   \n",
       "4 47                  186                  0.9956  3.19 0.40       9.9   \n",
       "5 47                  186                  0.9956  3.19 0.40       9.9   \n",
       "6 30                   97                  0.9951  3.26 0.44      10.1   \n",
       "  quality type \n",
       "1 6       white\n",
       "2 6       white\n",
       "3 6       white\n",
       "4 6       white\n",
       "5 6       white\n",
       "6 6       white"
      ]
     },
     "metadata": {},
     "output_type": "display_data"
    }
   ],
   "source": [
    "white$type = \"white\"\n",
    "red$type = \"red\"\n",
    "\n",
    "wine = rbind(white, red)\n",
    "wine$type = factor(wine$type)\n",
    "\n",
    "head(wine)"
   ]
  },
  {
   "cell_type": "code",
   "execution_count": 22,
   "id": "193066d1",
   "metadata": {
    "colab": {
     "base_uri": "https://localhost:8080/",
     "height": 398
    },
    "id": "193066d1",
    "outputId": "5d86b65a-9389-4a68-ffce-d3c3c08d62ff"
   },
   "outputs": [
    {
     "data": {
      "text/plain": [
       " fixed.acidity    volatile.acidity  citric.acid     residual.sugar  \n",
       " Min.   : 3.800   Min.   :0.0800   Min.   :0.0000   Min.   : 0.600  \n",
       " 1st Qu.: 6.400   1st Qu.:0.2300   1st Qu.:0.2500   1st Qu.: 1.800  \n",
       " Median : 7.000   Median :0.2900   Median :0.3100   Median : 3.000  \n",
       " Mean   : 7.215   Mean   :0.3397   Mean   :0.3186   Mean   : 5.443  \n",
       " 3rd Qu.: 7.700   3rd Qu.:0.4000   3rd Qu.:0.3900   3rd Qu.: 8.100  \n",
       " Max.   :15.900   Max.   :1.5800   Max.   :1.6600   Max.   :65.800  \n",
       "   chlorides       free.sulfur.dioxide total.sulfur.dioxide    density      \n",
       " Min.   :0.00900   Min.   :  1.00      Min.   :  6.0        Min.   :0.9871  \n",
       " 1st Qu.:0.03800   1st Qu.: 17.00      1st Qu.: 77.0        1st Qu.:0.9923  \n",
       " Median :0.04700   Median : 29.00      Median :118.0        Median :0.9949  \n",
       " Mean   :0.05603   Mean   : 30.53      Mean   :115.7        Mean   :0.9947  \n",
       " 3rd Qu.:0.06500   3rd Qu.: 41.00      3rd Qu.:156.0        3rd Qu.:0.9970  \n",
       " Max.   :0.61100   Max.   :289.00      Max.   :440.0        Max.   :1.0390  \n",
       "       pH          sulphates         alcohol         quality         type     \n",
       " Min.   :2.720   Min.   :0.2200   Min.   : 8.00   Min.   :3.000   red  :1599  \n",
       " 1st Qu.:3.110   1st Qu.:0.4300   1st Qu.: 9.50   1st Qu.:5.000   white:4898  \n",
       " Median :3.210   Median :0.5100   Median :10.30   Median :6.000               \n",
       " Mean   :3.219   Mean   :0.5313   Mean   :10.49   Mean   :5.818               \n",
       " 3rd Qu.:3.320   3rd Qu.:0.6000   3rd Qu.:11.30   3rd Qu.:6.000               \n",
       " Max.   :4.010   Max.   :2.0000   Max.   :14.90   Max.   :9.000               "
      ]
     },
     "metadata": {},
     "output_type": "display_data"
    }
   ],
   "source": [
    "summary(wine)"
   ]
  },
  {
   "cell_type": "code",
   "execution_count": 23,
   "id": "ecad51c7",
   "metadata": {
    "colab": {
     "base_uri": "https://localhost:8080/",
     "height": 362
    },
    "id": "ecad51c7",
    "outputId": "da7cb861-5770-4742-a6a2-38c4cf5a66b8"
   },
   "outputs": [
    {
     "data": {
      "text/plain": [
       "\n",
       "Call:\n",
       "glm(formula = type ~ pH + alcohol, family = \"binomial\", data = wine)\n",
       "\n",
       "Coefficients:\n",
       "            Estimate Std. Error z value Pr(>|z|)    \n",
       "(Intercept) 16.39466    0.69282   23.66  < 2e-16 ***\n",
       "pH          -5.25833    0.20858  -25.21  < 2e-16 ***\n",
       "alcohol      0.17211    0.02723    6.32 2.61e-10 ***\n",
       "---\n",
       "Signif. codes:  0 ‘***’ 0.001 ‘**’ 0.01 ‘*’ 0.05 ‘.’ 0.1 ‘ ’ 1\n",
       "\n",
       "(Dispersion parameter for binomial family taken to be 1)\n",
       "\n",
       "    Null deviance: 7251.0  on 6496  degrees of freedom\n",
       "Residual deviance: 6493.3  on 6494  degrees of freedom\n",
       "AIC: 6499.3\n",
       "\n",
       "Number of Fisher Scoring iterations: 4\n"
      ]
     },
     "metadata": {},
     "output_type": "display_data"
    }
   ],
   "source": [
    "m = glm(type ~ pH + alcohol, data = wine, family = \"binomial\")\n",
    "summary(m)"
   ]
  },
  {
   "cell_type": "code",
   "execution_count": 24,
   "id": "e8aed23b",
   "metadata": {
    "colab": {
     "base_uri": "https://localhost:8080/",
     "height": 34
    },
    "id": "e8aed23b",
    "outputId": "1f6c3cf7-a3ab-4887-95c8-05d2e3bc8531"
   },
   "outputs": [
    {
     "data": {
      "text/html": [
       "<style>\n",
       ".list-inline {list-style: none; margin:0; padding: 0}\n",
       ".list-inline>li {display: inline-block}\n",
       ".list-inline>li:not(:last-child)::after {content: \"\\00b7\"; padding: 0 .5ex}\n",
       "</style>\n",
       "<ol class=list-inline><li>'red'</li><li>'white'</li></ol>\n"
      ],
      "text/latex": [
       "\\begin{enumerate*}\n",
       "\\item 'red'\n",
       "\\item 'white'\n",
       "\\end{enumerate*}\n"
      ],
      "text/markdown": [
       "1. 'red'\n",
       "2. 'white'\n",
       "\n",
       "\n"
      ],
      "text/plain": [
       "[1] \"red\"   \"white\""
      ]
     },
     "metadata": {},
     "output_type": "display_data"
    }
   ],
   "source": [
    "levels(wine$type) #biale jest w drugiej klasie"
   ]
  },
  {
   "cell_type": "code",
   "execution_count": 25,
   "id": "6aa9ec68",
   "metadata": {
    "colab": {
     "base_uri": "https://localhost:8080/",
     "height": 197
    },
    "id": "6aa9ec68",
    "outputId": "c99f3cf7-4442-4003-a76c-7966281f3c0a"
   },
   "outputs": [
    {
     "name": "stderr",
     "output_type": "stream",
     "text": [
      "Waiting for profiling to be done...\n",
      "\n"
     ]
    },
    {
     "data": {
      "text/html": [
       "<table class=\"dataframe\">\n",
       "<caption>A matrix: 3 × 2 of type dbl</caption>\n",
       "<thead>\n",
       "\t<tr><th></th><th scope=col>2.5 %</th><th scope=col>97.5 %</th></tr>\n",
       "</thead>\n",
       "<tbody>\n",
       "\t<tr><th scope=row>(Intercept)</th><td>15.0471103</td><td>17.7633691</td></tr>\n",
       "\t<tr><th scope=row>pH</th><td>-5.6705511</td><td>-4.8527787</td></tr>\n",
       "\t<tr><th scope=row>alcohol</th><td> 0.1189972</td><td> 0.2257619</td></tr>\n",
       "</tbody>\n",
       "</table>\n"
      ],
      "text/latex": [
       "A matrix: 3 × 2 of type dbl\n",
       "\\begin{tabular}{r|ll}\n",
       "  & 2.5 \\% & 97.5 \\%\\\\\n",
       "\\hline\n",
       "\t(Intercept) & 15.0471103 & 17.7633691\\\\\n",
       "\tpH & -5.6705511 & -4.8527787\\\\\n",
       "\talcohol &  0.1189972 &  0.2257619\\\\\n",
       "\\end{tabular}\n"
      ],
      "text/markdown": [
       "\n",
       "A matrix: 3 × 2 of type dbl\n",
       "\n",
       "| <!--/--> | 2.5 % | 97.5 % |\n",
       "|---|---|---|\n",
       "| (Intercept) | 15.0471103 | 17.7633691 |\n",
       "| pH | -5.6705511 | -4.8527787 |\n",
       "| alcohol |  0.1189972 |  0.2257619 |\n",
       "\n"
      ],
      "text/plain": [
       "            2.5 %      97.5 %    \n",
       "(Intercept) 15.0471103 17.7633691\n",
       "pH          -5.6705511 -4.8527787\n",
       "alcohol      0.1189972  0.2257619"
      ]
     },
     "metadata": {},
     "output_type": "display_data"
    }
   ],
   "source": [
    "confint(m) #standardowa metoda z lm do oszacowania przedzialow ufnosci na parametry"
   ]
  },
  {
   "cell_type": "code",
   "execution_count": 29,
   "id": "3aebb7e6",
   "metadata": {
    "colab": {
     "base_uri": "https://localhost:8080/",
     "height": 228
    },
    "id": "3aebb7e6",
    "outputId": "5ea3f267-c722-46aa-be02-3a2c0783d63d"
   },
   "outputs": [
    {
     "name": "stderr",
     "output_type": "stream",
     "text": [
      "Loading required namespace: boot\n",
      "\n"
     ]
    },
    {
     "data": {
      "text/html": [
       "<table class=\"dataframe\">\n",
       "<caption>A data.frame: 3 × 4</caption>\n",
       "<thead>\n",
       "\t<tr><th></th><th scope=col>Estimate</th><th scope=col>Lower.bound</th><th scope=col>Upper.bound</th><th scope=col>p.value</th></tr>\n",
       "\t<tr><th></th><th scope=col>&lt;dbl&gt;</th><th scope=col>&lt;dbl&gt;</th><th scope=col>&lt;dbl&gt;</th><th scope=col>&lt;chr&gt;</th></tr>\n",
       "</thead>\n",
       "<tbody>\n",
       "\t<tr><th scope=row>(Intercept)</th><td>16.3946592</td><td>15.0691561</td><td>17.8063819</td><td>&lt;0.001</td></tr>\n",
       "\t<tr><th scope=row>pH</th><td>-5.2583338</td><td>-5.6990448</td><td>-4.8484778</td><td>&lt;0.001</td></tr>\n",
       "\t<tr><th scope=row>alcohol</th><td> 0.1721121</td><td> 0.1189408</td><td> 0.2272615</td><td>&lt;0.001</td></tr>\n",
       "</tbody>\n",
       "</table>\n"
      ],
      "text/latex": [
       "A data.frame: 3 × 4\n",
       "\\begin{tabular}{r|llll}\n",
       "  & Estimate & Lower.bound & Upper.bound & p.value\\\\\n",
       "  & <dbl> & <dbl> & <dbl> & <chr>\\\\\n",
       "\\hline\n",
       "\t(Intercept) & 16.3946592 & 15.0691561 & 17.8063819 & <0.001\\\\\n",
       "\tpH & -5.2583338 & -5.6990448 & -4.8484778 & <0.001\\\\\n",
       "\talcohol &  0.1721121 &  0.1189408 &  0.2272615 & <0.001\\\\\n",
       "\\end{tabular}\n"
      ],
      "text/markdown": [
       "\n",
       "A data.frame: 3 × 4\n",
       "\n",
       "| <!--/--> | Estimate &lt;dbl&gt; | Lower.bound &lt;dbl&gt; | Upper.bound &lt;dbl&gt; | p.value &lt;chr&gt; |\n",
       "|---|---|---|---|---|\n",
       "| (Intercept) | 16.3946592 | 15.0691561 | 17.8063819 | &lt;0.001 |\n",
       "| pH | -5.2583338 | -5.6990448 | -4.8484778 | &lt;0.001 |\n",
       "| alcohol |  0.1721121 |  0.1189408 |  0.2272615 | &lt;0.001 |\n",
       "\n"
      ],
      "text/plain": [
       "            Estimate   Lower.bound Upper.bound p.value\n",
       "(Intercept) 16.3946592 15.0691561  17.8063819  <0.001 \n",
       "pH          -5.2583338 -5.6990448  -4.8484778  <0.001 \n",
       "alcohol      0.1721121  0.1189408   0.2272615  <0.001 "
      ]
     },
     "metadata": {},
     "output_type": "display_data"
    }
   ],
   "source": [
    "library(boot.pval)\n",
    "boot_summary(m, type = \"perc\", method = \"case\") #przedzial ufnosci na parametry metodą bootstrap"
   ]
  },
  {
   "cell_type": "markdown",
   "id": "aae912b6",
   "metadata": {
    "id": "aae912b6"
   },
   "source": [
    "Uwaga: Znacząco trudniej jest dokonać diagnostyki modeli GLM gdyż reszty zachowują się odmiennie niz w regresji liniowej.\n"
   ]
  },
  {
   "cell_type": "markdown",
   "id": "dbd0afed",
   "metadata": {
    "id": "dbd0afed"
   },
   "source": [
    "<h4> Zadanie1: Rozważ dane \"SAheart\""
   ]
  },
  {
   "cell_type": "code",
   "execution_count": 45,
   "id": "5b641672",
   "metadata": {
    "colab": {
     "base_uri": "https://localhost:8080/",
     "height": 322
    },
    "id": "5b641672",
    "outputId": "edaf7673-8e60-429b-d12f-201f7797b30b"
   },
   "outputs": [
    {
     "name": "stderr",
     "output_type": "stream",
     "text": [
      "Loading required package: leaps\n",
      "\n"
     ]
    },
    {
     "data": {
      "text/html": [
       "<table class=\"dataframe\">\n",
       "<caption>A data.frame: 6 × 10</caption>\n",
       "<thead>\n",
       "\t<tr><th></th><th scope=col>sbp</th><th scope=col>tobacco</th><th scope=col>ldl</th><th scope=col>adiposity</th><th scope=col>famhist</th><th scope=col>typea</th><th scope=col>obesity</th><th scope=col>alcohol</th><th scope=col>age</th><th scope=col>chd</th></tr>\n",
       "\t<tr><th></th><th scope=col>&lt;int&gt;</th><th scope=col>&lt;dbl&gt;</th><th scope=col>&lt;dbl&gt;</th><th scope=col>&lt;dbl&gt;</th><th scope=col>&lt;fct&gt;</th><th scope=col>&lt;int&gt;</th><th scope=col>&lt;dbl&gt;</th><th scope=col>&lt;dbl&gt;</th><th scope=col>&lt;int&gt;</th><th scope=col>&lt;int&gt;</th></tr>\n",
       "</thead>\n",
       "<tbody>\n",
       "\t<tr><th scope=row>1</th><td>160</td><td>12.00</td><td>5.73</td><td>23.11</td><td>Present</td><td>49</td><td>25.30</td><td>97.20</td><td>52</td><td>1</td></tr>\n",
       "\t<tr><th scope=row>2</th><td>144</td><td> 0.01</td><td>4.41</td><td>28.61</td><td>Absent </td><td>55</td><td>28.87</td><td> 2.06</td><td>63</td><td>1</td></tr>\n",
       "\t<tr><th scope=row>3</th><td>118</td><td> 0.08</td><td>3.48</td><td>32.28</td><td>Present</td><td>52</td><td>29.14</td><td> 3.81</td><td>46</td><td>0</td></tr>\n",
       "\t<tr><th scope=row>4</th><td>170</td><td> 7.50</td><td>6.41</td><td>38.03</td><td>Present</td><td>51</td><td>31.99</td><td>24.26</td><td>58</td><td>1</td></tr>\n",
       "\t<tr><th scope=row>5</th><td>134</td><td>13.60</td><td>3.50</td><td>27.78</td><td>Present</td><td>60</td><td>25.99</td><td>57.34</td><td>49</td><td>1</td></tr>\n",
       "\t<tr><th scope=row>6</th><td>132</td><td> 6.20</td><td>6.47</td><td>36.21</td><td>Present</td><td>62</td><td>30.77</td><td>14.14</td><td>45</td><td>0</td></tr>\n",
       "</tbody>\n",
       "</table>\n"
      ],
      "text/latex": [
       "A data.frame: 6 × 10\n",
       "\\begin{tabular}{r|llllllllll}\n",
       "  & sbp & tobacco & ldl & adiposity & famhist & typea & obesity & alcohol & age & chd\\\\\n",
       "  & <int> & <dbl> & <dbl> & <dbl> & <fct> & <int> & <dbl> & <dbl> & <int> & <int>\\\\\n",
       "\\hline\n",
       "\t1 & 160 & 12.00 & 5.73 & 23.11 & Present & 49 & 25.30 & 97.20 & 52 & 1\\\\\n",
       "\t2 & 144 &  0.01 & 4.41 & 28.61 & Absent  & 55 & 28.87 &  2.06 & 63 & 1\\\\\n",
       "\t3 & 118 &  0.08 & 3.48 & 32.28 & Present & 52 & 29.14 &  3.81 & 46 & 0\\\\\n",
       "\t4 & 170 &  7.50 & 6.41 & 38.03 & Present & 51 & 31.99 & 24.26 & 58 & 1\\\\\n",
       "\t5 & 134 & 13.60 & 3.50 & 27.78 & Present & 60 & 25.99 & 57.34 & 49 & 1\\\\\n",
       "\t6 & 132 &  6.20 & 6.47 & 36.21 & Present & 62 & 30.77 & 14.14 & 45 & 0\\\\\n",
       "\\end{tabular}\n"
      ],
      "text/markdown": [
       "\n",
       "A data.frame: 6 × 10\n",
       "\n",
       "| <!--/--> | sbp &lt;int&gt; | tobacco &lt;dbl&gt; | ldl &lt;dbl&gt; | adiposity &lt;dbl&gt; | famhist &lt;fct&gt; | typea &lt;int&gt; | obesity &lt;dbl&gt; | alcohol &lt;dbl&gt; | age &lt;int&gt; | chd &lt;int&gt; |\n",
       "|---|---|---|---|---|---|---|---|---|---|---|\n",
       "| 1 | 160 | 12.00 | 5.73 | 23.11 | Present | 49 | 25.30 | 97.20 | 52 | 1 |\n",
       "| 2 | 144 |  0.01 | 4.41 | 28.61 | Absent  | 55 | 28.87 |  2.06 | 63 | 1 |\n",
       "| 3 | 118 |  0.08 | 3.48 | 32.28 | Present | 52 | 29.14 |  3.81 | 46 | 0 |\n",
       "| 4 | 170 |  7.50 | 6.41 | 38.03 | Present | 51 | 31.99 | 24.26 | 58 | 1 |\n",
       "| 5 | 134 | 13.60 | 3.50 | 27.78 | Present | 60 | 25.99 | 57.34 | 49 | 1 |\n",
       "| 6 | 132 |  6.20 | 6.47 | 36.21 | Present | 62 | 30.77 | 14.14 | 45 | 0 |\n",
       "\n"
      ],
      "text/plain": [
       "  sbp tobacco ldl  adiposity famhist typea obesity alcohol age chd\n",
       "1 160 12.00   5.73 23.11     Present 49    25.30   97.20   52  1  \n",
       "2 144  0.01   4.41 28.61     Absent  55    28.87    2.06   63  1  \n",
       "3 118  0.08   3.48 32.28     Present 52    29.14    3.81   46  0  \n",
       "4 170  7.50   6.41 38.03     Present 51    31.99   24.26   58  1  \n",
       "5 134 13.60   3.50 27.78     Present 60    25.99   57.34   49  1  \n",
       "6 132  6.20   6.47 36.21     Present 62    30.77   14.14   45  0  "
      ]
     },
     "metadata": {},
     "output_type": "display_data"
    }
   ],
   "source": [
    "library(bestglm)\n",
    "data(\"SAheart\")\n",
    "head(SAheart) #chd - czy występuje choroba niedokrwienna serca, warto poczytac o danych ?`"
   ]
  },
  {
   "cell_type": "code",
   "execution_count": 46,
   "id": "d68516c7",
   "metadata": {
    "colab": {
     "base_uri": "https://localhost:8080/"
    },
    "id": "d68516c7",
    "outputId": "2a6a27ae-38f3-42ee-fe84-7ea60eab44fc"
   },
   "outputs": [
    {
     "name": "stdout",
     "output_type": "stream",
     "text": [
      "'data.frame':\t462 obs. of  10 variables:\n",
      " $ sbp      : int  160 144 118 170 134 132 142 114 114 132 ...\n",
      " $ tobacco  : num  12 0.01 0.08 7.5 13.6 6.2 4.05 4.08 0 0 ...\n",
      " $ ldl      : num  5.73 4.41 3.48 6.41 3.5 6.47 3.38 4.59 3.83 5.8 ...\n",
      " $ adiposity: num  23.1 28.6 32.3 38 27.8 ...\n",
      " $ famhist  : Factor w/ 2 levels \"Absent\",\"Present\": 2 1 2 2 2 2 1 2 2 2 ...\n",
      " $ typea    : int  49 55 52 51 60 62 59 62 49 69 ...\n",
      " $ obesity  : num  25.3 28.9 29.1 32 26 ...\n",
      " $ alcohol  : num  97.2 2.06 3.81 24.26 57.34 ...\n",
      " $ age      : int  52 63 46 58 49 45 38 58 29 53 ...\n",
      " $ chd      : int  1 1 0 1 1 0 0 1 0 1 ...\n"
     ]
    }
   ],
   "source": [
    "str(SAheart)"
   ]
  },
  {
   "cell_type": "markdown",
   "id": "185f02d1",
   "metadata": {
    "id": "185f02d1"
   },
   "source": [
    "<h4>\n",
    "    \n",
    "- Zbuduj model regresji logistycznej, progonzując $chd$ tylko w oparciu o $ldl$ (model1).\n",
    "    \n",
    "- Zbuduj model regresji logistycznej, prognozująć $chd$ w oparciu o wszystkie pozostałe zmienne (model2).\n",
    "    \n",
    "- Za pomocą kryterium AIC i F testu (w poleceniu anova dodaj argument: test = \"LRT\") porównaj modele. Skomentuj wyniki.\n",
    "    \n",
    "- Z użyciem polecenia $step$ (bierze pod uwagę kryterium AIC) zredukuj pełny model (model2). Składnia: step(model, trace=0) <- tworzony jest nowy model (model3).\n",
    "                                                                                                                               \n",
    "- Za pomocą F testu porównaj model2 oraz model3. Skomentuj otrzymane wyniki.\n",
    "\n",
    "- Dla każdego z modeli oblicz dokładność oraz czułość/specyficzność\n",
    "\n",
    "- Dokonaj predykcji (za pomocą wszystkich modeli) dla osobnika o parametrach identycznych jak w pierwszym rekordzie. Skomentuj otrzymane wyniki.                                                                                                                              \n",
    "                                                                                                                              \n",
    "                                                                                                                               \n",
    "                                                                                                                              "
   ]
  },
  {
   "cell_type": "markdown",
   "id": "9942e7c3",
   "metadata": {
    "id": "9942e7c3"
   },
   "source": [
    "<h3> Regresja Poissonowska"
   ]
  },
  {
   "cell_type": "markdown",
   "id": "f36bcd92",
   "metadata": {},
   "source": [
    "<div align=\"center\">\n",
    "$Y|X \\sim Poiss (\\lambda)$\n",
    "    </div>\n",
    "    \n",
    "<div align=\"center\">\n",
    "$\\log (\\lambda) = X\\beta$\n",
    "\n",
    "</div>\n"
   ]
  },
  {
   "cell_type": "markdown",
   "id": "73c98f20",
   "metadata": {
    "id": "73c98f20"
   },
   "source": [
    "Modelujemy dane zliczeniowe. Naczelne założenie, to $\\overline{Y} \\approx S^2(Y)$."
   ]
  },
  {
   "cell_type": "markdown",
   "id": "457a73d6",
   "metadata": {
    "id": "457a73d6"
   },
   "source": [
    "Jeżeli $Y \\sim Poiss(\\lambda)$, to $P(Y = k ) = \\frac{e^{-\\lambda}\\lambda^k}{k!}$\n",
    "\n"
   ]
  },
  {
   "cell_type": "markdown",
   "id": "10908d81",
   "metadata": {
    "id": "10908d81"
   },
   "source": [
    "Cel: Znaleźć $\\lambda$. Ta będzie zależeć od zmiennych objaśniających. Domyślnie zakładamy następującą postać: $\\lambda = e^{a_nx_n+a_nx_n+...+a_0}$ albo inaczej $\\log(\\lambda) = a^Tx$ (logarytm jest funkcją łączącą)."
   ]
  },
  {
   "cell_type": "code",
   "execution_count": 48,
   "id": "bf5c2e50",
   "metadata": {
    "colab": {
     "base_uri": "https://localhost:8080/",
     "height": 286
    },
    "id": "bf5c2e50",
    "outputId": "ab87de96-857a-4715-cd8c-5dcd108049e8"
   },
   "outputs": [
    {
     "data": {
      "text/html": [
       "<table class=\"dataframe\">\n",
       "<caption>A data.frame: 6 × 2</caption>\n",
       "<thead>\n",
       "\t<tr><th></th><th scope=col>x</th><th scope=col>y</th></tr>\n",
       "\t<tr><th></th><th scope=col>&lt;chr&gt;</th><th scope=col>&lt;int&gt;</th></tr>\n",
       "</thead>\n",
       "<tbody>\n",
       "\t<tr><th scope=row>1</th><td>A</td><td>2</td></tr>\n",
       "\t<tr><th scope=row>2</th><td>A</td><td>2</td></tr>\n",
       "\t<tr><th scope=row>3</th><td>A</td><td>3</td></tr>\n",
       "\t<tr><th scope=row>4</th><td>A</td><td>5</td></tr>\n",
       "\t<tr><th scope=row>5</th><td>A</td><td>2</td></tr>\n",
       "\t<tr><th scope=row>6</th><td>A</td><td>5</td></tr>\n",
       "</tbody>\n",
       "</table>\n"
      ],
      "text/latex": [
       "A data.frame: 6 × 2\n",
       "\\begin{tabular}{r|ll}\n",
       "  & x & y\\\\\n",
       "  & <chr> & <int>\\\\\n",
       "\\hline\n",
       "\t1 & A & 2\\\\\n",
       "\t2 & A & 2\\\\\n",
       "\t3 & A & 3\\\\\n",
       "\t4 & A & 5\\\\\n",
       "\t5 & A & 2\\\\\n",
       "\t6 & A & 5\\\\\n",
       "\\end{tabular}\n"
      ],
      "text/markdown": [
       "\n",
       "A data.frame: 6 × 2\n",
       "\n",
       "| <!--/--> | x &lt;chr&gt; | y &lt;int&gt; |\n",
       "|---|---|---|\n",
       "| 1 | A | 2 |\n",
       "| 2 | A | 2 |\n",
       "| 3 | A | 3 |\n",
       "| 4 | A | 5 |\n",
       "| 5 | A | 2 |\n",
       "| 6 | A | 5 |\n",
       "\n"
      ],
      "text/plain": [
       "  x y\n",
       "1 A 2\n",
       "2 A 2\n",
       "3 A 3\n",
       "4 A 5\n",
       "5 A 2\n",
       "6 A 5"
      ]
     },
     "metadata": {},
     "output_type": "display_data"
    }
   ],
   "source": [
    "set.seed(1)\n",
    "n = 100\n",
    "y1 = rpois(n, 3)\n",
    "y2 = rpois(n, 6)\n",
    "d = data.frame(x = c(rep(\"A\",n),rep(\"B\",n)), y = c(y1,y2))\n",
    "\n",
    "head(d)"
   ]
  },
  {
   "cell_type": "code",
   "execution_count": 49,
   "id": "bc63c47e",
   "metadata": {
    "colab": {
     "base_uri": "https://localhost:8080/"
    },
    "id": "bc63c47e",
    "outputId": "a5dff29d-c0df-452b-9f98-4c20c73fa02d"
   },
   "outputs": [
    {
     "name": "stdout",
     "output_type": "stream",
     "text": [
      "   A    B \n",
      "3.05 6.16 \n"
     ]
    }
   ],
   "source": [
    "print(tapply(d$y, d$x, mean))"
   ]
  },
  {
   "cell_type": "code",
   "execution_count": 50,
   "id": "1e66998d",
   "metadata": {
    "colab": {
     "base_uri": "https://localhost:8080/",
     "height": 344
    },
    "id": "1e66998d",
    "outputId": "8cf594ec-1992-4d31-aeb1-dfa964b60021"
   },
   "outputs": [
    {
     "data": {
      "text/plain": [
       "\n",
       "Call:\n",
       "glm(formula = y ~ x, family = \"poisson\", data = d)\n",
       "\n",
       "Coefficients:\n",
       "            Estimate Std. Error z value Pr(>|z|)    \n",
       "(Intercept)  1.11514    0.05726   19.48   <2e-16 ***\n",
       "xB           0.70294    0.07001   10.04   <2e-16 ***\n",
       "---\n",
       "Signif. codes:  0 ‘***’ 0.001 ‘**’ 0.01 ‘*’ 0.05 ‘.’ 0.1 ‘ ’ 1\n",
       "\n",
       "(Dispersion parameter for poisson family taken to be 1)\n",
       "\n",
       "    Null deviance: 267.98  on 199  degrees of freedom\n",
       "Residual deviance: 160.87  on 198  degrees of freedom\n",
       "AIC: 812.91\n",
       "\n",
       "Number of Fisher Scoring iterations: 4\n"
      ]
     },
     "metadata": {},
     "output_type": "display_data"
    }
   ],
   "source": [
    "summary(model <- glm(y ~ x, family=\"poisson\", data = d))"
   ]
  },
  {
   "cell_type": "markdown",
   "id": "85d08852",
   "metadata": {
    "id": "85d08852"
   },
   "source": [
    "Wyjaśnienie tych współczynników:"
   ]
  },
  {
   "cell_type": "code",
   "execution_count": 51,
   "id": "331af4c2",
   "metadata": {
    "colab": {
     "base_uri": "https://localhost:8080/",
     "height": 34
    },
    "id": "331af4c2",
    "outputId": "02172217-0e58-4f04-b17f-1c73ba6b235d"
   },
   "outputs": [
    {
     "data": {
      "text/html": [
       "3.04999514861493"
      ],
      "text/latex": [
       "3.04999514861493"
      ],
      "text/markdown": [
       "3.04999514861493"
      ],
      "text/plain": [
       "[1] 3.049995"
      ]
     },
     "metadata": {},
     "output_type": "display_data"
    }
   ],
   "source": [
    "exp(1.11514) #lambda dla A"
   ]
  },
  {
   "cell_type": "code",
   "execution_count": 52,
   "id": "16a1fe03",
   "metadata": {
    "colab": {
     "base_uri": "https://localhost:8080/",
     "height": 34
    },
    "id": "16a1fe03",
    "outputId": "afd384c4-6105-4702-884a-e0d49ea4f9bd"
   },
   "outputs": [
    {
     "data": {
      "text/html": [
       "6.16001985035215"
      ],
      "text/latex": [
       "6.16001985035215"
      ],
      "text/markdown": [
       "6.16001985035215"
      ],
      "text/plain": [
       "[1] 6.16002"
      ]
     },
     "metadata": {},
     "output_type": "display_data"
    }
   ],
   "source": [
    "exp(1.11514+0.70294) #lambda dla B"
   ]
  },
  {
   "cell_type": "markdown",
   "id": "8c6dde0e",
   "metadata": {
    "id": "8c6dde0e"
   },
   "source": [
    "<h4> Praktyczny przykład"
   ]
  },
  {
   "cell_type": "code",
   "execution_count": 53,
   "id": "72176f00",
   "metadata": {
    "colab": {
     "base_uri": "https://localhost:8080/",
     "height": 286
    },
    "id": "72176f00",
    "outputId": "9303f884-0da2-4e52-8d25-acd8f5e717b7"
   },
   "outputs": [
    {
     "data": {
      "text/html": [
       "<table class=\"dataframe\">\n",
       "<caption>A data.frame: 6 × 4</caption>\n",
       "<thead>\n",
       "\t<tr><th></th><th scope=col>id</th><th scope=col>num_awards</th><th scope=col>prog</th><th scope=col>math</th></tr>\n",
       "\t<tr><th></th><th scope=col>&lt;int&gt;</th><th scope=col>&lt;int&gt;</th><th scope=col>&lt;int&gt;</th><th scope=col>&lt;int&gt;</th></tr>\n",
       "</thead>\n",
       "<tbody>\n",
       "\t<tr><th scope=row>1</th><td> 45</td><td>0</td><td>3</td><td>41</td></tr>\n",
       "\t<tr><th scope=row>2</th><td>108</td><td>0</td><td>1</td><td>41</td></tr>\n",
       "\t<tr><th scope=row>3</th><td> 15</td><td>0</td><td>3</td><td>44</td></tr>\n",
       "\t<tr><th scope=row>4</th><td> 67</td><td>0</td><td>3</td><td>42</td></tr>\n",
       "\t<tr><th scope=row>5</th><td>153</td><td>0</td><td>3</td><td>40</td></tr>\n",
       "\t<tr><th scope=row>6</th><td> 51</td><td>0</td><td>1</td><td>42</td></tr>\n",
       "</tbody>\n",
       "</table>\n"
      ],
      "text/latex": [
       "A data.frame: 6 × 4\n",
       "\\begin{tabular}{r|llll}\n",
       "  & id & num\\_awards & prog & math\\\\\n",
       "  & <int> & <int> & <int> & <int>\\\\\n",
       "\\hline\n",
       "\t1 &  45 & 0 & 3 & 41\\\\\n",
       "\t2 & 108 & 0 & 1 & 41\\\\\n",
       "\t3 &  15 & 0 & 3 & 44\\\\\n",
       "\t4 &  67 & 0 & 3 & 42\\\\\n",
       "\t5 & 153 & 0 & 3 & 40\\\\\n",
       "\t6 &  51 & 0 & 1 & 42\\\\\n",
       "\\end{tabular}\n"
      ],
      "text/markdown": [
       "\n",
       "A data.frame: 6 × 4\n",
       "\n",
       "| <!--/--> | id &lt;int&gt; | num_awards &lt;int&gt; | prog &lt;int&gt; | math &lt;int&gt; |\n",
       "|---|---|---|---|---|\n",
       "| 1 |  45 | 0 | 3 | 41 |\n",
       "| 2 | 108 | 0 | 1 | 41 |\n",
       "| 3 |  15 | 0 | 3 | 44 |\n",
       "| 4 |  67 | 0 | 3 | 42 |\n",
       "| 5 | 153 | 0 | 3 | 40 |\n",
       "| 6 |  51 | 0 | 1 | 42 |\n",
       "\n"
      ],
      "text/plain": [
       "  id  num_awards prog math\n",
       "1  45 0          3    41  \n",
       "2 108 0          1    41  \n",
       "3  15 0          3    44  \n",
       "4  67 0          3    42  \n",
       "5 153 0          3    40  \n",
       "6  51 0          1    42  "
      ]
     },
     "metadata": {},
     "output_type": "display_data"
    }
   ],
   "source": [
    "p =  read.csv(\"https://stats.idre.ucla.edu/stat/data/poisson_sim.csv\")\n",
    "head(p)"
   ]
  },
  {
   "cell_type": "code",
   "execution_count": 54,
   "id": "88f72f8f",
   "metadata": {
    "colab": {
     "base_uri": "https://localhost:8080/",
     "height": 286
    },
    "id": "88f72f8f",
    "outputId": "389a1957-ab22-43fe-a312-cfdd6c6dd9ac"
   },
   "outputs": [
    {
     "data": {
      "text/html": [
       "<table class=\"dataframe\">\n",
       "<caption>A data.frame: 6 × 4</caption>\n",
       "<thead>\n",
       "\t<tr><th></th><th scope=col>id</th><th scope=col>num_awards</th><th scope=col>prog</th><th scope=col>math</th></tr>\n",
       "\t<tr><th></th><th scope=col>&lt;fct&gt;</th><th scope=col>&lt;int&gt;</th><th scope=col>&lt;fct&gt;</th><th scope=col>&lt;int&gt;</th></tr>\n",
       "</thead>\n",
       "<tbody>\n",
       "\t<tr><th scope=row>1</th><td>45 </td><td>0</td><td>Vocational</td><td>41</td></tr>\n",
       "\t<tr><th scope=row>2</th><td>108</td><td>0</td><td>General   </td><td>41</td></tr>\n",
       "\t<tr><th scope=row>3</th><td>15 </td><td>0</td><td>Vocational</td><td>44</td></tr>\n",
       "\t<tr><th scope=row>4</th><td>67 </td><td>0</td><td>Vocational</td><td>42</td></tr>\n",
       "\t<tr><th scope=row>5</th><td>153</td><td>0</td><td>Vocational</td><td>40</td></tr>\n",
       "\t<tr><th scope=row>6</th><td>51 </td><td>0</td><td>General   </td><td>42</td></tr>\n",
       "</tbody>\n",
       "</table>\n"
      ],
      "text/latex": [
       "A data.frame: 6 × 4\n",
       "\\begin{tabular}{r|llll}\n",
       "  & id & num\\_awards & prog & math\\\\\n",
       "  & <fct> & <int> & <fct> & <int>\\\\\n",
       "\\hline\n",
       "\t1 & 45  & 0 & Vocational & 41\\\\\n",
       "\t2 & 108 & 0 & General    & 41\\\\\n",
       "\t3 & 15  & 0 & Vocational & 44\\\\\n",
       "\t4 & 67  & 0 & Vocational & 42\\\\\n",
       "\t5 & 153 & 0 & Vocational & 40\\\\\n",
       "\t6 & 51  & 0 & General    & 42\\\\\n",
       "\\end{tabular}\n"
      ],
      "text/markdown": [
       "\n",
       "A data.frame: 6 × 4\n",
       "\n",
       "| <!--/--> | id &lt;fct&gt; | num_awards &lt;int&gt; | prog &lt;fct&gt; | math &lt;int&gt; |\n",
       "|---|---|---|---|---|\n",
       "| 1 | 45  | 0 | Vocational | 41 |\n",
       "| 2 | 108 | 0 | General    | 41 |\n",
       "| 3 | 15  | 0 | Vocational | 44 |\n",
       "| 4 | 67  | 0 | Vocational | 42 |\n",
       "| 5 | 153 | 0 | Vocational | 40 |\n",
       "| 6 | 51  | 0 | General    | 42 |\n",
       "\n"
      ],
      "text/plain": [
       "  id  num_awards prog       math\n",
       "1 45  0          Vocational 41  \n",
       "2 108 0          General    41  \n",
       "3 15  0          Vocational 44  \n",
       "4 67  0          Vocational 42  \n",
       "5 153 0          Vocational 40  \n",
       "6 51  0          General    42  "
      ]
     },
     "metadata": {},
     "output_type": "display_data"
    }
   ],
   "source": [
    "p = within(p, {\n",
    "            prog = factor(prog, levels=1:3, labels=c(\"General\", \"Academic\", \"Vocational\"))\n",
    "            id = factor(id)\n",
    "})\n",
    "head(p)"
   ]
  },
  {
   "cell_type": "code",
   "execution_count": 55,
   "id": "56e0b386",
   "metadata": {
    "colab": {
     "base_uri": "https://localhost:8080/",
     "height": 162
    },
    "id": "56e0b386",
    "outputId": "c46f0590-f97f-4e36-c002-6e7d957912e3"
   },
   "outputs": [
    {
     "data": {
      "text/plain": [
       "       id        num_awards           prog          math      \n",
       " 1      :  1   Min.   :0.00   General   : 45   Min.   :33.00  \n",
       " 2      :  1   1st Qu.:0.00   Academic  :105   1st Qu.:45.00  \n",
       " 3      :  1   Median :0.00   Vocational: 50   Median :52.00  \n",
       " 4      :  1   Mean   :0.63                    Mean   :52.65  \n",
       " 5      :  1   3rd Qu.:1.00                    3rd Qu.:59.00  \n",
       " 6      :  1   Max.   :6.00                    Max.   :75.00  \n",
       " (Other):194                                                  "
      ]
     },
     "metadata": {},
     "output_type": "display_data"
    }
   ],
   "source": [
    "summary(p)"
   ]
  },
  {
   "cell_type": "code",
   "execution_count": 56,
   "id": "d6b2e826",
   "metadata": {
    "colab": {
     "base_uri": "https://localhost:8080/",
     "height": 34
    },
    "id": "d6b2e826",
    "outputId": "9b5fdad2-e50e-41c3-b395-7d8be621a7c7"
   },
   "outputs": [
    {
     "data": {
      "text/html": [
       "<style>\n",
       ".dl-inline {width: auto; margin:0; padding: 0}\n",
       ".dl-inline>dt, .dl-inline>dd {float: none; width: auto; display: inline-block}\n",
       ".dl-inline>dt::after {content: \":\\0020\"; padding-right: .5ex}\n",
       ".dl-inline>dt:not(:first-of-type) {padding-left: .5ex}\n",
       "</style><dl class=dl-inline><dt>General</dt><dd>'srednia (wariancja) = 0.20 (0.16)'</dd><dt>Academic</dt><dd>'srednia (wariancja) = 1.00 (1.63)'</dd><dt>Vocational</dt><dd>'srednia (wariancja) = 0.24 (0.27)'</dd></dl>\n"
      ],
      "text/latex": [
       "\\begin{description*}\n",
       "\\item[General] 'srednia (wariancja) = 0.20 (0.16)'\n",
       "\\item[Academic] 'srednia (wariancja) = 1.00 (1.63)'\n",
       "\\item[Vocational] 'srednia (wariancja) = 0.24 (0.27)'\n",
       "\\end{description*}\n"
      ],
      "text/markdown": [
       "General\n",
       ":   'srednia (wariancja) = 0.20 (0.16)'Academic\n",
       ":   'srednia (wariancja) = 1.00 (1.63)'Vocational\n",
       ":   'srednia (wariancja) = 0.24 (0.27)'\n",
       "\n"
      ],
      "text/plain": [
       "                            General                            Academic \n",
       "\"srednia (wariancja) = 0.20 (0.16)\" \"srednia (wariancja) = 1.00 (1.63)\" \n",
       "                         Vocational \n",
       "\"srednia (wariancja) = 0.24 (0.27)\" "
      ]
     },
     "metadata": {},
     "output_type": "display_data"
    }
   ],
   "source": [
    "with(p, tapply(num_awards, prog, function(x) { sprintf(\"srednia (wariancja) = %1.2f (%1.2f)\", mean(x), var(x))}))"
   ]
  },
  {
   "cell_type": "code",
   "execution_count": 58,
   "id": "31bbc3c2",
   "metadata": {
    "colab": {
     "base_uri": "https://localhost:8080/",
     "height": 437
    },
    "id": "31bbc3c2",
    "outputId": "545dc58b-3cde-4d22-d049-764c917d750a"
   },
   "outputs": [
    {
     "data": {
      "image/png": "[encoded data removed]",
      "text/plain": [
       "plot without title"
      ]
     },
     "metadata": {
      "image/png": {
       "height": 420,
       "width": 900
      }
     },
     "output_type": "display_data"
    }
   ],
   "source": [
    "library(ggplot2)\n",
    "options(repr.plot.width=15, repr.plot.height=7)\n",
    "\n",
    "ggplot(p, aes(num_awards, fill = prog)) +\n",
    "  geom_histogram(binwidth=.5, position=\"dodge\")"
   ]
  },
  {
   "cell_type": "code",
   "execution_count": 59,
   "id": "d081ab4a",
   "metadata": {
    "colab": {
     "base_uri": "https://localhost:8080/",
     "height": 380
    },
    "id": "d081ab4a",
    "outputId": "1ffabbbc-a4d0-46c6-b6de-4504511717c4"
   },
   "outputs": [
    {
     "data": {
      "text/plain": [
       "\n",
       "Call:\n",
       "glm(formula = num_awards ~ prog + math, family = \"poisson\", data = p)\n",
       "\n",
       "Coefficients:\n",
       "               Estimate Std. Error z value Pr(>|z|)    \n",
       "(Intercept)    -5.24712    0.65845  -7.969 1.60e-15 ***\n",
       "progAcademic    1.08386    0.35825   3.025  0.00248 ** \n",
       "progVocational  0.36981    0.44107   0.838  0.40179    \n",
       "math            0.07015    0.01060   6.619 3.63e-11 ***\n",
       "---\n",
       "Signif. codes:  0 ‘***’ 0.001 ‘**’ 0.01 ‘*’ 0.05 ‘.’ 0.1 ‘ ’ 1\n",
       "\n",
       "(Dispersion parameter for poisson family taken to be 1)\n",
       "\n",
       "    Null deviance: 287.67  on 199  degrees of freedom\n",
       "Residual deviance: 189.45  on 196  degrees of freedom\n",
       "AIC: 373.5\n",
       "\n",
       "Number of Fisher Scoring iterations: 6\n"
      ]
     },
     "metadata": {},
     "output_type": "display_data"
    }
   ],
   "source": [
    "m1 =  glm(num_awards ~ prog + math, family=\"poisson\", data=p)\n",
    "summary(m1)"
   ]
  },
  {
   "cell_type": "code",
   "execution_count": 60,
   "id": "305aa974",
   "metadata": {
    "colab": {
     "base_uri": "https://localhost:8080/"
    },
    "id": "305aa974",
    "outputId": "d73d89bb-5d41-4592-aaff-0aa3966dc25a"
   },
   "outputs": [
    {
     "name": "stdout",
     "output_type": "stream",
     "text": [
      "                 Estimate  Robust SE     Pr(>|z|)          LL          UL\n",
      "(Intercept)    -5.2471244 0.64599839 4.566630e-16 -6.51328124 -3.98096756\n",
      "progAcademic    1.0838591 0.32104816 7.354745e-04  0.45460476  1.71311353\n",
      "progVocational  0.3698092 0.40041731 3.557157e-01 -0.41500870  1.15462716\n",
      "math            0.0701524 0.01043516 1.783975e-11  0.04969947  0.09060532\n"
     ]
    }
   ],
   "source": [
    "library(sandwich)\n",
    "\n",
    "#tzw robust standard errors (nieco lepsze niz standardowe bledy jezeli naruszone jest zalozenie ze wariancja jest rowna sredniej)\n",
    "macierz_kowariancji = vcovHC(m1, type=\"HC0\")\n",
    "odchylenia = sqrt(diag(macierz_kowariancji))\n",
    "podsumowanie = cbind(Estimate= coef(m1), \"Robust SE\" = odchylenia,\n",
    "               \"Pr(>|z|)\" = 2 * pnorm(abs(coef(m1)/odchylenia), lower.tail=FALSE), #dodaje tez wartosci p_value\n",
    "                LL = coef(m1) - 1.96 * odchylenia,  #95% przedzial ufnosci, z dolu\n",
    "                UL = coef(m1) + 1.96 * odchylenia)  #95% przedzial ufnosci, z gory\n",
    "\n",
    "print(podsumowanie)"
   ]
  },
  {
   "cell_type": "markdown",
   "id": "822ecd64",
   "metadata": {
    "id": "822ecd64"
   },
   "source": [
    "<h4> Zadanie2: Na podstawie powyższego podsumowania określ średni poziom uzyskanych nagród dla studenta w programie Academic z wynikiem z testu 50. Ile wg modelu wynosi prawdopodobieństwo uzyskania dwóch nagród w tej sytuacji?"
   ]
  },
  {
   "cell_type": "code",
   "execution_count": 61,
   "id": "bd24b6cf",
   "metadata": {
    "colab": {
     "base_uri": "https://localhost:8080/",
     "height": 192
    },
    "id": "bd24b6cf",
    "outputId": "c2f8cdde-a442-450b-baba-66184ecc8e7d"
   },
   "outputs": [
    {
     "data": {
      "text/html": [
       "<table class=\"dataframe\">\n",
       "<caption>A data.frame: 3 × 2</caption>\n",
       "<thead>\n",
       "\t<tr><th scope=col>math</th><th scope=col>prog</th></tr>\n",
       "\t<tr><th scope=col>&lt;dbl&gt;</th><th scope=col>&lt;fct&gt;</th></tr>\n",
       "</thead>\n",
       "<tbody>\n",
       "\t<tr><td>50</td><td>General   </td></tr>\n",
       "\t<tr><td>50</td><td>Academic  </td></tr>\n",
       "\t<tr><td>50</td><td>Vocational</td></tr>\n",
       "</tbody>\n",
       "</table>\n"
      ],
      "text/latex": [
       "A data.frame: 3 × 2\n",
       "\\begin{tabular}{ll}\n",
       " math & prog\\\\\n",
       " <dbl> & <fct>\\\\\n",
       "\\hline\n",
       "\t 50 & General   \\\\\n",
       "\t 50 & Academic  \\\\\n",
       "\t 50 & Vocational\\\\\n",
       "\\end{tabular}\n"
      ],
      "text/markdown": [
       "\n",
       "A data.frame: 3 × 2\n",
       "\n",
       "| math &lt;dbl&gt; | prog &lt;fct&gt; |\n",
       "|---|---|\n",
       "| 50 | General    |\n",
       "| 50 | Academic   |\n",
       "| 50 | Vocational |\n",
       "\n"
      ],
      "text/plain": [
       "  math prog      \n",
       "1 50   General   \n",
       "2 50   Academic  \n",
       "3 50   Vocational"
      ]
     },
     "metadata": {},
     "output_type": "display_data"
    }
   ],
   "source": [
    "#zobaczmy jakby to wygladalo dla wszystkich programow\n",
    "s1 = data.frame(math = 50, prog = factor(1:3, levels = 1:3, labels = levels(p$prog)))\n",
    "s1"
   ]
  },
  {
   "cell_type": "code",
   "execution_count": 62,
   "id": "c3ddea3f",
   "metadata": {
    "colab": {
     "base_uri": "https://localhost:8080/",
     "height": 149
    },
    "id": "c3ddea3f",
    "outputId": "37126be4-ff6e-4373-ed0a-eb7f8270467d"
   },
   "outputs": [
    {
     "data": {
      "text/html": [
       "<dl>\n",
       "\t<dt>$fit</dt>\n",
       "\t\t<dd><style>\n",
       ".dl-inline {width: auto; margin:0; padding: 0}\n",
       ".dl-inline>dt, .dl-inline>dd {float: none; width: auto; display: inline-block}\n",
       ".dl-inline>dt::after {content: \":\\0020\"; padding-right: .5ex}\n",
       ".dl-inline>dt:not(:first-of-type) {padding-left: .5ex}\n",
       "</style><dl class=dl-inline><dt>1</dt><dd>0.17560738833725</dd><dt>2</dt><dd>0.519106934141021</dd><dt>3</dt><dd>0.254184399262976</dd></dl>\n",
       "</dd>\n",
       "\t<dt>$se.fit</dt>\n",
       "\t\t<dd><style>\n",
       ".dl-inline {width: auto; margin:0; padding: 0}\n",
       ".dl-inline>dt, .dl-inline>dd {float: none; width: auto; display: inline-block}\n",
       ".dl-inline>dt::after {content: \":\\0020\"; padding-right: .5ex}\n",
       ".dl-inline>dt:not(:first-of-type) {padding-left: .5ex}\n",
       "</style><dl class=dl-inline><dt>1</dt><dd>0.0589126683735189</dd><dt>2</dt><dd>0.0826062745991759</dd><dt>3</dt><dd>0.0737200378790345</dd></dl>\n",
       "</dd>\n",
       "\t<dt>$residual.scale</dt>\n",
       "\t\t<dd>1</dd>\n",
       "</dl>\n"
      ],
      "text/latex": [
       "\\begin{description}\n",
       "\\item[\\$fit] \\begin{description*}\n",
       "\\item[1] 0.17560738833725\n",
       "\\item[2] 0.519106934141021\n",
       "\\item[3] 0.254184399262976\n",
       "\\end{description*}\n",
       "\n",
       "\\item[\\$se.fit] \\begin{description*}\n",
       "\\item[1] 0.0589126683735189\n",
       "\\item[2] 0.0826062745991759\n",
       "\\item[3] 0.0737200378790345\n",
       "\\end{description*}\n",
       "\n",
       "\\item[\\$residual.scale] 1\n",
       "\\end{description}\n"
      ],
      "text/markdown": [
       "$fit\n",
       ":   1\n",
       ":   0.175607388337252\n",
       ":   0.5191069341410213\n",
       ":   0.254184399262976\n",
       "\n",
       "\n",
       "$se.fit\n",
       ":   1\n",
       ":   0.05891266837351892\n",
       ":   0.08260627459917593\n",
       ":   0.0737200378790345\n",
       "\n",
       "\n",
       "$residual.scale\n",
       ":   1\n",
       "\n",
       "\n"
      ],
      "text/plain": [
       "$fit\n",
       "        1         2         3 \n",
       "0.1756074 0.5191069 0.2541844 \n",
       "\n",
       "$se.fit\n",
       "         1          2          3 \n",
       "0.05891267 0.08260627 0.07372004 \n",
       "\n",
       "$residual.scale\n",
       "[1] 1\n"
      ]
     },
     "metadata": {},
     "output_type": "display_data"
    }
   ],
   "source": [
    "predict(m1, s1, type=\"response\", se.fit=TRUE)"
   ]
  },
  {
   "cell_type": "code",
   "execution_count": 76,
   "id": "3fec2977",
   "metadata": {
    "colab": {
     "base_uri": "https://localhost:8080/",
     "height": 437
    },
    "id": "3fec2977",
    "outputId": "dd332a2b-5bcb-407c-969b-fbb56c1f5397"
   },
   "outputs": [
    {
     "data": {
      "image/png": "[encoded data removed]",
      "text/plain": [
       "plot without title"
      ]
     },
     "metadata": {
      "image/png": {
       "height": 420,
       "width": 900
      }
     },
     "output_type": "display_data"
    }
   ],
   "source": [
    "## i zbiorczo\n",
    "## predykcja\n",
    "p$phat = predict(m1, p[, c(\"math\", \"prog\")], type = \"response\")\n",
    "\n",
    "## porzadkujemy wg programu a potem wg testu z matematyki\n",
    "p = p[with(p, order(prog, math)), ]\n",
    "\n",
    "## wykres\n",
    "ggplot(p, aes(x = math, y = phat, colour = prog)) +\n",
    "       geom_point(aes(y = num_awards), alpha=2, position=position_jitter(h=.2)) +\n",
    "       geom_line(linewidth = 2) +\n",
    "       labs(x = \"Wynik z testu\", y = \"Oczekiwana liczba nagrod\")"
   ]
  },
  {
   "cell_type": "markdown",
   "id": "1097fdfc",
   "metadata": {},
   "source": [
    "<h3> Regresja z rozkładem ujemnym dwumianowym"
   ]
  },
  {
   "cell_type": "markdown",
   "id": "43931b8d",
   "metadata": {
    "id": "eFIUms4XL47d"
   },
   "source": [
    "* Jeżeli wariancje nie są równe wartościom oczekiwanym, to stosowanie regresji Poissona może prowadzić do niepoprawnego modelu. Warto wtedy zastosować rozkład ujemny dwumianowy, dla którego: $var(X) = \\mu + \\mu^2/\\theta$."
   ]
  },
  {
   "cell_type": "code",
   "execution_count": 79,
   "id": "geE1zhdPL5Dk",
   "metadata": {
    "colab": {
     "base_uri": "https://localhost:8080/",
     "height": 507
    },
    "id": "geE1zhdPL5Dk",
    "outputId": "cc963683-311a-4a9a-d4af-0da79dbee143"
   },
   "outputs": [
    {
     "data": {
      "text/plain": [
       "\n",
       "Call:\n",
       "glm.nb(formula = num_awards ~ prog + math, data = p, init.theta = 6.114661779, \n",
       "    link = log)\n",
       "\n",
       "Coefficients:\n",
       "               Estimate Std. Error z value Pr(>|z|)    \n",
       "(Intercept)    -5.29331    0.70416  -7.517 5.60e-14 ***\n",
       "progAcademic    1.07507    0.36699   2.929   0.0034 ** \n",
       "progVocational  0.36696    0.45230   0.811   0.4172    \n",
       "math            0.07107    0.01153   6.165 7.05e-10 ***\n",
       "---\n",
       "Signif. codes:  0 ‘***’ 0.001 ‘**’ 0.01 ‘*’ 0.05 ‘.’ 0.1 ‘ ’ 1\n",
       "\n",
       "(Dispersion parameter for Negative Binomial(6.1147) family taken to be 1)\n",
       "\n",
       "    Null deviance: 257.93  on 199  degrees of freedom\n",
       "Residual deviance: 169.76  on 196  degrees of freedom\n",
       "AIC: 373.81\n",
       "\n",
       "Number of Fisher Scoring iterations: 1\n",
       "\n",
       "\n",
       "              Theta:  6.11 \n",
       "          Std. Err.:  5.58 \n",
       "\n",
       " 2 x log-likelihood:  -363.811 "
      ]
     },
     "metadata": {},
     "output_type": "display_data"
    }
   ],
   "source": [
    "library(MASS)\n",
    "nb.model <- glm.nb(num_awards ~ prog + math, data=p) #Regresja z rozkładem ujemnym dwumianowym\n",
    "summary(nb.model) #wzrosly błędy, wspolczynniki zasadniczo te same"
   ]
  },
  {
   "cell_type": "markdown",
   "id": "d5f911d2",
   "metadata": {
    "id": "d5f911d2"
   },
   "source": [
    "<h4> Zadanie3: Rozważ dane warpbreaks. Dane opisują wpływ rodzaju wełny (A oraz B) i naprężenia (niskie L, średnie M lub wysokie H) na liczbę zerwań osnowy w krośnie (breaks). Zamodeluj zmienną breaks za pomocą wool oraz tension wykorzystując przy tym regresję poissona oraz ujemną dwumianową (zbuduj dwa modele).\n",
    "    \n",
    "<br>  \n",
    "        \n",
    "- Porównaj istotność statystyczną wyestymowanych parametrów w obu modelach.\n",
    "    \n",
    "- Zinterpretuj wyraz wolny. "
   ]
  },
  {
   "cell_type": "markdown",
   "id": "fae519f0-a141-4b9b-ad85-c2ee61013641",
   "metadata": {
    "colab": {
     "base_uri": "https://localhost:8080/",
     "height": 110
    },
    "id": "XLfeAX7nJpWo",
    "outputId": "977a01c1-4340-4704-cc1a-837a3f12139c"
   },
   "source": [
    "<h4> Zadanie4: Dane \"czerniak.txt\" przedstawiają surowe zliczenia RNA-seq (ang. raw counts) wybranych genów w 10 próbkach z czerniakiem i w 8 próbkach kontrolnych. Dla każdego genu zbuduj model regresji z rozkładem ujemnym dwumianowym, modelując ekspresję genu na podstawie grupy. Czy wyestymowane współczynniki są istotne statystycznie? Czy istotność statystyczna oznacza istotność biologiczną? Ekspresja których genów zmienia się między grupami? W jaki sposób?"
   ]
  }
 ],
 "metadata": {
  "colab": {
   "provenance": []
  },
  "kernelspec": {
   "display_name": "R",
   "language": "R",
   "name": "ir"
  },
  "language_info": {
   "codemirror_mode": "r",
   "file_extension": ".r",
   "mimetype": "text/x-r-source",
   "name": "R",
   "pygments_lexer": "r",
   "version": "4.3.3"
  }
 },
 "nbformat": 4,
 "nbformat_minor": 5
}
