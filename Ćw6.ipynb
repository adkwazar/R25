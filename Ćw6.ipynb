{
 "cells": [
  {
   "cell_type": "markdown",
   "id": "a5bf9322",
   "metadata": {
    "id": "a5bf9322"
   },
   "source": [
    "<h4> Problem testowania wielu hipotez"
   ]
  },
  {
   "cell_type": "markdown",
   "id": "2d2227cc-2c47-4952-9d7f-48bb7c5198e7",
   "metadata": {},
   "source": [
    "<h4> Zadanie1: Jeżeli przy podejmowaniu jednej decyzji prawdopodobieństwo popełnienia błędu wynosi $\\alpha=0.05$ (czyli prawdopodobieństwo nie popełnienia błędu wynosi $0.95$), to ile wynosi prawdopodobieństwo, że popełnimy chociaż jeden błąd podejmując 10 decyzji?"
   ]
  },
  {
   "cell_type": "markdown",
   "id": "08c8a6f1-5520-48b1-ada3-40472b78599e",
   "metadata": {},
   "source": [
    "* Przykład"
   ]
  },
  {
   "cell_type": "code",
   "execution_count": 12,
   "id": "96bc8f66",
   "metadata": {
    "id": "96bc8f66",
    "outputId": "0a0d56ee-3e53-4760-f79d-74f3a1e28d54"
   },
   "outputs": [
    {
     "name": "stdout",
     "output_type": "stream",
     "text": [
      "           x1         x2         x3        x4         x5        x6         x7\n",
      "1  0.86973219 0.44879954 0.56956978 0.5399394 0.05062531 0.2416438 0.95050569\n",
      "2  0.11729616 0.20879027 0.58914819 0.7955516 0.72626897 0.5972787 0.54052821\n",
      "3  0.95729100 0.33837589 0.54783174 0.2038272 0.80054366 0.6556987 0.62561603\n",
      "4  0.63243348 0.79109916 0.64375826 0.4516913 0.81122033 0.2004249 0.52667075\n",
      "5  0.66302481 0.98253844 0.71890349 0.5910430 0.68387110 0.1410845 0.70129688\n",
      "6  0.78734241 0.79004623 0.87027701 0.1898235 0.79567996 0.5785168 0.01575992\n",
      "7  0.13223287 0.53238627 0.13707542 0.4317280 0.77629397 0.6375627 0.65259199\n",
      "8  0.58181883 0.18135394 0.18314859 0.2920707 0.05244806 0.2257236 0.66763002\n",
      "9  0.01394255 0.07038853 0.05413063 0.8431067 0.37401433 0.1901330 0.62032693\n",
      "10 0.62293197 0.34152032 0.42082422 0.2989033 0.16318274 0.9589149 0.64576017\n",
      "          x8        x9         x10\n",
      "1  0.5559295 0.7069076 0.008872123\n",
      "2  0.5784351 0.8451550 0.251572212\n",
      "3  0.7604320 0.9271913 0.489831409\n",
      "4  0.2328205 0.9320095 0.244570869\n",
      "5  0.4557916 0.5241108 0.782352697\n",
      "6  0.8444952 0.5099297 0.011631774\n",
      "7  0.3398439 0.3120871 0.222956882\n",
      "8  0.5026399 0.9743727 0.622403929\n",
      "9  0.8462307 0.5304401 0.905746249\n",
      "10 0.7412405 0.6389091 0.319891471\n"
     ]
    }
   ],
   "source": [
    "d = data.frame(x1 = runif(10), x2 = runif(10), x3 = runif(10), x4 = runif(10), x5 = runif(10), x6 = runif(10), x7 = runif(10), x8 = runif(10), x9 = runif(10), x10 = runif(10))\n",
    "print(d)"
   ]
  },
  {
   "cell_type": "code",
   "execution_count": 13,
   "id": "3694f94c",
   "metadata": {
    "id": "3694f94c",
    "outputId": "85a5d581-c87e-4333-80bf-1e4f3c496532"
   },
   "outputs": [
    {
     "name": "stdout",
     "output_type": "stream",
     "text": [
      " [1] 0.63168071 0.64052118 0.57102275 0.92339986 0.49693691 0.66455481\n",
      " [7] 0.70550628 0.24772419 0.30287504 0.96960147 0.96879304 0.70091909\n",
      "[13] 0.84421625 0.31066582 0.32818068 0.07973829 0.55125437 0.93192582\n",
      "[19] 0.71358795 0.80406440 0.29692792 0.31298042 0.06643469 0.50622590\n",
      "[25] 0.64337867 0.85549569 0.22345659 0.23210560 0.03873978 0.52966923\n",
      "[31] 0.55931028 0.58290224 0.61925308 0.20212785 0.34504310 0.20271010\n",
      "[37] 0.21157775 0.04218800 0.66964306 0.92993207 0.36385326 0.10544489\n",
      "[43] 0.29732004 0.10871881 0.02175114\n"
     ]
    }
   ],
   "source": [
    "p_values = c()\n",
    "for (i in 1:9){\n",
    "    for (j in (i+1):10){\n",
    "            p_values = append(p_values, t.test(x=d[,i], y=d[,j] ,conf.level=0.90)$p.value)\n",
    "    }\n",
    "}\n",
    "\n",
    "print(p_values)"
   ]
  },
  {
   "cell_type": "markdown",
   "id": "3fe5105d",
   "metadata": {
    "id": "3fe5105d"
   },
   "source": [
    "<h4> T-test"
   ]
  },
  {
   "cell_type": "markdown",
   "id": "a1eed6a6",
   "metadata": {
    "id": "a1eed6a6"
   },
   "source": [
    "$H_0: \\mu_1 = \\mu_2$\n",
    "\n",
    "$H_1: \\mu_1 \\neq \\mu_2$\n",
    "\n",
    "Założenia:\n",
    "- rozkład normalny\n",
    "- ta sama wariancja\n",
    "- niezależność"
   ]
  },
  {
   "cell_type": "code",
   "execution_count": 14,
   "id": "31543070",
   "metadata": {
    "id": "31543070",
    "outputId": "94228c49-f0f5-40c1-e881-0d4ef494c478"
   },
   "outputs": [
    {
     "name": "stdout",
     "output_type": "stream",
     "text": [
      "  id    sleep     group\n",
      "1  1 8.145150   control\n",
      "2  2 7.522362 treatment\n",
      "3  3 6.935754   control\n",
      "4  4 8.959435 treatment\n",
      "5  5 6.985122   control\n",
      "6  6 8.072651 treatment\n"
     ]
    }
   ],
   "source": [
    "mel = read.delim(file = 'melatonina.txt', sep=\" \") #dane dotyczą 20 doroslych mezczyzn. 10 z nich otrzymalo melatonine przed snem (5mg). Czy mialo to wplyw na dlugosc snu?\n",
    "print(head(mel))"
   ]
  },
  {
   "cell_type": "code",
   "execution_count": 16,
   "id": "b6e45125",
   "metadata": {
    "id": "b6e45125",
    "outputId": "e5a282e0-bfdb-43fc-f584-81368da00ef0"
   },
   "outputs": [
    {
     "data": {
      "text/plain": [
       "\n",
       "\tShapiro-Wilk normality test\n",
       "\n",
       "data:  subset(mel_c, select = c(sleep))$sleep\n",
       "W = 0.93638, p-value = 0.5135\n"
      ]
     },
     "metadata": {},
     "output_type": "display_data"
    },
    {
     "data": {
      "text/html": [
       "1.67218999798112"
      ],
      "text/latex": [
       "1.67218999798112"
      ],
      "text/markdown": [
       "1.67218999798112"
      ],
      "text/plain": [
       "[1] 1.67219"
      ]
     },
     "metadata": {},
     "output_type": "display_data"
    },
    {
     "data": {
      "text/plain": [
       "\n",
       "\tShapiro-Wilk normality test\n",
       "\n",
       "data:  subset(mel_t, select = c(sleep))$sleep\n",
       "W = 0.92649, p-value = 0.4143\n"
      ]
     },
     "metadata": {},
     "output_type": "display_data"
    },
    {
     "data": {
      "text/html": [
       "1.55590383077834"
      ],
      "text/latex": [
       "1.55590383077834"
      ],
      "text/markdown": [
       "1.55590383077834"
      ],
      "text/plain": [
       "[1] 1.555904"
      ]
     },
     "metadata": {},
     "output_type": "display_data"
    }
   ],
   "source": [
    "mel_c = mel[mel$group == \"control\",]\n",
    "shapiro.test(subset(mel_c, select = c(sleep))$sleep); sd(subset(mel_c, select = c(sleep))$sleep)\n",
    "\n",
    "mel_t = mel[mel$group == \"treatment\",]\n",
    "shapiro.test(subset(mel_t, select = c(sleep))$sleep); sd(subset(mel_t, select = c(sleep))$sleep)"
   ]
  },
  {
   "cell_type": "code",
   "execution_count": 19,
   "id": "7e4cf712",
   "metadata": {
    "id": "7e4cf712",
    "outputId": "bd95dfca-40c3-4776-b414-5e73501dc740"
   },
   "outputs": [
    {
     "data": {
      "text/plain": [
       "\n",
       "\tWelch Two Sample t-test\n",
       "\n",
       "data:  sleep by group\n",
       "t = -2.0854, df = 17.907, p-value = 0.05161\n",
       "alternative hypothesis: true difference in means between group control and group treatment is not equal to 0\n",
       "95 percent confidence interval:\n",
       " -3.02434584  0.01173884\n",
       "sample estimates:\n",
       "  mean in group control mean in group treatment \n",
       "               6.827152                8.333456 \n"
      ]
     },
     "metadata": {},
     "output_type": "display_data"
    }
   ],
   "source": [
    "t.test(sleep ~ group, data = mel) #czy srednie pomiedzy kontrolą a grupą traktowaną sie roznią? Jezeli przyjmiemy poziom istotnosci 0.10 to tak, jezeli 0.05 to nie"
   ]
  },
  {
   "cell_type": "code",
   "execution_count": 20,
   "id": "81f42b6c",
   "metadata": {
    "id": "81f42b6c",
    "outputId": "15fe44e4-8ee9-4029-b318-48277ccd7e87"
   },
   "outputs": [
    {
     "data": {
      "image/png": "[encoded data removed]",
      "text/plain": [
       "plot without title"
      ]
     },
     "metadata": {
      "image/png": {
       "height": 420,
       "width": 420
      }
     },
     "output_type": "display_data"
    }
   ],
   "source": [
    "options(repr.plot.width=7, repr.plot.height=7)\n",
    "boxplot(sleep ~ group, data = mel, col = 5:6)"
   ]
  },
  {
   "cell_type": "markdown",
   "id": "b780e115",
   "metadata": {
    "id": "b780e115"
   },
   "source": [
    "<h4> Test Wilcoxon-Mann-Whitney"
   ]
  },
  {
   "cell_type": "code",
   "execution_count": 21,
   "id": "86e8198f",
   "metadata": {
    "id": "86e8198f",
    "outputId": "bc915d93-083c-4de7-fec7-55c627aec1f8"
   },
   "outputs": [
    {
     "data": {
      "text/html": [
       "<table class=\"dataframe\">\n",
       "<caption>A tibble: 6 × 11</caption>\n",
       "<thead>\n",
       "\t<tr><th scope=col>name</th><th scope=col>genus</th><th scope=col>vore</th><th scope=col>order</th><th scope=col>conservation</th><th scope=col>sleep_total</th><th scope=col>sleep_rem</th><th scope=col>sleep_cycle</th><th scope=col>awake</th><th scope=col>brainwt</th><th scope=col>bodywt</th></tr>\n",
       "\t<tr><th scope=col>&lt;chr&gt;</th><th scope=col>&lt;chr&gt;</th><th scope=col>&lt;chr&gt;</th><th scope=col>&lt;chr&gt;</th><th scope=col>&lt;chr&gt;</th><th scope=col>&lt;dbl&gt;</th><th scope=col>&lt;dbl&gt;</th><th scope=col>&lt;dbl&gt;</th><th scope=col>&lt;dbl&gt;</th><th scope=col>&lt;dbl&gt;</th><th scope=col>&lt;dbl&gt;</th></tr>\n",
       "</thead>\n",
       "<tbody>\n",
       "\t<tr><td>Cheetah                   </td><td>Acinonyx  </td><td>carni</td><td>Carnivora   </td><td>lc          </td><td>12.1</td><td> NA</td><td>       NA</td><td>11.9</td><td>     NA</td><td> 50.000</td></tr>\n",
       "\t<tr><td>Owl monkey                </td><td>Aotus     </td><td>omni </td><td>Primates    </td><td>NA          </td><td>17.0</td><td>1.8</td><td>       NA</td><td> 7.0</td><td>0.01550</td><td>  0.480</td></tr>\n",
       "\t<tr><td>Mountain beaver           </td><td>Aplodontia</td><td>herbi</td><td>Rodentia    </td><td>nt          </td><td>14.4</td><td>2.4</td><td>       NA</td><td> 9.6</td><td>     NA</td><td>  1.350</td></tr>\n",
       "\t<tr><td>Greater short-tailed shrew</td><td>Blarina   </td><td>omni </td><td>Soricomorpha</td><td>lc          </td><td>14.9</td><td>2.3</td><td>0.1333333</td><td> 9.1</td><td>0.00029</td><td>  0.019</td></tr>\n",
       "\t<tr><td>Cow                       </td><td>Bos       </td><td>herbi</td><td>Artiodactyla</td><td>domesticated</td><td> 4.0</td><td>0.7</td><td>0.6666667</td><td>20.0</td><td>0.42300</td><td>600.000</td></tr>\n",
       "\t<tr><td>Three-toed sloth          </td><td>Bradypus  </td><td>herbi</td><td>Pilosa      </td><td>NA          </td><td>14.4</td><td>2.2</td><td>0.7666667</td><td> 9.6</td><td>     NA</td><td>  3.850</td></tr>\n",
       "</tbody>\n",
       "</table>\n"
      ],
      "text/latex": [
       "A tibble: 6 × 11\n",
       "\\begin{tabular}{lllllllllll}\n",
       " name & genus & vore & order & conservation & sleep\\_total & sleep\\_rem & sleep\\_cycle & awake & brainwt & bodywt\\\\\n",
       " <chr> & <chr> & <chr> & <chr> & <chr> & <dbl> & <dbl> & <dbl> & <dbl> & <dbl> & <dbl>\\\\\n",
       "\\hline\n",
       "\t Cheetah                    & Acinonyx   & carni & Carnivora    & lc           & 12.1 &  NA &        NA & 11.9 &      NA &  50.000\\\\\n",
       "\t Owl monkey                 & Aotus      & omni  & Primates     & NA           & 17.0 & 1.8 &        NA &  7.0 & 0.01550 &   0.480\\\\\n",
       "\t Mountain beaver            & Aplodontia & herbi & Rodentia     & nt           & 14.4 & 2.4 &        NA &  9.6 &      NA &   1.350\\\\\n",
       "\t Greater short-tailed shrew & Blarina    & omni  & Soricomorpha & lc           & 14.9 & 2.3 & 0.1333333 &  9.1 & 0.00029 &   0.019\\\\\n",
       "\t Cow                        & Bos        & herbi & Artiodactyla & domesticated &  4.0 & 0.7 & 0.6666667 & 20.0 & 0.42300 & 600.000\\\\\n",
       "\t Three-toed sloth           & Bradypus   & herbi & Pilosa       & NA           & 14.4 & 2.2 & 0.7666667 &  9.6 &      NA &   3.850\\\\\n",
       "\\end{tabular}\n"
      ],
      "text/markdown": [
       "\n",
       "A tibble: 6 × 11\n",
       "\n",
       "| name &lt;chr&gt; | genus &lt;chr&gt; | vore &lt;chr&gt; | order &lt;chr&gt; | conservation &lt;chr&gt; | sleep_total &lt;dbl&gt; | sleep_rem &lt;dbl&gt; | sleep_cycle &lt;dbl&gt; | awake &lt;dbl&gt; | brainwt &lt;dbl&gt; | bodywt &lt;dbl&gt; |\n",
       "|---|---|---|---|---|---|---|---|---|---|---|\n",
       "| Cheetah                    | Acinonyx   | carni | Carnivora    | lc           | 12.1 |  NA |        NA | 11.9 |      NA |  50.000 |\n",
       "| Owl monkey                 | Aotus      | omni  | Primates     | NA           | 17.0 | 1.8 |        NA |  7.0 | 0.01550 |   0.480 |\n",
       "| Mountain beaver            | Aplodontia | herbi | Rodentia     | nt           | 14.4 | 2.4 |        NA |  9.6 |      NA |   1.350 |\n",
       "| Greater short-tailed shrew | Blarina    | omni  | Soricomorpha | lc           | 14.9 | 2.3 | 0.1333333 |  9.1 | 0.00029 |   0.019 |\n",
       "| Cow                        | Bos        | herbi | Artiodactyla | domesticated |  4.0 | 0.7 | 0.6666667 | 20.0 | 0.42300 | 600.000 |\n",
       "| Three-toed sloth           | Bradypus   | herbi | Pilosa       | NA           | 14.4 | 2.2 | 0.7666667 |  9.6 |      NA |   3.850 |\n",
       "\n"
      ],
      "text/plain": [
       "  name                       genus      vore  order        conservation\n",
       "1 Cheetah                    Acinonyx   carni Carnivora    lc          \n",
       "2 Owl monkey                 Aotus      omni  Primates     NA          \n",
       "3 Mountain beaver            Aplodontia herbi Rodentia     nt          \n",
       "4 Greater short-tailed shrew Blarina    omni  Soricomorpha lc          \n",
       "5 Cow                        Bos        herbi Artiodactyla domesticated\n",
       "6 Three-toed sloth           Bradypus   herbi Pilosa       NA          \n",
       "  sleep_total sleep_rem sleep_cycle awake brainwt bodywt \n",
       "1 12.1         NA              NA   11.9       NA  50.000\n",
       "2 17.0        1.8              NA    7.0  0.01550   0.480\n",
       "3 14.4        2.4              NA    9.6       NA   1.350\n",
       "4 14.9        2.3       0.1333333    9.1  0.00029   0.019\n",
       "5  4.0        0.7       0.6666667   20.0  0.42300 600.000\n",
       "6 14.4        2.2       0.7666667    9.6       NA   3.850"
      ]
     },
     "metadata": {},
     "output_type": "display_data"
    }
   ],
   "source": [
    "library(ggplot2)\n",
    "head(msleep) #dane są z ggplot2"
   ]
  },
  {
   "cell_type": "code",
   "execution_count": 22,
   "id": "9e0c584a",
   "metadata": {
    "id": "9e0c584a",
    "outputId": "63970088-d839-4f78-f43f-993222c50c5d"
   },
   "outputs": [
    {
     "data": {
      "image/png": "[encoded data removed]",
      "text/plain": [
       "plot without title"
      ]
     },
     "metadata": {
      "image/png": {
       "height": 420,
       "width": 420
      }
     },
     "output_type": "display_data"
    }
   ],
   "source": [
    "t = subset(msleep, vore == \"carni\" | vore == \"herbi\")\n",
    "boxplot(sleep_total ~ vore, data = t, col = 5:6)"
   ]
  },
  {
   "cell_type": "code",
   "execution_count": 23,
   "id": "5030ba52",
   "metadata": {
    "id": "5030ba52",
    "outputId": "f1d98f93-77eb-429d-b5b5-bec2a0dcd335"
   },
   "outputs": [
    {
     "data": {
      "text/plain": [
       "\n",
       "\tWilcoxon rank sum test with continuity correction\n",
       "\n",
       "data:  sleep_total by vore\n",
       "W = 325, p-value = 0.6895\n",
       "alternative hypothesis: true location shift is not equal to 0\n"
      ]
     },
     "metadata": {},
     "output_type": "display_data"
    }
   ],
   "source": [
    "wilcox.test(sleep_total ~ vore, data = t,  exact = FALSE)"
   ]
  },
  {
   "cell_type": "markdown",
   "id": "b13ef010",
   "metadata": {
    "id": "b13ef010"
   },
   "source": [
    "- Co jeżeli więcej niż 2 grupy?"
   ]
  },
  {
   "cell_type": "markdown",
   "id": "69b58a9a",
   "metadata": {
    "id": "69b58a9a"
   },
   "source": [
    "<h3> Analiza wariancji (ANOVA)"
   ]
  },
  {
   "cell_type": "markdown",
   "id": "81d5fa6f-fe15-44d5-a36d-5a4600e7d5c0",
   "metadata": {},
   "source": [
    "- niezależność\n",
    "- normalność rozkładu <- istotne dla małych próbek\n",
    "- równość wariancji"
   ]
  },
  {
   "cell_type": "markdown",
   "id": "7f195ab3",
   "metadata": {
    "id": "7f195ab3"
   },
   "source": [
    "- ANOVA Jednoczynnikowa"
   ]
  },
  {
   "cell_type": "code",
   "execution_count": 25,
   "id": "cbb643e5-60d2-4fa3-830c-310ee60add4c",
   "metadata": {},
   "outputs": [],
   "source": [
    "library(faraway)\n",
    "names(coagulation)"
   ]
  },
  {
   "cell_type": "code",
   "execution_count": null,
   "id": "2615c5bd",
   "metadata": {
    "id": "2615c5bd",
    "outputId": "9b41ae3e-2b5a-47ba-bfda-8dc70301a144"
   },
   "outputs": [
    {
     "data": {
      "text/html": [
       "<table>\n",
       "<thead><tr><th scope=col>coag</th><th scope=col>diet</th></tr></thead>\n",
       "<tbody>\n",
       "\t<tr><td>62</td><td>A </td></tr>\n",
       "\t<tr><td>60</td><td>A </td></tr>\n",
       "\t<tr><td>63</td><td>A </td></tr>\n",
       "\t<tr><td>59</td><td>A </td></tr>\n",
       "\t<tr><td>63</td><td>B </td></tr>\n",
       "\t<tr><td>67</td><td>B </td></tr>\n",
       "</tbody>\n",
       "</table>\n"
      ],
      "text/latex": [
       "\\begin{tabular}{r|ll}\n",
       " coag & diet\\\\\n",
       "\\hline\n",
       "\t 62 & A \\\\\n",
       "\t 60 & A \\\\\n",
       "\t 63 & A \\\\\n",
       "\t 59 & A \\\\\n",
       "\t 63 & B \\\\\n",
       "\t 67 & B \\\\\n",
       "\\end{tabular}\n"
      ],
      "text/markdown": [
       "\n",
       "| coag | diet |\n",
       "|---|---|\n",
       "| 62 | A  |\n",
       "| 60 | A  |\n",
       "| 63 | A  |\n",
       "| 59 | A  |\n",
       "| 63 | B  |\n",
       "| 67 | B  |\n",
       "\n"
      ],
      "text/plain": [
       "  coag diet\n",
       "1 62   A   \n",
       "2 60   A   \n",
       "3 63   A   \n",
       "4 59   A   \n",
       "5 63   B   \n",
       "6 67   B   "
      ]
     },
     "metadata": {},
     "output_type": "display_data"
    }
   ],
   "source": [
    "head(coagulation) #24 zwierzeta podzielone na 4 grupy ze wzgledu na rodzaj diety (coag = czas koagulacji (krzepniecia) krwi w sekundach)"
   ]
  },
  {
   "cell_type": "code",
   "execution_count": null,
   "id": "582f9eb3",
   "metadata": {
    "id": "582f9eb3",
    "outputId": "bf1e3b07-5608-47c2-8793-9b14d03c6300"
   },
   "outputs": [
    {
     "name": "stdout",
     "output_type": "stream",
     "text": [
      " [1] A A A A B B B B B B C C C C C C D D D D D D D D\n",
      "Levels: A B C D\n"
     ]
    }
   ],
   "source": [
    "print(coagulation$diet)"
   ]
  },
  {
   "cell_type": "code",
   "execution_count": null,
   "id": "0b025f6a",
   "metadata": {
    "id": "0b025f6a"
   },
   "outputs": [],
   "source": [
    "?coagulation"
   ]
  },
  {
   "cell_type": "code",
   "execution_count": null,
   "id": "d5793b9b",
   "metadata": {
    "id": "d5793b9b",
    "outputId": "22caae01-0658-4e59-f2a2-68c7e573a11a"
   },
   "outputs": [
    {
     "data": {
      "image/png": "[encoded data removed]",
      "text/plain": [
       "plot without title"
      ]
     },
     "metadata": {},
     "output_type": "display_data"
    }
   ],
   "source": [
    "plot(coag ~ diet, data = coagulation, col = 2:5) , #dodatkowo mozna sprawdzic print(bartlett.test(coag ~ diet, data = coagulation))"
   ]
  },
  {
   "cell_type": "code",
   "execution_count": null,
   "id": "e841f255",
   "metadata": {
    "id": "e841f255",
    "outputId": "6490a99b-7f5e-4d97-e069-c38e72043aad"
   },
   "outputs": [
    {
     "name": "stdout",
     "output_type": "stream",
     "text": [
      "Call:\n",
      "   aov(formula = coag ~ diet, data = coagulation)\n",
      "\n",
      "Terms:\n",
      "                diet Residuals\n",
      "Sum of Squares   228       112\n",
      "Deg. of Freedom    3        20\n",
      "\n",
      "Residual standard error: 2.366432\n",
      "Estimated effects may be unbalanced\n"
     ]
    }
   ],
   "source": [
    "coag_aov = aov(coag ~ diet, data = coagulation) #test ANOVA\n",
    "print(coag_aov)"
   ]
  },
  {
   "cell_type": "code",
   "execution_count": null,
   "id": "bc987da7",
   "metadata": {
    "id": "bc987da7",
    "outputId": "090b07ce-d396-43c0-9f83-0a20b46e63e4"
   },
   "outputs": [
    {
     "data": {
      "text/plain": [
       "            Df Sum Sq Mean Sq F value   Pr(>F)    \n",
       "diet         3    228    76.0   13.57 4.66e-05 ***\n",
       "Residuals   20    112     5.6                     \n",
       "---\n",
       "Signif. codes:  0 '***' 0.001 '**' 0.01 '*' 0.05 '.' 0.1 ' ' 1"
      ]
     },
     "metadata": {},
     "output_type": "display_data"
    }
   ],
   "source": [
    "summary(coag_aov) #dieta ma wplyw"
   ]
  },
  {
   "cell_type": "code",
   "execution_count": null,
   "id": "e415a198",
   "metadata": {
    "id": "e415a198",
    "outputId": "f4edfd92-46f7-4746-b336-8b22cedab0ae"
   },
   "outputs": [
    {
     "data": {
      "text/html": [
       "<table>\n",
       "<thead><tr><th scope=col>diet</th><th scope=col>coag</th></tr></thead>\n",
       "<tbody>\n",
       "\t<tr><td>A </td><td>61</td></tr>\n",
       "\t<tr><td>B </td><td>66</td></tr>\n",
       "\t<tr><td>C </td><td>68</td></tr>\n",
       "\t<tr><td>D </td><td>61</td></tr>\n",
       "</tbody>\n",
       "</table>\n"
      ],
      "text/latex": [
       "\\begin{tabular}{r|ll}\n",
       " diet & coag\\\\\n",
       "\\hline\n",
       "\t A  & 61\\\\\n",
       "\t B  & 66\\\\\n",
       "\t C  & 68\\\\\n",
       "\t D  & 61\\\\\n",
       "\\end{tabular}\n"
      ],
      "text/markdown": [
       "\n",
       "| diet | coag |\n",
       "|---|---|\n",
       "| A  | 61 |\n",
       "| B  | 66 |\n",
       "| C  | 68 |\n",
       "| D  | 61 |\n",
       "\n"
      ],
      "text/plain": [
       "  diet coag\n",
       "1 A    61  \n",
       "2 B    66  \n",
       "3 C    68  \n",
       "4 D    61  "
      ]
     },
     "metadata": {},
     "output_type": "display_data"
    }
   ],
   "source": [
    "diety = data.frame(diet = unique(coagulation$diet))\n",
    "data.frame(diety, coag = predict(coag_aov, diety)) #srednie przewidziane dla kazdej grupy"
   ]
  },
  {
   "cell_type": "code",
   "execution_count": null,
   "id": "14fd6ec5",
   "metadata": {
    "id": "14fd6ec5",
    "outputId": "da556064-b763-4830-cad0-4f7f587051a6"
   },
   "outputs": [
    {
     "data": {
      "text/plain": [
       "\n",
       "\tPairwise comparisons using t tests with pooled SD \n",
       "\n",
       "data:  coag and diet \n",
       "\n",
       "  A       B       C      \n",
       "B 0.00380 -       -      \n",
       "C 0.00018 0.15878 -      \n",
       "D 1.00000 0.00086 2.3e-05\n",
       "\n",
       "P value adjustment method: none "
      ]
     },
     "metadata": {},
     "output_type": "display_data"
    }
   ],
   "source": [
    "#ale ktore srednie są rozne?\n",
    "with(coagulation, pairwise.t.test(coag, diet, p.adj = \"none\"))"
   ]
  },
  {
   "cell_type": "code",
   "execution_count": null,
   "id": "985d2783",
   "metadata": {
    "id": "985d2783",
    "outputId": "4f274063-ea75-465d-803b-a6c01701fceb"
   },
   "outputs": [
    {
     "data": {
      "text/plain": [
       "\n",
       "\tPairwise comparisons using t tests with pooled SD \n",
       "\n",
       "data:  coag and diet \n",
       "\n",
       "  A       B       C      \n",
       "B 0.02282 -       -      \n",
       "C 0.00108 0.95266 -      \n",
       "D 1.00000 0.00518 0.00014\n",
       "\n",
       "P value adjustment method: bonferroni "
      ]
     },
     "metadata": {},
     "output_type": "display_data"
    }
   ],
   "source": [
    "with(coagulation, pairwise.t.test(coag, diet, p.adj = \"bonferroni\")) #uwzględniając poprawkę Bonferroniego (wielokrotne testowanie); obserwujemy wyzsze wartosci p-value"
   ]
  },
  {
   "cell_type": "code",
   "execution_count": null,
   "id": "c601879f",
   "metadata": {
    "id": "c601879f",
    "outputId": "b9a5f949-ed39-4478-ec26-f35813cd1654"
   },
   "outputs": [
    {
     "data": {
      "text/plain": [
       "  Tukey multiple comparisons of means\n",
       "    95% family-wise confidence level\n",
       "\n",
       "Fit: aov(formula = coag ~ diet, data = coagulation)\n",
       "\n",
       "$diet\n",
       "             diff         lwr       upr     p adj\n",
       "B-A  5.000000e+00   0.7245544  9.275446 0.0183283\n",
       "C-A  7.000000e+00   2.7245544 11.275446 0.0009577\n",
       "D-A -1.421085e-14  -4.0560438  4.056044 1.0000000\n",
       "C-B  2.000000e+00  -1.8240748  5.824075 0.4766005\n",
       "D-B -5.000000e+00  -8.5770944 -1.422906 0.0044114\n",
       "D-C -7.000000e+00 -10.5770944 -3.422906 0.0001268\n"
      ]
     },
     "metadata": {},
     "output_type": "display_data"
    }
   ],
   "source": [
    "#Test HSD Tukeya (stosowany post hoc - po analizie wariancji)\n",
    "TukeyHSD(coag_aov, conf.level = 0.95) #uwzglednia poprawke na wielokrotne powtorzenia"
   ]
  },
  {
   "cell_type": "code",
   "execution_count": null,
   "id": "42153a62",
   "metadata": {
    "id": "42153a62",
    "outputId": "345daa50-a686-4a8f-e85c-aa71ebf48155"
   },
   "outputs": [
    {
     "data": {
      "image/png": "[encoded data removed]",
      "text/plain": [
       "Plot with title \"95% family-wise confidence level\n",
       "\""
      ]
     },
     "metadata": {},
     "output_type": "display_data"
    }
   ],
   "source": [
    "options(repr.plot.width=3, repr.plot.height=5)\n",
    "plot(TukeyHSD(coag_aov, conf.level = 0.95))"
   ]
  },
  {
   "cell_type": "markdown",
   "id": "eea544a2",
   "metadata": {
    "id": "eea544a2"
   },
   "source": [
    "- ANOVA Wieloczynnikowa"
   ]
  },
  {
   "cell_type": "code",
   "execution_count": 40,
   "id": "ckrXL9S7yBjQ",
   "metadata": {
    "colab": {
     "base_uri": "https://localhost:8080/"
    },
    "id": "ckrXL9S7yBjQ",
    "outputId": "8e71a3d1-24d6-46ca-cc2f-bfc002630b54"
   },
   "outputs": [
    {
     "name": "stdout",
     "output_type": "stream",
     "text": [
      "   len supp dose\n",
      "1  4.2   VC  0.5\n",
      "2 11.5   VC  0.5\n",
      "3  7.3   VC  0.5\n",
      "4  5.8   VC  0.5\n",
      "5  6.4   VC  0.5\n",
      "6 10.0   VC  0.5\n"
     ]
    }
   ],
   "source": [
    "d_gp = read.csv(\"gp.csv\")\n",
    "print(head(d_gp)) #efekt witaminy C na wzrost zębów u świnek morskich - dwa czynniki --> rodzaj suplementu i dawka"
   ]
  },
  {
   "cell_type": "code",
   "execution_count": 41,
   "id": "SMlJxfgLs-7p",
   "metadata": {
    "id": "SMlJxfgLs-7p"
   },
   "outputs": [],
   "source": [
    "d_gp$dose = as.factor(d_gp$dose)"
   ]
  },
  {
   "cell_type": "code",
   "execution_count": 43,
   "id": "0c53ec2e-1ef3-497a-b55b-dca3cfb3f79c",
   "metadata": {
    "colab": {
     "base_uri": "https://localhost:8080/",
     "height": 144
    },
    "id": "0c53ec2e-1ef3-497a-b55b-dca3cfb3f79c",
    "outputId": "93e29c0f-8233-466b-91fd-f4f3115c4dde"
   },
   "outputs": [
    {
     "data": {
      "text/plain": [
       "      len             supp            dose   \n",
       " Min.   : 4.200   Length:40          0.5:20  \n",
       " 1st Qu.: 9.925   Class :character   1  :20  \n",
       " Median :15.200   Mode  :character           \n",
       " Mean   :15.170                              \n",
       " 3rd Qu.:19.775                              \n",
       " Max.   :27.300                              "
      ]
     },
     "metadata": {},
     "output_type": "display_data"
    }
   ],
   "source": [
    "summary(d_gp)"
   ]
  },
  {
   "cell_type": "code",
   "execution_count": 66,
   "id": "c811df87-507b-44ed-96fb-53d840a3659d",
   "metadata": {
    "colab": {
     "base_uri": "https://localhost:8080/",
     "height": 317
    },
    "id": "c811df87-507b-44ed-96fb-53d840a3659d",
    "outputId": "5f60d2ea-a715-4d2f-cc44-f07f33c40403"
   },
   "outputs": [
    {
     "data": {
      "image/png": "[encoded data removed]",
      "text/plain": [
       "plot without title"
      ]
     },
     "metadata": {
      "image/png": {
       "height": 300,
       "width": 600
      }
     },
     "output_type": "display_data"
    }
   ],
   "source": [
    "options(repr.plot.width=10, repr.plot.height=5)\n",
    "\n",
    "par(mfrow = c(1, 2))\n",
    "with(d_gp, interaction.plot(supp, dose, len, lwd = 2, col = 1:2))\n",
    "with(d_gp, interaction.plot(dose, supp, len, lwd = 2, col = 1:2))"
   ]
  },
  {
   "cell_type": "code",
   "execution_count": 46,
   "id": "B1S7Jat1r7gq",
   "metadata": {
    "colab": {
     "base_uri": "https://localhost:8080/"
    },
    "id": "B1S7Jat1r7gq",
    "outputId": "eeb400e5-24ca-4fd6-835f-670539d83073"
   },
   "outputs": [
    {
     "name": "stdout",
     "output_type": "stream",
     "text": [
      "            Df Sum Sq Mean Sq F value  Pr(>F)   \n",
      "supp         1  312.5  312.48   9.304 0.00415 **\n",
      "Residuals   38 1276.2   33.58                   \n",
      "---\n",
      "Signif. codes:  0 ‘***’ 0.001 ‘**’ 0.01 ‘*’ 0.05 ‘.’ 0.1 ‘ ’ 1\n"
     ]
    }
   ],
   "source": [
    "model_supp = aov(len~supp, data = d_gp)\n",
    "print(summary(model_supp))"
   ]
  },
  {
   "cell_type": "code",
   "execution_count": 47,
   "id": "-KDwFek4r7jQ",
   "metadata": {
    "colab": {
     "base_uri": "https://localhost:8080/"
    },
    "id": "-KDwFek4r7jQ",
    "outputId": "f2046870-7b10-4b1e-fe95-3e46c29c0270"
   },
   "outputs": [
    {
     "name": "stdout",
     "output_type": "stream",
     "text": [
      "            Df Sum Sq Mean Sq F value   Pr(>F)    \n",
      "dose         1  833.6   833.6   41.95 1.27e-07 ***\n",
      "Residuals   38  755.1    19.9                     \n",
      "---\n",
      "Signif. codes:  0 ‘***’ 0.001 ‘**’ 0.01 ‘*’ 0.05 ‘.’ 0.1 ‘ ’ 1\n"
     ]
    }
   ],
   "source": [
    "model_dose = aov(len~dose, data = d_gp)\n",
    "print(summary(model_dose))"
   ]
  },
  {
   "cell_type": "code",
   "execution_count": 48,
   "id": "_SekUHeFr56B",
   "metadata": {
    "colab": {
     "base_uri": "https://localhost:8080/"
    },
    "id": "_SekUHeFr56B",
    "outputId": "5025b05b-aceb-4e0d-971d-91fa473b68fe"
   },
   "outputs": [
    {
     "name": "stdout",
     "output_type": "stream",
     "text": [
      "            Df Sum Sq Mean Sq F value   Pr(>F)    \n",
      "supp         1  312.5   312.5   26.12 1.00e-05 ***\n",
      "dose         1  833.6   833.6   69.67 4.95e-10 ***\n",
      "Residuals   37  442.7    12.0                     \n",
      "---\n",
      "Signif. codes:  0 ‘***’ 0.001 ‘**’ 0.01 ‘*’ 0.05 ‘.’ 0.1 ‘ ’ 1\n"
     ]
    }
   ],
   "source": [
    "model_add = aov(len~supp+dose, data = d_gp)\n",
    "print(summary(model_add))"
   ]
  },
  {
   "cell_type": "code",
   "execution_count": 49,
   "id": "ljKpslfKsqkb",
   "metadata": {
    "colab": {
     "base_uri": "https://localhost:8080/"
    },
    "id": "ljKpslfKsqkb",
    "outputId": "0ddf9808-b910-4b05-f108-8b3a1719de11"
   },
   "outputs": [
    {
     "name": "stdout",
     "output_type": "stream",
     "text": [
      "            Df Sum Sq Mean Sq F value   Pr(>F)    \n",
      "supp         1  312.5   312.5  25.480 1.30e-05 ***\n",
      "dose         1  833.6   833.6  67.970 8.25e-10 ***\n",
      "supp:dose    1    1.2     1.2   0.094    0.761    \n",
      "Residuals   36  441.5    12.3                     \n",
      "---\n",
      "Signif. codes:  0 ‘***’ 0.001 ‘**’ 0.01 ‘*’ 0.05 ‘.’ 0.1 ‘ ’ 1\n"
     ]
    }
   ],
   "source": [
    "model_int = aov(len~supp*dose, data = d_gp)\n",
    "print(summary(model_int))"
   ]
  },
  {
   "cell_type": "code",
   "execution_count": 51,
   "id": "mp6wisFfsqnC",
   "metadata": {
    "colab": {
     "base_uri": "https://localhost:8080/"
    },
    "id": "mp6wisFfsqnC",
    "outputId": "f74cf8ca-88a0-4c73-b6e9-af5c9458ef7f"
   },
   "outputs": [
    {
     "name": "stdout",
     "output_type": "stream",
     "text": [
      "Analysis of Variance Table\n",
      "\n",
      "Model 1: len ~ supp + dose\n",
      "Model 2: len ~ supp * dose\n",
      "  Res.Df    RSS Df Sum of Sq      F Pr(>F)\n",
      "1     37 442.65                           \n",
      "2     36 441.50  1     1.156 0.0943 0.7606\n"
     ]
    }
   ],
   "source": [
    "print(anova(model_add, model_int)) #czy model rozszerzony jest istotnie lepszy?"
   ]
  },
  {
   "cell_type": "code",
   "execution_count": 52,
   "id": "015e6800",
   "metadata": {
    "colab": {
     "base_uri": "https://localhost:8080/",
     "height": 235
    },
    "id": "015e6800",
    "outputId": "0e038558-8ddd-49a2-b086-68aacbfbe6b4"
   },
   "outputs": [
    {
     "data": {
      "text/plain": [
       "  Tukey multiple comparisons of means\n",
       "    95% family-wise confidence level\n",
       "\n",
       "Fit: aov(formula = len ~ supp + dose, data = d_gp)\n",
       "\n",
       "$supp\n",
       "       diff       lwr       upr p adj\n",
       "VC-OJ -5.59 -7.806216 -3.373784 1e-05\n",
       "\n",
       "$dose\n",
       "      diff      lwr      upr p adj\n",
       "1-0.5 9.13 6.913784 11.34622     0\n"
      ]
     },
     "metadata": {},
     "output_type": "display_data"
    }
   ],
   "source": [
    "TukeyHSD(aov(len~supp+dose, data = d_gp))"
   ]
  },
  {
   "cell_type": "code",
   "execution_count": 53,
   "id": "65b1240f",
   "metadata": {
    "colab": {
     "base_uri": "https://localhost:8080/",
     "height": 617
    },
    "id": "65b1240f",
    "outputId": "c2518bd2-c21b-4541-ab59-ec68b21c92f2"
   },
   "outputs": [
    {
     "data": {
      "image/png": "[encoded data removed]",
      "text/plain": [
       "Plot with title “95% family-wise confidence level\n",
       "”"
      ]
     },
     "metadata": {
      "image/png": {
       "height": 300,
       "width": 600
      }
     },
     "output_type": "display_data"
    },
    {
     "data": {
      "image/png": "[encoded data removed]",
      "text/plain": [
       "Plot with title “95% family-wise confidence level\n",
       "”"
      ]
     },
     "metadata": {
      "image/png": {
       "height": 300,
       "width": 600
      }
     },
     "output_type": "display_data"
    }
   ],
   "source": [
    "plot(TukeyHSD(aov(len~supp+dose, data = d_gp)))"
   ]
  },
  {
   "cell_type": "markdown",
   "id": "bf9aded7",
   "metadata": {
    "id": "bf9aded7"
   },
   "source": [
    "<h4> Zadanie2: Rozważ dane $warpbreaks$. Czego dotyczą te dane? Narysuj odpowiednie wykresy interakcji pomiędzy wool and tension. Wykonaj test anova. Czy zachodzi tutaj interakcja? Skomentuj otrzymane wyniki."
   ]
  },
  {
   "cell_type": "code",
   "execution_count": 54,
   "id": "c415d349",
   "metadata": {
    "id": "c415d349"
   },
   "outputs": [],
   "source": [
    "?warpbreaks"
   ]
  },
  {
   "cell_type": "code",
   "execution_count": 55,
   "id": "a58fb147",
   "metadata": {
    "colab": {
     "base_uri": "https://localhost:8080/",
     "height": 286
    },
    "id": "a58fb147",
    "outputId": "6be7e08b-aad8-4c86-93fe-101ef4d8c391"
   },
   "outputs": [
    {
     "data": {
      "text/html": [
       "<table class=\"dataframe\">\n",
       "<caption>A data.frame: 6 × 3</caption>\n",
       "<thead>\n",
       "\t<tr><th></th><th scope=col>breaks</th><th scope=col>wool</th><th scope=col>tension</th></tr>\n",
       "\t<tr><th></th><th scope=col>&lt;dbl&gt;</th><th scope=col>&lt;fct&gt;</th><th scope=col>&lt;fct&gt;</th></tr>\n",
       "</thead>\n",
       "<tbody>\n",
       "\t<tr><th scope=row>1</th><td>26</td><td>A</td><td>L</td></tr>\n",
       "\t<tr><th scope=row>2</th><td>30</td><td>A</td><td>L</td></tr>\n",
       "\t<tr><th scope=row>3</th><td>54</td><td>A</td><td>L</td></tr>\n",
       "\t<tr><th scope=row>4</th><td>25</td><td>A</td><td>L</td></tr>\n",
       "\t<tr><th scope=row>5</th><td>70</td><td>A</td><td>L</td></tr>\n",
       "\t<tr><th scope=row>6</th><td>52</td><td>A</td><td>L</td></tr>\n",
       "</tbody>\n",
       "</table>\n"
      ],
      "text/latex": [
       "A data.frame: 6 × 3\n",
       "\\begin{tabular}{r|lll}\n",
       "  & breaks & wool & tension\\\\\n",
       "  & <dbl> & <fct> & <fct>\\\\\n",
       "\\hline\n",
       "\t1 & 26 & A & L\\\\\n",
       "\t2 & 30 & A & L\\\\\n",
       "\t3 & 54 & A & L\\\\\n",
       "\t4 & 25 & A & L\\\\\n",
       "\t5 & 70 & A & L\\\\\n",
       "\t6 & 52 & A & L\\\\\n",
       "\\end{tabular}\n"
      ],
      "text/markdown": [
       "\n",
       "A data.frame: 6 × 3\n",
       "\n",
       "| <!--/--> | breaks &lt;dbl&gt; | wool &lt;fct&gt; | tension &lt;fct&gt; |\n",
       "|---|---|---|---|\n",
       "| 1 | 26 | A | L |\n",
       "| 2 | 30 | A | L |\n",
       "| 3 | 54 | A | L |\n",
       "| 4 | 25 | A | L |\n",
       "| 5 | 70 | A | L |\n",
       "| 6 | 52 | A | L |\n",
       "\n"
      ],
      "text/plain": [
       "  breaks wool tension\n",
       "1 26     A    L      \n",
       "2 30     A    L      \n",
       "3 54     A    L      \n",
       "4 25     A    L      \n",
       "5 70     A    L      \n",
       "6 52     A    L      "
      ]
     },
     "metadata": {},
     "output_type": "display_data"
    }
   ],
   "source": [
    "head(warpbreaks)"
   ]
  },
  {
   "cell_type": "markdown",
   "id": "15be5c5b-c787-4906-8bdf-e7f6cf3dcd98",
   "metadata": {},
   "source": [
    "<h4> Zadanie3: Rozważ dane AD.csv dotyczące pacjentów (kontrola vs choroba Alzheimera).\n",
    "    \n",
    "- Sprawdź czy średnia objętość hippokampa (HippoNV) różni się istonie między kontrolą a chorymi (DX_bl).\n",
    "- Wybierz kolumny 8, 9 (warianty genu APOE) oraz 17 (wynik testu MMSE - stosowany w diagnostyce demencji). Zbadaj wpływ polimorfizmu APOE na wynik testu MMSE. Czy któryś z wariantów może być uznany za istotny czynnik ryzyka?"
   ]
  },
  {
   "cell_type": "markdown",
   "id": "42130e5b",
   "metadata": {
    "id": "42130e5b"
   },
   "source": [
    "<h3> Test Kruskala-Wallisa"
   ]
  },
  {
   "cell_type": "markdown",
   "id": "286009cb",
   "metadata": {
    "id": "286009cb"
   },
   "source": [
    "- stosujemy gdy problem z założeniem normalności (ciągle jednak zakładamy równe wariancje); zadajemy pytanie czy grupy mają równe mediany (H0)"
   ]
  },
  {
   "cell_type": "code",
   "execution_count": null,
   "id": "42b00d33",
   "metadata": {
    "id": "42b00d33",
    "outputId": "8ab15588-54ef-4b6a-dfbf-1dfd832bb1fd"
   },
   "outputs": [
    {
     "data": {
      "text/html": [
       "<table>\n",
       "<thead><tr><th scope=col>Sex</th><th scope=col>Wr.Hnd</th><th scope=col>NW.Hnd</th><th scope=col>W.Hnd</th><th scope=col>Fold</th><th scope=col>Pulse</th><th scope=col>Clap</th><th scope=col>Exer</th><th scope=col>Smoke</th><th scope=col>Height</th><th scope=col>M.I</th><th scope=col>Age</th></tr></thead>\n",
       "<tbody>\n",
       "\t<tr><td>Female  </td><td>18.5    </td><td>18.0    </td><td>Right   </td><td>R on L  </td><td> 92     </td><td>Left    </td><td>Some    </td><td>Never   </td><td>173.00  </td><td>Metric  </td><td>18.250  </td></tr>\n",
       "\t<tr><td>Male    </td><td>19.5    </td><td>20.5    </td><td>Left    </td><td>R on L  </td><td>104     </td><td>Left    </td><td>None    </td><td>Regul   </td><td>177.80  </td><td>Imperial</td><td>17.583  </td></tr>\n",
       "\t<tr><td>Male    </td><td>18.0    </td><td>13.3    </td><td>Right   </td><td>L on R  </td><td> 87     </td><td>Neither </td><td>None    </td><td>Occas   </td><td>    NA  </td><td>NA      </td><td>16.917  </td></tr>\n",
       "\t<tr><td>Male    </td><td>18.8    </td><td>18.9    </td><td>Right   </td><td>R on L  </td><td> NA     </td><td>Neither </td><td>None    </td><td>Never   </td><td>160.00  </td><td>Metric  </td><td>20.333  </td></tr>\n",
       "\t<tr><td>Male    </td><td>20.0    </td><td>20.0    </td><td>Right   </td><td>Neither </td><td> 35     </td><td>Right   </td><td>Some    </td><td>Never   </td><td>165.00  </td><td>Metric  </td><td>23.667  </td></tr>\n",
       "\t<tr><td>Female  </td><td>18.0    </td><td>17.7    </td><td>Right   </td><td>L on R  </td><td> 64     </td><td>Right   </td><td>Some    </td><td>Never   </td><td>172.72  </td><td>Imperial</td><td>21.000  </td></tr>\n",
       "</tbody>\n",
       "</table>\n"
      ],
      "text/latex": [
       "\\begin{tabular}{r|llllllllllll}\n",
       " Sex & Wr.Hnd & NW.Hnd & W.Hnd & Fold & Pulse & Clap & Exer & Smoke & Height & M.I & Age\\\\\n",
       "\\hline\n",
       "\t Female   & 18.5     & 18.0     & Right    & R on L   &  92      & Left     & Some     & Never    & 173.00   & Metric   & 18.250  \\\\\n",
       "\t Male     & 19.5     & 20.5     & Left     & R on L   & 104      & Left     & None     & Regul    & 177.80   & Imperial & 17.583  \\\\\n",
       "\t Male     & 18.0     & 13.3     & Right    & L on R   &  87      & Neither  & None     & Occas    &     NA   & NA       & 16.917  \\\\\n",
       "\t Male     & 18.8     & 18.9     & Right    & R on L   &  NA      & Neither  & None     & Never    & 160.00   & Metric   & 20.333  \\\\\n",
       "\t Male     & 20.0     & 20.0     & Right    & Neither  &  35      & Right    & Some     & Never    & 165.00   & Metric   & 23.667  \\\\\n",
       "\t Female   & 18.0     & 17.7     & Right    & L on R   &  64      & Right    & Some     & Never    & 172.72   & Imperial & 21.000  \\\\\n",
       "\\end{tabular}\n"
      ],
      "text/markdown": [
       "\n",
       "| Sex | Wr.Hnd | NW.Hnd | W.Hnd | Fold | Pulse | Clap | Exer | Smoke | Height | M.I | Age |\n",
       "|---|---|---|---|---|---|---|---|---|---|---|---|\n",
       "| Female   | 18.5     | 18.0     | Right    | R on L   |  92      | Left     | Some     | Never    | 173.00   | Metric   | 18.250   |\n",
       "| Male     | 19.5     | 20.5     | Left     | R on L   | 104      | Left     | None     | Regul    | 177.80   | Imperial | 17.583   |\n",
       "| Male     | 18.0     | 13.3     | Right    | L on R   |  87      | Neither  | None     | Occas    |     NA   | NA       | 16.917   |\n",
       "| Male     | 18.8     | 18.9     | Right    | R on L   |  NA      | Neither  | None     | Never    | 160.00   | Metric   | 20.333   |\n",
       "| Male     | 20.0     | 20.0     | Right    | Neither  |  35      | Right    | Some     | Never    | 165.00   | Metric   | 23.667   |\n",
       "| Female   | 18.0     | 17.7     | Right    | L on R   |  64      | Right    | Some     | Never    | 172.72   | Imperial | 21.000   |\n",
       "\n"
      ],
      "text/plain": [
       "  Sex    Wr.Hnd NW.Hnd W.Hnd Fold    Pulse Clap    Exer Smoke Height M.I     \n",
       "1 Female 18.5   18.0   Right R on L   92   Left    Some Never 173.00 Metric  \n",
       "2 Male   19.5   20.5   Left  R on L  104   Left    None Regul 177.80 Imperial\n",
       "3 Male   18.0   13.3   Right L on R   87   Neither None Occas     NA NA      \n",
       "4 Male   18.8   18.9   Right R on L   NA   Neither None Never 160.00 Metric  \n",
       "5 Male   20.0   20.0   Right Neither  35   Right   Some Never 165.00 Metric  \n",
       "6 Female 18.0   17.7   Right L on R   64   Right   Some Never 172.72 Imperial\n",
       "  Age   \n",
       "1 18.250\n",
       "2 17.583\n",
       "3 16.917\n",
       "4 20.333\n",
       "5 23.667\n",
       "6 21.000"
      ]
     },
     "metadata": {},
     "output_type": "display_data"
    }
   ],
   "source": [
    "library(MASS) #tam m.in. jest zbior survey\n",
    "head(survey)"
   ]
  },
  {
   "cell_type": "code",
   "execution_count": null,
   "id": "b2d15ec4",
   "metadata": {
    "id": "b2d15ec4",
    "outputId": "7cd23577-cfe0-42e1-92dc-7737af97e90a"
   },
   "outputs": [
    {
     "data": {
      "image/png": "[encoded data removed]",
      "text/plain": [
       "Plot with title \"Normal QQ plot of residuals\""
      ]
     },
     "metadata": {},
     "output_type": "display_data"
    }
   ],
   "source": [
    "options(repr.plot.width=10, repr.plot.height=5)\n",
    "\n",
    "par(mfrow = c(1, 2))\n",
    "boxplot(Age~Smoke,data=survey)\n",
    "age.means <- tapply(survey$Age,survey$Smoke,mean) #srednia z wieku wg Smoke\n",
    "age.meancen <- survey$Age-age.means[as.numeric(survey$Smoke)]\n",
    "qqnorm(age.meancen,main=\"Normal QQ plot of residuals\")\n",
    "qqline(age.meancen)"
   ]
  },
  {
   "cell_type": "code",
   "execution_count": null,
   "id": "4e48d00e",
   "metadata": {
    "id": "4e48d00e",
    "outputId": "438665d0-8c5b-4655-e7df-70c6288a51ce"
   },
   "outputs": [
    {
     "data": {
      "text/html": [
       "<dl class=dl-horizontal>\n",
       "\t<dt>Heavy</dt>\n",
       "\t\t<dd>21.394</dd>\n",
       "\t<dt>Never</dt>\n",
       "\t\t<dd>20.2615079365079</dd>\n",
       "\t<dt>Occas</dt>\n",
       "\t\t<dd>20.3421578947368</dd>\n",
       "\t<dt>Regul</dt>\n",
       "\t\t<dd>21.1274705882353</dd>\n",
       "</dl>\n"
      ],
      "text/latex": [
       "\\begin{description*}\n",
       "\\item[Heavy] 21.394\n",
       "\\item[Never] 20.2615079365079\n",
       "\\item[Occas] 20.3421578947368\n",
       "\\item[Regul] 21.1274705882353\n",
       "\\end{description*}\n"
      ],
      "text/markdown": [
       "Heavy\n",
       ":   21.394Never\n",
       ":   20.2615079365079Occas\n",
       ":   20.3421578947368Regul\n",
       ":   21.1274705882353\n",
       "\n"
      ],
      "text/plain": [
       "   Heavy    Never    Occas    Regul \n",
       "21.39400 20.26151 20.34216 21.12747 "
      ]
     },
     "metadata": {},
     "output_type": "display_data"
    }
   ],
   "source": [
    "age.means"
   ]
  },
  {
   "cell_type": "code",
   "execution_count": null,
   "id": "969ec8db",
   "metadata": {
    "id": "969ec8db",
    "outputId": "d2f020cb-564d-42b4-c5ca-dde30a593503"
   },
   "outputs": [
    {
     "data": {
      "text/plain": [
       "\n",
       "\tKruskal-Wallis rank sum test\n",
       "\n",
       "data:  Age by Smoke\n",
       "Kruskal-Wallis chi-squared = 3.9262, df = 3, p-value = 0.2695\n"
      ]
     },
     "metadata": {},
     "output_type": "display_data"
    }
   ],
   "source": [
    "kruskal.test(Age~Smoke,data=survey) #nie wskazuje na istotną roznicę"
   ]
  },
  {
   "cell_type": "markdown",
   "id": "7891998d",
   "metadata": {
    "id": "7891998d"
   },
   "source": [
    "<h3> Uzupełnienie"
   ]
  },
  {
   "cell_type": "code",
   "execution_count": null,
   "id": "8619edcb",
   "metadata": {
    "id": "8619edcb",
    "outputId": "6480468d-2502-41e8-c6e1-58a7c9ddbe29"
   },
   "outputs": [
    {
     "data": {
      "image/png": "[encoded data removed]",
      "text/plain": [
       "plot without title"
      ]
     },
     "metadata": {},
     "output_type": "display_data"
    }
   ],
   "source": [
    "options(repr.plot.width=3, repr.plot.height=3)\n",
    "y = c(0.38,1.43,1.2,1.45,1.44,0.98,6.91,2.28,1.02,0.55,1.18,0.59,0.41,1.08,0.75,1.99,0.14,1.64,2.54,1.94,1.7,1.04,0.67,2.59,0.34,0.48,0.4,0.25,0.3,8.07,5.41,10.9,3.85,0.59,1.61,0.48,1.71,0.78,0.74,0.49,1.07,3.18,19.53,0.37,0.46,2.71,1.01,1.3,4.98,0.78)\n",
    "boxplot(y)"
   ]
  },
  {
   "cell_type": "code",
   "execution_count": null,
   "id": "787372bb",
   "metadata": {
    "id": "787372bb",
    "outputId": "50d3a75d-e1f4-4cf7-853e-68e06bbcc187"
   },
   "outputs": [
    {
     "data": {
      "text/plain": [
       "\n",
       "\tShapiro-Wilk normality test\n",
       "\n",
       "data:  y\n",
       "W = 0.55292, p-value = 4.139e-11\n"
      ]
     },
     "metadata": {},
     "output_type": "display_data"
    }
   ],
   "source": [
    "shapiro.test(y)"
   ]
  },
  {
   "cell_type": "code",
   "execution_count": null,
   "id": "fbfc2d4c",
   "metadata": {
    "id": "fbfc2d4c",
    "outputId": "a680911d-9248-4d04-8d54-2a64556162dc"
   },
   "outputs": [
    {
     "data": {
      "image/png": "[encoded data removed]",
      "text/plain": [
       "plot without title"
      ]
     },
     "metadata": {},
     "output_type": "display_data"
    }
   ],
   "source": [
    "#transformacja danych\n",
    "\n",
    "y2 = log(y)\n",
    "boxplot(y2)"
   ]
  },
  {
   "cell_type": "code",
   "execution_count": null,
   "id": "af6188cb",
   "metadata": {
    "id": "af6188cb",
    "outputId": "9b91100b-2bee-46e3-fca2-55aab2966d04"
   },
   "outputs": [
    {
     "data": {
      "text/plain": [
       "\n",
       "\tShapiro-Wilk normality test\n",
       "\n",
       "data:  y2\n",
       "W = 0.97701, p-value = 0.434\n"
      ]
     },
     "metadata": {},
     "output_type": "display_data"
    }
   ],
   "source": [
    "shapiro.test(y2)"
   ]
  },
  {
   "cell_type": "markdown",
   "id": "80adcfa2",
   "metadata": {
    "id": "80adcfa2"
   },
   "source": [
    "<h4> Zadanie4: Zaproponuj transformację danych tak aby rozkład danych po tej operacji był normalny. Wyświetl nowe dane."
   ]
  },
  {
   "cell_type": "code",
   "execution_count": 3,
   "id": "b478b920",
   "metadata": {
    "id": "b478b920",
    "outputId": "a16bdf36-9b60-418c-bfff-3dda5514e325"
   },
   "outputs": [
    {
     "data": {
      "image/png": "[encoded data removed]",
      "text/plain": [
       "plot without title"
      ]
     },
     "metadata": {
      "image/png": {
       "height": 300,
       "width": 300
      }
     },
     "output_type": "display_data"
    }
   ],
   "source": [
    "options(repr.plot.width=5, repr.plot.height=5)\n",
    "y = c(-0.11,6.26,0.07,-0.29,-0.16,1.1,0,1.41,5.33,-1.7,0.4,-1.66,-0.83,-0.02,0,-0.06,-0.01,-0.08,-0.18,-8.74,1.24,-0.41,-1.87,0.93,0.01,9.97,0.11,0.01,2.78,-0.32,0.01,-0.22,0.44,0.01,-8.62,0.02,0.08,-12.39,0,0.17,0.1,-2.78,3.51,0.06,-0.01,0,0.08,-1.37,0.02,0)\n",
    "boxplot(y)"
   ]
  }
 ],
 "metadata": {
  "colab": {
   "provenance": []
  },
  "kernelspec": {
   "display_name": "R",
   "language": "R",
   "name": "ir"
  },
  "language_info": {
   "codemirror_mode": "r",
   "file_extension": ".r",
   "mimetype": "text/x-r-source",
   "name": "R",
   "pygments_lexer": "r",
   "version": "4.3.3"
  }
 },
 "nbformat": 4,
 "nbformat_minor": 5
}
