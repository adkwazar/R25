{
 "cells": [
  {
   "cell_type": "markdown",
   "id": "cd1ace0e",
   "metadata": {
    "id": "cd1ace0e"
   },
   "source": [
    "<h3> Estymacja parametrów i testowanie hipotez odnośnie rozkładu"
   ]
  },
  {
   "cell_type": "code",
   "execution_count": null,
   "id": "ccffe673",
   "metadata": {
    "id": "ccffe673"
   },
   "outputs": [],
   "source": [
    "options(repr.plot.width=3, repr.plot.height=3)"
   ]
  },
  {
   "cell_type": "markdown",
   "id": "83073ba5",
   "metadata": {
    "id": "83073ba5"
   },
   "source": [
    "<h4> Metoda największej wiarygodności i metoda momentów"
   ]
  },
  {
   "cell_type": "markdown",
   "id": "85f6060f-6afc-4db0-8eaf-52af469dacc7",
   "metadata": {},
   "source": [
    "- metoda momentów"
   ]
  },
  {
   "cell_type": "markdown",
   "id": "60caf3bf",
   "metadata": {
    "id": "60caf3bf"
   },
   "source": [
    "<h4> Zadanie1: Dane są następujące wyniki 4,2,4,5,7,2,3,5,4,2,1,5,1,4,2,2,3,5,3,0. Zakładajac, że pochodzą one z rozkładu Poissona oszacuj parametr $\\lambda$ (metoda momentów)."
   ]
  },
  {
   "cell_type": "markdown",
   "id": "17064d02",
   "metadata": {
    "id": "17064d02"
   },
   "source": [
    "<h4> Zadanie2: Dane są następujące wyniki 0.272,0.147,0.146,0.038,0.444,0.032,0.014,0.737,0.078,0.082,0.304,0.383,0.004,0.099,0.399, 0.434,0.07,0.006,0.173,0.408. Zakładając, że dane pochodzą z rozkładu wykładniczego oszacuj parametr $\\lambda$ (metoda momentów)."
   ]
  },
  {
   "cell_type": "markdown",
   "id": "f7a521f3-d2fa-4453-84ca-135ea11ff779",
   "metadata": {},
   "source": [
    "- metoda największej wiarygodności"
   ]
  },
  {
   "cell_type": "markdown",
   "id": "1fba2299-c45b-46bd-a16f-db5878ad9be7",
   "metadata": {},
   "source": [
    "Przykład: Rzucamy 50 razy monetą. Kolejne rzuty to: O, O, R, ... , R - łącznie orzeł wypadł 30 razy, reszka 20. Jakie jest prawdopodobieństwo otrzymania takiego ciągu zdarzeń jeżeli:\n",
    "\n",
    "a) zakładamy, że moneta którą rzucamy jest symetryczna \n",
    "\n",
    "b) prawdopodobieństwo orła w pojedynczym rzucie wynosi 0.4\n",
    "\n",
    "c) prawdopodobieństwo orła w pojedynczym rzucie wynosi 0.6\n",
    "\n",
    "d) prawdopodobieństwo orła w pojedynczym rzucie wynosi 0.7"
   ]
  },
  {
   "cell_type": "code",
   "execution_count": 40,
   "id": "6bf1dae8-2973-44d0-9108-5e44dab3ef4a",
   "metadata": {},
   "outputs": [
    {
     "data": {
      "text/html": [
       "8.88178419700125e-16"
      ],
      "text/latex": [
       "8.88178419700125e-16"
      ],
      "text/markdown": [
       "8.88178419700125e-16"
      ],
      "text/plain": [
       "[1] 8.881784e-16"
      ]
     },
     "metadata": {},
     "output_type": "display_data"
    }
   ],
   "source": [
    "(0.5)^30 * (0.5)^20"
   ]
  },
  {
   "cell_type": "code",
   "execution_count": 41,
   "id": "e15bbc11-eb02-4289-ad0d-28b942449467",
   "metadata": {},
   "outputs": [
    {
     "data": {
      "text/html": [
       "4.21526368979843e-17"
      ],
      "text/latex": [
       "4.21526368979843e-17"
      ],
      "text/markdown": [
       "4.21526368979843e-17"
      ],
      "text/plain": [
       "[1] 4.215264e-17"
      ]
     },
     "metadata": {},
     "output_type": "display_data"
    }
   ],
   "source": [
    "(0.4)^30 * (0.6)^20"
   ]
  },
  {
   "cell_type": "code",
   "execution_count": 42,
   "id": "505b824c-55dc-465e-9cfe-932b70e3ec27",
   "metadata": {},
   "outputs": [
    {
     "data": {
      "text/html": [
       "2.43073345330964e-15"
      ],
      "text/latex": [
       "2.43073345330964e-15"
      ],
      "text/markdown": [
       "2.43073345330964e-15"
      ],
      "text/plain": [
       "[1] 2.430733e-15"
      ]
     },
     "metadata": {},
     "output_type": "display_data"
    }
   ],
   "source": [
    "(0.6)^30 * (0.4)^20"
   ]
  },
  {
   "cell_type": "code",
   "execution_count": 1,
   "id": "e0abc030-b699-477e-b28d-69214706e272",
   "metadata": {},
   "outputs": [
    {
     "data": {
      "text/html": [
       "7.85898201344164e-16"
      ],
      "text/latex": [
       "7.85898201344164e-16"
      ],
      "text/markdown": [
       "7.85898201344164e-16"
      ],
      "text/plain": [
       "[1] 7.858982e-16"
      ]
     },
     "metadata": {},
     "output_type": "display_data"
    }
   ],
   "source": [
    "(0.7)^30 * (0.3)^20"
   ]
  },
  {
   "cell_type": "markdown",
   "id": "326cad2c-3354-4f25-8b0f-3a308a511fd9",
   "metadata": {},
   "source": [
    "Wniosek: Przy $p=0.6$ obserwowany ciąg zdarzeń jest najbardziej prawdopodobny."
   ]
  },
  {
   "cell_type": "markdown",
   "id": "0858b8db",
   "metadata": {
    "id": "0858b8db"
   },
   "source": [
    "- W R została zaimplementowana metoda najwiekszej wiarygodnosci."
   ]
  },
  {
   "cell_type": "code",
   "execution_count": 1,
   "id": "34406471",
   "metadata": {
    "colab": {
     "base_uri": "https://localhost:8080/",
     "height": 71
    },
    "id": "34406471",
    "outputId": "4d7af9c0-e556-4dba-a8db-4ba52c669f1b"
   },
   "outputs": [
    {
     "data": {
      "text/plain": [
       "     rate   \n",
       "  0.3333333 \n",
       " (0.1490712)"
      ]
     },
     "metadata": {},
     "output_type": "display_data"
    }
   ],
   "source": [
    "x = c(1,1,5,5,3)\n",
    "library(MASS)\n",
    "fitdistr(x, \"exponential\")"
   ]
  },
  {
   "cell_type": "markdown",
   "id": "637d5f69-3c34-474f-bead-19a5576511f2",
   "metadata": {},
   "source": [
    "<h4> Zadanie3: Poniżej wygenerowano 1000 liczb z rokładu gamma $G(k=2, \\theta =3)$. Rozkład ten posiada dwa parametry: kształtu $k$ (shape) oraz skali $\\theta$ (scale); czasem zamiast tego drugiego stosuje się też $r=\\frac{1}{\\theta}$ (rate). W przypadku rozkładu gamma $EX=k\\theta$, $D^2X=k\\theta^2$. \n",
    "    \n",
    "- oszacuj parametry $k$ oraz $\\theta$ metodą momentów i metodą największej wiarygodności. Czy otrzymano te same estymatory?\n",
    "- porównaj wyestymowane parametry z teoretycznymi parametrami rozkładu.\n"
   ]
  },
  {
   "cell_type": "code",
   "execution_count": 8,
   "id": "GVt5icDNKkmo",
   "metadata": {
    "id": "GVt5icDNKkmo"
   },
   "outputs": [],
   "source": [
    "set.seed(10)\n",
    "x = rgamma(1000, shape = 2, scale = 3)"
   ]
  },
  {
   "cell_type": "markdown",
   "id": "18de4c99",
   "metadata": {
    "id": "18de4c99"
   },
   "source": [
    "* W przypadku danych z rozkładu normalnego, aproksymacją $\\mu$ jest średnia z danych, a dla $\\sigma$ jest to odchylenie (wynika to zarówno z metody momentów jak i metody największej wiarygodności)."
   ]
  },
  {
   "cell_type": "markdown",
   "id": "ae3bf306",
   "metadata": {
    "id": "ae3bf306"
   },
   "source": [
    "<h4> Metoda Bootstrap"
   ]
  },
  {
   "cell_type": "code",
   "execution_count": null,
   "id": "dfdee397",
   "metadata": {
    "id": "dfdee397",
    "outputId": "af0c5e6d-2248-4f3c-90f6-7e73cee873ee"
   },
   "outputs": [
    {
     "name": "stdout",
     "output_type": "stream",
     "text": [
      " [1] 4.681504 5.244173 8.072208 1.656643 5.054929 6.212307 1.991581 6.846717\n",
      " [9] 6.558865 4.945263\n"
     ]
    }
   ],
   "source": [
    "dane = rnorm(100, 5, 2) #generuje 100 liczb z rozkladu normalnego N(5,2)\n",
    "print(dane[1:10])"
   ]
  },
  {
   "cell_type": "code",
   "execution_count": null,
   "id": "034e06a9",
   "metadata": {
    "id": "034e06a9",
    "outputId": "1c561ff3-5681-4d0e-b139-5faac29a6b71"
   },
   "outputs": [
    {
     "data": {
      "text/html": [
       "4.83433116684602"
      ],
      "text/latex": [
       "4.83433116684602"
      ],
      "text/markdown": [
       "4.83433116684602"
      ],
      "text/plain": [
       "[1] 4.834331"
      ]
     },
     "metadata": {},
     "output_type": "display_data"
    },
    {
     "data": {
      "text/html": [
       "2.12607948815478"
      ],
      "text/latex": [
       "2.12607948815478"
      ],
      "text/markdown": [
       "2.12607948815478"
      ],
      "text/plain": [
       "[1] 2.126079"
      ]
     },
     "metadata": {},
     "output_type": "display_data"
    }
   ],
   "source": [
    "mean(dane); sd(dane)"
   ]
  },
  {
   "cell_type": "code",
   "execution_count": null,
   "id": "e1892d50",
   "metadata": {
    "id": "e1892d50",
    "outputId": "c25f0520-976b-465e-85c2-e78cbe447a84"
   },
   "outputs": [
    {
     "name": "stdout",
     "output_type": "stream",
     "text": [
      "  [1]  6.156537632  4.544071021  4.793677331  5.528285667  7.556935866\n",
      "  [6]  2.549277391  4.474777777  5.956714737  6.492085819  3.478322383\n",
      " [11]  4.056543006 10.273475455  6.492085819  6.715712753  5.543073143\n",
      " [16]  3.892450753  4.210826452  5.956714737  5.054928721  2.619513910\n",
      " [21]  4.694001256  7.550104257  2.191292705  5.054928721  5.993044659\n",
      " [26]  3.267346646  6.104972237  0.007730757  3.214130761  1.355379087\n",
      " [31]  4.485835742  6.558864793  1.986390946  7.837430289  3.214130761\n",
      " [36]  5.012280919  4.382653507  1.500671824  6.938637152  5.845589735\n",
      " [41]  6.212306704  3.477136003  5.528285667  5.956714737  5.408924876\n",
      " [46]  4.652629956  4.050439965  4.681503914  4.924983481  6.492085819\n",
      " [51]  1.500671824  4.712804059  1.500671824  1.656643008  6.492085819\n",
      " [56]  5.543073143  2.283689336  4.837301045  2.608670979  1.355379087\n",
      " [61]  8.072207541  2.984713249  7.556935866  4.681503914  5.993044659\n",
      " [66]  4.331555693  7.837430289  8.072207541  4.050439965  0.007730757\n",
      " [71]  4.331555693  3.991744180  6.978193974  6.715712753  6.104972237\n",
      " [76]  4.105854917  0.745021927  6.715712753  4.355021240  5.513968318\n",
      " [81]  3.478322383  1.991580819  3.892450753  4.115179534  3.756699669\n",
      " [86]  6.425371186  3.673396507  1.981432694  6.492085819  5.054928721\n",
      " [91]  9.950606853  4.056543006  5.054928721  5.272866449  4.115179534\n",
      " [96]  5.244172902  7.230953637  5.244172902  7.511987341  4.712804059\n"
     ]
    }
   ],
   "source": [
    "replikanty = lapply(1:100, function(i) sample(dane, 100, replace = T)) #generuje 100 nowych probek poprzez losowanie z powtorzeniem z pierwotnej proby\n",
    "print(replikanty[[1]]) #pierwsza taka probka"
   ]
  },
  {
   "cell_type": "code",
   "execution_count": null,
   "id": "81c9db9b",
   "metadata": {
    "id": "81c9db9b"
   },
   "outputs": [],
   "source": [
    "r.mean = sapply(replikanty, mean) #srednia dla kolejnych probek\n",
    "r.sd = sapply(replikanty, sd) #odchylenie dla kolejnych probek"
   ]
  },
  {
   "cell_type": "markdown",
   "id": "bb27ebdb",
   "metadata": {
    "id": "bb27ebdb"
   },
   "source": [
    "Jaka jest średnia?"
   ]
  },
  {
   "cell_type": "code",
   "execution_count": null,
   "id": "7c47445f",
   "metadata": {
    "id": "7c47445f",
    "outputId": "28733cd4-e16d-464c-9335-5565d4b66982"
   },
   "outputs": [
    {
     "data": {
      "image/png": "[encoded data removed]",
      "text/plain": [
       "Plot with title \"Histogram of r.mean\""
      ]
     },
     "metadata": {},
     "output_type": "display_data"
    }
   ],
   "source": [
    "hist(r.mean)"
   ]
  },
  {
   "cell_type": "code",
   "execution_count": null,
   "id": "19c36fc0",
   "metadata": {
    "id": "19c36fc0",
    "outputId": "83396bae-df5b-425a-a58d-34cfd13a75cf"
   },
   "outputs": [
    {
     "data": {
      "text/html": [
       "4.81391034251737"
      ],
      "text/latex": [
       "4.81391034251737"
      ],
      "text/markdown": [
       "4.81391034251737"
      ],
      "text/plain": [
       "[1] 4.81391"
      ]
     },
     "metadata": {},
     "output_type": "display_data"
    },
    {
     "data": {
      "text/html": [
       "0.220075116729044"
      ],
      "text/latex": [
       "0.220075116729044"
      ],
      "text/markdown": [
       "0.220075116729044"
      ],
      "text/plain": [
       "[1] 0.2200751"
      ]
     },
     "metadata": {},
     "output_type": "display_data"
    }
   ],
   "source": [
    "mean(r.mean); sd(r.mean)"
   ]
  },
  {
   "cell_type": "code",
   "execution_count": null,
   "id": "8d3b1ab0",
   "metadata": {
    "id": "8d3b1ab0",
    "outputId": "15f13d2e-564c-4bf4-9e23-4a32e4c4b3c3"
   },
   "outputs": [
    {
     "data": {
      "text/html": [
       "<dl class=dl-horizontal>\n",
       "\t<dt>2.5%</dt>\n",
       "\t\t<dd>4.38805313336149</dd>\n",
       "\t<dt>97.5%</dt>\n",
       "\t\t<dd>5.20698162349003</dd>\n",
       "</dl>\n"
      ],
      "text/latex": [
       "\\begin{description*}\n",
       "\\item[2.5\\textbackslash{}\\%] 4.38805313336149\n",
       "\\item[97.5\\textbackslash{}\\%] 5.20698162349003\n",
       "\\end{description*}\n"
      ],
      "text/markdown": [
       "2.5%\n",
       ":   4.3880531333614997.5%\n",
       ":   5.20698162349003\n",
       "\n"
      ],
      "text/plain": [
       "    2.5%    97.5% \n",
       "4.388053 5.206982 "
      ]
     },
     "metadata": {},
     "output_type": "display_data"
    }
   ],
   "source": [
    "quantile(r.mean, c(0.025, 0.975))"
   ]
  },
  {
   "cell_type": "markdown",
   "id": "40ca31c4",
   "metadata": {
    "id": "40ca31c4"
   },
   "source": [
    "Jakie jest odchylenie?"
   ]
  },
  {
   "cell_type": "code",
   "execution_count": null,
   "id": "00cd222e",
   "metadata": {
    "id": "00cd222e",
    "outputId": "2c6c8b26-f510-432f-f859-d5134500df53"
   },
   "outputs": [
    {
     "data": {
      "image/png": "[encoded data removed]",
      "text/plain": [
       "Plot with title \"Histogram of r.sd\""
      ]
     },
     "metadata": {},
     "output_type": "display_data"
    }
   ],
   "source": [
    "hist(r.sd)"
   ]
  },
  {
   "cell_type": "code",
   "execution_count": null,
   "id": "904efdcb",
   "metadata": {
    "id": "904efdcb",
    "outputId": "8572d870-00b1-4bee-8291-d3a7364897fd"
   },
   "outputs": [
    {
     "data": {
      "text/html": [
       "2.08466715480797"
      ],
      "text/latex": [
       "2.08466715480797"
      ],
      "text/markdown": [
       "2.08466715480797"
      ],
      "text/plain": [
       "[1] 2.084667"
      ]
     },
     "metadata": {},
     "output_type": "display_data"
    },
    {
     "data": {
      "text/html": [
       "0.120426832562155"
      ],
      "text/latex": [
       "0.120426832562155"
      ],
      "text/markdown": [
       "0.120426832562155"
      ],
      "text/plain": [
       "[1] 0.1204268"
      ]
     },
     "metadata": {},
     "output_type": "display_data"
    }
   ],
   "source": [
    "mean(r.sd); sd(r.sd)"
   ]
  },
  {
   "cell_type": "code",
   "execution_count": null,
   "id": "6248cd77",
   "metadata": {
    "id": "6248cd77",
    "outputId": "61083487-21dd-4e8b-cfcc-4c1bf59f41a5"
   },
   "outputs": [
    {
     "data": {
      "text/html": [
       "<dl class=dl-horizontal>\n",
       "\t<dt>2.5%</dt>\n",
       "\t\t<dd>1.90256256450339</dd>\n",
       "\t<dt>97.5%</dt>\n",
       "\t\t<dd>2.34010060945488</dd>\n",
       "</dl>\n"
      ],
      "text/latex": [
       "\\begin{description*}\n",
       "\\item[2.5\\textbackslash{}\\%] 1.90256256450339\n",
       "\\item[97.5\\textbackslash{}\\%] 2.34010060945488\n",
       "\\end{description*}\n"
      ],
      "text/markdown": [
       "2.5%\n",
       ":   1.9025625645033997.5%\n",
       ":   2.34010060945488\n",
       "\n"
      ],
      "text/plain": [
       "    2.5%    97.5% \n",
       "1.902563 2.340101 "
      ]
     },
     "metadata": {},
     "output_type": "display_data"
    }
   ],
   "source": [
    "quantile(r.sd, c(0.05/2, 1-0.05/2))"
   ]
  },
  {
   "cell_type": "markdown",
   "id": "034688bf",
   "metadata": {
    "id": "034688bf"
   },
   "source": [
    "- Oczywiście metoda Bootstrap zostala zaimplementowana w R."
   ]
  },
  {
   "cell_type": "code",
   "execution_count": null,
   "id": "6d576362",
   "metadata": {
    "id": "6d576362",
    "outputId": "d9c6ffd0-1410-40ca-dad9-6898f57b838d"
   },
   "outputs": [
    {
     "data": {
      "text/html": [
       "<table>\n",
       "<thead><tr><th scope=col>x</th></tr></thead>\n",
       "<tbody>\n",
       "\t<tr><td>4.681504</td></tr>\n",
       "\t<tr><td>5.244173</td></tr>\n",
       "\t<tr><td>8.072208</td></tr>\n",
       "\t<tr><td>1.656643</td></tr>\n",
       "\t<tr><td>5.054929</td></tr>\n",
       "\t<tr><td>6.212307</td></tr>\n",
       "</tbody>\n",
       "</table>\n"
      ],
      "text/latex": [
       "\\begin{tabular}{r|l}\n",
       " x\\\\\n",
       "\\hline\n",
       "\t 4.681504\\\\\n",
       "\t 5.244173\\\\\n",
       "\t 8.072208\\\\\n",
       "\t 1.656643\\\\\n",
       "\t 5.054929\\\\\n",
       "\t 6.212307\\\\\n",
       "\\end{tabular}\n"
      ],
      "text/markdown": [
       "\n",
       "| x |\n",
       "|---|\n",
       "| 4.681504 |\n",
       "| 5.244173 |\n",
       "| 8.072208 |\n",
       "| 1.656643 |\n",
       "| 5.054929 |\n",
       "| 6.212307 |\n",
       "\n"
      ],
      "text/plain": [
       "  x       \n",
       "1 4.681504\n",
       "2 5.244173\n",
       "3 8.072208\n",
       "4 1.656643\n",
       "5 5.054929\n",
       "6 6.212307"
      ]
     },
     "metadata": {},
     "output_type": "display_data"
    }
   ],
   "source": [
    "library(boot)\n",
    "dane2 = data.frame(x=dane)\n",
    "head(dane2)"
   ]
  },
  {
   "cell_type": "code",
   "execution_count": null,
   "id": "d04abbbb",
   "metadata": {
    "id": "d04abbbb",
    "outputId": "60115602-e3ed-466c-dfbb-d16537d9151a"
   },
   "outputs": [
    {
     "data": {
      "image/png": "[encoded data removed]",
      "text/plain": [
       "Plot with title \"Histogram of dane2$x\""
      ]
     },
     "metadata": {},
     "output_type": "display_data"
    }
   ],
   "source": [
    "hist(dane2$x)"
   ]
  },
  {
   "cell_type": "code",
   "execution_count": null,
   "id": "d6746de0",
   "metadata": {
    "id": "d6746de0",
    "outputId": "62a25484-492b-4720-b1f8-f7754fa07f4b"
   },
   "outputs": [
    {
     "data": {
      "text/html": [
       "4.83433116684602"
      ],
      "text/latex": [
       "4.83433116684602"
      ],
      "text/markdown": [
       "4.83433116684602"
      ],
      "text/plain": [
       "[1] 4.834331"
      ]
     },
     "metadata": {},
     "output_type": "display_data"
    }
   ],
   "source": [
    "mean(dane2$x)"
   ]
  },
  {
   "cell_type": "code",
   "execution_count": null,
   "id": "0a9d7924",
   "metadata": {
    "id": "0a9d7924",
    "outputId": "0c381e54-f3b5-489d-9068-98f6ea04372b"
   },
   "outputs": [
    {
     "data": {
      "text/html": [
       "<dl class=dl-horizontal>\n",
       "\t<dt>2.5%</dt>\n",
       "\t\t<dd>4.40288628954491</dd>\n",
       "\t<dt>97.5%</dt>\n",
       "\t\t<dd>5.2494952927449</dd>\n",
       "</dl>\n"
      ],
      "text/latex": [
       "\\begin{description*}\n",
       "\\item[2.5\\textbackslash{}\\%] 4.40288628954491\n",
       "\\item[97.5\\textbackslash{}\\%] 5.2494952927449\n",
       "\\end{description*}\n"
      ],
      "text/markdown": [
       "2.5%\n",
       ":   4.4028862895449197.5%\n",
       ":   5.2494952927449\n",
       "\n"
      ],
      "text/plain": [
       "    2.5%    97.5% \n",
       "4.402886 5.249495 "
      ]
     },
     "metadata": {},
     "output_type": "display_data"
    }
   ],
   "source": [
    "srednia = function(d, w) sum(d$x * w) #drugi argument to częstosci dla poszczegolnych elementow w kolejnej replikacji\n",
    "wynik_boot = boot(dane2, srednia, R=999, stype=\"w\")\n",
    "quantile(wynik_boot$t, c(0.05/2, 1-0.05/2))"
   ]
  },
  {
   "cell_type": "markdown",
   "id": "59ba818d",
   "metadata": {
    "id": "59ba818d"
   },
   "source": [
    "<h3> Testowanie hipotez odnośnie rozkładu"
   ]
  },
  {
   "cell_type": "markdown",
   "id": "2df93b46",
   "metadata": {
    "id": "2df93b46"
   },
   "source": [
    "<h4> Testowanie normalności"
   ]
  },
  {
   "cell_type": "code",
   "execution_count": null,
   "id": "7cdba145",
   "metadata": {
    "id": "7cdba145",
    "outputId": "8942ba63-e837-45ce-f016-f81f681dd28a"
   },
   "outputs": [
    {
     "data": {
      "text/plain": [
       "\n",
       "\tShapiro-Wilk normality test\n",
       "\n",
       "data:  x\n",
       "W = 0.95862, p-value = 0.2855\n"
      ]
     },
     "metadata": {},
     "output_type": "display_data"
    }
   ],
   "source": [
    "#Shapiro Test - liczona jest pewna statystyka i porownywana z wartoscia teoretyczna\n",
    "\n",
    "x = rnorm(30, 2, 1)\n",
    "shapiro.test(x)"
   ]
  },
  {
   "cell_type": "markdown",
   "id": "85c42a80",
   "metadata": {
    "id": "85c42a80"
   },
   "source": [
    "<h4> QQplot"
   ]
  },
  {
   "cell_type": "code",
   "execution_count": null,
   "id": "17510054",
   "metadata": {
    "id": "17510054",
    "outputId": "6b006987-2f6a-444c-f06b-4eb29fc6626f"
   },
   "outputs": [
    {
     "data": {
      "image/png": "[encoded data removed]",
      "text/plain": [
       "Plot with title \"Normal Q-Q Plot\""
      ]
     },
     "metadata": {},
     "output_type": "display_data"
    }
   ],
   "source": [
    "#wykres typu QQ (qqplot) - wykres zaleznosci kwantyli z rozawaznego rozkladu a kwantyli rozkaldu normalnego\n",
    "\n",
    "qqnorm(x, pch = 1, frame = FALSE) #rzeczywiste porownanie\n",
    "qqline(x, col = \"steelblue\", lwd = 2) #jak powinno byc"
   ]
  },
  {
   "cell_type": "markdown",
   "id": "4fef753b",
   "metadata": {
    "id": "4fef753b"
   },
   "source": [
    "<h4> Zadanie4: Wygeneruj 100 obserwacji z rozkładu jednostajnego $Unif(-2,2)$, a następnie:\n",
    "    \n",
    "    \n",
    "    \n",
    "    \n",
    "    \n",
    "- wykonaj test Shapiro-Wilka\n",
    "- narysuj wykres typu QQplot\n",
    "    \n",
    "    \n",
    "    \n",
    "    \n",
    "Skomentuj otrzymane wyniki."
   ]
  },
  {
   "cell_type": "markdown",
   "id": "078645d7",
   "metadata": {
    "id": "078645d7"
   },
   "source": [
    "<h4> Test Smirnov-Kolomogorov"
   ]
  },
  {
   "cell_type": "code",
   "execution_count": 10,
   "id": "aac7a74e",
   "metadata": {
    "id": "aac7a74e",
    "outputId": "6c758fd2-16cf-4dfd-8caf-70ec090782e8"
   },
   "outputs": [],
   "source": [
    "library(ggplot2)\n",
    "library(dplyr)"
   ]
  },
  {
   "cell_type": "code",
   "execution_count": 129,
   "id": "4dce77aa-e341-414d-ac52-c2407a408ffb",
   "metadata": {},
   "outputs": [
    {
     "data": {
      "image/png": "[encoded data removed]",
      "text/plain": [
       "plot without title"
      ]
     },
     "metadata": {
      "image/png": {
       "height": 240,
       "width": 420
      }
     },
     "output_type": "display_data"
    }
   ],
   "source": [
    "options(repr.plot.width=7, repr.plot.height=4)\n",
    "\n",
    "x1 = rnorm(100, 3, 4)\n",
    "x2 = rnorm(40, 3, 4)\n",
    "\n",
    "df <- data.frame(\n",
    "  value = c(x1, x2),\n",
    "  group = c(rep(c(\"x1 (N(3, 4))\"), length(x1)),rep(c(\"x2 (N(3, 4))\"), length(x2)))\n",
    ")\n",
    "\n",
    "# Rysowanie ECDF dla obu grup\n",
    "ggplot(df, aes(x = value, color = group)) +\n",
    "  stat_ecdf(geom = \"step\", size = 1.2) +\n",
    "  labs(title = \"Porównanie ECDF\", x = \"Wartości\", y = \"Dystrybuanta\") +\n",
    "  theme_minimal()"
   ]
  },
  {
   "cell_type": "code",
   "execution_count": 11,
   "id": "76257c54",
   "metadata": {
    "id": "76257c54",
    "outputId": "670f7eaa-5d31-4bd7-a645-9c14ae646723"
   },
   "outputs": [
    {
     "data": {
      "text/plain": [
       "\n",
       "\tExact two-sample Kolmogorov-Smirnov test\n",
       "\n",
       "data:  x1 and x2\n",
       "D = 0.2, p-value = 0.1828\n",
       "alternative hypothesis: two-sided\n"
      ]
     },
     "metadata": {},
     "output_type": "display_data"
    }
   ],
   "source": [
    "#Kolmogorov-Smirnov Test - porownuje wartosci dystrybuanty #raczej dla rozkladow ciąglych\n",
    "ks.test(x1,x2)"
   ]
  },
  {
   "cell_type": "markdown",
   "id": "bb5edba3",
   "metadata": {
    "id": "bb5edba3"
   },
   "source": [
    "<h4> Zadanie5: Wygeneruj 200 liczb z rozkładu $N(3,1)$ oraz kolejne 200 z $Unif(2,4)$. Porównaj dystrybuanty danych i wykonaj KS test. Skomentuj otrzymane wyniki."
   ]
  },
  {
   "cell_type": "markdown",
   "id": "bc126e99",
   "metadata": {
    "id": "bc126e99"
   },
   "source": [
    "- Rozkład geometryczny w sekwencjach biologicznych"
   ]
  },
  {
   "cell_type": "code",
   "execution_count": 45,
   "id": "2e15a664",
   "metadata": {
    "id": "2e15a664"
   },
   "outputs": [],
   "source": [
    "x = sample(c(\"A\",\"T\",\"G\",\"C\"), 1000, rep = T) #generuje losową sekwencje nt\n",
    "t = which(x %in% c(\"A\")) #na ktorych pozycjach są \"A\"\n",
    "roznice_A = diff(t) \n",
    "p = 1/mean(roznice_A)"
   ]
  },
  {
   "cell_type": "code",
   "execution_count": 46,
   "id": "5844f351",
   "metadata": {
    "id": "5844f351",
    "outputId": "e7b5f94c-f3ee-4660-d713-7a656289bd89"
   },
   "outputs": [
    {
     "name": "stdout",
     "output_type": "stream",
     "text": [
      "  value group\n",
      "1     3    nt\n",
      "2    11    nt\n",
      "3    14    nt\n",
      "4     2    nt\n",
      "5     1    nt\n",
      "6     1    nt\n"
     ]
    }
   ],
   "source": [
    "dane = data.frame(value = c(roznice_A,rgeom(length(roznice_A), p)+1), group = c(rep(\"nt\",length(roznice_A)),rep(\"geom\",length(roznice_A))))\n",
    "print(head(dane))"
   ]
  },
  {
   "cell_type": "code",
   "execution_count": 47,
   "id": "d49bb9d5-cf72-429b-8c36-2df5700ceb4b",
   "metadata": {},
   "outputs": [
    {
     "data": {
      "image/png": "[encoded data removed]",
      "text/plain": [
       "plot without title"
      ]
     },
     "metadata": {
      "image/png": {
       "height": 240,
       "width": 420
      }
     },
     "output_type": "display_data"
    }
   ],
   "source": [
    "# Rysowanie ECDF dla obu grup\n",
    "ggplot(dane, aes(x = value, color = group)) +\n",
    "  stat_ecdf(geom = \"step\", size = 1.2) +\n",
    "  labs(title = \"Porównanie ECDF\", x = \"Wartości\", y = \"Dystrybuanta\") +\n",
    "  theme_minimal()"
   ]
  },
  {
   "cell_type": "markdown",
   "id": "1fd18914",
   "metadata": {
    "id": "1fd18914"
   },
   "source": [
    "<h4> Zadanie6: Pobierz dane $cw4.txt$, które przedstawiają wzrost w pewnej populacji. Czy można przyjąć, że dane te pochodzą z rozkładu normalnego? Jeżeli tak, to oszacuj parametry tego rozkładu. Jakie jest prawdopdobieństwo, że wzrost przekroczy 180 w tej populacji?"
   ]
  },
  {
   "cell_type": "markdown",
   "id": "818c3a5a-7a03-4b10-aa8c-8cee27df7a98",
   "metadata": {},
   "source": [
    "<h4> Zadanie7: Rozważ dane Call-Center-Dataset.csv (rozdzielone średnikiem). Dane dotyczą interakcji klientów z agentami call center. Pozostaw kolumny: 2, 3, 4 oraz 8. Znajdują się tam kolejno: imię agenta, data połączenia, godzina rozpoczęcia rozmowy oraz czas odpowiedzi (w sekundach). Wybierz rekordy dla agenta Diane.\n",
    "\n",
    "- narysuj histogram czasu odpowiedzi, a następnie przyjmując rozkład jednostajny oszacuj parametry  tego rozkładu jako $a=\\min(X)$, $b=\\max(X)$. Porównaj dane z liczbami losowymi wygenerowanymi z tego rozkładu (np. za pomocą dystrybuanty)\n",
    "  \n",
    "- wyznacz liczbę połączeń w kolejnych dniach, narysuj histogram, a następnie przyjmując rozkład Poissona oszacuj jego parametry. Porównaj dane z liczbami losowymi wygenerowanymi z tego rozkładu (np. za pomocą dystrybuanty)\n",
    "  \n",
    "- wyznacz czas pomiędzy kolejnymi godzinami rozpoczęcia rozmowy, narysuj histogram, a następnie przyjmując rozkład wykładniczy oszacuj jego parametry. Porównaj dane z liczbami losowymi wygenerowanymi z tego rozkładu (np. za pomocą dystrybuanty)"
   ]
  },
  {
   "cell_type": "markdown",
   "id": "e992e44f-63cc-4e94-8dcb-1dfcf8a6349e",
   "metadata": {},
   "source": [
    "<h4> Uzupełnienie"
   ]
  },
  {
   "cell_type": "code",
   "execution_count": 18,
   "id": "14afce0b-7f36-4f80-9119-b1dddb7384d5",
   "metadata": {},
   "outputs": [
    {
     "name": "stdout",
     "output_type": "stream",
     "text": [
      "[1] 69.11667\n"
     ]
    }
   ],
   "source": [
    "t1 = as.POSIXct(\"09:12:58\", format = \"%H:%M:%S\")\n",
    "t2 = as.POSIXct(\"10:22:05\", format = \"%H:%M:%S\")\n",
    "\n",
    "tdiff = as.numeric(difftime(t2, t1, units = \"mins\"))\n",
    "\n",
    "print(tdiff)"
   ]
  }
 ],
 "metadata": {
  "colab": {
   "provenance": []
  },
  "kernelspec": {
   "display_name": "R",
   "language": "R",
   "name": "ir"
  },
  "language_info": {
   "codemirror_mode": "r",
   "file_extension": ".r",
   "mimetype": "text/x-r-source",
   "name": "R",
   "pygments_lexer": "r",
   "version": "4.3.3"
  }
 },
 "nbformat": 4,
 "nbformat_minor": 5
}
