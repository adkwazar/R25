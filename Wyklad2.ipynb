{
 "cells": [
  {
   "cell_type": "markdown",
   "id": "4da661af",
   "metadata": {},
   "source": [
    "<h3> Ramki danych"
   ]
  },
  {
   "cell_type": "markdown",
   "id": "0a5362f4",
   "metadata": {},
   "source": [
    "<h4> Tworzenie i podstawowe operacje na ramkach danych"
   ]
  },
  {
   "cell_type": "code",
   "execution_count": 122,
   "id": "1928baab",
   "metadata": {},
   "outputs": [
    {
     "name": "stdout",
     "output_type": "stream",
     "text": [
      "  osoba wiek plec uczelnia\n",
      "1 Marek   20    M       UJ\n",
      "2 Jarek   30    M      AGH\n",
      "3  Anna   40    K       UJ\n"
     ]
    }
   ],
   "source": [
    "d = data.frame(osoba = c(\"Marek\",\"Jarek\",\"Anna\"), wiek = c(20,30,40), plec = factor(c(\"M\",\"M\",\"K\")), uczelnia = c(\"UJ\",\"AGH\",\"UJ\"))\n",
    "print(d)"
   ]
  },
  {
   "cell_type": "code",
   "execution_count": 2,
   "id": "9f871e50",
   "metadata": {},
   "outputs": [
    {
     "data": {
      "text/html": [
       "<style>\n",
       ".list-inline {list-style: none; margin:0; padding: 0}\n",
       ".list-inline>li {display: inline-block}\n",
       ".list-inline>li:not(:last-child)::after {content: \"\\00b7\"; padding: 0 .5ex}\n",
       "</style>\n",
       "<ol class=list-inline><li>3</li><li>4</li></ol>\n"
      ],
      "text/latex": [
       "\\begin{enumerate*}\n",
       "\\item 3\n",
       "\\item 4\n",
       "\\end{enumerate*}\n"
      ],
      "text/markdown": [
       "1. 3\n",
       "2. 4\n",
       "\n",
       "\n"
      ],
      "text/plain": [
       "[1] 3 4"
      ]
     },
     "metadata": {},
     "output_type": "display_data"
    },
    {
     "data": {
      "text/html": [
       "3"
      ],
      "text/latex": [
       "3"
      ],
      "text/markdown": [
       "3"
      ],
      "text/plain": [
       "[1] 3"
      ]
     },
     "metadata": {},
     "output_type": "display_data"
    },
    {
     "data": {
      "text/html": [
       "4"
      ],
      "text/latex": [
       "4"
      ],
      "text/markdown": [
       "4"
      ],
      "text/plain": [
       "[1] 4"
      ]
     },
     "metadata": {},
     "output_type": "display_data"
    }
   ],
   "source": [
    "dim(d); nrow(d); ncol(d) #wymiary d"
   ]
  },
  {
   "cell_type": "code",
   "execution_count": 3,
   "id": "cbd87bfc",
   "metadata": {},
   "outputs": [
    {
     "data": {
      "text/plain": [
       "    osoba                wiek    plec    uczelnia        \n",
       " Length:3           Min.   :20   K:1   Length:3          \n",
       " Class :character   1st Qu.:25   M:2   Class :character  \n",
       " Mode  :character   Median :30         Mode  :character  \n",
       "                    Mean   :30                           \n",
       "                    3rd Qu.:35                           \n",
       "                    Max.   :40                           "
      ]
     },
     "metadata": {},
     "output_type": "display_data"
    }
   ],
   "source": [
    "summary(d) #podsumowanie wynikow z tabelki"
   ]
  },
  {
   "cell_type": "code",
   "execution_count": 4,
   "id": "91cb2e1e-ea37-4e03-b75f-ac5904f3772a",
   "metadata": {},
   "outputs": [
    {
     "name": "stdout",
     "output_type": "stream",
     "text": [
      "'data.frame':\t3 obs. of  4 variables:\n",
      " $ osoba   : chr  \"Marek\" \"Jarek\" \"Anna\"\n",
      " $ wiek    : num  20 30 40\n",
      " $ plec    : Factor w/ 2 levels \"K\",\"M\": 2 2 1\n",
      " $ uczelnia: chr  \"UJ\" \"AGH\" \"UJ\"\n"
     ]
    }
   ],
   "source": [
    "str(d) #struktura d; osoba/uczelnia jako chr   "
   ]
  },
  {
   "cell_type": "code",
   "execution_count": 5,
   "id": "2088266b",
   "metadata": {},
   "outputs": [
    {
     "name": "stdout",
     "output_type": "stream",
     "text": [
      "  osoba wiek plec uczelnia\n",
      "1 Marek   20    M       UJ\n",
      "2 Jarek   30    M      AGH\n"
     ]
    }
   ],
   "source": [
    "print(head(d,2)) #pierwsze dwa rekordy"
   ]
  },
  {
   "cell_type": "code",
   "execution_count": 6,
   "id": "7810cf61",
   "metadata": {},
   "outputs": [
    {
     "name": "stdout",
     "output_type": "stream",
     "text": [
      "  osoba wiek plec uczelnia\n",
      "2 Jarek   30    M      AGH\n",
      "3  Anna   40    K       UJ\n"
     ]
    }
   ],
   "source": [
    "print(tail(d,2)) #ostatnie dwa rekordy"
   ]
  },
  {
   "cell_type": "code",
   "execution_count": 7,
   "id": "2b5af8eb",
   "metadata": {},
   "outputs": [
    {
     "data": {
      "text/html": [
       "'list'"
      ],
      "text/latex": [
       "'list'"
      ],
      "text/markdown": [
       "'list'"
      ],
      "text/plain": [
       "[1] \"list\""
      ]
     },
     "metadata": {},
     "output_type": "display_data"
    },
    {
     "data": {
      "text/html": [
       "'data.frame'"
      ],
      "text/latex": [
       "'data.frame'"
      ],
      "text/markdown": [
       "'data.frame'"
      ],
      "text/plain": [
       "[1] \"data.frame\""
      ]
     },
     "metadata": {},
     "output_type": "display_data"
    }
   ],
   "source": [
    "typeof(d); class(d) #ramka danych implementowana jest jako lista"
   ]
  },
  {
   "cell_type": "code",
   "execution_count": 8,
   "id": "9f8dc212",
   "metadata": {},
   "outputs": [
    {
     "data": {
      "text/html": [
       "<dl>\n",
       "\t<dt>$names</dt>\n",
       "\t\t<dd><style>\n",
       ".list-inline {list-style: none; margin:0; padding: 0}\n",
       ".list-inline>li {display: inline-block}\n",
       ".list-inline>li:not(:last-child)::after {content: \"\\00b7\"; padding: 0 .5ex}\n",
       "</style>\n",
       "<ol class=list-inline><li>'osoba'</li><li>'wiek'</li><li>'plec'</li><li>'uczelnia'</li></ol>\n",
       "</dd>\n",
       "\t<dt>$class</dt>\n",
       "\t\t<dd>'data.frame'</dd>\n",
       "\t<dt>$row.names</dt>\n",
       "\t\t<dd><style>\n",
       ".list-inline {list-style: none; margin:0; padding: 0}\n",
       ".list-inline>li {display: inline-block}\n",
       ".list-inline>li:not(:last-child)::after {content: \"\\00b7\"; padding: 0 .5ex}\n",
       "</style>\n",
       "<ol class=list-inline><li>1</li><li>2</li><li>3</li></ol>\n",
       "</dd>\n",
       "</dl>\n"
      ],
      "text/latex": [
       "\\begin{description}\n",
       "\\item[\\$names] \\begin{enumerate*}\n",
       "\\item 'osoba'\n",
       "\\item 'wiek'\n",
       "\\item 'plec'\n",
       "\\item 'uczelnia'\n",
       "\\end{enumerate*}\n",
       "\n",
       "\\item[\\$class] 'data.frame'\n",
       "\\item[\\$row.names] \\begin{enumerate*}\n",
       "\\item 1\n",
       "\\item 2\n",
       "\\item 3\n",
       "\\end{enumerate*}\n",
       "\n",
       "\\end{description}\n"
      ],
      "text/markdown": [
       "$names\n",
       ":   1. 'osoba'\n",
       "2. 'wiek'\n",
       "3. 'plec'\n",
       "4. 'uczelnia'\n",
       "\n",
       "\n",
       "\n",
       "$class\n",
       ":   'data.frame'\n",
       "$row.names\n",
       ":   1. 1\n",
       "2. 2\n",
       "3. 3\n",
       "\n",
       "\n",
       "\n",
       "\n",
       "\n"
      ],
      "text/plain": [
       "$names\n",
       "[1] \"osoba\"    \"wiek\"     \"plec\"     \"uczelnia\"\n",
       "\n",
       "$class\n",
       "[1] \"data.frame\"\n",
       "\n",
       "$row.names\n",
       "[1] 1 2 3\n"
      ]
     },
     "metadata": {},
     "output_type": "display_data"
    }
   ],
   "source": [
    "attributes(d) #dostępne atrybuty"
   ]
  },
  {
   "cell_type": "code",
   "execution_count": 9,
   "id": "06aa8f64",
   "metadata": {},
   "outputs": [
    {
     "name": "stdout",
     "output_type": "stream",
     "text": [
      "[1] \"osoba\"    \"wiek\"     \"plec\"     \"uczelnia\"\n"
     ]
    }
   ],
   "source": [
    "print(names(d))"
   ]
  },
  {
   "cell_type": "code",
   "execution_count": 10,
   "id": "d34506fd",
   "metadata": {},
   "outputs": [
    {
     "name": "stdout",
     "output_type": "stream",
     "text": [
      "[1] \"1\" \"2\" \"3\"\n"
     ]
    }
   ],
   "source": [
    "print(rownames(d))"
   ]
  },
  {
   "cell_type": "code",
   "execution_count": 11,
   "id": "5b3d6de8",
   "metadata": {},
   "outputs": [
    {
     "name": "stdout",
     "output_type": "stream",
     "text": [
      "[1] \"osoba\"    \"wiek\"     \"plec\"     \"uczelnia\"\n"
     ]
    }
   ],
   "source": [
    "print(colnames(d)) #w przypadku ramek danych pokazuje to samo co names"
   ]
  },
  {
   "cell_type": "code",
   "execution_count": 12,
   "id": "eb2d36a2",
   "metadata": {},
   "outputs": [
    {
     "name": "stdout",
     "output_type": "stream",
     "text": [
      "  osoba wiek plec\n",
      "1 Marek   20    M\n",
      "2 Jarek   30    M\n",
      "3  Anna   40    K\n",
      "'data.frame':\t3 obs. of  3 variables:\n",
      " $ osoba: Factor w/ 3 levels \"Anna\",\"Jarek\",..: 3 2 1\n",
      " $ wiek : num  20 30 40\n",
      " $ plec : Factor w/ 2 levels \"K\",\"M\": 2 2 1\n"
     ]
    }
   ],
   "source": [
    "#jezeli chcemy traktowac wszystkie napisy jako czynniki to dodajemy stringsAsFactors = TRUE\n",
    "d2 = data.frame(osoba = c(\"Marek\",\"Jarek\",\"Anna\"), wiek = c(20,30,40), plec = factor(c(\"M\",\"M\",\"K\")), stringsAsFactors = TRUE)\n",
    "print(d2); str(d2) #porownac osoba"
   ]
  },
  {
   "cell_type": "code",
   "execution_count": 13,
   "id": "d33e4a10",
   "metadata": {},
   "outputs": [
    {
     "name": "stdout",
     "output_type": "stream",
     "text": [
      "  osoba wiek plec uczelnia\n",
      "1 Marek   20    M       UJ\n",
      "2 Jarek   30    M      AGH\n",
      "3  Anna   40    K       UJ\n"
     ]
    }
   ],
   "source": [
    "print(d)"
   ]
  },
  {
   "cell_type": "code",
   "execution_count": 14,
   "id": "fb3fd42f",
   "metadata": {},
   "outputs": [
    {
     "name": "stdout",
     "output_type": "stream",
     "text": [
      "  osoba wiek plec uczelnia\n",
      "1 Marek   20    M       UJ\n"
     ]
    }
   ],
   "source": [
    "print(d[1,]) #pierwszy wiersz"
   ]
  },
  {
   "cell_type": "code",
   "execution_count": 123,
   "id": "5d348088",
   "metadata": {},
   "outputs": [
    {
     "name": "stdout",
     "output_type": "stream",
     "text": [
      "[1] \"Marek\" \"Jarek\" \"Anna\" \n"
     ]
    }
   ],
   "source": [
    "print(d[,1]) #pierwsza kolumna"
   ]
  },
  {
   "cell_type": "code",
   "execution_count": 16,
   "id": "a2355cea",
   "metadata": {},
   "outputs": [
    {
     "name": "stdout",
     "output_type": "stream",
     "text": [
      "[1] 20\n"
     ]
    }
   ],
   "source": [
    "print(d[1,2]) #pole z pierwszego wiersza i drugiej kolumny"
   ]
  },
  {
   "cell_type": "code",
   "execution_count": 17,
   "id": "1340c7b5",
   "metadata": {},
   "outputs": [
    {
     "name": "stdout",
     "output_type": "stream",
     "text": [
      "[1] 20 30 40\n"
     ]
    }
   ],
   "source": [
    "print(d[1:3,2]) #wiersze 1, 2 i 3; kolumna 2"
   ]
  },
  {
   "cell_type": "code",
   "execution_count": 18,
   "id": "24e76b15",
   "metadata": {},
   "outputs": [
    {
     "name": "stdout",
     "output_type": "stream",
     "text": [
      "[1] \"Marek\" \"Jarek\" \"Anna\" \n"
     ]
    }
   ],
   "source": [
    "print(d$osoba) #tak tez sie moge odwolywac do kolumn"
   ]
  },
  {
   "cell_type": "code",
   "execution_count": 19,
   "id": "d7c70e94",
   "metadata": {},
   "outputs": [
    {
     "name": "stdout",
     "output_type": "stream",
     "text": [
      "  osoba\n",
      "1 Marek\n",
      "2 Jarek\n",
      "3  Anna\n"
     ]
    }
   ],
   "source": [
    "print(d[\"osoba\"]) #jeszcze inny sposob"
   ]
  },
  {
   "cell_type": "code",
   "execution_count": 20,
   "id": "55f52f06",
   "metadata": {},
   "outputs": [
    {
     "name": "stdout",
     "output_type": "stream",
     "text": [
      "  osoba wiek plec uczelnia\n",
      "1 Marek   20    M       UJ\n",
      "2 Jarek   30    M      AGH\n",
      "3  Anna   40    K       UJ\n",
      "4 Magda   22    K       UR\n"
     ]
    }
   ],
   "source": [
    "#dodawanie nowego rekordu(wiersza)\n",
    "nowy = data.frame(osoba = \"Magda\", wiek = 22, plec = factor(\"K\", levels = levels(d$plec)), uczelnia = \"UR\")\n",
    "dd = rbind(d, nowy)\n",
    "print(dd)"
   ]
  },
  {
   "cell_type": "code",
   "execution_count": 21,
   "id": "715b4adf",
   "metadata": {},
   "outputs": [
    {
     "name": "stdout",
     "output_type": "stream",
     "text": [
      "  osoba wiek plec uczelnia new_c\n",
      "1 Marek   20    M       UJ     1\n",
      "2 Jarek   30    M      AGH     2\n",
      "3  Anna   40    K       UJ     3\n",
      "4 Magda   22    K       UR     3\n"
     ]
    }
   ],
   "source": [
    "#dodawanie nowej kolumny\n",
    "new_c = c(1,2,3,3)\n",
    "dd2 = cbind(dd, new_c)\n",
    "print(dd2)"
   ]
  },
  {
   "cell_type": "code",
   "execution_count": 22,
   "id": "4d5fe08f",
   "metadata": {},
   "outputs": [
    {
     "name": "stdout",
     "output_type": "stream",
     "text": [
      "  osoba wiek\n",
      "1 Marek   20\n",
      "2 Jarek   30\n",
      "3  Anna   40\n",
      "4 Magda   22\n"
     ]
    }
   ],
   "source": [
    "#wybor kolumn\n",
    "print(subset(dd2, select = c(osoba, wiek)))"
   ]
  },
  {
   "cell_type": "code",
   "execution_count": 24,
   "id": "c50d4ad7",
   "metadata": {},
   "outputs": [
    {
     "name": "stdout",
     "output_type": "stream",
     "text": [
      "  osoba wiek uczelnia new_c\n",
      "1 Marek   20       UJ     1\n",
      "2 Jarek   30      AGH     2\n",
      "3  Anna   40       UJ     3\n",
      "4 Magda   22       UR     3\n"
     ]
    }
   ],
   "source": [
    "#wszystkie kolumny bez plci\n",
    "print(subset(dd2, select =- plec))"
   ]
  },
  {
   "cell_type": "code",
   "execution_count": 25,
   "id": "75910e47",
   "metadata": {},
   "outputs": [
    {
     "name": "stdout",
     "output_type": "stream",
     "text": [
      "[1]  TRUE  TRUE FALSE FALSE\n"
     ]
    }
   ],
   "source": [
    "print(dd2$plec == \"M\") #sprawdza dla kazdego rekordu"
   ]
  },
  {
   "cell_type": "code",
   "execution_count": 26,
   "id": "691b0c9b",
   "metadata": {},
   "outputs": [
    {
     "name": "stdout",
     "output_type": "stream",
     "text": [
      "  osoba wiek plec uczelnia new_c\n",
      "2 Jarek   30    M      AGH     2\n"
     ]
    }
   ],
   "source": [
    "#wybieranie podzbioru danych o zadanych warunkach\n",
    "print(subset(dd2, wiek > 20 & plec == \"M\"))"
   ]
  },
  {
   "cell_type": "code",
   "execution_count": 27,
   "id": "f6788c13",
   "metadata": {},
   "outputs": [
    {
     "name": "stdout",
     "output_type": "stream",
     "text": [
      "  osoba wiek plec uczelnia new_c\n",
      "1 Marek   20    M       UJ     1\n",
      "2 Jarek   30    M      AGH     2\n"
     ]
    }
   ],
   "source": [
    "print(dd2[dd2$plec == \"M\",]) #mozna tez tak"
   ]
  },
  {
   "cell_type": "code",
   "execution_count": 28,
   "id": "ce0fcfe3",
   "metadata": {},
   "outputs": [
    {
     "name": "stdout",
     "output_type": "stream",
     "text": [
      "  osoba wiek\n",
      "1 Marek   20\n",
      "2 Jarek   30\n"
     ]
    }
   ],
   "source": [
    "print(dd2[dd2$plec == \"M\", c(\"osoba\",\"wiek\")]) #moge sprecyzowac ktore kolumny chce zostawic"
   ]
  },
  {
   "cell_type": "code",
   "execution_count": 29,
   "id": "4f3a6d76",
   "metadata": {},
   "outputs": [
    {
     "name": "stdout",
     "output_type": "stream",
     "text": [
      "$K\n",
      "  osoba wiek plec uczelnia new_c\n",
      "3  Anna   40    K       UJ     3\n",
      "4 Magda   22    K       UR     3\n",
      "\n",
      "$M\n",
      "  osoba wiek plec uczelnia new_c\n",
      "1 Marek   20    M       UJ     1\n",
      "2 Jarek   30    M      AGH     2\n",
      "\n"
     ]
    }
   ],
   "source": [
    "#podzial danych ze względu na plec\n",
    "print(split(dd2, dd2$plec))"
   ]
  },
  {
   "cell_type": "code",
   "execution_count": 30,
   "id": "51c204a0",
   "metadata": {},
   "outputs": [
    {
     "name": "stdout",
     "output_type": "stream",
     "text": [
      "  osoba wiek plec uczelnia new_c\n",
      "1 Marek   30    M       UJ     1\n",
      "2 Jarek   40    M      AGH     2\n",
      "3  Anna   50    K       UJ     3\n",
      "4 Magda   32    K       UR     3\n"
     ]
    }
   ],
   "source": [
    "dd2$wiek = dd2$wiek + 10 #moge modyfikowac wartosci\n",
    "print(dd2)"
   ]
  },
  {
   "cell_type": "markdown",
   "id": "0d43e002",
   "metadata": {},
   "source": [
    "<h4> Otwieranie i zapisywanie do pliku"
   ]
  },
  {
   "cell_type": "code",
   "execution_count": 31,
   "id": "cdc2acbd",
   "metadata": {},
   "outputs": [],
   "source": [
    "write.table(dd2, file = \"dd.txt\", row.names=FALSE)  "
   ]
  },
  {
   "cell_type": "code",
   "execution_count": 32,
   "id": "9586d401",
   "metadata": {},
   "outputs": [
    {
     "name": "stdout",
     "output_type": "stream",
     "text": [
      "  osoba wiek plec uczelnia new_c\n",
      "1 Marek   30    M       UJ     1\n",
      "2 Jarek   40    M      AGH     2\n",
      "3  Anna   50    K       UJ     3\n",
      "4 Magda   32    K       UR     3\n"
     ]
    }
   ],
   "source": [
    "dane =  read.table(file=\"dd.txt\", sep=\" \", header=TRUE, stringsAsFactors=F)    \n",
    "print(dane)"
   ]
  },
  {
   "cell_type": "code",
   "execution_count": 34,
   "id": "22fffb7d",
   "metadata": {},
   "outputs": [
    {
     "name": "stdout",
     "output_type": "stream",
     "text": [
      "      country year      pop continent lifeExp gdpPercap\n",
      "1 Afghanistan 1952  8425333      Asia  28.801  779.4453\n",
      "2 Afghanistan 1957  9240934      Asia  30.332  820.8530\n",
      "3 Afghanistan 1962 10267083      Asia  31.997  853.1007\n",
      "4 Afghanistan 1967 11537966      Asia  34.020  836.1971\n",
      "5 Afghanistan 1972 13079460      Asia  36.088  739.9811\n",
      "6 Afghanistan 1977 14880372      Asia  38.438  786.1134\n"
     ]
    }
   ],
   "source": [
    "#dane czytane z internetu (tabelaryczne)\n",
    "dane2 = read.table(file=\"https://raw.githubusercontent.com/adkwazar/R25/refs/heads/main/dane3.csv\", sep=\",\", header=T, stringsAsFactors=F) #\\t - tab\n",
    "print(head(dane2))"
   ]
  },
  {
   "cell_type": "markdown",
   "id": "4d560519",
   "metadata": {},
   "source": [
    "Inne podobne metody: "
   ]
  },
  {
   "cell_type": "markdown",
   "id": "9b6eb464",
   "metadata": {},
   "source": [
    "- read.csv(): pliki rozdzielone przecinkiem (.csv)\n",
    "\n",
    "- read.csv2(): gdy używamy przecinka w liczbach dziesiętnych a jako separatora ;\n",
    "\n",
    "- read.delim(): dane rodzielone tab (“.txt”). Standardowo kropka używana jest w zapisie dziesiętnym.\n",
    "\n",
    "- read.delim2(): dane rodzielone tab (“.txt”). Standardowo przecinek używany jest w zapisie dziesiętnym."
   ]
  },
  {
   "cell_type": "code",
   "execution_count": 35,
   "id": "81cd112b",
   "metadata": {},
   "outputs": [],
   "source": [
    "write.csv(dd2, file = 'dane.csv')"
   ]
  },
  {
   "cell_type": "code",
   "execution_count": 36,
   "id": "c849b822",
   "metadata": {},
   "outputs": [],
   "source": [
    "write.csv(dd2, file = 'dane2.csv', row.names = F, quote = F) #bez nazw wierwszy i bez cudzyslowu"
   ]
  },
  {
   "cell_type": "code",
   "execution_count": 37,
   "id": "a6ef175d",
   "metadata": {},
   "outputs": [
    {
     "name": "stdout",
     "output_type": "stream",
     "text": [
      "  osoba wiek plec uczelnia new_c\n",
      "1 Marek   30    M       UJ     1\n",
      "2 Jarek   40    M      AGH     2\n",
      "3  Anna   50    K       UJ     3\n",
      "4 Magda   32    K       UR     3\n"
     ]
    }
   ],
   "source": [
    "dd2r = read.csv(file = 'dane2.csv', stringsAsFactors = FALSE)\n",
    "print(dd2r)"
   ]
  },
  {
   "cell_type": "code",
   "execution_count": 39,
   "id": "c8357b1b",
   "metadata": {},
   "outputs": [
    {
     "name": "stdout",
     "output_type": "stream",
     "text": [
      "      country year      pop continent lifeExp gdpPercap\n",
      "1 Afghanistan 1952  8425333      Asia  28.801  779.4453\n",
      "2 Afghanistan 1957  9240934      Asia  30.332  820.8530\n",
      "3 Afghanistan 1962 10267083      Asia  31.997  853.1007\n",
      "4 Afghanistan 1967 11537966      Asia  34.020  836.1971\n",
      "5 Afghanistan 1972 13079460      Asia  36.088  739.9811\n",
      "6 Afghanistan 1977 14880372      Asia  38.438  786.1134\n"
     ]
    }
   ],
   "source": [
    "#dane z internetu (tabelaryczne)\n",
    "download.file(\"https://raw.githubusercontent.com/adkwazar/R25/refs/heads/main/dane3.csv\", destfile = \"dane3.csv\")\n",
    "dd3r = read.csv(\"dane3.csv\", stringsAsFactors = TRUE)\n",
    "print(head(dd3r))"
   ]
  },
  {
   "cell_type": "markdown",
   "id": "b795441c",
   "metadata": {},
   "source": [
    "<h4> R i SQL - pobieranie informacji z baz danych"
   ]
  },
  {
   "cell_type": "code",
   "execution_count": 40,
   "id": "b8f246bb",
   "metadata": {},
   "outputs": [],
   "source": [
    "library(RSQLite)"
   ]
  },
  {
   "cell_type": "code",
   "execution_count": 41,
   "id": "d3e39a03",
   "metadata": {},
   "outputs": [
    {
     "name": "stdout",
     "output_type": "stream",
     "text": [
      "     lat    long\n",
      "1 -49.85 -128.57\n",
      "2 -47.15 -126.72\n",
      "3 -48.87 -123.40\n"
     ]
    }
   ],
   "source": [
    "polaczenie = dbConnect(SQLite(), \"survey.db\") #łączymy się z bazą danych\n",
    "wyniki =  dbGetQuery(polaczenie, \"SELECT Site.lat, Site.long FROM Site;\") #pobieram pewne rekordy\n",
    "print(wyniki)\n",
    "dbDisconnect(polaczenie) #zamykamy polaczenie z baza danych"
   ]
  },
  {
   "cell_type": "markdown",
   "id": "ae13b3d7",
   "metadata": {},
   "source": [
    "<h4> R i JSON"
   ]
  },
  {
   "cell_type": "code",
   "execution_count": 42,
   "id": "f3656ab2",
   "metadata": {},
   "outputs": [],
   "source": [
    "library(\"jsonlite\")"
   ]
  },
  {
   "cell_type": "code",
   "execution_count": 44,
   "id": "db2d5c7a",
   "metadata": {},
   "outputs": [
    {
     "name": "stdout",
     "output_type": "stream",
     "text": [
      "$metadata\n",
      "$metadata$source\n",
      "[1] \"sensor_network_23\"\n",
      "\n",
      "$metadata$generated_at\n",
      "[1] \"2025-03-07T12:00:00Z\"\n",
      "\n",
      "$metadata$units\n",
      "$metadata$units$temperature\n",
      "[1] \"Celsius\"\n",
      "\n",
      "$metadata$units$humidity\n",
      "[1] \"%\"\n",
      "\n",
      "$metadata$units$vibration\n",
      "[1] \"Hz\"\n",
      "\n",
      "\n",
      "\n",
      "$data\n",
      "  sensor_id temperature humidity vibration\n",
      "1        A1        22.5     45.2      10.4\n",
      "2        A2        21.8     50.1       9.8\n",
      "3        A3        23.3     47.7      11.2\n",
      "4        A4        22.0     46.5      10.1\n",
      "5        A5        21.5     49.0       9.5\n",
      "\n"
     ]
    }
   ],
   "source": [
    "url = \"https://raw.githubusercontent.com/adkwazar/R25/refs/heads/main/example.json\"\n",
    "dane = fromJSON(url)\n",
    "print(head(dane))"
   ]
  },
  {
   "cell_type": "code",
   "execution_count": 45,
   "id": "9309e0b3",
   "metadata": {},
   "outputs": [
    {
     "data": {
      "text/html": [
       "<strong>$names</strong> = <style>\n",
       ".list-inline {list-style: none; margin:0; padding: 0}\n",
       ".list-inline>li {display: inline-block}\n",
       ".list-inline>li:not(:last-child)::after {content: \"\\00b7\"; padding: 0 .5ex}\n",
       "</style>\n",
       "<ol class=list-inline><li>'metadata'</li><li>'data'</li></ol>\n"
      ],
      "text/latex": [
       "\\textbf{\\$names} = \\begin{enumerate*}\n",
       "\\item 'metadata'\n",
       "\\item 'data'\n",
       "\\end{enumerate*}\n"
      ],
      "text/markdown": [
       "**$names** = 1. 'metadata'\n",
       "2. 'data'\n",
       "\n",
       "\n"
      ],
      "text/plain": [
       "$names\n",
       "[1] \"metadata\" \"data\"    \n"
      ]
     },
     "metadata": {},
     "output_type": "display_data"
    }
   ],
   "source": [
    "attributes(dane) #atrybuty"
   ]
  },
  {
   "cell_type": "code",
   "execution_count": 46,
   "id": "da136586-d1c2-49d9-94aa-1835c3bd6dfb",
   "metadata": {},
   "outputs": [
    {
     "name": "stdout",
     "output_type": "stream",
     "text": [
      "  sensor_id temperature humidity vibration\n",
      "1        A1        22.5     45.2      10.4\n",
      "2        A2        21.8     50.1       9.8\n",
      "3        A3        23.3     47.7      11.2\n",
      "4        A4        22.0     46.5      10.1\n",
      "5        A5        21.5     49.0       9.5\n"
     ]
    }
   ],
   "source": [
    "print(dane$data)"
   ]
  },
  {
   "cell_type": "markdown",
   "id": "8674ffb7",
   "metadata": {},
   "source": [
    "<h4> R i HTML"
   ]
  },
  {
   "cell_type": "code",
   "execution_count": 47,
   "id": "e26d460e",
   "metadata": {},
   "outputs": [],
   "source": [
    "library(rvest)"
   ]
  },
  {
   "cell_type": "code",
   "execution_count": 58,
   "id": "b7d23994",
   "metadata": {
    "scrolled": true
   },
   "outputs": [
    {
     "data": {
      "text/plain": [
       "{xml_nodeset (39)}\n",
       " [1] <table class=\"infobox\">\\n<caption class=\"naglowek\">\\n<style data-mw-dedu ...\n",
       " [2] <table class=\"ibox2\"><tbody>\\n<tr>\\n<td style=\"text-align: center; verti ...\n",
       " [3] <table cellpadding=\"4\" cellspacing=\"0\" style=\"width:100%; margin:0px; ba ...\n",
       " [4] <table cellpadding=\"4\" cellspacing=\"0\" style=\"width:100%; margin:0px; ba ...\n",
       " [5] <table cellpadding=\"4\" cellspacing=\"0\" style=\"width:100%; margin:0px; ba ...\n",
       " [6] <table cellpadding=\"4\" cellspacing=\"0\" style=\"width:100%; margin:0px; ba ...\n",
       " [7] <table cellpadding=\"4\" cellspacing=\"0\" style=\"width:100%; margin:0px; ba ...\n",
       " [8] <table class=\"wikitable\" style=\"float:right; margin: 0 1em 0 0; width:40 ...\n",
       " [9] <table class=\"wikitable\" style=\"float:right; margin: 0 1em 0 0; width:40 ...\n",
       "[10] <table align=\"right\" cellspacing=\"5\" cellpadding=\"0\" style=\"margin: 0 0  ...\n",
       "[11] <table class=\"wikitable sortable\" width=\"60%\"><tbody>\\n<tr>\\n<th>\\n</th> ...\n",
       "[12] <table class=\"wikitable\" align=\"right\"><tbody>\\n<tr>\\n<th>Rok\\n</th>\\n<t ...\n",
       "[13] <table class=\"wikitable sortable\" align=\"right\" style=\"text-align:center ...\n",
       "[14] <table class=\"infobox noprint plainlinks\" cellpadding=\"4\" role=\"presenta ...\n",
       "[15] <table class=\"infobox noprint plainlinks\" cellpadding=\"4\" role=\"presenta ...\n",
       "[16] <table class=\"infobox noprint plainlinks\" cellpadding=\"4\" role=\"presenta ...\n",
       "[17] <table class=\"infobox noprint plainlinks\"><tbody>\\n<tr>\\n<td style=\"text ...\n",
       "[18] <table class=\"infobox noprint plainlinks\" cellpadding=\"4\" role=\"presenta ...\n",
       "[19] <table class=\"navbox-main-content inner-standard\"><tbody>\\n<tr class=\"a1 ...\n",
       "[20] <table class=\"navbox-main-content inner-standard\"><tbody>\\n<tr class=\"a1 ...\n",
       "..."
      ]
     },
     "metadata": {},
     "output_type": "display_data"
    }
   ],
   "source": [
    "url = \"https://pl.wikipedia.org/wiki/Polska\"\n",
    "wiki = read_html(url)\n",
    "tabele = html_nodes(wiki, \"table\") #pobiera wszystkie tabele\n",
    "tabele"
   ]
  },
  {
   "cell_type": "code",
   "execution_count": 73,
   "id": "15fd4780",
   "metadata": {},
   "outputs": [
    {
     "name": "stdout",
     "output_type": "stream",
     "text": [
      "\u001b[90m# A tibble: 6 × 4\u001b[39m\n",
      "     `` Miasto   `Liczba mieszkańców` Województwo  \n",
      "  \u001b[3m\u001b[90m<int>\u001b[39m\u001b[23m \u001b[3m\u001b[90m<chr>\u001b[39m\u001b[23m    \u001b[3m\u001b[90m<chr>\u001b[39m\u001b[23m                \u001b[3m\u001b[90m<chr>\u001b[39m\u001b[23m        \n",
      "\u001b[90m1\u001b[39m     1 Warszawa 1 861 664            mazowieckie  \n",
      "\u001b[90m2\u001b[39m     2 Kraków   804 237              małopolskie  \n",
      "\u001b[90m3\u001b[39m     3 Wrocław  674 132              dolnośląskie \n",
      "\u001b[90m4\u001b[39m     4 Łódź     655 279              łódzkie      \n",
      "\u001b[90m5\u001b[39m     5 Poznań   540 146              wielkopolskie\n",
      "\u001b[90m6\u001b[39m     6 Gdańsk   486 492              pomorskie    \n"
     ]
    }
   ],
   "source": [
    "tabela11 = html_table(tabele[[11]], fill = TRUE)\n",
    "print(head(tabela11))"
   ]
  },
  {
   "cell_type": "markdown",
   "id": "c936dec4",
   "metadata": {},
   "source": [
    "<h4> Użyteczne metody "
   ]
  },
  {
   "cell_type": "code",
   "execution_count": 74,
   "id": "b5e74d4b",
   "metadata": {},
   "outputs": [
    {
     "name": "stdout",
     "output_type": "stream",
     "text": [
      "  c1 c2\n",
      "1  1 -2\n",
      "2  2 -2\n",
      "3  2 -3\n",
      "4  3 -4\n",
      "5  4  8\n"
     ]
    }
   ],
   "source": [
    "dane = data.frame(c1 = c(1,2,2,3,4), c2 = c(-2,-2,-3,-4,8))\n",
    "print(dane)"
   ]
  },
  {
   "cell_type": "code",
   "execution_count": 75,
   "id": "de96d3a1",
   "metadata": {},
   "outputs": [
    {
     "name": "stdout",
     "output_type": "stream",
     "text": [
      "  c1   c2 \n",
      " 2.4 -0.6 \n"
     ]
    }
   ],
   "source": [
    "print(apply(dane, 2, mean)) #srednie kolumn, inne funkcje:  sd, var, min, min, max, median, range, quantile, IQR"
   ]
  },
  {
   "cell_type": "code",
   "execution_count": 76,
   "id": "fd5f4f20",
   "metadata": {},
   "outputs": [
    {
     "name": "stdout",
     "output_type": "stream",
     "text": [
      "[1] -0.5  0.0 -0.5 -0.5  6.0\n"
     ]
    }
   ],
   "source": [
    "print(apply(dane, 1, mean)) #srednie dla wierszy"
   ]
  },
  {
   "cell_type": "code",
   "execution_count": 77,
   "id": "bac9e333",
   "metadata": {},
   "outputs": [
    {
     "name": "stdout",
     "output_type": "stream",
     "text": [
      "$c1\n",
      "[1] 2.4\n",
      "\n",
      "$c2\n",
      "[1] -0.6\n",
      "\n"
     ]
    }
   ],
   "source": [
    "print(lapply(dane, mean)) #lapply - podobna do apply ale moze byc zastowana dla szerszej klasy obiektow (typow)"
   ]
  },
  {
   "cell_type": "code",
   "execution_count": 78,
   "id": "add265c1",
   "metadata": {},
   "outputs": [
    {
     "name": "stdout",
     "output_type": "stream",
     "text": [
      "$c1\n",
      "[1] 5 6 6 7 8\n",
      "\n",
      "$c2\n",
      "[1]  2  2  1  0 12\n",
      "\n"
     ]
    }
   ],
   "source": [
    "print(lapply(dane, function(x){x+4}))"
   ]
  },
  {
   "cell_type": "code",
   "execution_count": 79,
   "id": "e1b2d86b",
   "metadata": {},
   "outputs": [
    {
     "name": "stdout",
     "output_type": "stream",
     "text": [
      "[[1]]\n",
      "[1] -1\n",
      "\n",
      "[[2]]\n",
      "[1] 0\n",
      "\n",
      "[[3]]\n",
      "[1] -1\n",
      "\n",
      "[[4]]\n",
      "[1] -1\n",
      "\n",
      "[[5]]\n",
      "[1] 12\n",
      "\n"
     ]
    }
   ],
   "source": [
    "print(lapply(1:5, function(x){sum(dane[x,])})) #sumuje kolejne wartosci w wierszach dane"
   ]
  },
  {
   "cell_type": "code",
   "execution_count": 80,
   "id": "2311acfe",
   "metadata": {},
   "outputs": [
    {
     "name": "stdout",
     "output_type": "stream",
     "text": [
      "[1] -1  0 -1 -1 12\n"
     ]
    }
   ],
   "source": [
    "print(sapply(1:5, function(x){sum(dane[x,])})) #w zasadzie dziala jak lappply ale próbuje zwrocic wynik w jak najprosztej postaci, domyslnie wektorze"
   ]
  },
  {
   "cell_type": "code",
   "execution_count": 81,
   "id": "319d78c8",
   "metadata": {},
   "outputs": [
    {
     "name": "stdout",
     "output_type": "stream",
     "text": [
      "[[1]]\n",
      "[1] -1\n",
      "\n",
      "[[2]]\n",
      "[1] 0\n",
      "\n",
      "[[3]]\n",
      "[1] -1\n",
      "\n",
      "[[4]]\n",
      "[1] -1\n",
      "\n",
      "[[5]]\n",
      "[1] 12\n",
      "\n"
     ]
    }
   ],
   "source": [
    "print(sapply(1:5, function(x){sum(dane[x,])}, simplify = FALSE)) #gdy simplify jest FALSE w zasadzie jest tozsama z lapply"
   ]
  },
  {
   "cell_type": "markdown",
   "id": "e2248978",
   "metadata": {},
   "source": [
    "<h4> dplyr i tidyr"
   ]
  },
  {
   "cell_type": "code",
   "execution_count": 82,
   "id": "c09fa71c",
   "metadata": {},
   "outputs": [
    {
     "data": {
      "text/plain": [
       "Dokumentacja dla pakietu 'dplyr'\n",
       "\n",
       "\n",
       "\t\tInformacja dotycząca pakietu 'dplyr'\n",
       "\n",
       "Opis:\n",
       "\n",
       "Type:                      Package\n",
       "Package:                   dplyr\n",
       "Title:                     A Grammar of Data Manipulation\n",
       "Version:                   1.1.4\n",
       "Authors@R:                 c( person(\"Hadley\", \"Wickham\", ,\n",
       "                           \"hadley@posit.co\", role = c(\"aut\", \"cre\"),\n",
       "                           comment = c(ORCID = \"0000-0003-4757-117X\")),\n",
       "                           person(\"Romain\", \"François\", role = \"aut\",\n",
       "                           comment = c(ORCID = \"0000-0002-2444-4226\")),\n",
       "                           person(\"Lionel\", \"Henry\", role = \"aut\"),\n",
       "                           person(\"Kirill\", \"Müller\", role = \"aut\",\n",
       "                           comment = c(ORCID = \"0000-0002-1416-3412\")),\n",
       "                           person(\"Davis\", \"Vaughan\", ,\n",
       "                           \"davis@posit.co\", role = \"aut\", comment =\n",
       "                           c(ORCID = \"0000-0003-4777-038X\")),\n",
       "                           person(\"Posit Software, PBC\", role =\n",
       "                           c(\"cph\", \"fnd\")) )\n",
       "Description:               A fast, consistent tool for working with\n",
       "                           data frame like objects, both in memory and\n",
       "                           out of memory.\n",
       "License:                   MIT + file LICENSE\n",
       "URL:                       https://dplyr.tidyverse.org,\n",
       "                           https://github.com/tidyverse/dplyr\n",
       "BugReports:                https://github.com/tidyverse/dplyr/issues\n",
       "Depends:                   R (>= 3.5.0)\n",
       "Imports:                   cli (>= 3.4.0), generics, glue (>= 1.3.2),\n",
       "                           lifecycle (>= 1.0.3), magrittr (>= 1.5),\n",
       "                           methods, pillar (>= 1.9.0), R6, rlang (>=\n",
       "                           1.1.0), tibble (>= 3.2.0), tidyselect (>=\n",
       "                           1.2.0), utils, vctrs (>= 0.6.4)\n",
       "Suggests:                  bench, broom, callr, covr, DBI, dbplyr (>=\n",
       "                           2.2.1), ggplot2, knitr, Lahman, lobstr,\n",
       "                           microbenchmark, nycflights13, purrr,\n",
       "                           rmarkdown, RMySQL, RPostgreSQL, RSQLite,\n",
       "                           stringi (>= 1.7.6), testthat (>= 3.1.5),\n",
       "                           tidyr (>= 1.3.0), withr\n",
       "VignetteBuilder:           knitr\n",
       "Config/Needs/website:      tidyverse, shiny, pkgdown,\n",
       "                           tidyverse/tidytemplate\n",
       "Config/testthat/edition:   3\n",
       "Encoding:                  UTF-8\n",
       "LazyData:                  true\n",
       "RoxygenNote:               7.2.3\n",
       "NeedsCompilation:          yes\n",
       "Packaged:                  2023-11-16 21:48:56 UTC; hadleywickham\n",
       "Author:                    Hadley Wickham [aut, cre]\n",
       "                           (<https://orcid.org/0000-0003-4757-117X>),\n",
       "                           Romain François [aut]\n",
       "                           (<https://orcid.org/0000-0002-2444-4226>),\n",
       "                           Lionel Henry [aut], Kirill Müller [aut]\n",
       "                           (<https://orcid.org/0000-0002-1416-3412>),\n",
       "                           Davis Vaughan [aut]\n",
       "                           (<https://orcid.org/0000-0003-4777-038X>),\n",
       "                           Posit Software, PBC [cph, fnd]\n",
       "Maintainer:                Hadley Wickham <hadley@posit.co>\n",
       "Repository:                CRAN\n",
       "Date/Publication:          2023-11-17 16:50:02 UTC\n",
       "Built:                     R 4.3.3; x86_64-w64-mingw32; 2024-07-18\n",
       "                           07:49:20 UTC; windows\n",
       "Archs:                     x64\n",
       "\n",
       "Indeks:\n",
       "\n",
       "across                  Apply a function (or functions) across multiple\n",
       "                        columns\n",
       "all_vars                Apply predicate to all variables\n",
       "arrange                 Order rows using column values\n",
       "auto_copy               Copy tables to same source, if necessary\n",
       "band_members            Band membership\n",
       "between                 Detect where values fall in a specified range\n",
       "bind_cols               Bind multiple data frames by column\n",
       "bind_rows               Bind multiple data frames by row\n",
       "c_across                Combine values from multiple columns\n",
       "case_match              A general vectorised 'switch()'\n",
       "case_when               A general vectorised if-else\n",
       "coalesce                Find the first non-missing element\n",
       "compute                 Force computation of a database query\n",
       "consecutive_id          Generate a unique identifier for consecutive\n",
       "                        combinations\n",
       "context                 Information about the \"current\" group or\n",
       "                        variable\n",
       "copy_to                 Copy a local data frame to a remote src\n",
       "count                   Count the observations in each group\n",
       "cross_join              Cross join\n",
       "cumall                  Cumulativate versions of any, all, and mean\n",
       "desc                    Descending order\n",
       "distinct                Keep distinct/unique rows\n",
       "dplyr_by                Per-operation grouping with '.by'/'by'\n",
       "explain                 Explain details of a tbl\n",
       "filter                  Keep rows that match a condition\n",
       "filter-joins            Filtering joins\n",
       "glimpse                 Get a glimpse of your data\n",
       "group_by                Group by one or more variables\n",
       "group_cols              Select grouping variables\n",
       "group_map               Apply a function to each group\n",
       "group_trim              Trim grouping structure\n",
       "ident                   Flag a character vector as SQL identifiers\n",
       "if_else                 Vectorised if-else\n",
       "join_by                 Join specifications\n",
       "lead-lag                Compute lagged or leading values\n",
       "mutate                  Create, modify, and delete columns\n",
       "mutate-joins            Mutating joins\n",
       "n_distinct              Count unique combinations\n",
       "na_if                   Convert values to 'NA'\n",
       "near                    Compare two numeric vectors\n",
       "nest_join               Nest join\n",
       "nth                     Extract the first, last, or nth value from a\n",
       "                        vector\n",
       "ntile                   Bucket a numeric vector into 'n' groups\n",
       "order_by                A helper function for ordering window function\n",
       "                        output\n",
       "percent_rank            Proportional ranking functions\n",
       "pick                    Select a subset of columns\n",
       "pull                    Extract a single column\n",
       "recode                  Recode values\n",
       "reframe                 Transform each group to an arbitrary number of\n",
       "                        rows\n",
       "relocate                Change column order\n",
       "rename                  Rename columns\n",
       "row_number              Integer ranking functions\n",
       "rows                    Manipulate individual rows\n",
       "rowwise                 Group input by rows\n",
       "scoped                  Operate on a selection of variables\n",
       "select                  Keep or drop columns using their names and\n",
       "                        types\n",
       "setops                  Set operations\n",
       "slice                   Subset rows using their positions\n",
       "sql                     SQL escaping.\n",
       "starwars                Starwars characters\n",
       "storms                  Storm tracks data\n",
       "summarise               Summarise each group down to one row\n",
       "tbl                     Create a table from a data source\n",
       "vars                    Select variables\n",
       "\n",
       "Dalsza informacja jest dostępna w następujących ilustracjach w katalogu\n",
       "'C:/Users/Adrian/anaconda3/envs/r-conda/lib/R/library/dplyr/doc':\n",
       "\n",
       "base: dplyr <-> base R (source, pdf)\n",
       "colwise: Column-wise operations (source, pdf)\n",
       "dplyr: Introduction to dplyr (source, pdf)\n",
       "grouping: Grouped data (source, pdf)\n",
       "in-packages: Using dplyr in packages (source, pdf)\n",
       "programming: Programming with dplyr (source, pdf)\n",
       "rowwise: Row-wise operations (source, pdf)\n",
       "two-table: Two-table verbs (source, pdf)\n",
       "window-functions: Window functions (source, pdf)"
      ]
     },
     "metadata": {},
     "output_type": "display_data"
    }
   ],
   "source": [
    "help(package = dplyr) #opis pakietu"
   ]
  },
  {
   "cell_type": "code",
   "execution_count": 84,
   "id": "ed25874b",
   "metadata": {},
   "outputs": [],
   "source": [
    "library(dplyr) #jezeli nie mamy to install.packages(\"dplyr\")\n",
    "library(tidyr) # --||--"
   ]
  },
  {
   "cell_type": "code",
   "execution_count": 86,
   "id": "7e48df43",
   "metadata": {},
   "outputs": [
    {
     "name": "stdout",
     "output_type": "stream",
     "text": [
      "  Ozone Solar.R Wind Temp Month Day\n",
      "1    41     190  7.4   67     5   1\n",
      "2    36     118  8.0   72     5   2\n",
      "3    12     149 12.6   74     5   3\n",
      "4    18     313 11.5   62     5   4\n",
      "5    NA      NA 14.3   56     5   5\n",
      "6    28      NA 14.9   66     5   6\n"
     ]
    },
    {
     "data": {
      "text/html": [
       "<style>\n",
       ".list-inline {list-style: none; margin:0; padding: 0}\n",
       ".list-inline>li {display: inline-block}\n",
       ".list-inline>li:not(:last-child)::after {content: \"\\00b7\"; padding: 0 .5ex}\n",
       "</style>\n",
       "<ol class=list-inline><li>153</li><li>6</li></ol>\n"
      ],
      "text/latex": [
       "\\begin{enumerate*}\n",
       "\\item 153\n",
       "\\item 6\n",
       "\\end{enumerate*}\n"
      ],
      "text/markdown": [
       "1. 153\n",
       "2. 6\n",
       "\n",
       "\n"
      ],
      "text/plain": [
       "[1] 153   6"
      ]
     },
     "metadata": {},
     "output_type": "display_data"
    }
   ],
   "source": [
    "aq = airquality    \n",
    "print(head(aq)); dim(aq)"
   ]
  },
  {
   "cell_type": "code",
   "execution_count": 87,
   "id": "17c3d42f",
   "metadata": {},
   "outputs": [
    {
     "data": {
      "image/png": "[encoded data removed]",
      "text/plain": [
       "plot without title"
      ]
     },
     "metadata": {
      "image/png": {
       "height": 420,
       "width": 600
      }
     },
     "output_type": "display_data"
    }
   ],
   "source": [
    "options(repr.plot.width=10, repr.plot.height=7)\n",
    "boxplot(aq) #wykresy pudelkowe dla kazdej kolumny"
   ]
  },
  {
   "cell_type": "markdown",
   "id": "a0a03901",
   "metadata": {},
   "source": [
    "Kawałkowanie (Slicing)"
   ]
  },
  {
   "cell_type": "code",
   "execution_count": 89,
   "id": "05de5e34",
   "metadata": {},
   "outputs": [
    {
     "name": "stdout",
     "output_type": "stream",
     "text": [
      "  Ozone Solar.R Wind Temp Month Day\n",
      "1    36     118    8   72     5   2\n"
     ]
    }
   ],
   "source": [
    "print(aq %>% slice(2)) #ten sam efekt co aq[2, ]"
   ]
  },
  {
   "cell_type": "code",
   "execution_count": 90,
   "id": "6e4bd450",
   "metadata": {},
   "outputs": [
    {
     "name": "stdout",
     "output_type": "stream",
     "text": [
      "  Ozone Solar.R Wind Temp Month Day\n",
      "1    12     149 12.6   74     5   3\n",
      "2    18     313 11.5   62     5   4\n",
      "3    NA      NA 14.3   56     5   5\n"
     ]
    }
   ],
   "source": [
    "print(aq %>% slice(3:5)) #ten sam efekt co aq[3:5,]"
   ]
  },
  {
   "cell_type": "code",
   "execution_count": 91,
   "id": "7be18535",
   "metadata": {},
   "outputs": [
    {
     "name": "stdout",
     "output_type": "stream",
     "text": [
      "  Ozone Solar.R Wind Temp Month Day\n",
      "1    12     149 12.6   74     5   3\n",
      "2    23     299  8.6   65     5   7\n",
      "3    18      65 13.2   58     5  15\n"
     ]
    }
   ],
   "source": [
    "print(aq %>% slice(c(3, 7, 15))) #ten sam efekt co aq[c(3,7,15),]"
   ]
  },
  {
   "cell_type": "code",
   "execution_count": 92,
   "id": "64ab76bc",
   "metadata": {},
   "outputs": [
    {
     "name": "stdout",
     "output_type": "stream",
     "text": [
      "  Ozone Solar.R Wind Temp Month Day\n",
      "1    41     190  7.4   67     5   1\n",
      "2    36     118  8.0   72     5   2\n",
      "3    18     313 11.5   62     5   4\n",
      "4    NA      NA 14.3   56     5   5\n",
      "5    28      NA 14.9   66     5   6\n",
      "6    19      99 13.8   59     5   8\n"
     ]
    }
   ],
   "source": [
    "print(head(aq %>% slice(-c(3, 7, 15)))) #wszystko z wyjątkiem 3, 7 i 15 wiersza; inaczej aq[-c(3, 7, 15),]"
   ]
  },
  {
   "cell_type": "markdown",
   "id": "e5fc4b9e",
   "metadata": {},
   "source": [
    "Filtrowanie"
   ]
  },
  {
   "cell_type": "code",
   "execution_count": 93,
   "id": "721a9dcd",
   "metadata": {},
   "outputs": [
    {
     "name": "stdout",
     "output_type": "stream",
     "text": [
      "  Ozone Solar.R Wind Temp Month Day\n",
      "1    NA     259 10.9   93     6  11\n",
      "2    NA     250  9.2   92     6  12\n",
      "3    97     267  6.3   92     7   8\n",
      "4    97     272  5.7   92     7   9\n",
      "5    NA     291 14.9   91     7  14\n",
      "6    NA     222  8.6   92     8  10\n"
     ]
    }
   ],
   "source": [
    "print(head(aq %>% filter(Temp > 90))) #ten sam efekt co aq[aq$Temp > 90,]; mozna tez uzywac wyrazen regularnych tpu dane %>% filter(grepl(\"B[a-z]\",nazwa_kolumny)) - rekordy zaczynajace sie od B"
   ]
  },
  {
   "cell_type": "code",
   "execution_count": 94,
   "id": "66f00850",
   "metadata": {},
   "outputs": [
    {
     "name": "stdout",
     "output_type": "stream",
     "text": [
      "  Ozone Solar.R Wind Temp Month Day\n",
      "1    NA     259 10.9   93     6  11\n",
      "2    NA     250  9.2   92     6  12\n"
     ]
    }
   ],
   "source": [
    "print(aq %>% filter(Temp > 90, Month == 6)) #ten sam efekt co aq[aq$Temp > 90 & aq$Month == 6,]"
   ]
  },
  {
   "cell_type": "code",
   "execution_count": 95,
   "id": "cc849ab3",
   "metadata": {},
   "outputs": [
    {
     "name": "stdout",
     "output_type": "stream",
     "text": [
      "  Ozone Solar.R Wind Temp Month Day\n",
      "1    45     252 14.9   81     5  29\n",
      "2    NA     186  9.2   84     6   4\n",
      "3    NA     220  8.6   85     6   5\n",
      "4    29     127  9.7   82     6   7\n",
      "5    NA     273  6.9   87     6   8\n",
      "6    71     291 13.8   90     6   9\n"
     ]
    }
   ],
   "source": [
    "print(head(aq %>% filter(between(Temp, 80, 90))))"
   ]
  },
  {
   "cell_type": "markdown",
   "id": "0cb2e851",
   "metadata": {},
   "source": [
    "Mutowanie"
   ]
  },
  {
   "cell_type": "code",
   "execution_count": 96,
   "id": "460e6ff1",
   "metadata": {},
   "outputs": [
    {
     "name": "stdout",
     "output_type": "stream",
     "text": [
      "  Ozone Solar.R Wind Temp Month Day\n",
      "1    41     190 14.8   67     5   1\n",
      "2    36     118 16.0   72     5   2\n",
      "3    12     149 25.2   74     5   3\n",
      "4    18     313 23.0   62     5   4\n",
      "5    NA      NA 28.6   56     5   5\n",
      "6    28      NA 29.8   66     5   6\n"
     ]
    }
   ],
   "source": [
    "aq %>% mutate(Wind = Wind * 2) -> aq #mozna zmieniac istniejącą juz kolumne\n",
    "print(head(aq))"
   ]
  },
  {
   "cell_type": "code",
   "execution_count": 97,
   "id": "875b658b",
   "metadata": {},
   "outputs": [
    {
     "name": "stdout",
     "output_type": "stream",
     "text": [
      "  Ozone Solar.R Wind Temp Month Day double_temp\n",
      "1    41     190 14.8   67     5   1         134\n",
      "2    36     118 16.0   72     5   2         144\n",
      "3    12     149 25.2   74     5   3         148\n",
      "4    18     313 23.0   62     5   4         124\n",
      "5    NA      NA 28.6   56     5   5         112\n",
      "6    28      NA 29.8   66     5   6         132\n"
     ]
    }
   ],
   "source": [
    "aq %>% mutate(double_temp = Temp*2) -> aq #dodaje nową kolumne na podstawie juz istniejących\n",
    "print(head(aq))"
   ]
  },
  {
   "cell_type": "code",
   "execution_count": 98,
   "id": "cbaf9b7f",
   "metadata": {},
   "outputs": [
    {
     "name": "stdout",
     "output_type": "stream",
     "text": [
      "  Ozone Solar.R Wind Temp Month Day double_temp   Hot\n",
      "1    41     190 14.8   67     5   1         134 FALSE\n",
      "2    36     118 16.0   72     5   2         144 FALSE\n",
      "3    12     149 25.2   74     5   3         148 FALSE\n",
      "4    18     313 23.0   62     5   4         124 FALSE\n",
      "5    NA      NA 28.6   56     5   5         112 FALSE\n",
      "6    28      NA 29.8   66     5   6         132 FALSE\n"
     ]
    }
   ],
   "source": [
    "aq %>% mutate(Hot = Temp > 90) -> aq #nowa kolumna z wartosciami TRUE/FALSE\n",
    "print(head(aq))"
   ]
  },
  {
   "cell_type": "markdown",
   "id": "18f0fc6a",
   "metadata": {},
   "source": [
    "Select"
   ]
  },
  {
   "cell_type": "code",
   "execution_count": 99,
   "id": "8ec8bdda",
   "metadata": {},
   "outputs": [
    {
     "name": "stdout",
     "output_type": "stream",
     "text": [
      "  Ozone Wind\n",
      "1    41 14.8\n",
      "2    36 16.0\n",
      "3    12 25.2\n",
      "4    18 23.0\n",
      "5    NA 28.6\n",
      "6    28 29.8\n"
     ]
    }
   ],
   "source": [
    "print(head(aq %>% select(Ozone, Wind))) #wybieranie kolumn"
   ]
  },
  {
   "cell_type": "code",
   "execution_count": 100,
   "id": "371f3049",
   "metadata": {},
   "outputs": [
    {
     "name": "stdout",
     "output_type": "stream",
     "text": [
      "  Ozone Wind Month\n",
      "1    41 14.8     5\n",
      "2    36 16.0     5\n",
      "3    12 25.2     5\n",
      "4    18 23.0     5\n",
      "5    NA 28.6     5\n",
      "6    28 29.8     5\n"
     ]
    }
   ],
   "source": [
    "print(head(aq %>% select(contains(\"n\")))) #te kolumny ktorych nazwy zawierają n"
   ]
  },
  {
   "cell_type": "code",
   "execution_count": 101,
   "id": "5b863acc",
   "metadata": {},
   "outputs": [
    {
     "name": "stdout",
     "output_type": "stream",
     "text": [
      "  Ozone Solar.R Wind Temp Month Day double_temp   Hot\n",
      "1    16       7 13.8   74     7  21         148 FALSE\n",
      "2     1       8 19.4   59     5  21         118 FALSE\n",
      "3    23      13 24.0   67     5  28         134 FALSE\n",
      "4    23      14 18.4   71     9  22         142 FALSE\n",
      "5     8      19 40.2   61     5   9         122 FALSE\n",
      "6    14      20 33.2   63     9  25         126 FALSE\n"
     ]
    }
   ],
   "source": [
    "print(head(aq %>% arrange(Solar.R))) #sortuje wiersze wg cechy; jezeli w odwrotnej kolejnosci to arrange(desc(cecha))"
   ]
  },
  {
   "cell_type": "code",
   "execution_count": 102,
   "id": "7fda70b7",
   "metadata": {},
   "outputs": [
    {
     "name": "stdout",
     "output_type": "stream",
     "text": [
      "  Ozone Solar.R Wind Temp Month Day double_temp\n",
      "1    41     190 14.8   67     5   1         134\n",
      "2    36     118 16.0   72     5   2         144\n",
      "3    12     149 25.2   74     5   3         148\n",
      "4    18     313 23.0   62     5   4         124\n",
      "5    NA      NA 28.6   56     5   5         112\n",
      "6    28      NA 29.8   66     5   6         132\n"
     ]
    }
   ],
   "source": [
    "aq %>% select(-Hot) -> aq #bez HOT\n",
    "print(head(aq))"
   ]
  },
  {
   "cell_type": "code",
   "execution_count": 103,
   "id": "3842e0b7",
   "metadata": {},
   "outputs": [
    {
     "name": "stdout",
     "output_type": "stream",
     "text": [
      "  Ozone Solar.R Temp Month double_temp\n",
      "1    41     190   67     5         134\n",
      "2    36     118   72     5         144\n",
      "3    12     149   74     5         148\n",
      "4    18     313   62     5         124\n",
      "5    NA      NA   56     5         112\n",
      "6    28      NA   66     5         132\n"
     ]
    }
   ],
   "source": [
    "aq %>% select(-Wind, -Day) -> aq #bez 2 kolumn\n",
    "print(head(aq))"
   ]
  },
  {
   "cell_type": "markdown",
   "id": "173baafd",
   "metadata": {},
   "source": [
    "Inne"
   ]
  },
  {
   "cell_type": "code",
   "execution_count": 104,
   "id": "da7c8010",
   "metadata": {},
   "outputs": [
    {
     "name": "stdout",
     "output_type": "stream",
     "text": [
      "  O3 Solar.R Temp Month double_temp\n",
      "1 41     190   67     5         134\n",
      "2 36     118   72     5         144\n",
      "3 12     149   74     5         148\n",
      "4 18     313   62     5         124\n",
      "5 NA      NA   56     5         112\n",
      "6 28      NA   66     5         132\n"
     ]
    }
   ],
   "source": [
    "aq %>% rename(O3 = Ozone) -> aq #zmiana nazwy, mozna tez za pomocą setnames(aq, \"Ozone\", \"O\")\n",
    "print(head(aq))"
   ]
  },
  {
   "cell_type": "code",
   "execution_count": 105,
   "id": "217ae6b8",
   "metadata": {},
   "outputs": [
    {
     "name": "stdout",
     "output_type": "stream",
     "text": [
      "   O3 Solar.R Temp Month double_temp\n",
      "1  NA     259   93     6         186\n",
      "2  76     203   97     8         194\n",
      "3 118     225   94     8         188\n",
      "4  84     237   96     8         192\n",
      "5  85     188   94     8         188\n",
      "6  73     183   93     9         186\n",
      "7  91     189   93     9         186\n"
     ]
    }
   ],
   "source": [
    "print(aq %>% top_n(5, Temp)) #5 Top temperatur, wiecej rekordow bo kilka z tymi samymi temperaturami"
   ]
  },
  {
   "cell_type": "code",
   "execution_count": 106,
   "id": "8ad4b138",
   "metadata": {},
   "outputs": [
    {
     "name": "stdout",
     "output_type": "stream",
     "text": [
      "  O3 Solar.R Temp Month double_temp\n",
      "1 24     238   68     9         136\n",
      "2 30     322   68     5         136\n",
      "3 35      NA   85     8         170\n",
      "4 NA     139   82     7         164\n",
      "5 30     193   70     9         140\n"
     ]
    }
   ],
   "source": [
    "print(aq %>% sample_n(5)) #losowe 5"
   ]
  },
  {
   "cell_type": "code",
   "execution_count": 107,
   "id": "0659ba07",
   "metadata": {},
   "outputs": [
    {
     "name": "stdout",
     "output_type": "stream",
     "text": [
      "  O3 Solar.R Temp Month double_temp\n",
      "1 41     190   67     5         134\n",
      "2 36     118   72     5         144\n",
      "3 12     149   74     5         148\n",
      "4 18     313   62     5         124\n",
      "5 NA      NA   56     5         112\n",
      "6 28      NA   66     5         132\n"
     ]
    }
   ],
   "source": [
    "print(head(aq %>% distinct)) #usuwanie replikatow, ten sam efekt co unique(aq)"
   ]
  },
  {
   "cell_type": "code",
   "execution_count": 108,
   "id": "77ca7809",
   "metadata": {},
   "outputs": [
    {
     "name": "stdout",
     "output_type": "stream",
     "text": [
      "  O3 Solar.R Temp Month double_temp\n",
      "1 41     190   67     5         134\n",
      "2 36     118   72     5         144\n",
      "3 12     149   74     5         148\n",
      "4 18     313   62     5         124\n",
      "5 23     299   65     5         130\n",
      "6 19      99   59     5         118\n"
     ]
    }
   ],
   "source": [
    "print(head(aq %>% drop_na)) #usuwa te z NA; inne rozwiazanie na.omit(aq); z tidyr"
   ]
  },
  {
   "cell_type": "code",
   "execution_count": 110,
   "id": "0a87a3a3",
   "metadata": {},
   "outputs": [
    {
     "name": "stdout",
     "output_type": "stream",
     "text": [
      "\u001b[90m# A tibble: 5 × 2\u001b[39m\n",
      "  Month meanTemp\n",
      "  \u001b[3m\u001b[90m<int>\u001b[39m\u001b[23m    \u001b[3m\u001b[90m<dbl>\u001b[39m\u001b[23m\n",
      "\u001b[90m1\u001b[39m     5     65.5\n",
      "\u001b[90m2\u001b[39m     6     79.1\n",
      "\u001b[90m3\u001b[39m     7     83.9\n",
      "\u001b[90m4\u001b[39m     8     84.0\n",
      "\u001b[90m5\u001b[39m     9     76.9\n"
     ]
    }
   ],
   "source": [
    "#Przetwarzanie potokowe 1\n",
    "\n",
    "print(aq %>% group_by(Month) %>% summarise(meanTemp = mean(Temp))) #grupowanie"
   ]
  },
  {
   "cell_type": "code",
   "execution_count": 111,
   "id": "29b62862",
   "metadata": {},
   "outputs": [
    {
     "data": {
      "text/html": [
       "<table class=\"dataframe\">\n",
       "<caption>A tibble: 5 × 2</caption>\n",
       "<thead>\n",
       "\t<tr><th scope=col>Month</th><th scope=col>srednia</th></tr>\n",
       "\t<tr><th scope=col>&lt;int&gt;</th><th scope=col>&lt;dbl&gt;</th></tr>\n",
       "</thead>\n",
       "<tbody>\n",
       "\t<tr><td>7</td><td>81.71429</td></tr>\n",
       "\t<tr><td>8</td><td>78.94118</td></tr>\n",
       "\t<tr><td>6</td><td>76.96000</td></tr>\n",
       "\t<tr><td>9</td><td>74.04000</td></tr>\n",
       "\t<tr><td>5</td><td>65.54839</td></tr>\n",
       "</tbody>\n",
       "</table>\n"
      ],
      "text/latex": [
       "A tibble: 5 × 2\n",
       "\\begin{tabular}{ll}\n",
       " Month & srednia\\\\\n",
       " <int> & <dbl>\\\\\n",
       "\\hline\n",
       "\t 7 & 81.71429\\\\\n",
       "\t 8 & 78.94118\\\\\n",
       "\t 6 & 76.96000\\\\\n",
       "\t 9 & 74.04000\\\\\n",
       "\t 5 & 65.54839\\\\\n",
       "\\end{tabular}\n"
      ],
      "text/markdown": [
       "\n",
       "A tibble: 5 × 2\n",
       "\n",
       "| Month &lt;int&gt; | srednia &lt;dbl&gt; |\n",
       "|---|---|\n",
       "| 7 | 81.71429 |\n",
       "| 8 | 78.94118 |\n",
       "| 6 | 76.96000 |\n",
       "| 9 | 74.04000 |\n",
       "| 5 | 65.54839 |\n",
       "\n"
      ],
      "text/plain": [
       "  Month srednia \n",
       "1 7     81.71429\n",
       "2 8     78.94118\n",
       "3 6     76.96000\n",
       "4 9     74.04000\n",
       "5 5     65.54839"
      ]
     },
     "metadata": {},
     "output_type": "display_data"
    }
   ],
   "source": [
    "#Przetwarzanie potokowe 2\n",
    "\n",
    "aq %>%\n",
    "  filter(Temp >= 50 & Temp <= 85) %>% #wybieramy te co mają temperature z tego zakresu\n",
    "  group_by(Month) %>%                 #grupujemy po miesiącach\n",
    "  summarise(srednia = mean(Temp)) %>% #liczymy srednie temperatury\n",
    "  arrange(desc(srednia))              #posortujmy te wyniki malejąco"
   ]
  },
  {
   "cell_type": "markdown",
   "id": "eae2e40b",
   "metadata": {},
   "source": [
    "Długie i szerokie ramki danych"
   ]
  },
  {
   "cell_type": "code",
   "execution_count": 112,
   "id": "276de7ac",
   "metadata": {},
   "outputs": [
    {
     "name": "stderr",
     "output_type": "stream",
     "text": [
      "Warning message in read.table(\"szerokie.txt\", sep = \",\", header = TRUE):\n",
      "\"niekompletna końcowa linia znaleziona przez 'readTableHeader' w 'szerokie.txt'\"\n"
     ]
    },
    {
     "name": "stdout",
     "output_type": "stream",
     "text": [
      "  v1 v2 v3\n",
      "1  1  2  3\n",
      "2  4  5  6\n",
      "3  7  8  9\n"
     ]
    }
   ],
   "source": [
    "szerokie_dane =  read.table(\"szerokie.txt\", sep=\",\", header = TRUE)\n",
    "print(szerokie_dane)"
   ]
  },
  {
   "cell_type": "code",
   "execution_count": 113,
   "id": "8d6e5bb0",
   "metadata": {},
   "outputs": [
    {
     "data": {
      "text/html": [
       "<table class=\"dataframe\">\n",
       "<caption>A tibble: 9 × 2</caption>\n",
       "<thead>\n",
       "\t<tr><th scope=col>name</th><th scope=col>value</th></tr>\n",
       "\t<tr><th scope=col>&lt;chr&gt;</th><th scope=col>&lt;int&gt;</th></tr>\n",
       "</thead>\n",
       "<tbody>\n",
       "\t<tr><td>v1</td><td>1</td></tr>\n",
       "\t<tr><td>v2</td><td>2</td></tr>\n",
       "\t<tr><td>v3</td><td>3</td></tr>\n",
       "\t<tr><td>v1</td><td>4</td></tr>\n",
       "\t<tr><td>v2</td><td>5</td></tr>\n",
       "\t<tr><td>v3</td><td>6</td></tr>\n",
       "\t<tr><td>v1</td><td>7</td></tr>\n",
       "\t<tr><td>v2</td><td>8</td></tr>\n",
       "\t<tr><td>v3</td><td>9</td></tr>\n",
       "</tbody>\n",
       "</table>\n"
      ],
      "text/latex": [
       "A tibble: 9 × 2\n",
       "\\begin{tabular}{ll}\n",
       " name & value\\\\\n",
       " <chr> & <int>\\\\\n",
       "\\hline\n",
       "\t v1 & 1\\\\\n",
       "\t v2 & 2\\\\\n",
       "\t v3 & 3\\\\\n",
       "\t v1 & 4\\\\\n",
       "\t v2 & 5\\\\\n",
       "\t v3 & 6\\\\\n",
       "\t v1 & 7\\\\\n",
       "\t v2 & 8\\\\\n",
       "\t v3 & 9\\\\\n",
       "\\end{tabular}\n"
      ],
      "text/markdown": [
       "\n",
       "A tibble: 9 × 2\n",
       "\n",
       "| name &lt;chr&gt; | value &lt;int&gt; |\n",
       "|---|---|\n",
       "| v1 | 1 |\n",
       "| v2 | 2 |\n",
       "| v3 | 3 |\n",
       "| v1 | 4 |\n",
       "| v2 | 5 |\n",
       "| v3 | 6 |\n",
       "| v1 | 7 |\n",
       "| v2 | 8 |\n",
       "| v3 | 9 |\n",
       "\n"
      ],
      "text/plain": [
       "  name value\n",
       "1 v1   1    \n",
       "2 v2   2    \n",
       "3 v3   3    \n",
       "4 v1   4    \n",
       "5 v2   5    \n",
       "6 v3   6    \n",
       "7 v1   7    \n",
       "8 v2   8    \n",
       "9 v3   9    "
      ]
     },
     "metadata": {},
     "output_type": "display_data"
    }
   ],
   "source": [
    "#z postaci szerokiej na dlugą:\n",
    "dlugie_dane = pivot_longer(szerokie_dane, c(v1,v2,v3)) #analogiczna funkcja pivot_wider generuje przeciwne przejscie\n",
    "dlugie_dane"
   ]
  },
  {
   "cell_type": "markdown",
   "id": "839237d3",
   "metadata": {},
   "source": [
    "<h4> dplyr+ggplot2"
   ]
  },
  {
   "cell_type": "code",
   "execution_count": 115,
   "id": "86e9e3b5",
   "metadata": {},
   "outputs": [
    {
     "name": "stdout",
     "output_type": "stream",
     "text": [
      "      country year      pop continent lifeExp gdpPercap\n",
      "1 Afghanistan 1952  8425333      Asia  28.801  779.4453\n",
      "2 Afghanistan 1957  9240934      Asia  30.332  820.8530\n",
      "3 Afghanistan 1962 10267083      Asia  31.997  853.1007\n",
      "4 Afghanistan 1967 11537966      Asia  34.020  836.1971\n",
      "5 Afghanistan 1972 13079460      Asia  36.088  739.9811\n",
      "6 Afghanistan 1977 14880372      Asia  38.438  786.1134\n"
     ]
    }
   ],
   "source": [
    "print(head(dd3r)) #dane zdefiniowane wczensiej"
   ]
  },
  {
   "cell_type": "code",
   "execution_count": 128,
   "id": "adfbec2e",
   "metadata": {},
   "outputs": [],
   "source": [
    "options(repr.plot.width=10, repr.plot.height=10)"
   ]
  },
  {
   "cell_type": "code",
   "execution_count": 129,
   "id": "a0f242a4",
   "metadata": {},
   "outputs": [
    {
     "data": {
      "image/png": "[encoded data removed]",
      "text/plain": [
       "plot without title"
      ]
     },
     "metadata": {
      "image/png": {
       "height": 600,
       "width": 600
      }
     },
     "output_type": "display_data"
    }
   ],
   "source": [
    "library(ggplot2)\n",
    "europejczycy = dd3r[dd3r$continent == \"Europe\", ]\n",
    "ggplot(data = europejczycy, mapping = aes(x = year, y = lifeExp)) +\n",
    "  geom_line() +\n",
    "  facet_wrap( ~ country) +\n",
    "  theme(axis.text.x = element_text(angle = 45))"
   ]
  },
  {
   "cell_type": "code",
   "execution_count": 118,
   "id": "a2285b2a",
   "metadata": {},
   "outputs": [
    {
     "data": {
      "image/png": "[encoded data removed]",
      "text/plain": [
       "plot without title"
      ]
     },
     "metadata": {
      "image/png": {
       "height": 600,
       "width": 600
      }
     },
     "output_type": "display_data"
    }
   ],
   "source": [
    "dd3r %>%\n",
    "  filter(continent == \"Europe\") %>%\n",
    "  ggplot(mapping = aes(x = year, y = lifeExp)) +\n",
    "  geom_line() +\n",
    "  facet_wrap( ~ country) +\n",
    "  theme(axis.text.x = element_text(angle = 45))"
   ]
  },
  {
   "cell_type": "code",
   "execution_count": 119,
   "id": "10fe4832",
   "metadata": {},
   "outputs": [],
   "source": [
    "options(repr.plot.width=20, repr.plot.height=8)"
   ]
  },
  {
   "cell_type": "code",
   "execution_count": 120,
   "id": "b084fd9a",
   "metadata": {},
   "outputs": [
    {
     "data": {
      "image/png": "[encoded data removed]",
      "text/plain": [
       "plot without title"
      ]
     },
     "metadata": {
      "image/png": {
       "height": 480,
       "width": 1200
      }
     },
     "output_type": "display_data"
    }
   ],
   "source": [
    "dd3r %>%\n",
    "  mutate(startsWith = substr(country, 1, 1)) %>% #tworzymy nową kolumne z pierwsza litera panstwa\n",
    "  filter(startsWith %in% c(\"W\", \"Z\")) %>%       #zachowujemy tylko te panstwa co zaczynaja sie od W lub Z\n",
    "  ggplot(aes(x = year, y = lifeExp, colour = continent)) +  #kolorujemy na podstawie kontynentu\n",
    "  geom_line() +\n",
    "  facet_wrap(vars(country)) +\n",
    "  theme_minimal()"
   ]
  }
 ],
 "metadata": {
  "kernelspec": {
   "display_name": "R",
   "language": "R",
   "name": "ir"
  },
  "language_info": {
   "codemirror_mode": "r",
   "file_extension": ".r",
   "mimetype": "text/x-r-source",
   "name": "R",
   "pygments_lexer": "r",
   "version": "4.3.3"
  }
 },
 "nbformat": 4,
 "nbformat_minor": 5
}
