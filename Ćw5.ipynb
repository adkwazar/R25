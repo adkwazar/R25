{
 "cells": [
  {
   "cell_type": "markdown",
   "id": "06f7e2d3",
   "metadata": {},
   "source": [
    "<h3> Wstęp do testowania hipotez"
   ]
  },
  {
   "cell_type": "markdown",
   "id": "864c09fb",
   "metadata": {},
   "source": [
    "<h4> Testowanie średniej"
   ]
  },
  {
   "cell_type": "markdown",
   "id": "12b7f68b",
   "metadata": {},
   "source": [
    "<h4> Jedna próbka"
   ]
  },
  {
   "cell_type": "code",
   "execution_count": 5,
   "id": "eba19943",
   "metadata": {},
   "outputs": [],
   "source": [
    "dane = c(87.7,80.01,77.28,78.76,81.52,74.2,80.71,79.5,77.87,81.94,80.7,\n",
    "    82.32,75.78,80.19,83.91,79.4,77.52,77.62,81.4,74.89,82.95,\n",
    "    73.59,77.92,77.18,79.83,81.23,79.28,78.44,79.01,80.47,76.23,\n",
    "    78.89,77.14,69.94,78.54,79.7,82.45,77.29,75.52,77.21,75.99,\n",
    "    81.94,80.41,77.7)"
   ]
  },
  {
   "cell_type": "markdown",
   "id": "e4d95234",
   "metadata": {},
   "source": [
    "Testujemy hipotezę $H_0: \\mu = 80$ przeciw $H_A: \\mu < 80$"
   ]
  },
  {
   "cell_type": "code",
   "execution_count": 5,
   "id": "89d8b375",
   "metadata": {},
   "outputs": [
    {
     "data": {
      "image/png": "[encoded data removed]",
      "text/plain": [
       "plot without title"
      ]
     },
     "metadata": {
      "image/png": {
       "height": 360,
       "width": 360
      }
     },
     "output_type": "display_data"
    }
   ],
   "source": [
    "options(repr.plot.width=6, repr.plot.height=6) \n",
    "boxplot(dane)"
   ]
  },
  {
   "cell_type": "code",
   "execution_count": 6,
   "id": "e850cf98",
   "metadata": {},
   "outputs": [
    {
     "data": {
      "text/html": [
       "78.9106818181818"
      ],
      "text/latex": [
       "78.9106818181818"
      ],
      "text/markdown": [
       "78.9106818181818"
      ],
      "text/plain": [
       "[1] 78.91068"
      ]
     },
     "metadata": {},
     "output_type": "display_data"
    },
    {
     "data": {
      "text/html": [
       "3.05602294960279"
      ],
      "text/latex": [
       "3.05602294960279"
      ],
      "text/markdown": [
       "3.05602294960279"
      ],
      "text/plain": [
       "[1] 3.056023"
      ]
     },
     "metadata": {},
     "output_type": "display_data"
    }
   ],
   "source": [
    "mean(dane); sd(dane)"
   ]
  },
  {
   "cell_type": "markdown",
   "id": "202b71e1",
   "metadata": {},
   "source": [
    "Wyznaczamy statystykę $T = \\frac{\\overline{X}-\\mu}{\\sigma/\\sqrt{n}}$ i na tej podstawie podejmujemy decyzję."
   ]
  },
  {
   "cell_type": "code",
   "execution_count": 7,
   "id": "c62acb8c",
   "metadata": {},
   "outputs": [
    {
     "name": "stdout",
     "output_type": "stream",
     "text": [
      "[1] -2.364419\n"
     ]
    }
   ],
   "source": [
    "T = (mean(dane) - 80)/(sd(dane)/sqrt(length(dane)))\n",
    "print(T)"
   ]
  },
  {
   "cell_type": "code",
   "execution_count": 28,
   "id": "daa6d11b",
   "metadata": {},
   "outputs": [
    {
     "name": "stdout",
     "output_type": "stream",
     "text": [
      "\n",
      "\tOne Sample t-test\n",
      "\n",
      "data:  dane\n",
      "t = -2.3644, df = 43, p-value = 0.01132\n",
      "alternative hypothesis: true mean is less than 80\n",
      "95 percent confidence interval:\n",
      "     -Inf 79.68517\n",
      "sample estimates:\n",
      "mean of x \n",
      " 78.91068 \n",
      "\n"
     ]
    }
   ],
   "source": [
    "print(t.test(x=dane, mu=80, alternative=\"less\")) #p_value<0.05, wiec odrzucamy H0 (przyjmujac prog 0.05)"
   ]
  },
  {
   "cell_type": "code",
   "execution_count": 6,
   "id": "8e4b80a0",
   "metadata": {},
   "outputs": [
    {
     "name": "stdout",
     "output_type": "stream",
     "text": [
      "[1] 77.98157 79.83980\n",
      "attr(,\"conf.level\")\n",
      "[1] 0.95\n"
     ]
    }
   ],
   "source": [
    "print(t.test(x=dane, mu=80, alternative=\"two.sided\")$conf.int) #przedzial ufnosci dwustronny, p_value przechowywane jako atrybut"
   ]
  },
  {
   "cell_type": "markdown",
   "id": "9f3a3ab6",
   "metadata": {},
   "source": [
    "<h4> Zadanie1: W telewizji ogłoszono, że cena metra kwadratowego mieszkania w mieście $X$ kosztuje średnio 15.2 tys. złotych. Aby to zweryfikować wybrano 14 losowych mieszkań. Ceny przedstawiały się następująco: 15.00, 15.56, 20.36, 15.08, 14.12, 11.28, 12.64, 11.16, 17.36, 14.44, 17.24, 13.24, 10.00, 13.08. Czy te wartości potwierdzają postawioną tezę?"
   ]
  },
  {
   "cell_type": "markdown",
   "id": "af959ea4",
   "metadata": {},
   "source": [
    "<h4> Dwie próbki"
   ]
  },
  {
   "cell_type": "code",
   "execution_count": 16,
   "id": "dbdeaf89",
   "metadata": {},
   "outputs": [
    {
     "data": {
      "image/png": "[encoded data removed]",
      "text/plain": [
       "plot without title"
      ]
     },
     "metadata": {
      "image/png": {
       "height": 420,
       "width": 420
      }
     },
     "output_type": "display_data"
    }
   ],
   "source": [
    "dane1 = c(87.7,80.01,77.28,78.76,81.52,74.2,80.71,79.5,77.87,81.94,80.7,\n",
    "    82.32,75.78,80.19,83.91,79.4,77.52,77.62,81.4,74.89,82.95,\n",
    "    73.59,77.92,77.18,79.83,81.23,79.28,78.44,79.01,80.47,76.23,\n",
    "    78.89,77.14,69.94,78.54,79.7,82.45,77.29,75.52,77.21,75.99,\n",
    "    81.94,80.41,77.7)\n",
    "\n",
    "dane2 =  c(80.22,79.73,81.1,78.76,82.03,81.66,80.97,81.32,80.12,78.98,\n",
    "    79.21,81.48,79.86,81.06,77.96,80.73,80.34,80.01,81.82,79.3,\n",
    "    79.08,79.47,78.98,80.87,82.24,77.22,80.03,79.2,80.95,79.17,81)\n",
    "\n",
    "boxplot(dane1,dane2)"
   ]
  },
  {
   "cell_type": "code",
   "execution_count": 10,
   "id": "6edcbaf0",
   "metadata": {
    "scrolled": true
   },
   "outputs": [
    {
     "data": {
      "text/html": [
       "78.9106818181818"
      ],
      "text/latex": [
       "78.9106818181818"
      ],
      "text/markdown": [
       "78.9106818181818"
      ],
      "text/plain": [
       "[1] 78.91068"
      ]
     },
     "metadata": {},
     "output_type": "display_data"
    },
    {
     "data": {
      "text/html": [
       "3.05602294960279"
      ],
      "text/latex": [
       "3.05602294960279"
      ],
      "text/markdown": [
       "3.05602294960279"
      ],
      "text/plain": [
       "[1] 3.056023"
      ]
     },
     "metadata": {},
     "output_type": "display_data"
    },
    {
     "data": {
      "text/html": [
       "80.1570967741935"
      ],
      "text/latex": [
       "80.1570967741935"
      ],
      "text/markdown": [
       "80.1570967741935"
      ],
      "text/plain": [
       "[1] 80.1571"
      ]
     },
     "metadata": {},
     "output_type": "display_data"
    },
    {
     "data": {
      "text/html": [
       "1.2136946171323"
      ],
      "text/latex": [
       "1.2136946171323"
      ],
      "text/markdown": [
       "1.2136946171323"
      ],
      "text/plain": [
       "[1] 1.213695"
      ]
     },
     "metadata": {},
     "output_type": "display_data"
    }
   ],
   "source": [
    "mean(dane1);sd(dane1);mean(dane2);sd(dane2)"
   ]
  },
  {
   "cell_type": "markdown",
   "id": "ee5db88c",
   "metadata": {},
   "source": [
    "Testujemy hipotezę $H_0: \\mu_1 = \\mu_2$ przeciw alternatywnej $H_1: \\mu_2 > \\mu_1$."
   ]
  },
  {
   "cell_type": "code",
   "execution_count": 21,
   "id": "364ac0e0",
   "metadata": {},
   "outputs": [
    {
     "data": {
      "text/plain": [
       "\n",
       "\tWelch Two Sample t-test\n",
       "\n",
       "data:  dane2 and dane1\n",
       "t = 2.4455, df = 60.091, p-value = 0.008706\n",
       "alternative hypothesis: true difference in means is greater than 0\n",
       "95 percent confidence interval:\n",
       " 0.3949381       Inf\n",
       "sample estimates:\n",
       "mean of x mean of y \n",
       " 80.15710  78.91068 \n"
      ]
     },
     "metadata": {},
     "output_type": "display_data"
    }
   ],
   "source": [
    "t.test(x=dane2,y=dane1,alternative=\"greater\",conf.level=0.95) #tutaj odrzucamy H_0"
   ]
  },
  {
   "cell_type": "markdown",
   "id": "3d537bf9",
   "metadata": {},
   "source": [
    "<h4> Zadanie2: Testujemy skuteczność leku skutkującego redukcją tętna. Pomiary tej wielkości zostały dokonane na 16 osobnikach (w uderzeniach na minutę). Pomiaru dokonano przed podaniem leku i po pewnym czasie."
   ]
  },
  {
   "cell_type": "code",
   "execution_count": 10,
   "id": "14590fd8",
   "metadata": {},
   "outputs": [],
   "source": [
    "rate.before = c(52,66,89,87,89,72,66,65,49,62,70,52,75,63,65,61)\n",
    "rate.after = c(51,66,71,73,70,68,60,51,40,57,65,53,64,56,60,59)"
   ]
  },
  {
   "cell_type": "markdown",
   "id": "41cc944f",
   "metadata": {},
   "source": [
    "<h4> Czy istnieje istotna statystycznia różnica po spożyciu leku? W tym celu zdefiniuj nowy wektor $rate.dif$ określający różnicę w uderzeniach (po - przed) dla kolejnych osobników, a następnie przetestuj hipotezę $H_{\\mu_{rate.dif}} =0$ przeciw hipotezie $H_{\\mu_{rate.diff}}<0$."
   ]
  },
  {
   "cell_type": "markdown",
   "id": "c631ea78",
   "metadata": {},
   "source": [
    "<h4> Zadanie3: W pakiecie $MASS$ znajdują się dane $anorexia$. Dane dotyczą 72 młodych kobiet i zawierają informacje o wadze (w funtach) przed i po leczeniu. Osoby zostały podzielone na 3 kategorie - kontrola (bez leczenia) oraz 2 grupy ze względu na sposób leczenia. Dokładniej:\n",
    "    \n",
    "- Cont = control\n",
    " \n",
    "- CBT = cognitive behavioral program\n",
    "    \n",
    "- FT = family treatment\n",
    "    \n",
    "Niech $X = X_{post} - X_{pre}$. Zbadaj hipotezę $\\mu_{X} =0$ przeciw $\\mu_{X} >0$ (dla każdej grupy). Skomentuj otrzymane wyniki."
   ]
  },
  {
   "cell_type": "code",
   "execution_count": 11,
   "id": "5e461b38",
   "metadata": {},
   "outputs": [
    {
     "data": {
      "text/html": [
       "<table>\n",
       "<thead><tr><th scope=col>Treat</th><th scope=col>Prewt</th><th scope=col>Postwt</th></tr></thead>\n",
       "<tbody>\n",
       "\t<tr><td>Cont</td><td>80.7</td><td>80.2</td></tr>\n",
       "\t<tr><td>Cont</td><td>89.4</td><td>80.1</td></tr>\n",
       "\t<tr><td>Cont</td><td>91.8</td><td>86.4</td></tr>\n",
       "\t<tr><td>Cont</td><td>74.0</td><td>86.3</td></tr>\n",
       "\t<tr><td>Cont</td><td>78.1</td><td>76.1</td></tr>\n",
       "\t<tr><td>Cont</td><td>88.3</td><td>78.1</td></tr>\n",
       "</tbody>\n",
       "</table>\n"
      ],
      "text/latex": [
       "\\begin{tabular}{r|lll}\n",
       " Treat & Prewt & Postwt\\\\\n",
       "\\hline\n",
       "\t Cont & 80.7 & 80.2\\\\\n",
       "\t Cont & 89.4 & 80.1\\\\\n",
       "\t Cont & 91.8 & 86.4\\\\\n",
       "\t Cont & 74.0 & 86.3\\\\\n",
       "\t Cont & 78.1 & 76.1\\\\\n",
       "\t Cont & 88.3 & 78.1\\\\\n",
       "\\end{tabular}\n"
      ],
      "text/markdown": [
       "\n",
       "| Treat | Prewt | Postwt |\n",
       "|---|---|---|\n",
       "| Cont | 80.7 | 80.2 |\n",
       "| Cont | 89.4 | 80.1 |\n",
       "| Cont | 91.8 | 86.4 |\n",
       "| Cont | 74.0 | 86.3 |\n",
       "| Cont | 78.1 | 76.1 |\n",
       "| Cont | 88.3 | 78.1 |\n",
       "\n"
      ],
      "text/plain": [
       "  Treat Prewt Postwt\n",
       "1 Cont  80.7  80.2  \n",
       "2 Cont  89.4  80.1  \n",
       "3 Cont  91.8  86.4  \n",
       "4 Cont  74.0  86.3  \n",
       "5 Cont  78.1  76.1  \n",
       "6 Cont  88.3  78.1  "
      ]
     },
     "metadata": {},
     "output_type": "display_data"
    },
    {
     "data": {
      "text/plain": [
       "  Treat        Prewt           Postwt      \n",
       " CBT :29   Min.   :70.00   Min.   : 71.30  \n",
       " Cont:26   1st Qu.:79.60   1st Qu.: 79.33  \n",
       " FT  :17   Median :82.30   Median : 84.05  \n",
       "           Mean   :82.41   Mean   : 85.17  \n",
       "           3rd Qu.:86.00   3rd Qu.: 91.55  \n",
       "           Max.   :94.90   Max.   :103.60  "
      ]
     },
     "metadata": {},
     "output_type": "display_data"
    }
   ],
   "source": [
    "library(MASS)\n",
    "head(anorexia)\n",
    "summary(anorexia)"
   ]
  },
  {
   "cell_type": "markdown",
   "id": "3c3f3d57",
   "metadata": {},
   "source": [
    "<h4> Zadanie4: Rozważ dane $PlantGrowth$ (rozważane już na ćw2) dotyczące produkcji pewnych roślin. Zastosowano 2 rodzaje suplementów aby zwiększyć produkcję (trt1 i trt2). Czy rzeczwyiście średnia produkcja w grupach trt1 i trt2 jest większa niż ta w grupie bez suplementacji? Wykonaj dwa testy - ctrl vs trt1 oraz ctrl vs trt2. Skomentuj otrzymane wyniki."
   ]
  },
  {
   "cell_type": "code",
   "execution_count": 12,
   "id": "a851baf1",
   "metadata": {},
   "outputs": [
    {
     "data": {
      "text/html": [
       "<table>\n",
       "<thead><tr><th scope=col>weight</th><th scope=col>group</th></tr></thead>\n",
       "<tbody>\n",
       "\t<tr><td>4.17</td><td>ctrl</td></tr>\n",
       "\t<tr><td>5.58</td><td>ctrl</td></tr>\n",
       "\t<tr><td>5.18</td><td>ctrl</td></tr>\n",
       "\t<tr><td>6.11</td><td>ctrl</td></tr>\n",
       "\t<tr><td>4.50</td><td>ctrl</td></tr>\n",
       "\t<tr><td>4.61</td><td>ctrl</td></tr>\n",
       "</tbody>\n",
       "</table>\n"
      ],
      "text/latex": [
       "\\begin{tabular}{r|ll}\n",
       " weight & group\\\\\n",
       "\\hline\n",
       "\t 4.17 & ctrl\\\\\n",
       "\t 5.58 & ctrl\\\\\n",
       "\t 5.18 & ctrl\\\\\n",
       "\t 6.11 & ctrl\\\\\n",
       "\t 4.50 & ctrl\\\\\n",
       "\t 4.61 & ctrl\\\\\n",
       "\\end{tabular}\n"
      ],
      "text/markdown": [
       "\n",
       "| weight | group |\n",
       "|---|---|\n",
       "| 4.17 | ctrl |\n",
       "| 5.58 | ctrl |\n",
       "| 5.18 | ctrl |\n",
       "| 6.11 | ctrl |\n",
       "| 4.50 | ctrl |\n",
       "| 4.61 | ctrl |\n",
       "\n"
      ],
      "text/plain": [
       "  weight group\n",
       "1 4.17   ctrl \n",
       "2 5.58   ctrl \n",
       "3 5.18   ctrl \n",
       "4 6.11   ctrl \n",
       "5 4.50   ctrl \n",
       "6 4.61   ctrl "
      ]
     },
     "metadata": {},
     "output_type": "display_data"
    },
    {
     "data": {
      "text/plain": [
       "     weight       group   \n",
       " Min.   :3.590   ctrl:10  \n",
       " 1st Qu.:4.550   trt1:10  \n",
       " Median :5.155   trt2:10  \n",
       " Mean   :5.073            \n",
       " 3rd Qu.:5.530            \n",
       " Max.   :6.310            "
      ]
     },
     "metadata": {},
     "output_type": "display_data"
    }
   ],
   "source": [
    "head(PlantGrowth); summary(PlantGrowth)"
   ]
  },
  {
   "cell_type": "markdown",
   "id": "81a4a981",
   "metadata": {},
   "source": [
    "<h4> Testowanie proporcji"
   ]
  },
  {
   "cell_type": "markdown",
   "id": "6f859fb0",
   "metadata": {},
   "source": [
    "<h4> Jedna próbka"
   ]
  },
  {
   "cell_type": "code",
   "execution_count": 10,
   "id": "570b2231",
   "metadata": {},
   "outputs": [],
   "source": [
    "glosy = c(0,0,1,1,0,0,0,0,0,1,0,0,0,0,0,0,0,0,1,0,0,0,1,1,1,0,0,0,1)"
   ]
  },
  {
   "cell_type": "code",
   "execution_count": 11,
   "id": "eb7b518d",
   "metadata": {
    "scrolled": true
   },
   "outputs": [
    {
     "data": {
      "text/html": [
       "29"
      ],
      "text/latex": [
       "29"
      ],
      "text/markdown": [
       "29"
      ],
      "text/plain": [
       "[1] 29"
      ]
     },
     "metadata": {},
     "output_type": "display_data"
    },
    {
     "data": {
      "text/html": [
       "0.275862068965517"
      ],
      "text/latex": [
       "0.275862068965517"
      ],
      "text/markdown": [
       "0.275862068965517"
      ],
      "text/plain": [
       "[1] 0.2758621"
      ]
     },
     "metadata": {},
     "output_type": "display_data"
    }
   ],
   "source": [
    "length(glosy); mean(glosy)"
   ]
  },
  {
   "cell_type": "markdown",
   "id": "dd28a291",
   "metadata": {},
   "source": [
    "Testujemy hipotezę $H_0: \\pi = 0.2$ przeciw $H_A: \\pi \\neq 0.2$"
   ]
  },
  {
   "cell_type": "markdown",
   "id": "7979748c",
   "metadata": {},
   "source": [
    "Statystyka $Z = \\frac{p^* - \\pi}{\\sqrt{\\pi(1-\\pi)/n}}$. Pod pewnymi założeniami $Z \\sim N(0,1)$."
   ]
  },
  {
   "cell_type": "code",
   "execution_count": 12,
   "id": "4c8b618d",
   "metadata": {},
   "outputs": [
    {
     "name": "stdout",
     "output_type": "stream",
     "text": [
      "[1] 1.021324\n"
     ]
    }
   ],
   "source": [
    "Z = (mean(glosy) - 0.2)/sqrt(0.2*(1-0.2)/29)\n",
    "print(Z)"
   ]
  },
  {
   "cell_type": "code",
   "execution_count": 13,
   "id": "c32e6e01",
   "metadata": {},
   "outputs": [
    {
     "data": {
      "text/plain": [
       "\n",
       "\t1-sample proportions test without continuity correction\n",
       "\n",
       "data:  sum(glosy) out of length(glosy), null probability 0.2\n",
       "X-squared = 1.0431, df = 1, p-value = 0.3071\n",
       "alternative hypothesis: true p is not equal to 0.2\n",
       "95 percent confidence interval:\n",
       " 0.1469876 0.4571713\n",
       "sample estimates:\n",
       "        p \n",
       "0.2758621 \n"
      ]
     },
     "metadata": {},
     "output_type": "display_data"
    }
   ],
   "source": [
    "prop.test(x=sum(glosy), n=length(glosy), p=0.2, correct=FALSE) #ten test  formalnie uzywa rozkładu chi kwadrat dlatego statystyka jest nieco inna, ale idea podobna"
   ]
  },
  {
   "cell_type": "markdown",
   "id": "32e0f631",
   "metadata": {},
   "source": [
    "<h4> Zadanie5: Zwielokrotnij 5-krotnie wektor $glosy$ i przeprowadź analogiczne testowanie. Skomentuj zmienioną wartosć $p-value$. Z czego wynika?"
   ]
  },
  {
   "cell_type": "markdown",
   "id": "11f8bcde",
   "metadata": {},
   "source": [
    "<h4> Dwie próbki"
   ]
  },
  {
   "cell_type": "markdown",
   "id": "b3809345",
   "metadata": {},
   "source": [
    "Testujemy hipotezę $H_0: \\pi_1 = \\pi_2$ przeciw alternatywnej $H_1: \\pi_2 > \\pi_1$."
   ]
  },
  {
   "cell_type": "code",
   "execution_count": 17,
   "id": "296b454b",
   "metadata": {},
   "outputs": [
    {
     "data": {
      "text/html": [
       "0.772532188841202"
      ],
      "text/latex": [
       "0.772532188841202"
      ],
      "text/markdown": [
       "0.772532188841202"
      ],
      "text/plain": [
       "[1] 0.7725322"
      ]
     },
     "metadata": {},
     "output_type": "display_data"
    },
    {
     "data": {
      "text/html": [
       "0.888324873096447"
      ],
      "text/latex": [
       "0.888324873096447"
      ],
      "text/markdown": [
       "0.888324873096447"
      ],
      "text/plain": [
       "[1] 0.8883249"
      ]
     },
     "metadata": {},
     "output_type": "display_data"
    }
   ],
   "source": [
    "x1 = 180\n",
    "n1 = 233\n",
    "\n",
    "x2 = 175\n",
    "n2 = 197\n",
    "\n",
    "x1/n1; x2/n2"
   ]
  },
  {
   "cell_type": "code",
   "execution_count": 18,
   "id": "e0c33615",
   "metadata": {},
   "outputs": [
    {
     "data": {
      "text/plain": [
       "\n",
       "\t2-sample test for equality of proportions without continuity\n",
       "\tcorrection\n",
       "\n",
       "data:  c(x2, x1) out of c(n2, n1)\n",
       "X-squared = 9.9395, df = 1, p-value = 0.0008089\n",
       "alternative hypothesis: greater\n",
       "95 percent confidence interval:\n",
       " 0.05745804 1.00000000\n",
       "sample estimates:\n",
       "   prop 1    prop 2 \n",
       "0.8883249 0.7725322 \n"
      ]
     },
     "metadata": {},
     "output_type": "display_data"
    }
   ],
   "source": [
    "prop.test(x=c(x2,x1), n=c(n2,n1), alternative=\"greater\", correct=FALSE)"
   ]
  },
  {
   "cell_type": "markdown",
   "id": "ca5a3cdf-7414-4836-b259-912b372bfe2f",
   "metadata": {},
   "source": [
    "<h4> Zadanie6: Badacze analizują częstość występowania polimorfizmu SNP w genie TP53 w dwóch populacjach. Allel A (dziki typ) i allel G (wariant) występują z różnymi częstościami w grupie pacjentów z rakiem oraz w grupie kontrolnej.\n",
    "\n",
    "Dane:\n",
    "- W populacji pacjentów z rakiem: 120 osób ma allel G, a 380 ma allel A.\n",
    "- W populacji kontrolnej: 90 osób ma allel G, a 410 ma allel A.\n",
    "\n",
    "Pytanie:\n",
    "Czy częstość allelu G różni się istotnie między populacją pacjentów z rakiem a grupą kontrolną?"
   ]
  },
  {
   "cell_type": "markdown",
   "id": "f06e56a0",
   "metadata": {},
   "source": [
    "<h4> Zmienne kategoryczne"
   ]
  },
  {
   "cell_type": "code",
   "execution_count": 19,
   "id": "9849d86b",
   "metadata": {},
   "outputs": [
    {
     "name": "stdout",
     "output_type": "stream",
     "text": [
      " [1] 2 3 2 3 2 1 3 3 2 2 3 2 2 2 3 3 3 2 3 2 2 2 1 3 2 2 2 1 2 2 3 2 2 2 2 1 2 1\n",
      "[39] 1 1 2 2 2 3 1 2 1 2 1 2 1 3 3\n",
      "Levels: 1 2 3\n"
     ]
    }
   ],
   "source": [
    "d = c(2,3,2,3,2,1,3,3,2,2,3,2,2,2,3,3,3,2,3,2,2,2,1,3,2,2,2,1,2,2,3,2,2,2,2,1,2,1,1,1,2,2,2,3,1,2,1,2,1,2,1,3,3)\n",
    "print(factor(d))"
   ]
  },
  {
   "cell_type": "markdown",
   "id": "6b7345ac",
   "metadata": {},
   "source": [
    "Testujemy hipotezę $H_0: \\pi_1 = \\pi_2 = \\pi_3$ przeciw $H_A = \\sim H_0$"
   ]
  },
  {
   "cell_type": "code",
   "execution_count": 20,
   "id": "2953d523",
   "metadata": {},
   "outputs": [
    {
     "name": "stdout",
     "output_type": "stream",
     "text": [
      "d\n",
      " 1  2  3 \n",
      "11 28 14 \n"
     ]
    }
   ],
   "source": [
    "print(table(d))"
   ]
  },
  {
   "cell_type": "code",
   "execution_count": 21,
   "id": "f1b3d976",
   "metadata": {},
   "outputs": [
    {
     "data": {
      "text/plain": [
       "d\n",
       "        1         2         3 \n",
       "0.2075472 0.5283019 0.2641509 "
      ]
     },
     "metadata": {},
     "output_type": "display_data"
    }
   ],
   "source": [
    "table(d)/length(d) #częstosci"
   ]
  },
  {
   "cell_type": "code",
   "execution_count": 22,
   "id": "2fd4a552",
   "metadata": {},
   "outputs": [
    {
     "name": "stdout",
     "output_type": "stream",
     "text": [
      "  i Oi       Ei (Oi-Ei)^2/Ei\n",
      "1 1 11 17.66667    2.5157233\n",
      "2 2 28 17.66667    6.0440252\n",
      "3 3 14 17.66667    0.7610063\n"
     ]
    }
   ],
   "source": [
    "expected =  1/3*length(d) #expected = oczekiwane\n",
    "\n",
    "dane.matrix = cbind(1:3,table(d), expected,(table(d)-expected)^2/expected)\n",
    "dimnames(dane.matrix) <- list(c(\"1\",\"2\",\"3\"),c(\"i\",\"Oi\",\"Ei\",\"(Oi-Ei)^2/Ei\"))\n",
    "\n",
    "print(dane.matrix)"
   ]
  },
  {
   "cell_type": "code",
   "execution_count": 23,
   "id": "ce8ed1c0",
   "metadata": {},
   "outputs": [
    {
     "data": {
      "text/html": [
       "9.3207548"
      ],
      "text/latex": [
       "9.3207548"
      ],
      "text/markdown": [
       "9.3207548"
      ],
      "text/plain": [
       "[1] 9.320755"
      ]
     },
     "metadata": {},
     "output_type": "display_data"
    }
   ],
   "source": [
    "2.5157233 + 6.0440252 + 0.7610063"
   ]
  },
  {
   "cell_type": "code",
   "execution_count": 24,
   "id": "ad2a9d51",
   "metadata": {
    "scrolled": true
   },
   "outputs": [
    {
     "data": {
      "text/plain": [
       "\n",
       "\tChi-squared test for given probabilities\n",
       "\n",
       "data:  table(d)\n",
       "X-squared = 9.3208, df = 2, p-value = 0.009463\n"
      ]
     },
     "metadata": {},
     "output_type": "display_data"
    }
   ],
   "source": [
    "chisq.test(x=table(d)) #czy zachodzi jednostajny rozklad?"
   ]
  },
  {
   "cell_type": "code",
   "execution_count": 25,
   "id": "75e7d068",
   "metadata": {},
   "outputs": [
    {
     "data": {
      "text/plain": [
       "\n",
       "\tChi-squared test for given probabilities\n",
       "\n",
       "data:  table(d)\n",
       "X-squared = 0.50943, df = 2, p-value = 0.7751\n"
      ]
     },
     "metadata": {},
     "output_type": "display_data"
    }
   ],
   "source": [
    "chisq.test(x=table(d), p=c(0.25,0.5,0.25)) #H0: p=c(0.25,0.5,0.25)"
   ]
  },
  {
   "cell_type": "markdown",
   "id": "97832a72-eb9f-406a-af90-14ceba406be9",
   "metadata": {},
   "source": [
    "<h4> Zadanie7: Reklama kremu do skóry twierdzi, że 9 na 10 kobiet które używało ich produktu zarekomendowało by go swoim znajomym. Sceptyczna klientka uważa, że rzeczywista proporcja jest mniejsza. Zebrała one dane od 89 losowych kobiet. 71 z nich potwierdziło zadowolenie. Postaw odpowiednią hipotezę, a następnie na poziomie istotności $\\alpha = 0.1$ odpowiedz na nurtujące klientkę pytanie."
   ]
  },
  {
   "cell_type": "markdown",
   "id": "510ef1b7",
   "metadata": {},
   "source": [
    "<h4> Test niezależności"
   ]
  },
  {
   "cell_type": "code",
   "execution_count": 28,
   "id": "41dedc5e",
   "metadata": {},
   "outputs": [
    {
     "name": "stdout",
     "output_type": "stream",
     "text": [
      "          None Partial Full\n",
      "Injection   20       9   16\n",
      "Tablet      32      72   64\n",
      "Laser        8       8   30\n",
      "Herbal      52      32   12\n"
     ]
    }
   ],
   "source": [
    "#355 pacjentow, zabiegi/poziom sukcesu\n",
    "skin <- matrix(c(20,32,8,52,9,72,8,32,16,64,30,12),4,3, dimnames=list(c(\"Injection\",\"Tablet\",\"Laser\",\"Herbal\"), c(\"None\",\"Partial\",\"Full\")))\n",
    "print(skin)"
   ]
  },
  {
   "cell_type": "code",
   "execution_count": 29,
   "id": "2d73bb0e",
   "metadata": {},
   "outputs": [
    {
     "data": {
      "text/html": [
       "<dl class=dl-horizontal>\n",
       "\t<dt>Injection</dt>\n",
       "\t\t<dd>45</dd>\n",
       "\t<dt>Tablet</dt>\n",
       "\t\t<dd>168</dd>\n",
       "\t<dt>Laser</dt>\n",
       "\t\t<dd>46</dd>\n",
       "\t<dt>Herbal</dt>\n",
       "\t\t<dd>96</dd>\n",
       "</dl>\n"
      ],
      "text/latex": [
       "\\begin{description*}\n",
       "\\item[Injection] 45\n",
       "\\item[Tablet] 168\n",
       "\\item[Laser] 46\n",
       "\\item[Herbal] 96\n",
       "\\end{description*}\n"
      ],
      "text/markdown": [
       "Injection\n",
       ":   45Tablet\n",
       ":   168Laser\n",
       ":   46Herbal\n",
       ":   96\n",
       "\n"
      ],
      "text/plain": [
       "Injection    Tablet     Laser    Herbal \n",
       "       45       168        46        96 "
      ]
     },
     "metadata": {},
     "output_type": "display_data"
    },
    {
     "data": {
      "text/html": [
       "<dl class=dl-horizontal>\n",
       "\t<dt>None</dt>\n",
       "\t\t<dd>112</dd>\n",
       "\t<dt>Partial</dt>\n",
       "\t\t<dd>121</dd>\n",
       "\t<dt>Full</dt>\n",
       "\t\t<dd>122</dd>\n",
       "</dl>\n"
      ],
      "text/latex": [
       "\\begin{description*}\n",
       "\\item[None] 112\n",
       "\\item[Partial] 121\n",
       "\\item[Full] 122\n",
       "\\end{description*}\n"
      ],
      "text/markdown": [
       "None\n",
       ":   112Partial\n",
       ":   121Full\n",
       ":   122\n",
       "\n"
      ],
      "text/plain": [
       "   None Partial    Full \n",
       "    112     121     122 "
      ]
     },
     "metadata": {},
     "output_type": "display_data"
    }
   ],
   "source": [
    "kr <- nrow(skin)\n",
    "kc <- ncol(skin)\n",
    "rowSums(skin);  colSums(skin)"
   ]
  },
  {
   "cell_type": "code",
   "execution_count": 30,
   "id": "6766995b",
   "metadata": {},
   "outputs": [
    {
     "data": {
      "text/plain": [
       "\n",
       "\tPearson's Chi-squared test\n",
       "\n",
       "data:  skin\n",
       "X-squared = 66.166, df = 6, p-value = 2.492e-12\n"
      ]
     },
     "metadata": {},
     "output_type": "display_data"
    }
   ],
   "source": [
    "chisq.test(x=skin) #H0: zmienne są niezalezne; (tutaj: typ leczenia i poziom sukcesu nie są niezalezne)"
   ]
  },
  {
   "cell_type": "markdown",
   "id": "5c9b89c3-1671-44a8-b6d6-ea314be89548",
   "metadata": {},
   "source": [
    "* Uwaga: chisq.test bierze pod uwagę wszystkie kombinacje kategorii, co może prowadzić do sytuacji, w której lokalne różnice potencjalnie wykrywane przez prop.test() rozmyją się w globalnym teście chi-kwadrat.\n",
    "\n"
   ]
  },
  {
   "cell_type": "markdown",
   "id": "573af97f-239b-4f1f-831d-ceace3945339",
   "metadata": {},
   "source": [
    "<h4> Zadanie8\n",
    "Poniżej przedstawiono wyniki badania dotyczącego polimorfizmu SNP 8390G>A w genie APOE w trzech grupach:\n",
    "\n",
    "- 100 pacjentów z chorobą Alzheimera (AD)\n",
    "\n",
    "- 100 pacjentów z chorobą Parkinsona (PD)\n",
    "\n",
    "- 150 zdrowych osób (grupa kontrolna)\n",
    "\n",
    "Pytania\n",
    "- wykonaj test chi-kwadrat aby sprawdzić czy jest związek między genotypem a grupą pacjentów. Skomentuj otrzymane wyniki.\n",
    "- za pomocą prop.test porównaj częstości występownia genotypu GG pomiędzy kontrolą a pacjentami z chorobą Alzheimera oraz  kontrolą a pacjentami z chorobą Parkinsona. Czy różnice są istotne statystycznie? Skomentuj otrzymane wyniki.\n"
   ]
  },
  {
   "cell_type": "code",
   "execution_count": 5,
   "id": "2480f611-86a7-4e4c-abbc-2ce3aa6865a7",
   "metadata": {},
   "outputs": [
    {
     "name": "stdout",
     "output_type": "stream",
     "text": [
      "   Alzehimer Parkinson Kontrola\n",
      "AA        16        14       15\n",
      "AG        34        32       39\n",
      "GG        50        54       96\n"
     ]
    }
   ],
   "source": [
    "#opracowano na podstawie: https://www.sciencedirect.com/science/article/pii/S1110863015001226\n",
    "SNP_data = matrix(c(16,14,15, \n",
    "                    34,32,39, \n",
    "                    50,54,96), \n",
    "                    nrow = 3, byrow = TRUE)\n",
    "\n",
    "rownames(SNP_data) = c(\"AA\", \"AG\", \"GG\")\n",
    "colnames(SNP_data) = c(\"Alzehimer\", \"Parkinson\", \"Kontrola\")\n",
    "\n",
    "print(SNP_data)"
   ]
  },
  {
   "cell_type": "markdown",
   "id": "4cf915dc",
   "metadata": {},
   "source": [
    "<h3> Uzupełnienie"
   ]
  },
  {
   "cell_type": "markdown",
   "id": "d7ec1491",
   "metadata": {},
   "source": [
    "<h4> Rozkład chi kwadrat o n stopniach swobody"
   ]
  },
  {
   "cell_type": "code",
   "execution_count": 29,
   "id": "3afccce2",
   "metadata": {},
   "outputs": [],
   "source": [
    "options(repr.plot.width=6, repr.plot.height=4)"
   ]
  },
  {
   "cell_type": "code",
   "execution_count": 30,
   "id": "eddf0b38",
   "metadata": {},
   "outputs": [
    {
     "data": {
      "image/png": "[encoded data removed]",
      "text/plain": [
       "Plot with title \"density(x = rchisq(10000, 10))\""
      ]
     },
     "metadata": {
      "image/png": {
       "height": 240,
       "width": 360
      }
     },
     "output_type": "display_data"
    }
   ],
   "source": [
    "plot(density(rchisq(10000, 10)))"
   ]
  },
  {
   "cell_type": "markdown",
   "id": "9b532836",
   "metadata": {},
   "source": [
    "<h4> Rozkład t-studenta o n stopniach swobody"
   ]
  },
  {
   "cell_type": "code",
   "execution_count": 36,
   "id": "6377b1d5",
   "metadata": {},
   "outputs": [
    {
     "data": {
      "image/png": "[encoded data removed]",
      "text/plain": [
       "Plot with title \"density(x = rt(10000, 10))\""
      ]
     },
     "metadata": {
      "image/png": {
       "height": 240,
       "width": 360
      }
     },
     "output_type": "display_data"
    }
   ],
   "source": [
    "plot(density(rt(10000, 10)))"
   ]
  },
  {
   "cell_type": "markdown",
   "id": "fb8b87aa",
   "metadata": {},
   "source": [
    "<h4> Zadanie9: Policz kurtozę i skośność dla rozkładu chi-kwadrat i t-studenta z 10 stopniami swobody (na podstawie próby 1000 elementowej). Ile wynosiły odpowiednie wartości dla rozkładu $N(0,1)$? "
   ]
  }
 ],
 "metadata": {
  "kernelspec": {
   "display_name": "R",
   "language": "R",
   "name": "ir"
  },
  "language_info": {
   "codemirror_mode": "r",
   "file_extension": ".r",
   "mimetype": "text/x-r-source",
   "name": "R",
   "pygments_lexer": "r",
   "version": "4.3.3"
  }
 },
 "nbformat": 4,
 "nbformat_minor": 5
}
